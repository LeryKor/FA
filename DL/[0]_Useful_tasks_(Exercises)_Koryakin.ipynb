{
  "cells": [
    {
      "cell_type": "markdown",
      "metadata": {
        "id": "TqVqlmoJtED2"
      },
      "source": [
        "## Полезные задачки для дальнейшей работы с искусственными нейронными сетями"
      ]
    },
    {
      "cell_type": "markdown",
      "metadata": {
        "id": "5QwJoOihtED3"
      },
      "source": [
        "## Работа с изображениями\n",
        "\n",
        "Все изображения представляют собой матрицы чисел (или многомерные векторы), которые кодируют цвета отдельных пикселей. Для изображений высоты $H$, ширины $W$ с $C$ цветовыми каналами получаем упорядоченный набор  $H \\times W \\times C$ чисел.\n",
        "\n",
        "<img src =\"https://edunet.kea.su/repo/EduNet-content/L01/out/img_to_array.png\" width=\"1000\" >\n",
        "\n",
        "Например, датасет CIFAR-10 содержит цветные (трехцветные) изображения размером $32 \\times 32$ пикселя. Таким образом, каждое изображение из датасета является точкой в $3072$-мерном ($32 \\times 32 \\times 3 = 3072$) вещественном пространстве.\n",
        "\n",
        "То есть все изображения по сути являются векторами, заполненными числами. В python есть несколько бибилиотек, которые отвечают за работу с векторами. Самыми часто используемыми для нейронных сетей -- библиотеки numpy и PyTorch."
      ]
    },
    {
      "cell_type": "markdown",
      "metadata": {
        "id": "FrdeAYcPtED4"
      },
      "source": [
        "Посмотрим на одну из цифр из набора данных MNIST, как её видим мы:"
      ]
    },
    {
      "cell_type": "code",
      "execution_count": null,
      "metadata": {
        "id": "UzOxLWkmtED4",
        "outputId": "c67e1bf6-aabf-4da9-f04e-bd9de7deab38",
        "colab": {
          "base_uri": "https://localhost:8080/",
          "height": 367
        }
      },
      "outputs": [
        {
          "output_type": "error",
          "ename": "FileNotFoundError",
          "evalue": "ignored",
          "traceback": [
            "\u001b[0;31m---------------------------------------------------------------------------\u001b[0m",
            "\u001b[0;31mFileNotFoundError\u001b[0m                         Traceback (most recent call last)",
            "\u001b[0;32m<ipython-input-85-b1056e2e13e5>\u001b[0m in \u001b[0;36m<cell line: 6>\u001b[0;34m()\u001b[0m\n\u001b[1;32m      4\u001b[0m \u001b[0;32mimport\u001b[0m \u001b[0mmatplotlib\u001b[0m\u001b[0;34m.\u001b[0m\u001b[0mpyplot\u001b[0m \u001b[0;32mas\u001b[0m \u001b[0mplt\u001b[0m\u001b[0;34m\u001b[0m\u001b[0;34m\u001b[0m\u001b[0m\n\u001b[1;32m      5\u001b[0m \u001b[0;34m\u001b[0m\u001b[0m\n\u001b[0;32m----> 6\u001b[0;31m \u001b[0mimage\u001b[0m \u001b[0;34m=\u001b[0m \u001b[0mImage\u001b[0m\u001b[0;34m.\u001b[0m\u001b[0mopen\u001b[0m\u001b[0;34m(\u001b[0m\u001b[0;34m\"assets/digit.png\"\u001b[0m\u001b[0;34m)\u001b[0m\u001b[0;34m\u001b[0m\u001b[0;34m\u001b[0m\u001b[0m\n\u001b[0m\u001b[1;32m      7\u001b[0m \u001b[0mimg_np\u001b[0m \u001b[0;34m=\u001b[0m \u001b[0mnp\u001b[0m\u001b[0;34m.\u001b[0m\u001b[0marray\u001b[0m\u001b[0;34m(\u001b[0m\u001b[0mimage\u001b[0m\u001b[0;34m)\u001b[0m\u001b[0;34m\u001b[0m\u001b[0;34m\u001b[0m\u001b[0m\n\u001b[1;32m      8\u001b[0m \u001b[0mplt\u001b[0m\u001b[0;34m.\u001b[0m\u001b[0mimshow\u001b[0m\u001b[0;34m(\u001b[0m\u001b[0mimg_np\u001b[0m\u001b[0;34m,\u001b[0m \u001b[0mcmap\u001b[0m\u001b[0;34m=\u001b[0m\u001b[0;34m\"gray\"\u001b[0m\u001b[0;34m)\u001b[0m\u001b[0;34m\u001b[0m\u001b[0;34m\u001b[0m\u001b[0m\n",
            "\u001b[0;32m/usr/local/lib/python3.10/dist-packages/PIL/Image.py\u001b[0m in \u001b[0;36mopen\u001b[0;34m(fp, mode, formats)\u001b[0m\n\u001b[1;32m   3225\u001b[0m \u001b[0;34m\u001b[0m\u001b[0m\n\u001b[1;32m   3226\u001b[0m     \u001b[0;32mif\u001b[0m \u001b[0mfilename\u001b[0m\u001b[0;34m:\u001b[0m\u001b[0;34m\u001b[0m\u001b[0;34m\u001b[0m\u001b[0m\n\u001b[0;32m-> 3227\u001b[0;31m         \u001b[0mfp\u001b[0m \u001b[0;34m=\u001b[0m \u001b[0mbuiltins\u001b[0m\u001b[0;34m.\u001b[0m\u001b[0mopen\u001b[0m\u001b[0;34m(\u001b[0m\u001b[0mfilename\u001b[0m\u001b[0;34m,\u001b[0m \u001b[0;34m\"rb\"\u001b[0m\u001b[0;34m)\u001b[0m\u001b[0;34m\u001b[0m\u001b[0;34m\u001b[0m\u001b[0m\n\u001b[0m\u001b[1;32m   3228\u001b[0m         \u001b[0mexclusive_fp\u001b[0m \u001b[0;34m=\u001b[0m \u001b[0;32mTrue\u001b[0m\u001b[0;34m\u001b[0m\u001b[0;34m\u001b[0m\u001b[0m\n\u001b[1;32m   3229\u001b[0m \u001b[0;34m\u001b[0m\u001b[0m\n",
            "\u001b[0;31mFileNotFoundError\u001b[0m: [Errno 2] No such file or directory: 'assets/digit.png'"
          ]
        }
      ],
      "source": [
        "import numpy as np\n",
        "from PIL import Image\n",
        "from torchvision import utils\n",
        "import matplotlib.pyplot as plt\n",
        "\n",
        "image = Image.open(\"assets/digit.png\")\n",
        "img_np = np.array(image)\n",
        "plt.imshow(img_np, cmap=\"gray\")\n",
        "plt.show()"
      ]
    },
    {
      "cell_type": "markdown",
      "metadata": {
        "id": "840rqBartED5"
      },
      "source": [
        "И как она записана в компьютере -- в виде набора векторов (матрицы):"
      ]
    },
    {
      "cell_type": "code",
      "execution_count": null,
      "metadata": {
        "id": "RmMRJIaPtED5",
        "outputId": "2af28992-a660-4691-c909-c4cb7be21828"
      },
      "outputs": [
        {
          "name": "stdout",
          "output_type": "stream",
          "text": [
            "[[  0   0   0   0   0   0   0   0   0   0   0   0   0   0   0   0]\n",
            " [  0   0   0   0   0   0   0   0   0   0   0   0   0   0   0   0]\n",
            " [  0   0   0   0   0   0   0   0  12  15  20  12   1   0   0   0]\n",
            " [  0   0   0   0   0   0   3 123 225 242 255 225 137   7   0   0]\n",
            " [  0   0   0   0   0  15 207 251 103 109 107 105 171 145   0   0]\n",
            " [  0   0   0   0   0 149 236  80   0   0   0   0   4  21   0   0]\n",
            " [  0   0   0   0  16 228 106   0  17  33  17   0   0   0   0   0]\n",
            " [  0   0   0   0  97 248  98 138 232 255 216  22   0   0   0   0]\n",
            " [  0   0   0   0  50 247 255 197 111 123 252 129   0   0   0   0]\n",
            " [  0   0   0   0   1  54  55   9   0  49 250 116   0   0   0   0]\n",
            " [  0   0   0   0   0   0   0   0   0 158 240  44   0   0   0   0]\n",
            " [  0   0   0   0   0   0   0   0  88 255 125   0   0   0   0   0]\n",
            " [  0   0   0   0   7  15  23 132 255 188  12   0   0   0   0   0]\n",
            " [  0   0   0   0  20 200 229 240 157  28   0   0   0   0   0   0]\n",
            " [  0   0   0   0   3  64  73  45   0   0   0   0   0   0   0   0]\n",
            " [  0   0   0   0   0   0   0   0   0   0   0   0   0   0   0   0]]\n"
          ]
        }
      ],
      "source": [
        "print(img_np)"
      ]
    },
    {
      "cell_type": "markdown",
      "metadata": {
        "id": "6JxckPObtED6"
      },
      "source": [
        "Подключить библиотеки numpy (для более короткой записи кода и простоты её полное название сокращают до np) и torch, чтобы обеспечить работу с векторами:"
      ]
    },
    {
      "cell_type": "code",
      "execution_count": null,
      "metadata": {
        "id": "kaKZ7pARtED6"
      },
      "outputs": [],
      "source": [
        "import numpy as np\n",
        "import torch"
      ]
    },
    {
      "cell_type": "markdown",
      "metadata": {
        "id": "FfhPoIlgtED6"
      },
      "source": [
        "Рассмотрим основные операции для работы с тензорами.\n",
        "Создать экземпляр класса [Tensor](https://pytorch.org/docs/stable/tensors.html#torch.Tensor).\n",
        "Определение из документации: A torch.Tensor is a multi-dimensional matrix containing elements of a single data type."
      ]
    },
    {
      "cell_type": "code",
      "execution_count": null,
      "metadata": {
        "id": "snT0wSDbtED6",
        "outputId": "8505d678-9a86-4f8c-da52-bfe154d44213",
        "colab": {
          "base_uri": "https://localhost:8080/"
        }
      },
      "outputs": [
        {
          "output_type": "execute_result",
          "data": {
            "text/plain": [
              "tensor([])"
            ]
          },
          "metadata": {},
          "execution_count": 5
        }
      ],
      "source": [
        "e = torch.tensor([])\n",
        "e"
      ]
    },
    {
      "cell_type": "markdown",
      "metadata": {
        "id": "yhL6cTlXtED6"
      },
      "source": [
        "Записать вектор [1.1, 2.2, 3.2] в виде тензора и вывести его тип при помощи функции type."
      ]
    },
    {
      "cell_type": "code",
      "execution_count": null,
      "metadata": {
        "id": "OXT6aRzctED6",
        "outputId": "8b62f747-f793-4d28-d1f3-3e2e9f1ffb1b",
        "colab": {
          "base_uri": "https://localhost:8080/"
        }
      },
      "outputs": [
        {
          "output_type": "execute_result",
          "data": {
            "text/plain": [
              "torch.Tensor"
            ]
          },
          "metadata": {},
          "execution_count": 9
        }
      ],
      "source": [
        "a = torch.tensor( [1.1, 2.2, 3.2])\n",
        "type(a)"
      ]
    },
    {
      "cell_type": "markdown",
      "metadata": {
        "id": "-2ipm7qltED7"
      },
      "source": [
        "Вопрос: чем принципиально отличаются записи a = torch.Tensor() и b = torch.tensor()? Что будет на выходе для a и для b?"
      ]
    },
    {
      "cell_type": "code",
      "execution_count": null,
      "metadata": {
        "id": "4TI4bSYntED7",
        "outputId": "3588f33e-b0a2-42e4-c5e5-6d25335d6e97",
        "colab": {
          "base_uri": "https://localhost:8080/"
        }
      },
      "outputs": [
        {
          "output_type": "stream",
          "name": "stdout",
          "text": [
            "a:  tensor([])\n",
            "b:  tensor([])\n"
          ]
        }
      ],
      "source": [
        "a = torch.Tensor()\n",
        "print('a: ', a)\n",
        "b = torch.tensor([])\n",
        "print(\"b: \", b)"
      ]
    },
    {
      "cell_type": "markdown",
      "source": [
        "torch.Tensor is an alias for the default tensor type (torch.FloatTensor).  \n",
        "То есть torch.Tensor = torch.tensor([], dtype = torch.float64)\n"
      ],
      "metadata": {
        "id": "L8ODb1XyflK8"
      }
    },
    {
      "cell_type": "code",
      "source": [],
      "metadata": {
        "id": "KUvfpRegg5S9"
      },
      "execution_count": null,
      "outputs": []
    },
    {
      "cell_type": "markdown",
      "metadata": {
        "id": "xhUk6FbNtED7"
      },
      "source": [
        "Создать тензор [1.1, 2.2, 3.2] указанного типа float64. Использовать параметр dtype:"
      ]
    },
    {
      "cell_type": "code",
      "execution_count": null,
      "metadata": {
        "id": "1Fy0EmdXtED7",
        "colab": {
          "base_uri": "https://localhost:8080/"
        },
        "outputId": "49d1c483-c318-439e-ded8-61c3571bcf12"
      },
      "outputs": [
        {
          "output_type": "execute_result",
          "data": {
            "text/plain": [
              "tensor([1.1000, 2.2000, 3.2000], dtype=torch.float64)"
            ]
          },
          "metadata": {},
          "execution_count": 18
        }
      ],
      "source": [
        "a = torch.tensor( [1.1, 2.2, 3.2] , dtype = torch.float64)\n",
        "a"
      ]
    },
    {
      "cell_type": "markdown",
      "metadata": {
        "id": "mWoSqgGwtED7"
      },
      "source": [
        "Записать вектор [1.1, 2.2, 3.2] в виде тензора и вывести тип данных, которые помещены в тензор. Для этого так же использовать dtype."
      ]
    },
    {
      "cell_type": "code",
      "execution_count": null,
      "metadata": {
        "id": "VcD3HEZ_tED7",
        "outputId": "4026bb94-4a0e-4b64-814c-ed298c503503",
        "colab": {
          "base_uri": "https://localhost:8080/"
        }
      },
      "outputs": [
        {
          "output_type": "execute_result",
          "data": {
            "text/plain": [
              "torch.float64"
            ]
          },
          "metadata": {},
          "execution_count": 19
        }
      ],
      "source": [
        "a = torch.tensor([1.1, 2.2, 3.2], dtype =  torch.float64)\n",
        "a.dtype"
      ]
    },
    {
      "cell_type": "markdown",
      "metadata": {
        "id": "hxCedUDStED7"
      },
      "source": [
        "Создать вектор размерности $3 \\times 2$ и заполнить его указанным значением 2.5."
      ]
    },
    {
      "cell_type": "code",
      "execution_count": null,
      "metadata": {
        "id": "EaJYVVY2tED7",
        "outputId": "becb1b16-a3af-4801-e9c1-32e5a2035b6e",
        "colab": {
          "base_uri": "https://localhost:8080/"
        }
      },
      "outputs": [
        {
          "output_type": "execute_result",
          "data": {
            "text/plain": [
              "tensor([[2.5000, 2.5000],\n",
              "        [2.5000, 2.5000],\n",
              "        [2.5000, 2.5000]])"
            ]
          },
          "metadata": {},
          "execution_count": 36
        }
      ],
      "source": [
        "a = torch.ones(3, 2) * 2.5\n",
        "a"
      ]
    },
    {
      "cell_type": "markdown",
      "metadata": {
        "id": "9MufiIOhtED8"
      },
      "source": [
        "Создать тензор размерности $3 \\times 2$ и заполнить его единицами."
      ]
    },
    {
      "cell_type": "code",
      "execution_count": null,
      "metadata": {
        "id": "-YWf9EiCtED8",
        "outputId": "784c93ce-c938-4718-e54e-874852522cce",
        "colab": {
          "base_uri": "https://localhost:8080/"
        }
      },
      "outputs": [
        {
          "output_type": "execute_result",
          "data": {
            "text/plain": [
              "tensor([[1., 1.],\n",
              "        [1., 1.],\n",
              "        [1., 1.]])"
            ]
          },
          "metadata": {},
          "execution_count": 37
        }
      ],
      "source": [
        "a = torch.ones(3,2)\n",
        "a"
      ]
    },
    {
      "cell_type": "markdown",
      "metadata": {
        "id": "a8Su-PV9tED8"
      },
      "source": [
        "Создать тензор размерности $2 \\times 3 \\times 4$ и заполнить его нулями."
      ]
    },
    {
      "cell_type": "code",
      "execution_count": null,
      "metadata": {
        "id": "cLEaewoXtED8",
        "outputId": "752e85be-43cd-4543-aa64-b12f1f77d7bb",
        "colab": {
          "base_uri": "https://localhost:8080/"
        }
      },
      "outputs": [
        {
          "output_type": "execute_result",
          "data": {
            "text/plain": [
              "tensor([[[0., 0., 0., 0.],\n",
              "         [0., 0., 0., 0.],\n",
              "         [0., 0., 0., 0.]],\n",
              "\n",
              "        [[0., 0., 0., 0.],\n",
              "         [0., 0., 0., 0.],\n",
              "         [0., 0., 0., 0.]]])"
            ]
          },
          "metadata": {},
          "execution_count": 38
        }
      ],
      "source": [
        "b = torch.zeros(2, 3, 4)\n",
        "b"
      ]
    },
    {
      "cell_type": "markdown",
      "metadata": {
        "id": "XLo2AoEvtED8"
      },
      "source": [
        "Создать тензор размерности 3 строки и 4 стоблца, заполненный случайными числами."
      ]
    },
    {
      "cell_type": "code",
      "execution_count": null,
      "metadata": {
        "id": "6MViShIftED8",
        "outputId": "50f6448d-e44d-409c-f29d-8a0963a994e9",
        "colab": {
          "base_uri": "https://localhost:8080/"
        }
      },
      "outputs": [
        {
          "output_type": "execute_result",
          "data": {
            "text/plain": [
              "tensor([[ 1.3125,  0.0473, -1.6900,  1.1617],\n",
              "        [ 0.8704, -0.4100, -0.4080,  1.3558],\n",
              "        [ 0.4948, -0.9668,  2.5753, -0.0386]])"
            ]
          },
          "metadata": {},
          "execution_count": 48
        }
      ],
      "source": [
        "x = torch.randn(3, 4)\n",
        "x"
      ]
    },
    {
      "cell_type": "markdown",
      "metadata": {
        "id": "5MEuQoJCtED8"
      },
      "source": [
        "Создать тензор - вектор размерности $1 \\times 5$, заполненный целыми случайными числами от 0 до 100."
      ]
    },
    {
      "cell_type": "code",
      "execution_count": null,
      "metadata": {
        "id": "2CeU7fOFtED9",
        "outputId": "b43157b5-d194-4e04-d988-045d0deb805a",
        "colab": {
          "base_uri": "https://localhost:8080/"
        }
      },
      "outputs": [
        {
          "output_type": "stream",
          "name": "stdout",
          "text": [
            "tensor([[80, 32, 42, 80, 89]])\n"
          ]
        }
      ],
      "source": [
        "y = torch.randint(0, 101, (1, 5))\n",
        "print(y)"
      ]
    },
    {
      "cell_type": "markdown",
      "metadata": {
        "id": "PDmB50rqtED9"
      },
      "source": [
        "Создать вектор размерности $2 \\times 3$ и заполнить его целыми числами от -10 до 10."
      ]
    },
    {
      "cell_type": "code",
      "execution_count": null,
      "metadata": {
        "id": "ablHvNoAtED9",
        "outputId": "51811a9b-dfc9-4f73-caba-8e045a3be48a",
        "colab": {
          "base_uri": "https://localhost:8080/"
        }
      },
      "outputs": [
        {
          "output_type": "execute_result",
          "data": {
            "text/plain": [
              "tensor([[  6,  -3,  -2],\n",
              "        [ -7, -10,  -7]])"
            ]
          },
          "metadata": {},
          "execution_count": 79
        }
      ],
      "source": [
        "a = torch.randint(-10, 11, (2, 3))\n",
        "a"
      ]
    },
    {
      "cell_type": "markdown",
      "metadata": {
        "id": "uG6BVAMbtED9"
      },
      "source": [
        "Для того, чтобы все величины, которые мы создаём при помощи датчика случайных чисел, создались один раз и не изменяли своего значения, надо зафиксировать базовое число --- это делается при помощи функции torch.manual_seed().\n",
        "Функция torch.randn_like(x) возвращает тензор того же размера, что и x, который заполнен случайными числами из нормального распределения со средним 0 и дисперсией 1."
      ]
    },
    {
      "cell_type": "code",
      "execution_count": null,
      "metadata": {
        "id": "RTtr5xe-tED9",
        "outputId": "489fb3f6-5b79-4843-9302-0630e91cea73",
        "colab": {
          "base_uri": "https://localhost:8080/"
        }
      },
      "outputs": [
        {
          "output_type": "stream",
          "name": "stdout",
          "text": [
            "a = tensor([[-0.1468,  0.7861,  0.9468, -1.1143,  1.6908]]),\n",
            "b = tensor([[-0.8948, -0.3556,  1.2324,  0.1382, -1.6822]])\n"
          ]
        }
      ],
      "source": [
        "torch.manual_seed(7)\n",
        "a = torch.randn(1, 5)\n",
        "b = torch.randn_like(a)\n",
        "print(f'a = {a},\\nb = {b}'.format(a, b))"
      ]
    },
    {
      "cell_type": "markdown",
      "metadata": {
        "id": "i-k8Qk-KtED9"
      },
      "source": [
        "Создать вектор размерности $3 \\times 2$ и заполнить его указанным значением 2.5."
      ]
    },
    {
      "cell_type": "code",
      "execution_count": null,
      "metadata": {
        "id": "Yh-Zf0TjtED9",
        "outputId": "29d67840-75d6-4a49-ed74-8127f9dd39dd",
        "colab": {
          "base_uri": "https://localhost:8080/"
        }
      },
      "outputs": [
        {
          "output_type": "execute_result",
          "data": {
            "text/plain": [
              "tensor([[2.5000, 2.5000],\n",
              "        [2.5000, 2.5000],\n",
              "        [2.5000, 2.5000]])"
            ]
          },
          "metadata": {},
          "execution_count": 81
        }
      ],
      "source": [
        "a = torch.ones(3, 2) * 2.5\n",
        "a"
      ]
    },
    {
      "cell_type": "markdown",
      "metadata": {
        "id": "fMMdbn9CtED9"
      },
      "source": [
        "Для выполнения операций умножения на веса или на матрицы свёрток (для свёрточных нейронных сетей), необходимо вытянуть матрицу, которой представлено изображение:"
      ]
    },
    {
      "cell_type": "code",
      "source": [
        "import matplotlib.pyplot as plt"
      ],
      "metadata": {
        "id": "_9LktjEQkFp2"
      },
      "execution_count": null,
      "outputs": []
    },
    {
      "cell_type": "code",
      "execution_count": null,
      "metadata": {
        "id": "848F5F8etED-",
        "outputId": "c47906af-d28c-49cb-9543-c4f94b6a769f",
        "colab": {
          "base_uri": "https://localhost:8080/",
          "height": 602
        }
      },
      "outputs": [
        {
          "output_type": "error",
          "ename": "NameError",
          "evalue": "ignored",
          "traceback": [
            "\u001b[0;31m---------------------------------------------------------------------------\u001b[0m",
            "\u001b[0;31mNameError\u001b[0m                                 Traceback (most recent call last)",
            "\u001b[0;32m<ipython-input-84-bd4a06118b83>\u001b[0m in \u001b[0;36m<cell line: 2>\u001b[0;34m()\u001b[0m\n\u001b[1;32m      1\u001b[0m \u001b[0mfig\u001b[0m\u001b[0;34m,\u001b[0m \u001b[0max\u001b[0m \u001b[0;34m=\u001b[0m \u001b[0mplt\u001b[0m\u001b[0;34m.\u001b[0m\u001b[0msubplots\u001b[0m\u001b[0;34m(\u001b[0m\u001b[0mncols\u001b[0m\u001b[0;34m=\u001b[0m\u001b[0;36m2\u001b[0m\u001b[0;34m,\u001b[0m \u001b[0mfigsize\u001b[0m\u001b[0;34m=\u001b[0m\u001b[0;34m(\u001b[0m\u001b[0;36m10\u001b[0m\u001b[0;34m,\u001b[0m \u001b[0;36m4\u001b[0m\u001b[0;34m)\u001b[0m\u001b[0;34m)\u001b[0m\u001b[0;34m\u001b[0m\u001b[0;34m\u001b[0m\u001b[0m\n\u001b[0;32m----> 2\u001b[0;31m \u001b[0max\u001b[0m\u001b[0;34m[\u001b[0m\u001b[0;36m0\u001b[0m\u001b[0;34m]\u001b[0m\u001b[0;34m.\u001b[0m\u001b[0mimshow\u001b[0m\u001b[0;34m(\u001b[0m\u001b[0mimg_np\u001b[0m\u001b[0;34m,\u001b[0m \u001b[0mcmap\u001b[0m\u001b[0;34m=\u001b[0m\u001b[0;34m\"gray\"\u001b[0m\u001b[0;34m)\u001b[0m\u001b[0;34m\u001b[0m\u001b[0;34m\u001b[0m\u001b[0m\n\u001b[0m\u001b[1;32m      3\u001b[0m \u001b[0max\u001b[0m\u001b[0;34m[\u001b[0m\u001b[0;36m1\u001b[0m\u001b[0;34m]\u001b[0m\u001b[0;34m.\u001b[0m\u001b[0mimshow\u001b[0m\u001b[0;34m(\u001b[0m\u001b[0mimg_np\u001b[0m\u001b[0;34m.\u001b[0m\u001b[0mreshape\u001b[0m\u001b[0;34m(\u001b[0m\u001b[0;36m1\u001b[0m\u001b[0;34m,\u001b[0m \u001b[0;34m-\u001b[0m\u001b[0;36m1\u001b[0m\u001b[0;34m)\u001b[0m\u001b[0;34m,\u001b[0m \u001b[0maspect\u001b[0m\u001b[0;34m=\u001b[0m\u001b[0;36m20\u001b[0m\u001b[0;34m,\u001b[0m \u001b[0mcmap\u001b[0m\u001b[0;34m=\u001b[0m\u001b[0;34m\"gray\"\u001b[0m\u001b[0;34m)\u001b[0m\u001b[0;34m\u001b[0m\u001b[0;34m\u001b[0m\u001b[0m\n\u001b[1;32m      4\u001b[0m \u001b[0max\u001b[0m\u001b[0;34m[\u001b[0m\u001b[0;36m0\u001b[0m\u001b[0;34m]\u001b[0m\u001b[0;34m.\u001b[0m\u001b[0mset_title\u001b[0m\u001b[0;34m(\u001b[0m\u001b[0;34m\"Original image\"\u001b[0m\u001b[0;34m)\u001b[0m\u001b[0;34m\u001b[0m\u001b[0;34m\u001b[0m\u001b[0m\n\u001b[1;32m      5\u001b[0m \u001b[0max\u001b[0m\u001b[0;34m[\u001b[0m\u001b[0;36m1\u001b[0m\u001b[0;34m]\u001b[0m\u001b[0;34m.\u001b[0m\u001b[0mset_title\u001b[0m\u001b[0;34m(\u001b[0m\u001b[0;34m\"Flattened image\"\u001b[0m\u001b[0;34m)\u001b[0m\u001b[0;34m\u001b[0m\u001b[0;34m\u001b[0m\u001b[0m\n",
            "\u001b[0;31mNameError\u001b[0m: name 'img_np' is not defined"
          ]
        },
        {
          "output_type": "display_data",
          "data": {
            "text/plain": [
              "<Figure size 1000x400 with 2 Axes>"
            ],
            "image/png": "[encoded data removed]"
          },
          "metadata": {}
        }
      ],
      "source": [
        "fig, ax = plt.subplots(ncols=2, figsize=(10, 4))\n",
        "ax[0].imshow(img_np, cmap=\"gray\")\n",
        "ax[1].imshow(img_np.reshape(1, -1), aspect=20, cmap=\"gray\")\n",
        "ax[0].set_title(\"Original image\")\n",
        "ax[1].set_title(\"Flattened image\")\n",
        "\n",
        "vector = np.array(image).flatten()\n",
        "print(list(vector))"
      ]
    },
    {
      "cell_type": "markdown",
      "metadata": {
        "id": "4eOOyyFXtED-"
      },
      "source": [
        "Вытянуть тензор в одну линию можно при помощи функции flatten:"
      ]
    },
    {
      "cell_type": "code",
      "execution_count": null,
      "metadata": {
        "id": "NrZm3S_RtED-",
        "outputId": "fa128405-2574-4ab5-9ca5-94878471aba2",
        "colab": {
          "base_uri": "https://localhost:8080/"
        }
      },
      "outputs": [
        {
          "output_type": "stream",
          "name": "stdout",
          "text": [
            "torch.Size([2, 2, 2])\n",
            "tensor([1, 2, 3, 4, 5, 6, 7, 8])\n"
          ]
        }
      ],
      "source": [
        "t = torch.tensor([[[1, 2], [3, 4]], [[5, 6], [7, 8]]])\n",
        "print(t.shape)\n",
        "print(torch.flatten(t))"
      ]
    },
    {
      "cell_type": "markdown",
      "metadata": {
        "id": "cYENMdqAtED-"
      },
      "source": [
        "Можно добавить в функцию flatten параметры, показывающие, с какого измерение по какое спрямлять тензор:"
      ]
    },
    {
      "cell_type": "code",
      "execution_count": null,
      "metadata": {
        "id": "vGnMbUfbtED_",
        "outputId": "ff5ec6ab-af8d-48f4-fe42-e180f42ce42f",
        "colab": {
          "base_uri": "https://localhost:8080/"
        }
      },
      "outputs": [
        {
          "output_type": "stream",
          "name": "stdout",
          "text": [
            "tensor([[1, 2],\n",
            "        [3, 4],\n",
            "        [5, 6],\n",
            "        [7, 8]]) torch.Size([4, 2])\n"
          ]
        }
      ],
      "source": [
        "t_new = torch.flatten(t, start_dim=0, end_dim=1)\n",
        "print(t_new, t_new.shape)"
      ]
    },
    {
      "cell_type": "markdown",
      "metadata": {
        "id": "vr_aFtGctED_"
      },
      "source": [
        "Ещё есть возможность, позволяющая представить вектор x в виде одномерного вектора (вытянуть в линию и в столбик все значения x) при помощи функции view:"
      ]
    },
    {
      "cell_type": "code",
      "execution_count": null,
      "metadata": {
        "id": "k-wrp9nwtED_",
        "outputId": "4383eb98-8958-4ec2-a6ec-3b6041c91682",
        "colab": {
          "base_uri": "https://localhost:8080/"
        }
      },
      "outputs": [
        {
          "output_type": "stream",
          "name": "stdout",
          "text": [
            "tensor([[ 1.3125,  0.0473, -1.6900,  1.1617,  0.8704, -0.4100, -0.4080,  1.3558,\n",
            "          0.4948, -0.9668,  2.5753, -0.0386]]) \n",
            " tensor([[ 1.3125],\n",
            "        [ 0.0473],\n",
            "        [-1.6900],\n",
            "        [ 1.1617],\n",
            "        [ 0.8704],\n",
            "        [-0.4100],\n",
            "        [-0.4080],\n",
            "        [ 1.3558],\n",
            "        [ 0.4948],\n",
            "        [-0.9668],\n",
            "        [ 2.5753],\n",
            "        [-0.0386]])\n"
          ]
        }
      ],
      "source": [
        "x_row = x.view(-1, 12)\n",
        "x_column = x.view(12, -1)\n",
        "print(x_row,'\\n',x_column)"
      ]
    },
    {
      "cell_type": "markdown",
      "metadata": {
        "id": "nc14hw0ktED_"
      },
      "source": [
        "В целом функция view может поменять форму тензора на любую допустимую. Изменить форму вектора x на $2 \\times 6$.\n"
      ]
    },
    {
      "cell_type": "code",
      "execution_count": null,
      "metadata": {
        "colab": {
          "base_uri": "https://localhost:8080/"
        },
        "id": "eacqcF9dtED_",
        "outputId": "1b374048-040c-4eec-b912-e5ed0a37ed5b"
      },
      "outputs": [
        {
          "output_type": "execute_result",
          "data": {
            "text/plain": [
              "tensor([[-0.8540,  0.3594, -0.8373,  0.1076, -1.3151, -1.5009],\n",
              "        [-0.1848,  0.6248, -1.1820, -0.1696,  0.5399, -1.4019]])"
            ]
          },
          "metadata": {},
          "execution_count": 99
        }
      ],
      "source": [
        "x = torch.randn(2,6)\n",
        "x"
      ]
    },
    {
      "cell_type": "markdown",
      "metadata": {
        "id": "UwzCWOk3tED_"
      },
      "source": [
        "## Операции умножения внутри нейрона\n",
        "\n",
        "Модель нейрона взята из биологии и структура повторяет процесс передачи информации через нейрон. Входной сигнал обрабатывается и дальше принимается решение, насколько он важен и передавать ли его дальше.\n",
        "\n",
        "<img src =\"https://upload.wikimedia.org/wikipedia/commons/b/b5/Neuron.svg\" width=\"1000\" >\n"
      ]
    },
    {
      "cell_type": "markdown",
      "metadata": {
        "id": "kyZ_fJhAtEEA"
      },
      "source": [
        "Та же логика ипользовалась при создании модели искусственного нейрона: входные данные умножаются на веса, передаются функции активации, которая их преобразует и передаёт дальше:\n",
        "\n",
        "https://www.cs.toronto.edu/~lczhang/aps360_20191/lec/w02/terms.html"
      ]
    },
    {
      "cell_type": "markdown",
      "metadata": {
        "id": "5dgugNqCtEEA"
      },
      "source": [
        "При перемножении заданных значений на веса необходимо использовать векторное произведение.\n",
        "Создать два тензора размера $2 \\times 3$ и $3 \\times 5$ и векторно перемножить их. Вывести на экран результирующий тензор и его размерность."
      ]
    },
    {
      "cell_type": "code",
      "execution_count": null,
      "metadata": {
        "id": "wKooqx_ttEEA",
        "outputId": "7342b6da-0b42-4962-a884-7506b30bc0d8",
        "colab": {
          "base_uri": "https://localhost:8080/"
        }
      },
      "outputs": [
        {
          "output_type": "stream",
          "name": "stdout",
          "text": [
            "tensor([[ 0.2623, -1.8250, -2.8797, -3.4866, -1.8352],\n",
            "        [-2.3204,  0.0316,  1.2511,  0.6834,  3.0207]]) \n",
            " torch.Size([2, 5])\n"
          ]
        }
      ],
      "source": [
        "a = torch.randn(2, 3)\n",
        "b = torch.randn(3, 5)\n",
        "res = torch.matmul(a, b)\n",
        "print(res,'\\n',res.shape)"
      ]
    },
    {
      "cell_type": "markdown",
      "metadata": {
        "id": "Qxo19KSvtEEA"
      },
      "source": [
        "При умножении на веса бывает необходимо транспонировать данные (поменять порядок расположения осей).\n",
        "Изменить порядок расположения осей тензора x (транспонировать) можно двумя способами: при помощи  метода T и функции transpose()."
      ]
    },
    {
      "cell_type": "code",
      "execution_count": null,
      "metadata": {
        "colab": {
          "base_uri": "https://localhost:8080/"
        },
        "id": "X42tNx0XtEEA",
        "outputId": "0816a153-a2ca-4c71-c418-f27621c99dc2"
      },
      "outputs": [
        {
          "output_type": "stream",
          "name": "stdout",
          "text": [
            "tensor([[-0.8540,  0.3594, -0.8373,  0.1076, -1.3151, -1.5009],\n",
            "        [-0.1848,  0.6248, -1.1820, -0.1696,  0.5399, -1.4019]])\n",
            "tensor([[-0.8540, -0.1848],\n",
            "        [ 0.3594,  0.6248],\n",
            "        [-0.8373, -1.1820],\n",
            "        [ 0.1076, -0.1696],\n",
            "        [-1.3151,  0.5399],\n",
            "        [-1.5009, -1.4019]])\n",
            "tensor([[-0.8540, -0.1848],\n",
            "        [ 0.3594,  0.6248],\n",
            "        [-0.8373, -1.1820],\n",
            "        [ 0.1076, -0.1696],\n",
            "        [-1.3151,  0.5399],\n",
            "        [-1.5009, -1.4019]])\n"
          ]
        }
      ],
      "source": [
        "a = x.T\n",
        "print(x)\n",
        "print(a)\n",
        "b = torch.transpose(x , 0, 1)\n",
        "print(b)"
      ]
    },
    {
      "cell_type": "markdown",
      "metadata": {
        "id": "Gg_0J7fEtEEA"
      },
      "source": [
        "Найти сумму всех элементов тензора a."
      ]
    },
    {
      "cell_type": "code",
      "execution_count": null,
      "metadata": {
        "colab": {
          "base_uri": "https://localhost:8080/"
        },
        "id": "UXolynmYtEEB",
        "outputId": "3f5adef5-a947-4fb4-eab5-b48b6697ed29"
      },
      "outputs": [
        {
          "output_type": "execute_result",
          "data": {
            "text/plain": [
              "tensor(-5.8139)"
            ]
          },
          "metadata": {},
          "execution_count": 105
        }
      ],
      "source": [
        "a.sum()"
      ]
    },
    {
      "cell_type": "markdown",
      "metadata": {
        "id": "E-wyHGdHtEEB"
      },
      "source": [
        "Найти сумму всех элементов тензора a по строкам."
      ]
    },
    {
      "cell_type": "code",
      "execution_count": null,
      "metadata": {
        "colab": {
          "base_uri": "https://localhost:8080/"
        },
        "id": "5WibH27NtEEB",
        "outputId": "bd3e8e5e-655d-49c5-fb75-5c37f457dc96"
      },
      "outputs": [
        {
          "output_type": "execute_result",
          "data": {
            "text/plain": [
              "tensor([-1.0388,  0.9842, -2.0193, -0.0620, -0.7752, -2.9028])"
            ]
          },
          "metadata": {},
          "execution_count": 108
        }
      ],
      "source": [
        "a.sum(dim = 1)"
      ]
    },
    {
      "cell_type": "markdown",
      "metadata": {
        "id": "OkpnYqNZtEEB"
      },
      "source": [
        "Найти сумму всех элементов тензора a по столбцам."
      ]
    },
    {
      "cell_type": "code",
      "execution_count": null,
      "metadata": {
        "colab": {
          "base_uri": "https://localhost:8080/"
        },
        "id": "43WnS_FqtEEB",
        "outputId": "69fa1f9e-d8c9-4d0c-a5af-5c0c870f1534"
      },
      "outputs": [
        {
          "data": {
            "text/plain": [
              "tensor([-0.3255,  3.6300])"
            ]
          },
          "execution_count": 10,
          "metadata": {},
          "output_type": "execute_result"
        }
      ],
      "source": [
        "a.sum(dim = 0)"
      ]
    },
    {
      "cell_type": "markdown",
      "metadata": {
        "id": "UnaVER2RtEEB"
      },
      "source": [
        "Найти максимальные значения вектора x по столбцам и строкам при помощи функции max."
      ]
    },
    {
      "cell_type": "code",
      "execution_count": null,
      "metadata": {
        "colab": {
          "base_uri": "https://localhost:8080/"
        },
        "id": "PDFZRuOFtEEB",
        "outputId": "827f0836-66d4-410d-85d7-2e73945c8519"
      },
      "outputs": [
        {
          "output_type": "stream",
          "name": "stdout",
          "text": [
            "rows:\n",
            " torch.return_types.max(\n",
            "values=tensor([0.3594, 0.6248]),\n",
            "indices=tensor([1, 1])), \n",
            "columns: \n",
            " torch.return_types.max(\n",
            "values=tensor([-0.1848,  0.6248, -0.8373,  0.1076,  0.5399, -1.4019]),\n",
            "indices=tensor([1, 1, 0, 0, 1, 1]))\n"
          ]
        }
      ],
      "source": [
        "rows =  x.max(dim= 1)\n",
        "columns =   x.max(dim= 0)\n",
        "print(f\"rows:\\n {rows}, \\ncolumns: \\n {columns}\".format(rows, columns))"
      ]
    },
    {
      "cell_type": "markdown",
      "metadata": {
        "id": "EcV86aDZtEEC"
      },
      "source": [
        "Создать два тензора [[5, 0, 1], [6, 0, 2]] и [[2, 3, 0], [3, 4, 5]]. Найти максимум из двух тензоров на каждом месте при помощи функции maximum:"
      ]
    },
    {
      "cell_type": "code",
      "execution_count": null,
      "metadata": {
        "colab": {
          "base_uri": "https://localhost:8080/"
        },
        "id": "PqVD_30ttEEC",
        "outputId": "446494da-b899-4f7b-a218-14e8b3ce53a3"
      },
      "outputs": [
        {
          "output_type": "execute_result",
          "data": {
            "text/plain": [
              "tensor([[5, 3, 1],\n",
              "        [6, 4, 5]])"
            ]
          },
          "metadata": {},
          "execution_count": 118
        }
      ],
      "source": [
        "k = torch.tensor([[5, 0, 1], [6, 0, 2]])\n",
        "l = torch.tensor([[2, 3, 0], [3, 4, 5]])\n",
        "torch.maximum(k, l)"
      ]
    },
    {
      "cell_type": "markdown",
      "metadata": {
        "id": "H_43JFt8tEEC"
      },
      "source": [
        "В разных библиотеках наборы данных изображений обрабатываются в разных форматах:\n",
        "\n",
        "OpenCV, TensorFlow, Pillow, etc. : `Batch x Height x Width x Channels`\n",
        "\n",
        "PyTorch : `Batch x Channels x Height x Width`\n",
        "\n",
        "Поэтому периодически возникает необходимость менять местами измерения или убирать какие-то измерения."
      ]
    },
    {
      "cell_type": "markdown",
      "metadata": {
        "id": "k6sJZRJttEEC"
      },
      "source": [
        "Создать тензор a размерности $(2, 5, 1, 8)$, заполнить его нулями и поменять местами его измерения $(0, 1, 2, 3) \\to (2, 0, 3, 1)$ при помощи функции permute:"
      ]
    },
    {
      "cell_type": "code",
      "execution_count": null,
      "metadata": {
        "colab": {
          "base_uri": "https://localhost:8080/"
        },
        "id": "XwrasZpCtEEC",
        "outputId": "a17aba37-38cd-4aa1-f681-fc93000abf49"
      },
      "outputs": [
        {
          "output_type": "stream",
          "name": "stdout",
          "text": [
            "Original tensor size:\n",
            " torch.Size([2, 5, 1, 8])\n",
            "After permute tensor size:\n",
            " torch.Size([1, 2, 8, 5])\n"
          ]
        }
      ],
      "source": [
        "a =  torch.zeros(2,5,1,8)\n",
        "print(\"Original tensor size:\\n\", a.size())\n",
        "\n",
        "a =  torch.permute(a, (2, 0, 3, 1))\n",
        "print(\"After permute tensor size:\\n\", a.size())"
      ]
    },
    {
      "cell_type": "markdown",
      "metadata": {
        "id": "wIqkjd52tEEC"
      },
      "source": [
        "\n",
        "Создать тензор b размерности $(2, 5, 1, 8)$, заполнить его единицами и поменять местами его измерения $(0, 1, 2, 3) \\to (1, 2, 0, 3)$ при помощи функции transpose из библиотеки numpy. Вывести результат на экран:"
      ]
    },
    {
      "cell_type": "code",
      "execution_count": null,
      "metadata": {
        "colab": {
          "base_uri": "https://localhost:8080/"
        },
        "id": "FnyffyiEtEEC",
        "outputId": "fdff9710-db15-4ed2-c773-756ec3fcc911"
      },
      "outputs": [
        {
          "output_type": "execute_result",
          "data": {
            "text/plain": [
              "torch.Size([5, 1, 2, 8])"
            ]
          },
          "metadata": {},
          "execution_count": 121
        }
      ],
      "source": [
        "b = torch.ones(2, 5, 1, 8)\n",
        "torch.transpose(torch.transpose(b, 0, 1), 1, 2).size()"
      ]
    },
    {
      "cell_type": "markdown",
      "metadata": {
        "id": "8IcDfDLCtEED"
      },
      "source": [
        "Удалить измерение, равное 1, у вектора a при помощи функции squeeze:"
      ]
    },
    {
      "cell_type": "code",
      "execution_count": null,
      "metadata": {
        "colab": {
          "base_uri": "https://localhost:8080/"
        },
        "id": "-DqorBVMtEED",
        "outputId": "802e7217-cd1e-4393-dfe5-13c35eb378b0"
      },
      "outputs": [
        {
          "output_type": "stream",
          "name": "stdout",
          "text": [
            "After squeeze tensor size:\n",
            " torch.Size([2, 8, 5])\n"
          ]
        }
      ],
      "source": [
        "a = torch.squeeze(a)\n",
        "print(\"After squeeze tensor size:\\n\", a.size())"
      ]
    },
    {
      "cell_type": "markdown",
      "metadata": {
        "id": "YhJhkPDItEED"
      },
      "source": [
        "Добавить ещё одно измерение для тензора a и поставить его на место 1 при помощи функции unsqueeze:"
      ]
    },
    {
      "cell_type": "code",
      "execution_count": null,
      "metadata": {
        "colab": {
          "base_uri": "https://localhost:8080/"
        },
        "id": "-0sQ93uEtEED",
        "outputId": "637a6b01-1801-442a-bef2-c9904988b0b3"
      },
      "outputs": [
        {
          "output_type": "execute_result",
          "data": {
            "text/plain": [
              "torch.Size([2, 1, 8, 5])"
            ]
          },
          "metadata": {},
          "execution_count": 135
        }
      ],
      "source": [
        "a = torch.unsqueeze(a, 1)\n",
        "a.size()"
      ]
    },
    {
      "cell_type": "markdown",
      "metadata": {
        "id": "iQ20rgxItEED"
      },
      "source": [
        "Функция transpose может поменять местами два указанных измерения. Создать вектор размерности $2 \\times 2 \\times 3$ и поменять местами измерения 1 и 2:"
      ]
    },
    {
      "cell_type": "code",
      "execution_count": null,
      "metadata": {
        "colab": {
          "base_uri": "https://localhost:8080/"
        },
        "id": "f9LHsOtAtEED",
        "outputId": "5d3767a9-40c2-46fb-9fa4-73b0f4b7d42d"
      },
      "outputs": [
        {
          "output_type": "stream",
          "name": "stdout",
          "text": [
            "t:  tensor([[[ 0.0541,  0.6811, -1.1818],\n",
            "         [-1.1232, -0.8193,  1.1165]],\n",
            "\n",
            "        [[ 0.2007,  0.0928, -1.7995],\n",
            "         [-0.2834, -0.4980, -0.2039]]])\n",
            "t transpose:  tensor([[[ 0.0541, -1.1232],\n",
            "         [ 0.6811, -0.8193],\n",
            "         [-1.1818,  1.1165]],\n",
            "\n",
            "        [[ 0.2007, -0.2834],\n",
            "         [ 0.0928, -0.4980],\n",
            "         [-1.7995, -0.2039]]])\n"
          ]
        }
      ],
      "source": [
        "t = torch.randn(2, 2, 3)\n",
        "print('t: ', t)\n",
        "print('t transpose: ',  torch.transpose(t, 1, 2))"
      ]
    },
    {
      "cell_type": "markdown",
      "metadata": {
        "id": "rRR81pxptEEE"
      },
      "source": [
        "Для подсчёта точности модели бывает необходимо сравнить совпадение вектора с метками данных с выходными (предсказанными значениями).\n",
        "Посчитать количество совпадений (на одинаковых местах одинаковые числа) для двух векторов [9, 4, 3, 9, 6] и [5, 4, 5, 9, 4]."
      ]
    },
    {
      "cell_type": "code",
      "execution_count": null,
      "metadata": {
        "colab": {
          "base_uri": "https://localhost:8080/"
        },
        "id": "YdQzVMVGtEEE",
        "outputId": "baf7d9db-08eb-41da-f524-9041dea032bb"
      },
      "outputs": [
        {
          "output_type": "execute_result",
          "data": {
            "text/plain": [
              "tensor(2)"
            ]
          },
          "metadata": {},
          "execution_count": 137
        }
      ],
      "source": [
        "a1 = torch.tensor([9, 4, 3, 9, 6])\n",
        "a3 = torch.tensor([5, 4, 5, 9, 4])\n",
        "sum(a1==a3)"
      ]
    },
    {
      "cell_type": "markdown",
      "metadata": {
        "id": "IxkWYz2etEEE"
      },
      "source": [
        "Чтобы обратиться к элементу тензора, надо указать в скобках его индекс, но в таком случае получим tensor(int). Чтобы получить значение элемента, надо использовать метод item.\n",
        "Создать тензор $[6, 6, 7, 2, 7, 9, 1, 5]$ и найти его 2й элемент, и значение 2го элемента:"
      ]
    },
    {
      "cell_type": "code",
      "execution_count": null,
      "metadata": {
        "colab": {
          "base_uri": "https://localhost:8080/"
        },
        "id": "H-mtwNnrtEEE",
        "outputId": "283eb6fb-0c8f-4ae5-dd6d-8d5948cb7826"
      },
      "outputs": [
        {
          "output_type": "stream",
          "name": "stdout",
          "text": [
            "tensor(7)\n",
            "7\n"
          ]
        }
      ],
      "source": [
        "l =  torch.tensor([6,6,7,2,7,9,1,5])\n",
        "print(l[2])\n",
        "print(l[2].item())"
      ]
    }
  ],
  "metadata": {
    "colab": {
      "provenance": []
    },
    "kernelspec": {
      "display_name": "Python 3 (ipykernel)",
      "language": "python",
      "name": "python3"
    },
    "language_info": {
      "codemirror_mode": {
        "name": "ipython",
        "version": 3
      },
      "file_extension": ".py",
      "mimetype": "text/x-python",
      "name": "python",
      "nbconvert_exporter": "python",
      "pygments_lexer": "ipython3",
      "version": "3.11.4"
    }
  },
  "nbformat": 4,
  "nbformat_minor": 0
}