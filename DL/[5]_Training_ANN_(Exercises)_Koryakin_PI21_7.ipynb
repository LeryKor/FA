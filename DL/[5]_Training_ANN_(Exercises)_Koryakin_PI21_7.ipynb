{
  "cells": [
    {
      "cell_type": "markdown",
      "id": "a47a5e2b",
      "metadata": {
        "id": "a47a5e2b"
      },
      "source": [
        "## Задание. Создать нейронную сеть со следующей структурой\n",
        "\n",
        "\n",
        "Network( <br/>\n",
        "    (hidden): Linear(in_features=784, out_features=256, bias=True) <br/>\n",
        "    (output): Linear(in_features=256, out_features=10, bias=True) <br/>\n",
        "    (sigmoid): Sigmoid() <br/>\n",
        "    (softmax): Softmax(dim=1) <br/>\n",
        ")\n"
      ]
    },
    {
      "cell_type": "markdown",
      "id": "cfb13e52",
      "metadata": {
        "id": "cfb13e52"
      },
      "source": [
        "Подключить необходимые библиотеки: torch, numpy и matplotlib.pyplot:"
      ]
    },
    {
      "cell_type": "code",
      "execution_count": null,
      "id": "1fe880cb",
      "metadata": {
        "id": "1fe880cb"
      },
      "outputs": [],
      "source": [
        " import torch\n",
        " import torch.nn as nn\n",
        " import numpy as np\n",
        " import matplotlib.pyplot as plt"
      ]
    },
    {
      "cell_type": "markdown",
      "id": "3f54332d",
      "metadata": {
        "id": "3f54332d"
      },
      "source": [
        "Создать класс и описать в нём необходимую нам структуру:"
      ]
    },
    {
      "cell_type": "code",
      "execution_count": null,
      "id": "21ce9274",
      "metadata": {
        "id": "21ce9274"
      },
      "outputs": [],
      "source": [
        "model = nn.Sequential(\n",
        "  nn.Linear(in_features=784, out_features=256, bias=True),\n",
        "  nn.Linear(in_features=256, out_features=10, bias=True),\n",
        "  nn.Sigmoid(),\n",
        "  nn.Softmax(dim=1),\n",
        ")"
      ]
    },
    {
      "cell_type": "markdown",
      "id": "08071e94",
      "metadata": {
        "id": "08071e94"
      },
      "source": [
        "Создадим экземпляр класса и выведем его на печать, чтобы проверить, что наша архитектура совпадает с заданной:"
      ]
    },
    {
      "cell_type": "code",
      "execution_count": null,
      "id": "cb72407a",
      "metadata": {
        "colab": {
          "base_uri": "https://localhost:8080/"
        },
        "id": "cb72407a",
        "outputId": "831ab571-0fa9-4cbd-8916-d694cfca994d"
      },
      "outputs": [
        {
          "output_type": "stream",
          "name": "stdout",
          "text": [
            "Sequential(\n",
            "  (0): Linear(in_features=784, out_features=256, bias=True)\n",
            "  (1): Linear(in_features=256, out_features=10, bias=True)\n",
            "  (2): Sigmoid()\n",
            "  (3): Softmax(dim=1)\n",
            ")\n"
          ]
        }
      ],
      "source": [
        "print(model)"
      ]
    },
    {
      "cell_type": "markdown",
      "id": "1257b2ec",
      "metadata": {
        "id": "1257b2ec"
      },
      "source": [
        "Будем использовать набор данных MNIST. Применим трансформации перевода в тензор и нормализации с параметрами (0.5):"
      ]
    },
    {
      "cell_type": "code",
      "execution_count": null,
      "id": "45e51e57",
      "metadata": {
        "id": "45e51e57"
      },
      "outputs": [],
      "source": [
        "from torchvision import datasets, transforms\n",
        "\n",
        "# Define a transform to normalize the data\n",
        "transform = transforms.Compose([transforms.ToTensor(), transforms.Normalize(0.5, 0.5)])\n",
        "\n",
        "# Download and load the training data\n",
        "trainset = datasets.MNIST('~/.pytorch/MNIST_data/', download=True, train=True, transform=transform)\n",
        "trainloader = torch.utils.data.DataLoader(trainset, batch_size=64, shuffle=True)"
      ]
    },
    {
      "cell_type": "markdown",
      "id": "b872779d",
      "metadata": {
        "id": "b872779d"
      },
      "source": [
        "Зададим функцию view_classify для более удобного вывода результатов на экран:"
      ]
    },
    {
      "cell_type": "code",
      "execution_count": null,
      "id": "1deb1275",
      "metadata": {
        "id": "1deb1275"
      },
      "outputs": [],
      "source": [
        "def view_classify(img, ps, version=\"MNIST\"):\n",
        "    '''\n",
        "    Function for viewing an image and it's predicted classes.\n",
        "    '''\n",
        "    ps = ps.data.numpy().squeeze()\n",
        "\n",
        "    fig, (ax1, ax2) = plt.subplots(figsize=(6,9), ncols=2)\n",
        "    ax1.imshow(img.resize_(1, 28, 28).numpy().squeeze())\n",
        "    ax1.axis('off')\n",
        "    ax2.barh(np.arange(10), ps)\n",
        "    ax2.set_aspect(0.1)\n",
        "    ax2.set_yticks(np.arange(10))\n",
        "    ax2.set_yticklabels(np.arange(10))\n",
        "    ax2.set_title('Class Probability')\n",
        "    ax2.set_xlim(0, 1.1)\n",
        "\n",
        "    plt.tight_layout()"
      ]
    },
    {
      "cell_type": "markdown",
      "id": "077160df",
      "metadata": {
        "id": "077160df"
      },
      "source": [
        "Будем итерироваться по тренировочному множеству и выведем результат работы нейронной сети на экран:"
      ]
    },
    {
      "cell_type": "code",
      "execution_count": null,
      "id": "58c4ab17",
      "metadata": {
        "colab": {
          "base_uri": "https://localhost:8080/",
          "height": 345
        },
        "id": "58c4ab17",
        "outputId": "e376b5d5-3af8-4118-b802-1f9a3e9cb71d"
      },
      "outputs": [
        {
          "output_type": "display_data",
          "data": {
            "text/plain": [
              "<Figure size 600x900 with 2 Axes>"
            ],
            "image/png": "[encoded data removed]"
          },
          "metadata": {}
        }
      ],
      "source": [
        "dataiter = iter(trainloader)\n",
        "images, labels = next(dataiter)\n",
        "\n",
        "# Resize images into a 1D vector, new shape is (batch size, color channels, image pixels)\n",
        "images.resize_(64, 1, 784)\n",
        "# or images.resize_(images.shape[0], 1, 784) to automatically get batch size\n",
        "\n",
        "# Forward pass through the network\n",
        "img_idx = 0\n",
        "ps = model.forward(images[img_idx,:])\n",
        "\n",
        "img = images[img_idx]\n",
        "view_classify(img.view(1, 28, 28), ps)"
      ]
    },
    {
      "cell_type": "markdown",
      "id": "d1e3bed5",
      "metadata": {
        "id": "d1e3bed5"
      },
      "source": [
        "Вопрос: почему получилось такое распределение вероятностей предсказаний классов?\n",
        "\n",
        "Ответ: веса в этой нейронной сети задавались случайным образом, то есть сеть никак не обучалась."
      ]
    },
    {
      "cell_type": "markdown",
      "id": "77c8b9d1",
      "metadata": {
        "id": "77c8b9d1"
      },
      "source": [
        "## Обучение нейронной сети"
      ]
    },
    {
      "cell_type": "markdown",
      "id": "f793060f",
      "metadata": {
        "id": "f793060f"
      },
      "source": [
        "Суть обучения нейронной сети заключается в подборе (посредством постепенного изменения) весов и bias-векторов (параметров сети) таким образом, чтобы разница между выходом нейронной сети и целевым значением была минимальна.\n",
        "\n",
        "Для этого строится **функция потерь (Loss function)** - функция, которая оценивает <<расстояние>> между значением, которое получилось на выходе нейронной сети (Prediction), и заранее заданным значением (Labels).\n",
        "\n",
        "Чтобы минимизировать функцию потерь, используется метод обратного распространения ошибки (Backpropagation), суть которого заключается в нахождении минимума функции потерь через вычисление её градиента, который в свою очередь зависит только от входных данных (поэтому обратное распространение).\n",
        "\n",
        "Метод обратного распространения ошибки включает в себя следующие шаги:\n",
        "* Forward Pass (FP) — прямое распространение сигнала от входа к выходам (без которого не получить вычисленные значения в графе);\n",
        "* Backward Pass (BP) — расчёт величины градиента от выхода ко входам;\n",
        "* обновление весов в зависимости от величины градиента (скорость обучения или learning rate).\n",
        "\n",
        "<img src=\"assets/forward_backward_pass.png\" width='800'>\n",
        "\n",
        "Существует несколько реализаций метода обратного распространения ошибки:\n",
        "- стохастического градиентного спуска (Stochastic Gradient Descent, SGD);\n",
        "- пакетного градиентного спуска (Mini-Bath Gradient Descent, MBGD)."
      ]
    },
    {
      "cell_type": "markdown",
      "id": "5ca4d40c",
      "metadata": {
        "id": "5ca4d40c"
      },
      "source": [
        "Итого, один цикл обучения включает:\n",
        "- загрузку данных (Features);\n",
        "- один проход данных сквозь нейронную сеть (Neural Network);\n",
        "- получение предсказаний нейронной сети (Prediction);\n",
        "- выгрузка значений, которые соответствуют данным (Labels);\n",
        "- построение функции потерь (Loss) от двух параметров Prediction и Loss;\n",
        "- применение метода обратного распространения ошибки (Backpropagation).\n",
        "\n",
        "<img src=\"assets/Training_cycle.png\" width= \"800\">"
      ]
    },
    {
      "cell_type": "markdown",
      "id": "29e83149",
      "metadata": {
        "id": "29e83149"
      },
      "source": [
        "Например, внутри одной эпохи обучения двухслойной неронной сети необходимо выполнять следующие действия:\n",
        "- предобработать данные;\n",
        "- умножить их на веса;\n",
        "- применить функцию активации;\n",
        "- снова умножить на веса;\n",
        "- вычислить значение функции потерь;\n",
        "- вычислить градиент функции потерь по весам;\n",
        "- обновить веса;\n",
        "- оценить точность."
      ]
    },
    {
      "cell_type": "markdown",
      "id": "a174b2ab",
      "metadata": {
        "id": "a174b2ab"
      },
      "source": [
        "Нейронная сеть в процессе **обучения** последовательно обрабатывает все объекты из обучающей выборки.\n",
        "Предъявление нейронной сети всех объектов обучающей выборки по одному разу называется **эпохой обучения**.\n",
        "\n",
        "Обучающую выборку разделяют на две части: непосредственно использующуюся для обучения (train data) и тестовую (test data) или валидационную (validation data). На тестовых данных каждую эпоху происходит оценка качества обучения. Стратегия разделения на train и test/validation подвыборки может быть произвольной, но при разделении следует заботиться о том, чтобы эти подвыборки были \"похожи\"."
      ]
    },
    {
      "cell_type": "markdown",
      "id": "8af3a29c",
      "metadata": {
        "id": "8af3a29c"
      },
      "source": [
        "Обучение модели — итеративный процесс. На каждой итерции модель получает входные данные, дает предсказание на выходе, вычисляет значение функции потерь (loss), вычисляет производные функции потерь по параметрам и подстраивает параметры, используя градиентный спуск. Для более детального рассмотрения этого процесса рекомендуем посмотреть [видео об обратном распространении ошибки от 3Blue1Brown](https://www.youtube.com/watch?v=tIeHLnjs5U8).\n",
        "\n",
        "[Плейлист с видео о нейронных сетях от 3Blue1Brown с озвучкой на русском](https://www.youtube.com/playlist?list=PLfdZ2TeaMzfzlpZ60rbaYU_epH5XPNbWU)."
      ]
    },
    {
      "cell_type": "markdown",
      "id": "6ff49c86",
      "metadata": {
        "id": "6ff49c86"
      },
      "source": [
        "## Гиперпараметры\n",
        "\n",
        "Гиперпараметры — это задаваемые разработчиком параметры, которые позволяют управлять процессом обучения. Различные значения гиперпараметров могут влиять на обучение модели и скорость сходимости ([здесь](https://pytorch.org/tutorials/beginner/hyperparameter_tuning_tutorial.html) можно почитать подробнее про подбор гиперпараметров).\n",
        "\n",
        "Определим следующие гиперпараметры процедуры обучения:\n",
        "* **количество эпох** (`num_epochs`) — количество итераций обучения по всему набору данных;\n",
        "* **размер батча** (`batch_size`) — количество образцов, передаваемых в сеть для обновления параметров;\n",
        "* **скорость обучения** (`learning_rate`) — коэффициент, определяющий, насколько сильно нужно обновлять параметры модели на каждом батче. Малые значения приводят к долгому обучению, в то время как большие значения могут приводить к непредсказуемому поведению во время обучения."
      ]
    },
    {
      "cell_type": "code",
      "execution_count": null,
      "id": "9b556161",
      "metadata": {
        "id": "9b556161"
      },
      "outputs": [],
      "source": [
        "num_epochs = 10\n",
        "batch_size = 64\n",
        "learning_rate = 1e-3"
      ]
    },
    {
      "cell_type": "markdown",
      "id": "5f660b8f",
      "metadata": {
        "id": "5f660b8f"
      },
      "source": [
        "## Функция потерь (Loss function)\n",
        "\n",
        "При получении некоторых обучающих данных наша необученная сеть, скорее всего, не даст правильного ответа. Функция потерь измеряет степень различия между значениями на выходе сети и целевыми значениями. Именно функцию потерь мы и хотим минимизировать во время обучения. Для вычисления функции потерь нужно получить предсказание модели, передав ей на вход пример из данных, и сравнить его с истинным значением целевой переменной.\n",
        "\n",
        "Наиболее часто применяемыми функциями потерь являются [`nn.MSELoss`](https://pytorch.org/docs/stable/generated/torch.nn.MSELoss.html#torch.nn.MSELoss) (Mean Square Error) для задач регрессии и [`nn.CrossEntropyLoss`](https://pytorch.org/docs/stable/generated/torch.nn.CrossEntropyLoss.html#torch.nn.CrossEntropyLoss) для задач класиификации.\n",
        "\n",
        "\n",
        "Мы будем передавать выходы модели (логиты) в `nn.CrossEntropyLoss`, которая будет их нормализовывать и вычислять ошибку предсказания."
      ]
    },
    {
      "cell_type": "code",
      "execution_count": null,
      "id": "503bde7f",
      "metadata": {
        "id": "503bde7f"
      },
      "outputs": [],
      "source": [
        "criterion = nn.CrossEntropyLoss()"
      ]
    },
    {
      "cell_type": "markdown",
      "id": "b9b54dd6",
      "metadata": {
        "id": "b9b54dd6"
      },
      "source": [
        "## Оптимизатор (Optimizer)\n",
        "\n",
        "Оптимизация — это процесс подстройки параметров модели для уменьшения ошибки на каждом шаге обучения. От **алгоритма оптимизации** зависит то, как этот процесс будет выполняться. Здесь мы будем использовать стохастический градиентный спуск (Stochastic Gradient Descent, SGD). Однако в PyTorch реализовано еще [множество других алгоритмов оптимизации](https://pytorch.org/docs/stable/optim.html#algorithms), таких как Adam и RMSProp, и они могут работать лучше или хуже для разных видов моделей и данных.\n",
        "\n",
        "Вся логика оптимизации заключена в объекте `optimizer`. Мы инициализируем оптимизатор, передавая ему параметры модели, которые требуется обучать (`model.parameters()`), а также гиперпараметр скорости обучения (`learning_rate`)."
      ]
    },
    {
      "cell_type": "code",
      "execution_count": null,
      "id": "edaf2599",
      "metadata": {
        "id": "edaf2599"
      },
      "outputs": [],
      "source": [
        "optimizer = torch.optim.SGD(model.parameters(), lr=learning_rate)"
      ]
    },
    {
      "cell_type": "markdown",
      "id": "e863843a",
      "metadata": {
        "id": "e863843a"
      },
      "source": [
        "## Цикл обучения\n",
        "\n",
        "Внутри цикла обучения, оптимизация производится за три шага:\n",
        "1. Вызов `optimizer.zero_grad()`, чтобы сбросить градиенты параметров модели. По умолчанию градиенты суммируются, и во избежание повторного вычисления их необходимо явно обнулять на каждой итерации;\n",
        "2. Обратное распространение ошибки предсказания с помощью вызова `loss.backward()`. PyTorch вычислит градиенты функции потерь относительно каждого обучаемого параметра;\n",
        "3. Когда у нас есть градиенты, мы вызываем `optimizer.step()`, чтобы подстроить обучаемые параметры с учетом градиентов, посчитанных при обратном распространении, согласно алгоритму оптимизации.\n",
        "\n",
        "Итого, в цикле обучения в следующем порядке должны идти строчки:  <br>\n",
        "optimizer.zero_grad() <br>\n",
        "loss.backward()  <br>\n",
        "optimizer.step()  <br>"
      ]
    },
    {
      "cell_type": "markdown",
      "id": "1496ad93",
      "metadata": {
        "id": "1496ad93"
      },
      "source": [
        "Наиболее просто полный процесс обучения нейронной сети может быть представлен следующим кодом:"
      ]
    },
    {
      "cell_type": "code",
      "execution_count": null,
      "id": "62544b17",
      "metadata": {
        "colab": {
          "base_uri": "https://localhost:8080/"
        },
        "id": "62544b17",
        "outputId": "d8452927-5c40-4aff-bc87-b10dfbfba8a2"
      },
      "outputs": [
        {
          "output_type": "stream",
          "name": "stdout",
          "text": [
            "Training loss: 1.896479456155285\n",
            "Training loss: 0.8361051285953156\n",
            "Training loss: 0.5174200692092941\n",
            "Training loss: 0.4248237303579286\n",
            "Training loss: 0.3823437788910957\n"
          ]
        }
      ],
      "source": [
        "from torch import optim\n",
        "\n",
        "model = nn.Sequential(nn.Linear(784, 128),\n",
        "                      nn.ReLU(),\n",
        "                      nn.Linear(128, 64),\n",
        "                      nn.ReLU(),\n",
        "                      nn.Linear(64, 10),\n",
        "                      nn.LogSoftmax(dim=1))\n",
        "\n",
        "\n",
        "num_epochs = 5\n",
        "learning_rate = 0.003\n",
        "\n",
        "criterion = nn.NLLLoss()\n",
        "\n",
        "optimizer = optim.SGD(model.parameters(), lr=learning_rate)\n",
        "\n",
        "for e in range(num_epochs):\n",
        "    running_loss = 0\n",
        "    for images, labels in trainloader:\n",
        "        # Flatten MNIST images into a 784 long vector\n",
        "        images = images.view(images.shape[0], -1)\n",
        "\n",
        "        # Training pass\n",
        "        output = model(images)\n",
        "        loss = criterion(output, labels)\n",
        "\n",
        "        optimizer.zero_grad()\n",
        "        loss.backward()\n",
        "        optimizer.step()\n",
        "\n",
        "        running_loss += loss.item()\n",
        "    else:\n",
        "        print(f\"Training loss: {running_loss/len(trainloader)}\")"
      ]
    },
    {
      "cell_type": "markdown",
      "id": "4cfd2ba2",
      "metadata": {
        "id": "4cfd2ba2"
      },
      "source": [
        "Посмотрим на вероятности предсказанных классов после обучения нейронной сети:"
      ]
    },
    {
      "cell_type": "code",
      "execution_count": null,
      "id": "f2b0aca3",
      "metadata": {
        "colab": {
          "base_uri": "https://localhost:8080/",
          "height": 345
        },
        "id": "f2b0aca3",
        "outputId": "8ee032f7-790c-463d-eb90-8c55c4080ad6"
      },
      "outputs": [
        {
          "output_type": "display_data",
          "data": {
            "text/plain": [
              "<Figure size 600x900 with 2 Axes>"
            ],
            "image/png": "[encoded data removed]"
          },
          "metadata": {}
        }
      ],
      "source": [
        "%matplotlib inline\n",
        "\n",
        "images, labels = next(iter(trainloader))\n",
        "\n",
        "img = images[0].view(1, 784)\n",
        "# Turn off gradients to speed up this part\n",
        "with torch.no_grad():\n",
        "    logps = model(img)\n",
        "\n",
        "# Output of the network are log-probabilities, need to take exponential for probabilities\n",
        "ps = torch.exp(logps)\n",
        "view_classify(img.view(1, 28, 28), ps)"
      ]
    },
    {
      "cell_type": "markdown",
      "id": "357a91c1",
      "metadata": {
        "id": "357a91c1"
      },
      "source": [
        "Видим, что нейронная сеть уже научилась распознавать цифры с достаточно большой вероятностью."
      ]
    },
    {
      "cell_type": "markdown",
      "id": "779193bf",
      "metadata": {
        "id": "779193bf"
      },
      "source": [
        "# Пример нейронной сети для решения задачи классификации на наборе данных MNIST"
      ]
    },
    {
      "cell_type": "markdown",
      "id": "1de36f01",
      "metadata": {
        "id": "1de36f01"
      },
      "source": [
        "Задание: собрать нейронную сеть из ноутбука L05_Neural_networks.ipynb"
      ]
    },
    {
      "cell_type": "code",
      "execution_count": null,
      "id": "83718c9e",
      "metadata": {
        "id": "83718c9e"
      },
      "outputs": [],
      "source": [
        "from torch import nn\n",
        "\n",
        "\n",
        "class NeuralNetwork(nn.Module):\n",
        "    def __init__(self):\n",
        "        super().__init__()\n",
        "        self.flatten = nn.Flatten()\n",
        "        self.layers_stack = nn.Sequential(\n",
        "            nn.Linear(28 * 28, 512),\n",
        "            nn.ReLU(),\n",
        "            nn.Linear(512, 128),\n",
        "            nn.ReLU(),\n",
        "            nn.Linear(128, 10),\n",
        "        )\n",
        "\n",
        "    def forward(self, x):\n",
        "        x = self.flatten(x)\n",
        "        logits = self.layers_stack(x)\n",
        "        return logits"
      ]
    },
    {
      "cell_type": "markdown",
      "id": "0c8b1e22",
      "metadata": {
        "id": "0c8b1e22"
      },
      "source": [
        "## Обработка результатов:"
      ]
    },
    {
      "cell_type": "markdown",
      "id": "c965d914",
      "metadata": {
        "id": "c965d914"
      },
      "source": [
        "Поэтапно пропустим тестовые изображения через модель и посмотрим на размерности:"
      ]
    },
    {
      "cell_type": "code",
      "source": [
        "from torchvision.transforms import ToTensor"
      ],
      "metadata": {
        "id": "MVy2ktDJz_c-"
      },
      "id": "MVy2ktDJz_c-",
      "execution_count": null,
      "outputs": []
    },
    {
      "cell_type": "code",
      "source": [
        "\n",
        "train_data_MNIST = datasets.MNIST(\n",
        "    root=\"./MNIST\", train=True, download=True, transform=ToTensor()\n",
        ")\n",
        "\n",
        "test_data_MNIST = datasets.MNIST(\n",
        "    root=\"./MNIST\", train=False, download=True, transform=ToTensor()\n",
        ")\n",
        "\n",
        "\n",
        "train_dataloader = torch.utils.data.DataLoader(train_data_MNIST, batch_size=64, shuffle=True)\n",
        "test_dataloader = torch.utils.data.DataLoader(test_data_MNIST, batch_size=64, shuffle=False)"
      ],
      "metadata": {
        "colab": {
          "base_uri": "https://localhost:8080/"
        },
        "id": "y6mGj1XPxSj_",
        "outputId": "f7cc5910-bdd3-4dc1-bcfb-c6e49198a0a7"
      },
      "id": "y6mGj1XPxSj_",
      "execution_count": null,
      "outputs": [
        {
          "output_type": "stream",
          "name": "stdout",
          "text": [
            "Downloading http://yann.lecun.com/exdb/mnist/train-images-idx3-ubyte.gz\n",
            "Downloading http://yann.lecun.com/exdb/mnist/train-images-idx3-ubyte.gz to ./MNIST/MNIST/raw/train-images-idx3-ubyte.gz\n"
          ]
        },
        {
          "output_type": "stream",
          "name": "stderr",
          "text": [
            "100%|██████████| 9912422/9912422 [00:00<00:00, 81518285.16it/s]\n"
          ]
        },
        {
          "output_type": "stream",
          "name": "stdout",
          "text": [
            "Extracting ./MNIST/MNIST/raw/train-images-idx3-ubyte.gz to ./MNIST/MNIST/raw\n",
            "\n",
            "Downloading http://yann.lecun.com/exdb/mnist/train-labels-idx1-ubyte.gz\n",
            "Downloading http://yann.lecun.com/exdb/mnist/train-labels-idx1-ubyte.gz to ./MNIST/MNIST/raw/train-labels-idx1-ubyte.gz\n"
          ]
        },
        {
          "output_type": "stream",
          "name": "stderr",
          "text": [
            "100%|██████████| 28881/28881 [00:00<00:00, 79277286.53it/s]"
          ]
        },
        {
          "output_type": "stream",
          "name": "stdout",
          "text": [
            "Extracting ./MNIST/MNIST/raw/train-labels-idx1-ubyte.gz to ./MNIST/MNIST/raw\n",
            "\n",
            "Downloading http://yann.lecun.com/exdb/mnist/t10k-images-idx3-ubyte.gz\n",
            "Downloading http://yann.lecun.com/exdb/mnist/t10k-images-idx3-ubyte.gz to ./MNIST/MNIST/raw/t10k-images-idx3-ubyte.gz\n"
          ]
        },
        {
          "output_type": "stream",
          "name": "stderr",
          "text": [
            "\n",
            "100%|██████████| 1648877/1648877 [00:00<00:00, 19937302.59it/s]\n"
          ]
        },
        {
          "output_type": "stream",
          "name": "stdout",
          "text": [
            "Extracting ./MNIST/MNIST/raw/t10k-images-idx3-ubyte.gz to ./MNIST/MNIST/raw\n",
            "\n",
            "Downloading http://yann.lecun.com/exdb/mnist/t10k-labels-idx1-ubyte.gz\n",
            "Downloading http://yann.lecun.com/exdb/mnist/t10k-labels-idx1-ubyte.gz to ./MNIST/MNIST/raw/t10k-labels-idx1-ubyte.gz\n"
          ]
        },
        {
          "output_type": "stream",
          "name": "stderr",
          "text": [
            "100%|██████████| 4542/4542 [00:00<00:00, 5580119.73it/s]\n"
          ]
        },
        {
          "output_type": "stream",
          "name": "stdout",
          "text": [
            "Extracting ./MNIST/MNIST/raw/t10k-labels-idx1-ubyte.gz to ./MNIST/MNIST/raw\n",
            "\n"
          ]
        }
      ]
    },
    {
      "cell_type": "code",
      "execution_count": null,
      "id": "b7312af1",
      "metadata": {
        "scrolled": true,
        "colab": {
          "base_uri": "https://localhost:8080/"
        },
        "id": "b7312af1",
        "outputId": "1d70ce33-5172-47d2-8c42-dc34400b1415"
      },
      "outputs": [
        {
          "output_type": "stream",
          "name": "stdout",
          "text": [
            "imgs shape:  torch.Size([64, 1, 28, 28])\n"
          ]
        }
      ],
      "source": [
        "# get batch\n",
        "imgs, labels = next(iter(test_dataloader))\n",
        "print(\"imgs shape: \", imgs.shape)"
      ]
    },
    {
      "cell_type": "code",
      "execution_count": null,
      "id": "818fcd33",
      "metadata": {
        "colab": {
          "base_uri": "https://localhost:8080/"
        },
        "id": "818fcd33",
        "outputId": "160ca88d-c5b3-40b0-ef6f-cd29c4b7865a"
      },
      "outputs": [
        {
          "output_type": "stream",
          "name": "stdout",
          "text": [
            "pred shape:  torch.Size([64, 10])\n"
          ]
        }
      ],
      "source": [
        "model = NeuralNetwork()\n",
        "device = \"cuda\" if torch.cuda.is_available() else \"cpu\"\n",
        "pred = model(imgs.to(device))\n",
        "print(\"pred shape: \", pred.shape)"
      ]
    },
    {
      "cell_type": "markdown",
      "id": "ebe82db3",
      "metadata": {
        "id": "ebe82db3"
      },
      "source": [
        "Посмотрим на результаты обработки нейронной сети для выбранного батча:"
      ]
    },
    {
      "cell_type": "code",
      "execution_count": null,
      "id": "cefd2d29",
      "metadata": {
        "colab": {
          "base_uri": "https://localhost:8080/"
        },
        "id": "cefd2d29",
        "outputId": "9aa3ad1a-7b19-42da-e8a5-07faede2b279"
      },
      "outputs": [
        {
          "output_type": "execute_result",
          "data": {
            "text/plain": [
              "tensor([ 0.0395,  0.1177,  0.0326, -0.0599, -0.0202,  0.0492, -0.0320, -0.0725,\n",
              "         0.0156, -0.0635], grad_fn=<SelectBackward0>)"
            ]
          },
          "metadata": {},
          "execution_count": 63
        }
      ],
      "source": [
        "# First sample in prediction batch\n",
        "pred[0]"
      ]
    },
    {
      "cell_type": "markdown",
      "id": "2e9fe30d",
      "metadata": {
        "id": "2e9fe30d"
      },
      "source": [
        "Чтобы посчитать вероятность, применим функццию softmax:"
      ]
    },
    {
      "cell_type": "code",
      "execution_count": null,
      "id": "4858be52",
      "metadata": {
        "colab": {
          "base_uri": "https://localhost:8080/"
        },
        "id": "4858be52",
        "outputId": "4cf5daaa-fea2-4a61-de8b-5fcfc9a074ce"
      },
      "outputs": [
        {
          "output_type": "execute_result",
          "data": {
            "text/plain": [
              "tensor([0.1038, 0.1122, 0.1031, 0.0940, 0.0978, 0.1048, 0.0966, 0.0928, 0.1013,\n",
              "        0.0936])"
            ]
          },
          "metadata": {},
          "execution_count": 64
        }
      ],
      "source": [
        "# Calculate probabilities\n",
        "nn.Softmax(dim=0)(pred[0].detach())"
      ]
    },
    {
      "cell_type": "markdown",
      "id": "13f90cb8",
      "metadata": {
        "id": "13f90cb8"
      },
      "source": [
        "Изменим размерности данных для вывода картинок на экран:"
      ]
    },
    {
      "cell_type": "code",
      "execution_count": null,
      "id": "cace1765",
      "metadata": {
        "colab": {
          "base_uri": "https://localhost:8080/"
        },
        "id": "cace1765",
        "outputId": "733df81a-5999-45e0-b8ab-b0da0c353c4d"
      },
      "outputs": [
        {
          "output_type": "stream",
          "name": "stdout",
          "text": [
            "imgs shape(after reshape):  torch.Size([64, 28, 28])\n"
          ]
        }
      ],
      "source": [
        "# remove axis\n",
        "imgs = torch.reshape(imgs, (64, 28, 28))\n",
        "print(\"imgs shape(after reshape): \", imgs.shape)"
      ]
    },
    {
      "cell_type": "code",
      "execution_count": null,
      "id": "2e176f7a",
      "metadata": {
        "colab": {
          "base_uri": "https://localhost:8080/"
        },
        "id": "2e176f7a",
        "outputId": "bbf1d343-f655-4236-ae3e-4ef4ea87385b"
      },
      "outputs": [
        {
          "output_type": "stream",
          "name": "stdout",
          "text": [
            "imgs shape:  torch.Size([10, 28, 28])\n"
          ]
        }
      ],
      "source": [
        "# take 10 first images\n",
        "imgs = imgs[:10]\n",
        "print(\"imgs shape: \", imgs.shape)"
      ]
    },
    {
      "cell_type": "markdown",
      "id": "ed60c3e5",
      "metadata": {
        "id": "ed60c3e5"
      },
      "source": [
        "Посмотрим на предсказанные вероятности и выведем позицию максимального значения:"
      ]
    },
    {
      "cell_type": "code",
      "execution_count": null,
      "id": "9d96b210",
      "metadata": {
        "colab": {
          "base_uri": "https://localhost:8080/"
        },
        "id": "9d96b210",
        "outputId": "08d3a368-3f91-437e-91a5-d8e16a13dde8"
      },
      "outputs": [
        {
          "output_type": "stream",
          "name": "stdout",
          "text": [
            "Prediction(1 sample):\n",
            " tensor([ 0.0395,  0.1177,  0.0326, -0.0599, -0.0202,  0.0492, -0.0320, -0.0725,\n",
            "         0.0156, -0.0635])\n",
            "Predicted class:  1\n"
          ]
        }
      ],
      "source": [
        "import numpy as np\n",
        "\n",
        "pred = pred[:10].detach()\n",
        "print(\"Prediction(1 sample):\\n\", pred[0])\n",
        "digits = np.argmax(pred.cpu().numpy(), axis=1)\n",
        "print(\"Predicted class: \", digits[0])"
      ]
    },
    {
      "cell_type": "markdown",
      "id": "657336bb",
      "metadata": {
        "id": "657336bb"
      },
      "source": [
        "Визуализируем изображения, подпишем предсказанное и истинное значение:"
      ]
    },
    {
      "cell_type": "code",
      "execution_count": null,
      "id": "8544161e",
      "metadata": {
        "colab": {
          "base_uri": "https://localhost:8080/",
          "height": 154
        },
        "id": "8544161e",
        "outputId": "a5528080-de68-4ebc-c466-7fefa7a4a968"
      },
      "outputs": [
        {
          "output_type": "display_data",
          "data": {
            "text/plain": [
              "<Figure size 2500x2500 with 10 Axes>"
            ],
            "image/png": "[encoded data removed]"
          },
          "metadata": {}
        }
      ],
      "source": [
        "plt.figure(figsize=(25.0, 25.0))\n",
        "for i in range(10):\n",
        "    img = imgs[i]\n",
        "\n",
        "    plt.subplot(1, 10, i + 1)\n",
        "    plt.title(\n",
        "        \"pred: \" + str(digits[i]) + \" real: \" + str(labels[i].numpy())\n",
        "    )  # predicted and real values\n",
        "    plt.axis(\"off\")\n",
        "    plt.imshow(img.numpy(), cmap=\"gray\")"
      ]
    },
    {
      "cell_type": "markdown",
      "id": "c441fe9a",
      "metadata": {
        "id": "c441fe9a"
      },
      "source": [
        "## Сохранение и загрузка весов модели\n",
        "\n",
        "Обычно обучение модели является достаточно затратным процессом с точки зрения вычислительных ресурсов. Поэтому, однажды обучив сеть, разумно будет сохранить ее для последующего использования. Рассмотрим варианты, как это можно сделать в PyTorch.\n",
        "\n",
        "Модели PyTorch хранят обучаемые параметры во внутреннем словаре состояния, который называется `state_dict`. Их можно сохранить с помощью метода `torch.save`.\n"
      ]
    },
    {
      "cell_type": "code",
      "execution_count": null,
      "id": "ed416697",
      "metadata": {
        "id": "ed416697"
      },
      "outputs": [],
      "source": [
        "torch.save(model.state_dict(), \"model_weights.pth\")"
      ]
    },
    {
      "cell_type": "markdown",
      "id": "0f3048e7",
      "metadata": {
        "id": "0f3048e7"
      },
      "source": [
        "Для того, чтобы загрузить веса модели, сперва необходимо создать экземпляр такой модели, а затем загрузить параметры с помощью метода `load_state_dict()`."
      ]
    },
    {
      "cell_type": "code",
      "execution_count": null,
      "id": "87c7b4c0",
      "metadata": {
        "colab": {
          "base_uri": "https://localhost:8080/"
        },
        "id": "87c7b4c0",
        "outputId": "7fcb5f65-3724-4272-a979-52a41945fe77"
      },
      "outputs": [
        {
          "output_type": "stream",
          "name": "stdout",
          "text": [
            "NeuralNetwork(\n",
            "  (flatten): Flatten(start_dim=1, end_dim=-1)\n",
            "  (layers_stack): Sequential(\n",
            "    (0): Linear(in_features=784, out_features=512, bias=True)\n",
            "    (1): ReLU()\n",
            "    (2): Linear(in_features=512, out_features=128, bias=True)\n",
            "    (3): ReLU()\n",
            "    (4): Linear(in_features=128, out_features=10, bias=True)\n",
            "  )\n",
            ")\n"
          ]
        }
      ],
      "source": [
        "model = NeuralNetwork()\n",
        "model.load_state_dict(torch.load(\"model_weights.pth\"))\n",
        "print(model)"
      ]
    },
    {
      "cell_type": "code",
      "execution_count": null,
      "id": "dacb93e6",
      "metadata": {
        "id": "dacb93e6"
      },
      "outputs": [],
      "source": [
        "imgs, labels = next(iter(test_dataloader))\n",
        "pred = model(torch.reshape(imgs, (64, 28, 28)).to(device))"
      ]
    },
    {
      "cell_type": "code",
      "execution_count": null,
      "id": "6577fd8d",
      "metadata": {
        "colab": {
          "base_uri": "https://localhost:8080/"
        },
        "id": "6577fd8d",
        "outputId": "1babf086-e8b1-411e-f1dd-ccaab55cc6d7"
      },
      "outputs": [
        {
          "output_type": "stream",
          "name": "stdout",
          "text": [
            "Prediction(1 sample):\n",
            " tensor([[ 3.9488e-02,  1.1772e-01,  3.2609e-02, -5.9879e-02, -2.0225e-02,\n",
            "          4.9167e-02, -3.1992e-02, -7.2517e-02,  1.5640e-02, -6.3505e-02],\n",
            "        [ 9.7229e-02,  1.3445e-01,  4.3328e-02, -6.6676e-02, -1.6016e-02,\n",
            "          1.1802e-02, -6.4156e-02, -5.3436e-02,  1.1983e-02, -5.1649e-02],\n",
            "        [ 5.0575e-02,  8.4298e-02,  1.2933e-02, -2.6117e-02, -3.3316e-02,\n",
            "          4.9803e-02, -4.9631e-02, -6.6907e-02,  1.4857e-02, -4.7697e-02],\n",
            "        [ 5.7310e-02,  1.5923e-01,  2.0173e-02, -5.8988e-02,  6.3919e-03,\n",
            "          3.3249e-02, -3.5567e-02, -2.9113e-02,  2.1246e-02, -5.6539e-02],\n",
            "        [ 6.5428e-02,  1.3467e-01,  2.8508e-02, -3.6634e-02, -3.4758e-02,\n",
            "          2.1242e-02, -5.1017e-02, -6.6415e-02,  3.2615e-02, -4.9304e-02],\n",
            "        [ 4.4336e-02,  1.0813e-01,  2.1307e-02, -1.5758e-02, -3.4667e-02,\n",
            "          6.1035e-02, -3.3247e-02, -7.2035e-02,  2.3984e-02, -5.3206e-02],\n",
            "        [ 3.9113e-02,  1.2893e-01,  2.5746e-02, -6.1370e-02, -9.0281e-03,\n",
            "          5.0115e-02, -5.4294e-02, -7.4274e-02,  1.8232e-02, -6.2401e-02],\n",
            "        [ 4.9510e-02,  1.4848e-01,  3.2689e-02, -2.1382e-02, -6.7583e-03,\n",
            "          8.4995e-02, -3.4708e-02, -4.4803e-02, -1.4947e-03, -2.2252e-02],\n",
            "        [ 8.3145e-02,  1.5415e-01, -7.4512e-03, -4.0583e-02, -4.0066e-02,\n",
            "          4.8203e-03, -2.4779e-02, -6.2271e-02,  1.4272e-02, -5.6301e-02],\n",
            "        [ 4.1033e-02,  1.3175e-01,  2.5638e-02, -2.2704e-02, -4.1934e-02,\n",
            "          5.5775e-02, -2.2535e-02, -9.5632e-02,  6.1041e-02, -7.4011e-02],\n",
            "        [ 1.0846e-01,  1.0165e-01,  1.8036e-02, -2.2911e-02, -4.3469e-02,\n",
            "          2.4762e-02, -2.8617e-02, -5.9776e-02,  1.6293e-02, -7.6435e-02],\n",
            "        [ 8.5373e-02,  9.8613e-02,  1.5021e-02, -5.3380e-02, -2.7003e-02,\n",
            "          3.0246e-02, -6.3299e-02, -7.1190e-02,  1.3701e-02, -5.6430e-02],\n",
            "        [ 6.1049e-02,  1.1316e-01,  2.3690e-02, -2.9207e-02, -4.2104e-02,\n",
            "          3.8425e-02, -1.4620e-02, -9.1943e-02,  2.1645e-02, -6.0640e-02],\n",
            "        [ 6.0375e-02,  1.3591e-01,  4.0646e-02, -4.3950e-02, -1.3408e-02,\n",
            "          4.4170e-02, -3.8312e-02, -4.0869e-02,  1.5048e-02, -7.8774e-02],\n",
            "        [ 5.4346e-02,  9.9709e-02,  2.2293e-02, -1.7058e-02, -4.9053e-02,\n",
            "          4.8889e-02, -3.4356e-02, -1.1362e-01,  2.6448e-02, -6.6093e-02],\n",
            "        [ 9.0407e-02,  1.1174e-01,  2.2482e-02,  2.7636e-03, -4.0815e-02,\n",
            "          6.8741e-02, -7.9554e-03, -9.7624e-02,  3.4842e-03, -4.3730e-02],\n",
            "        [ 5.9340e-02,  1.4619e-01, -9.1012e-03, -3.7860e-02, -3.8365e-02,\n",
            "          2.3303e-02, -3.1764e-02, -5.4356e-02,  7.5342e-03, -6.5558e-02],\n",
            "        [ 5.5102e-02,  1.0685e-01,  3.1345e-02, -7.2510e-02, -5.8542e-02,\n",
            "          5.4024e-02, -3.7390e-02, -7.9792e-02,  1.1963e-02, -4.6955e-02],\n",
            "        [ 1.1492e-01,  1.4931e-01,  9.9521e-03, -3.1398e-02,  1.1505e-02,\n",
            "          6.8554e-02, -5.2303e-02, -4.6455e-02, -2.8236e-02, -5.3850e-02],\n",
            "        [ 3.9357e-02,  1.0750e-01,  6.5636e-03, -3.4636e-02, -4.9044e-02,\n",
            "          4.9436e-02, -2.2355e-02, -8.1837e-02,  4.4184e-02, -5.3472e-02],\n",
            "        [ 2.8944e-02,  1.3782e-01,  3.0335e-02, -4.9221e-02, -1.7991e-02,\n",
            "          5.7260e-02, -2.5799e-02, -7.5185e-02,  2.3062e-02, -8.3622e-02],\n",
            "        [ 1.0311e-01,  1.2743e-01,  1.9734e-02, -2.0827e-02, -3.6866e-02,\n",
            "          5.7017e-02, -6.8123e-02, -7.8259e-02,  2.3831e-02, -2.5413e-02],\n",
            "        [ 6.0173e-02,  1.0216e-01,  4.5748e-02, -6.1624e-02, -3.4298e-02,\n",
            "          2.6768e-02, -6.7354e-02, -8.7004e-02,  2.9824e-02, -6.6692e-02],\n",
            "        [ 4.6866e-02,  1.2382e-01,  1.2087e-02, -3.3590e-02, -5.1062e-02,\n",
            "          3.7762e-02, -2.0705e-02, -6.8428e-02, -3.6181e-03, -7.1119e-02],\n",
            "        [ 4.6267e-02,  9.9505e-02,  2.4398e-02, -4.0888e-02, -3.1686e-02,\n",
            "          3.3603e-02, -4.1785e-02, -8.1452e-02,  3.5986e-02, -7.1026e-02],\n",
            "        [ 9.7451e-02,  1.4036e-01, -7.3754e-03, -7.8628e-02, -5.0572e-02,\n",
            "          4.1042e-02, -3.5363e-02, -4.7923e-02,  4.6416e-02, -8.9087e-02],\n",
            "        [ 5.7229e-02,  1.3134e-01,  2.0185e-02, -4.9832e-03, -6.5540e-02,\n",
            "          8.3849e-02,  3.0833e-03, -7.5601e-02,  2.7097e-02, -3.7139e-02],\n",
            "        [ 3.5744e-02,  1.2950e-01,  5.1060e-03, -5.5941e-02, -3.8649e-02,\n",
            "          3.7048e-02, -1.4158e-02, -8.8512e-02,  2.5929e-02, -5.6708e-02],\n",
            "        [ 6.6301e-02,  1.4157e-01,  4.2878e-02, -7.6314e-02, -1.0943e-02,\n",
            "          8.6233e-03, -4.2324e-02, -3.9606e-02,  2.3792e-02, -6.4907e-02],\n",
            "        [ 5.3014e-02,  1.0035e-01,  9.7316e-03, -4.2486e-02, -5.1919e-02,\n",
            "          4.1296e-02, -2.1477e-02, -8.4934e-02,  2.2906e-02, -5.2717e-02],\n",
            "        [ 6.2544e-02,  1.2384e-01,  2.5017e-02, -3.3392e-02, -5.9154e-02,\n",
            "          7.7702e-02, -3.4750e-02, -6.4487e-02,  1.9478e-02, -6.7466e-02],\n",
            "        [ 4.4305e-02,  9.6582e-02, -1.2759e-02, -5.5477e-02, -5.0674e-02,\n",
            "          4.6289e-02, -8.9584e-03, -8.4465e-02,  2.0604e-02, -4.3021e-02],\n",
            "        [ 8.0987e-02,  1.3928e-01,  4.1980e-02, -5.3678e-02, -5.7755e-02,\n",
            "          6.0670e-02, -5.1263e-02, -7.6167e-02,  4.3999e-02,  7.2068e-03],\n",
            "        [ 7.8942e-02,  1.0309e-01,  1.8437e-02, -6.0857e-02, -2.1533e-02,\n",
            "          4.8934e-02, -4.2628e-02, -7.9761e-02,  3.8132e-02, -5.5283e-02],\n",
            "        [ 1.3856e-02,  1.2390e-01,  1.8684e-02, -1.1004e-02, -3.2708e-02,\n",
            "          4.1252e-02,  7.6796e-04, -6.7136e-02,  4.0585e-02, -8.3677e-02],\n",
            "        [ 4.4070e-02,  1.1930e-01,  1.0072e-02, -4.4564e-02, -4.3552e-02,\n",
            "          5.2057e-02, -2.0457e-02, -5.6600e-02,  2.4093e-02, -6.0017e-02],\n",
            "        [ 5.5176e-02,  1.2231e-01,  2.7969e-02, -2.1504e-02, -4.6209e-02,\n",
            "          4.2228e-02, -1.9441e-02, -8.2910e-02,  4.5280e-02, -5.6973e-02],\n",
            "        [ 4.6445e-02,  1.0475e-01,  1.7293e-02, -1.0784e-02, -4.9887e-02,\n",
            "          5.1454e-02, -3.4807e-02, -9.1831e-02,  2.5199e-02, -4.4309e-02],\n",
            "        [ 6.3051e-02,  1.0894e-01,  1.4499e-02, -3.3662e-02, -5.6259e-02,\n",
            "          3.5494e-02, -5.7820e-02, -8.6680e-02,  2.5373e-02, -2.4824e-02],\n",
            "        [ 7.3113e-02,  1.2180e-01,  2.5256e-02, -7.7091e-03, -4.2956e-02,\n",
            "          5.1726e-02, -4.2256e-02, -9.1209e-02,  3.8031e-02, -4.8246e-02],\n",
            "        [ 5.4677e-02,  8.8856e-02,  1.3156e-02, -9.6566e-03, -4.4981e-02,\n",
            "          5.9875e-02, -2.7338e-02, -7.6334e-02,  4.4987e-03, -2.4020e-02],\n",
            "        [ 3.5376e-02,  1.2639e-01,  3.3784e-02, -3.0719e-02, -4.1354e-02,\n",
            "          6.4558e-02, -1.1279e-02, -8.1625e-02,  1.2397e-02, -7.8026e-02],\n",
            "        [ 4.1607e-02,  1.1125e-01,  2.3602e-02, -5.4609e-02, -3.7604e-02,\n",
            "          3.9061e-02, -1.1213e-02, -7.1951e-02,  2.7926e-02, -7.5432e-02],\n",
            "        [ 8.4497e-02,  1.1468e-01,  1.8126e-02, -2.6293e-02, -5.1848e-02,\n",
            "          4.3892e-02, -6.1599e-02, -5.3216e-02,  3.2512e-02, -5.3679e-02],\n",
            "        [ 5.0359e-02,  1.1021e-01,  2.2007e-03, -4.7283e-02, -6.8695e-02,\n",
            "          6.1670e-02, -2.1857e-02, -9.5008e-02,  3.2955e-02, -5.3129e-02],\n",
            "        [ 8.4266e-02,  9.4223e-02,  2.8500e-02, -2.8720e-02, -6.3341e-02,\n",
            "          4.9930e-02, -6.5538e-02, -7.4238e-02, -4.6006e-03, -3.2810e-02],\n",
            "        [ 6.2437e-02,  1.2519e-01,  4.4712e-03, -6.1622e-02, -7.1114e-02,\n",
            "          5.7130e-02, -1.6886e-02, -9.8596e-02,  3.6433e-02, -3.8642e-02],\n",
            "        [ 3.6501e-02,  1.2636e-01,  3.3959e-02, -3.4028e-02, -3.0818e-02,\n",
            "          5.3177e-02, -3.7291e-02, -6.8013e-02,  3.4857e-02, -8.3846e-02],\n",
            "        [ 7.5334e-02,  1.3882e-01,  4.8975e-02, -5.4948e-02, -7.6211e-02,\n",
            "          4.5523e-02, -4.8783e-02, -6.9400e-02,  3.1836e-02, -4.9329e-02],\n",
            "        [ 7.0726e-02,  1.6725e-01,  4.4273e-02, -4.8192e-02, -1.2748e-02,\n",
            "          1.6634e-02, -3.3526e-02, -5.4670e-02,  2.9067e-02, -7.0825e-02],\n",
            "        [ 1.0931e-01,  1.2694e-01,  3.0743e-02, -5.9537e-02, -3.7765e-02,\n",
            "          2.8978e-02, -8.0662e-02, -5.4331e-02,  9.1995e-03, -4.5000e-02],\n",
            "        [ 7.3908e-02,  1.7026e-01,  4.6332e-02, -8.9924e-02, -8.5852e-03,\n",
            "          4.0914e-02, -3.9313e-02, -2.3126e-02, -1.4737e-02, -5.2567e-02],\n",
            "        [ 5.8873e-02,  1.3971e-01,  4.8893e-02, -2.6733e-02, -1.7252e-02,\n",
            "          6.3982e-02, -1.2630e-02, -8.7559e-02,  1.0750e-02, -6.7466e-02],\n",
            "        [ 6.0203e-02,  1.0999e-01,  1.4415e-02, -3.7610e-02, -3.3606e-02,\n",
            "          4.9814e-02, -3.0581e-02, -7.8944e-02,  1.2119e-02, -2.4066e-02],\n",
            "        [ 7.9427e-02,  1.4546e-01,  1.8896e-02, -6.2808e-02, -3.2794e-02,\n",
            "          2.1521e-02, -2.8358e-02, -6.3783e-02,  3.0487e-02, -7.6029e-02],\n",
            "        [ 9.9889e-02,  1.5935e-01,  4.0004e-02, -6.7925e-02, -3.8599e-02,\n",
            "          2.6719e-02, -5.4763e-02, -6.1371e-02, -3.3324e-03, -4.5033e-02],\n",
            "        [ 6.7728e-02,  1.4301e-01,  2.4326e-02, -7.1842e-02, -2.9292e-02,\n",
            "          4.1854e-02, -3.8845e-02, -8.5089e-02,  5.3821e-02, -4.2787e-02],\n",
            "        [ 5.3918e-02,  9.9037e-02,  1.4733e-02, -1.8552e-02, -4.5838e-02,\n",
            "          4.6549e-02, -4.0402e-02, -7.1515e-02,  1.7386e-02, -5.2493e-02],\n",
            "        [ 7.1946e-02,  1.2287e-01, -8.3711e-03, -3.5407e-02, -7.5979e-02,\n",
            "          5.3509e-02, -1.3707e-02, -9.8564e-02,  2.8737e-02, -4.9616e-02],\n",
            "        [ 5.4757e-02,  1.1364e-01,  4.5558e-02, -1.3840e-02, -1.2047e-03,\n",
            "          8.0420e-02, -4.8155e-02, -9.9940e-02, -7.9618e-04, -4.2585e-02],\n",
            "        [ 6.1870e-02,  1.1540e-01,  2.2979e-02, -5.8367e-02, -4.2763e-02,\n",
            "          8.2208e-02, -5.9087e-03, -7.2566e-02,  3.8803e-02, -2.0609e-02],\n",
            "        [ 5.7810e-02,  1.8223e-01,  5.0206e-03, -6.9409e-02, -2.6339e-02,\n",
            "          3.9054e-02,  3.2368e-03, -5.8256e-02, -1.7301e-04, -6.2867e-02],\n",
            "        [ 3.5352e-02,  1.1979e-01,  8.2761e-03, -2.4277e-02, -4.3093e-02,\n",
            "          4.9437e-02, -3.0088e-02, -7.6486e-02,  1.6288e-02, -4.2116e-02],\n",
            "        [ 2.5781e-02,  1.2391e-01,  1.0572e-02, -2.8688e-02, -5.1312e-02,\n",
            "          2.0714e-02, -1.4028e-02, -6.7242e-02,  2.6073e-02, -8.1298e-02]])\n",
            "[1 1 1 1 1 1 1 1 1 1 0 1 1 1 1 1 1 1 1 1 1 1 1 1 1 1 1 1 1 1 1 1 1 1 1 1 1\n",
            " 1 1 1 1 1 1 1 1 1 1 1 1 1 1 1 1 1 1 1 1 1 1 1 1 1 1 1]\n"
          ]
        }
      ],
      "source": [
        "pred = pred.detach()\n",
        "print(\"Prediction(1 sample):\\n\", pred)\n",
        "digits = np.argmax(pred.cpu().numpy(), axis=1)\n",
        "print(digits)"
      ]
    }
  ],
  "metadata": {
    "kernelspec": {
      "display_name": "Python 3 (ipykernel)",
      "language": "python",
      "name": "python3"
    },
    "language_info": {
      "codemirror_mode": {
        "name": "ipython",
        "version": 3
      },
      "file_extension": ".py",
      "mimetype": "text/x-python",
      "name": "python",
      "nbconvert_exporter": "python",
      "pygments_lexer": "ipython3",
      "version": "3.11.4"
    },
    "colab": {
      "provenance": []
    }
  },
  "nbformat": 4,
  "nbformat_minor": 5
}