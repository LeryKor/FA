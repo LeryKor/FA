{
  "cells": [
    {
      "cell_type": "markdown",
      "metadata": {
        "id": "w35Q6hOIy4sk"
      },
      "source": [
        "# Глубинное обучение 1 / Введение в глубинное обучение, ФКН ВШЭ\n",
        "\n",
        "## Домашнее задание 2: сверточный классификатор.\n",
        "\n",
        "### Общая информация\n",
        "\n",
        "Оценка после штрафа после мягкого дедлайна вычисляется по формуле $M_{\\text{penalty}} = M_{\\text{full}} \\cdot 0.85^{t/1440}$, где $M_{\\text{full}}$ — полная оценка за работу без учета штрафа, а $t$ — время в минутах, прошедшее после мягкого дедлайна (округление до двух цифр после запятой). Таким образом, спустя первые сутки после мягкого дедлайна вы не можете получить оценку выше 8.5, а если сдать через четыре дня после мягкого дедлайна, то ваш максимум — 5.22 балла.\n",
        "\n",
        "### Оценивание и штрафы\n",
        "\n",
        "Максимально допустимая оценка за работу — 10 баллов. Сдавать задание после указанного срока сдачи нельзя.\n",
        "\n",
        "Задание выполняется самостоятельно. «Похожие» решения считаются плагиатом и все задействованные студенты (в том числе те, у кого списали) не могут получить за него больше 0 баллов. Если вы нашли решение какого-то из заданий (или его часть) в открытом источнике, необходимо указать ссылку на этот источник в отдельном блоке в конце вашей работы (скорее всего вы будете не единственным, кто это нашел, поэтому чтобы исключить подозрение в плагиате, необходима ссылка на источник).\n",
        "\n",
        "Неэффективная реализация кода может негативно отразиться на оценке. Также оценка может быть снижена за плохо читаемый код и плохо оформленные графики. Все ответы должны сопровождаться кодом или комментариями о том, как они были получены.\n",
        "\n",
        "### О задании\n",
        "\n",
        "В этом задании вам предстоит познакомиться со сверточными сетями и их обучением для классификации изображений с использованием библиотеки PyTorch.\n"
      ]
    },
    {
      "cell_type": "code",
      "execution_count": null,
      "metadata": {
        "id": "SaACifdX2QOo"
      },
      "outputs": [],
      "source": [
        "import torch\n",
        "import torch.nn as nn\n",
        "import torch.nn.functional as F\n",
        "import torch.optim as optim\n",
        "import torchvision\n",
        "import torchvision.transforms as transforms\n",
        "\n",
        "import matplotlib.pyplot as plt\n",
        "import numpy as np\n",
        "\n",
        "from sklearn.model_selection import train_test_split"
      ]
    },
    {
      "cell_type": "markdown",
      "metadata": {
        "id": "TIXaUYM-0JFl"
      },
      "source": [
        "## 0. Загрузка данных\n",
        "\n",
        "Работать мы будем с набором данных [CIFAR10](https://www.cs.toronto.edu/~kriz/cifar.html). CIFAR10 представляет собой набор изображений 32х32 пикселя, разделенных на 10 классов.\n",
        "\n",
        "![title](https://pytorch.org/tutorials/_images/cifar10.png)\n",
        "\n",
        "\n"
      ]
    },
    {
      "cell_type": "markdown",
      "metadata": {
        "id": "g-0EEjl_10vB"
      },
      "source": [
        "Набор данных уже определен в <code>torchvision.datasets</code>, так что возьмем его оттуда.\n",
        "\n"
      ]
    },
    {
      "cell_type": "code",
      "execution_count": null,
      "metadata": {
        "id": "Cbwe92dT3aPZ"
      },
      "outputs": [],
      "source": [
        "def get_cifar10_data(batch_size, transform_train):\n",
        "    torch.manual_seed(0)\n",
        "    np.random.seed(0)\n",
        "\n",
        "    transform_test = transforms.Compose(\n",
        "        [transforms.ToTensor(),\n",
        "         # Переводим цвета пикселей в отрезок [-1, 1]\n",
        "         transforms.Normalize((0.5, 0.5, 0.5), (0.5, 0.5, 0.5))]\n",
        "    )\n",
        "\n",
        "    # Загружаем данные\n",
        "    trainvalset = torchvision.datasets.CIFAR10(root='./data', train=True,\n",
        "                                               download=True, transform=transform_train)\n",
        "    testset = torchvision.datasets.CIFAR10(root='./data', train=False,\n",
        "                                           download=True, transform=transform_test)\n",
        "\n",
        "    # В датасете определено разбиение только на train и test,\n",
        "    # так что валидацию дополнительно выделяем из обучающей выборки\n",
        "    train_idx, valid_idx = train_test_split(np.arange(len(trainvalset)), test_size=0.3,\n",
        "                                            shuffle=True, random_state=0)\n",
        "    trainset = torch.utils.data.Subset(trainvalset, train_idx)\n",
        "    valset = torch.utils.data.Subset(trainvalset, valid_idx)\n",
        "\n",
        "    train_loader = torch.utils.data.DataLoader(trainset, batch_size=batch_size,\n",
        "                                               shuffle=True, num_workers=2, drop_last=True)\n",
        "    val_loader = torch.utils.data.DataLoader(valset, batch_size=batch_size,\n",
        "                                             shuffle=False, num_workers=2, drop_last=True)\n",
        "    test_loader = torch.utils.data.DataLoader(testset, batch_size=batch_size,\n",
        "                                              shuffle=False, num_workers=2, drop_last=True)\n",
        "\n",
        "    return train_loader, val_loader, test_loader\n"
      ]
    },
    {
      "cell_type": "code",
      "execution_count": null,
      "metadata": {
        "colab": {
          "base_uri": "https://localhost:8080/"
        },
        "id": "2G2rLnN5y6Jj",
        "outputId": "5e331492-c800-4200-97c6-84020dd1abd6"
      },
      "outputs": [
        {
          "output_type": "stream",
          "name": "stdout",
          "text": [
            "Files already downloaded and verified\n",
            "Files already downloaded and verified\n"
          ]
        }
      ],
      "source": [
        "transform = transforms.Compose(\n",
        "        [transforms.ToTensor(),\n",
        "         transforms.Normalize((0.5, 0.5, 0.5), (0.5, 0.5, 0.5))]\n",
        ")\n",
        "\n",
        "train_loader, val_loader, test_loader = get_cifar10_data(batch_size=64,\n",
        "                                                         transform_train=transform)"
      ]
    },
    {
      "cell_type": "markdown",
      "metadata": {
        "id": "-82HWgXs77W1"
      },
      "source": [
        "Посмотрим на изображения:"
      ]
    },
    {
      "cell_type": "code",
      "execution_count": null,
      "metadata": {
        "colab": {
          "base_uri": "https://localhost:8080/",
          "height": 211
        },
        "id": "ACnwaC5iy6L2",
        "outputId": "13184502-db88-4b5a-9a62-f0c67a4c8375"
      },
      "outputs": [
        {
          "output_type": "display_data",
          "data": {
            "text/plain": [
              "<Figure size 640x480 with 1 Axes>"
            ],
            "image/png": "[encoded data removed]"
          },
          "metadata": {}
        },
        {
          "output_type": "stream",
          "name": "stdout",
          "text": [
            "ship frog horse horse\n"
          ]
        }
      ],
      "source": [
        "def imshow(img):\n",
        "    img = img / 2 + 0.5\n",
        "    npimg = img.numpy()\n",
        "    plt.imshow(np.transpose(npimg, (1, 2, 0)))\n",
        "    plt.show()\n",
        "\n",
        "\n",
        "dataiter = iter(train_loader)\n",
        "images, labels = dataiter.__next__()\n",
        "\n",
        "imshow(torchvision.utils.make_grid(images[:4]))\n",
        "\n",
        "classes = ('plane', 'car', 'bird', 'cat',\n",
        "           'deer', 'dog', 'frog', 'horse', 'ship', 'truck')\n",
        "print(*[classes[labels[i]] for i in range(4)])"
      ]
    },
    {
      "cell_type": "markdown",
      "metadata": {
        "id": "KFDilng29YZ_"
      },
      "source": [
        "## 1. Задание сверточной сети (3 балла)"
      ]
    },
    {
      "cell_type": "markdown",
      "metadata": {
        "id": "OX7Ul8YbYdQR"
      },
      "source": [
        "Теперь нам нужно задать сверточную нейронную сеть, которую мы будем обучать классифицировать изображения.\n",
        "\n",
        "Используем сеть, основанную на одном блоке архитектуры ResNet.\n",
        "\n",
        "<img src=\"https://i.ibb.co/2hg962h/basic-block.png\" width=\"500\"/>\n",
        "\n",
        "__Указания:__\n",
        "\n",
        "- Все сверточные слои должны иметь 32 выходных канала, а также не должны изменять ширину и высоту изображения.\n",
        "- Выход блока сократите до размерности 32х4х4, применив average pooling.\n",
        "- Для получения итоговых логитов, распрямите выход пулинга в вектор из 512 элементов, а затем пропустите его через линейный слой."
      ]
    },
    {
      "cell_type": "markdown",
      "metadata": {
        "id": "sbyIylT9O9Dr"
      },
      "source": [
        "**Задание 1.1 (3 балла).**\n",
        "\n",
        "Определите архитектуру сети соответственно схеме и указаниям выше.\n",
        "\n",
        "Ключевые слова: <code>Conv2d</code>, <code>BatchNorm2d</code>, <code>AvgPool2d</code>."
      ]
    },
    {
      "cell_type": "code",
      "execution_count": null,
      "metadata": {
        "id": "s9ml1QGKy6N9"
      },
      "outputs": [],
      "source": [
        "n_classes = 10\n",
        "\n",
        "class BasicBlockNet(nn.Module):\n",
        "    def __init__(self):\n",
        "        super().__init__()\n",
        "        self.conv = nn.Conv2d(3, 32, 3, padding= 1)\n",
        "        self.conv2 = nn.Conv2d(3, 32, 1, 1)\n",
        "        self.h_conv = nn.Conv2d(32, 32, 1)\n",
        "        self.norm = nn.BatchNorm2d(32)\n",
        "        self.avgPool = nn.AvgPool2d(7)\n",
        "        self.relu = nn.ReLU()\n",
        "        self.fc = nn.Linear(512, 10)\n",
        "\n",
        "    def forward(self, x):\n",
        "        out = self.conv(x)\n",
        "        x = self.conv2(x)\n",
        "        out = self.norm(out)\n",
        "        out = self.relu(out)\n",
        "        out = self.h_conv(out)\n",
        "        out = self.norm(out)\n",
        "        out += x\n",
        "        out = self.relu(out)\n",
        "        out = self.avgPool(out)\n",
        "        out = out.flatten(1)\n",
        "        out = self.fc(out)\n",
        "\n",
        "        return out"
      ]
    },
    {
      "cell_type": "code",
      "execution_count": null,
      "metadata": {
        "id": "FI4BQg7Ky6Pw",
        "colab": {
          "base_uri": "https://localhost:8080/"
        },
        "outputId": "a6616c6b-16e8-46d3-e7ec-ee7ec3d17a18"
      },
      "outputs": [
        {
          "output_type": "execute_result",
          "data": {
            "text/plain": [
              "BasicBlockNet(\n",
              "  (conv): Conv2d(3, 32, kernel_size=(3, 3), stride=(1, 1), padding=(1, 1))\n",
              "  (conv2): Conv2d(3, 32, kernel_size=(1, 1), stride=(1, 1))\n",
              "  (h_conv): Conv2d(32, 32, kernel_size=(1, 1), stride=(1, 1))\n",
              "  (norm): BatchNorm2d(32, eps=1e-05, momentum=0.1, affine=True, track_running_stats=True)\n",
              "  (avgPool): AvgPool2d(kernel_size=7, stride=7, padding=0)\n",
              "  (relu): ReLU()\n",
              "  (fc): Linear(in_features=512, out_features=10, bias=True)\n",
              ")"
            ]
          },
          "metadata": {},
          "execution_count": 79
        }
      ],
      "source": [
        "net = BasicBlockNet()\n",
        "net"
      ]
    },
    {
      "cell_type": "markdown",
      "metadata": {
        "id": "igPoGZEub8d3"
      },
      "source": [
        "Проверим, что выход сети имеет корректную размерность:"
      ]
    },
    {
      "cell_type": "code",
      "execution_count": null,
      "metadata": {
        "id": "cCIzFUpJ_Agw"
      },
      "outputs": [],
      "source": [
        "assert net(torch.zeros((10, 3, 32, 32))).shape == (10, 10)"
      ]
    },
    {
      "cell_type": "markdown",
      "metadata": {
        "id": "08osX622cDGz"
      },
      "source": [
        "Чтобы проводить вычисления на GPU, в PyTorch необходимо руками перекладывать объекты, с которыми вы хотите проводить вычисления, на графический ускоритель. Это делается следующим образрм:"
      ]
    },
    {
      "cell_type": "code",
      "execution_count": null,
      "metadata": {
        "id": "56hDOMCFcDZX",
        "colab": {
          "base_uri": "https://localhost:8080/"
        },
        "outputId": "1c62cfca-07eb-41f0-afce-7b1b8e315b68"
      },
      "outputs": [
        {
          "output_type": "stream",
          "name": "stdout",
          "text": [
            "cuda:0\n"
          ]
        }
      ],
      "source": [
        "device = torch.device('cuda:0' if torch.cuda.is_available() else 'cpu')\n",
        "print(device)"
      ]
    },
    {
      "cell_type": "code",
      "execution_count": null,
      "metadata": {
        "id": "ohnDWbp0qbtC"
      },
      "outputs": [],
      "source": [
        "net = net.to(device)"
      ]
    },
    {
      "cell_type": "markdown",
      "metadata": {
        "id": "H_bOlTVUp5QF"
      },
      "source": [
        "Подключение GPU в google.colab:\n",
        "\n",
        "**Среда выполнения** -> **Сменить среду выполнения** -> **Аппаратный ускоритель** -> **GPU**"
      ]
    },
    {
      "cell_type": "markdown",
      "metadata": {
        "id": "AGi6XX_7_Bgg"
      },
      "source": [
        "## 2. Обучение и тестирование модели (3 балла)"
      ]
    },
    {
      "cell_type": "markdown",
      "metadata": {
        "id": "0agj_MQoO9Ds"
      },
      "source": [
        "**Задание 2.1 (2 балла).** Переходим к обучению модели. Заполните пропуски в функциях <code>test</code> и <code>train_epoch</code>. В качестве функции потерь будем использовать [кросс-энтропию](https://pytorch.org/docs/stable/generated/torch.nn.functional.cross_entropy.html), а в качестве метрики качества accuracy."
      ]
    },
    {
      "cell_type": "code",
      "execution_count": null,
      "metadata": {
        "id": "g8gsPPRIevDS"
      },
      "outputs": [],
      "source": [
        "criterion = nn.CrossEntropyLoss()\n",
        "def test(model, loader):\n",
        "    loss_log = []\n",
        "    acc_log = []\n",
        "    model.eval()\n",
        "\n",
        "    for data, target in loader:\n",
        "      data = data.to(device)\n",
        "      target = target.to(device)\n",
        "      targetV = torch.zeros((64, 10)).to(device)\n",
        "      targetV.scatter_(1, target.view(-1, 1).long(), 1)\n",
        "      with torch.no_grad():\n",
        "        predict = model(data)\n",
        "        loss = criterion(predict, targetV)\n",
        "\n",
        "      loss_log.append(loss.item())\n",
        "\n",
        "      acc = torch.sum(target == torch.argmax(predict, dim=1))/target.shape[0]\n",
        "\n",
        "      acc_log.append(acc.item())\n",
        "\n",
        "    return np.mean(loss_log), np.mean(acc_log)\n",
        "\n",
        "def train_epoch(model, optimizer, train_loader):\n",
        "    loss_log = []\n",
        "    acc_log = []\n",
        "    model.train()\n",
        "\n",
        "    for data, target in train_loader:\n",
        "        data = data.to(device)\n",
        "        target = target.to(device)\n",
        "        targetV = torch.zeros((64, 10)).to(device)\n",
        "        targetV.scatter_(1, target.view(-1, 1).long(), 1)\n",
        "        optimizer.zero_grad()\n",
        "        predict = model(data)\n",
        "        loss = criterion(predict, targetV)\n",
        "        loss.backward()\n",
        "        optimizer.step()\n",
        "        loss_log.append(loss.item())\n",
        "        acc = torch.sum(target ==  torch.argmax(predict, dim=1))/target.shape[0]\n",
        "        acc_log.append(acc.item())\n",
        "\n",
        "    return loss_log, acc_log\n",
        "\n",
        "def train(model, optimizer, n_epochs, train_loader, val_loader, scheduler=None):\n",
        "    train_loss_log, train_acc_log, val_loss_log, val_acc_log = [], [], [], []\n",
        "\n",
        "    for epoch in range(n_epochs):\n",
        "        train_loss, train_acc = train_epoch(model, optimizer, train_loader)\n",
        "        val_loss, val_acc = test(model, val_loader)\n",
        "\n",
        "        train_loss_log.extend(train_loss)\n",
        "        train_acc_log.extend(train_acc)\n",
        "\n",
        "        val_loss_log.append(val_loss)\n",
        "        val_acc_log.append(val_acc)\n",
        "\n",
        "        print(f\"Epoch {epoch}\")\n",
        "        print(f\" train loss: {np.mean(train_loss)}, train acc: {np.mean(train_acc)}\")\n",
        "        print(f\" val loss: {val_loss}, val acc: {val_acc}\\n\")\n",
        "\n",
        "        if scheduler is not None:\n",
        "            scheduler.step()\n",
        "\n",
        "    return train_loss_log, train_acc_log, val_loss_log, val_acc_log"
      ]
    },
    {
      "cell_type": "markdown",
      "metadata": {
        "id": "iSOqk_CAO9Dt"
      },
      "source": [
        "Запустим обучение модели. В качестве оптимизатора будем использовать стохастический градиентный спуск, который является де-факто стандартом в задачах компьютерного зрения (наравне с <code>Adam</code>).\n",
        "\n",
        "__Замечание:__ Для достижения наилучшего качества в нашем случае потребуется обучать модель несколько сотен эпох. Однако в целях экономии вашего времени и сил, во всех экспериментах мы ограничимся 20 эпохами."
      ]
    },
    {
      "cell_type": "code",
      "execution_count": null,
      "metadata": {
        "id": "MKZBGhuAgMDu",
        "scrolled": true,
        "colab": {
          "base_uri": "https://localhost:8080/"
        },
        "outputId": "0eb4522b-83bc-480d-9c3c-70f171712f72"
      },
      "outputs": [
        {
          "output_type": "stream",
          "name": "stdout",
          "text": [
            "Epoch 0\n",
            " train loss: 1.492741306513657, train acc: 0.4654876373626374\n",
            " val loss: 1.4643355475531683, val acc: 0.48223824786324787\n",
            "\n",
            "Epoch 1\n",
            " train loss: 1.2391349423281002, train acc: 0.5645890567765568\n",
            " val loss: 1.6526151187399514, val acc: 0.41760149572649574\n",
            "\n",
            "Epoch 2\n",
            " train loss: 1.1409544206800915, train acc: 0.6017628205128205\n",
            " val loss: 1.8722529095462246, val acc: 0.37319711538461536\n",
            "\n",
            "Epoch 3\n",
            " train loss: 1.0816735902548709, train acc: 0.6238839285714286\n",
            " val loss: 2.025471448388874, val acc: 0.35510149572649574\n",
            "\n",
            "Epoch 4\n",
            " train loss: 1.0529164495048942, train acc: 0.6371336996336996\n",
            " val loss: 1.8467405214268937, val acc: 0.3783386752136752\n",
            "\n",
            "Epoch 5\n",
            " train loss: 1.0218463007347052, train acc: 0.6446886446886447\n",
            " val loss: 1.8214578047776833, val acc: 0.34915865384615385\n",
            "\n",
            "Epoch 6\n",
            " train loss: 1.0025053172757774, train acc: 0.6529304029304029\n",
            " val loss: 1.7941900557941861, val acc: 0.3401442307692308\n",
            "\n",
            "Epoch 7\n",
            " train loss: 0.9886987734408605, train acc: 0.6552197802197802\n",
            " val loss: 1.9653867834653609, val acc: 0.30856036324786323\n",
            "\n",
            "Epoch 8\n",
            " train loss: 0.9778678576588195, train acc: 0.6610004578754579\n",
            " val loss: 2.2914704491949487, val acc: 0.3010817307692308\n",
            "\n",
            "Epoch 9\n",
            " train loss: 0.959418115161714, train acc: 0.6666094322344323\n",
            " val loss: 2.231938001437065, val acc: 0.2723023504273504\n",
            "\n"
          ]
        }
      ],
      "source": [
        "optimizer = optim.SGD(net.parameters(), lr=0.1, momentum=0.9)\n",
        "train_loss_log, train_acc_log, val_loss_log, val_acc_log = train(net, optimizer, 10, train_loader, val_loader)"
      ]
    },
    {
      "cell_type": "code",
      "source": [
        "print(val_loss_log[:2])"
      ],
      "metadata": {
        "colab": {
          "base_uri": "https://localhost:8080/"
        },
        "id": "zdpzs9P8gLmb",
        "outputId": "0940b238-9c78-483d-eb3c-9521d6f4ebdf"
      },
      "execution_count": null,
      "outputs": [
        {
          "output_type": "stream",
          "name": "stdout",
          "text": [
            "[1.4643355475531683, 1.6526151187399514]\n"
          ]
        }
      ]
    },
    {
      "cell_type": "markdown",
      "metadata": {
        "id": "gUb1jQW8O9Dt"
      },
      "source": [
        "Посчитайте точность на тестовой выборке:"
      ]
    },
    {
      "cell_type": "code",
      "execution_count": null,
      "metadata": {
        "id": "Jyuc55B9_Amc",
        "colab": {
          "base_uri": "https://localhost:8080/"
        },
        "outputId": "cdee1825-ed4c-4fcb-f456-32275e8ec399"
      },
      "outputs": [
        {
          "output_type": "execute_result",
          "data": {
            "text/plain": [
              "(2.2246919878018208, 0.2675280448717949)"
            ]
          },
          "metadata": {},
          "execution_count": 86
        }
      ],
      "source": [
        "test(net, test_loader)"
      ]
    },
    {
      "cell_type": "markdown",
      "metadata": {
        "id": "zM38Q9fwO9Dt"
      },
      "source": [
        "Если вы все сделали правильно, у вас должна была получиться точность $\\ge 67\\%$."
      ]
    },
    {
      "cell_type": "code",
      "source": [
        "def plot_losses(train_losses, train_metrics, val_losses, val_metrics):\n",
        "    '''\n",
        "    Plot losses and metrics while training\n",
        "      - train_losses: sequence of train losses\n",
        "      - train_metrics: sequence of train MSE values\n",
        "      - val_losses: sequence of validation losses\n",
        "      - val_metrics: sequence of validation MSE values\n",
        "    '''\n",
        "    fig, axs = plt.subplots(2, 2, figsize=(15, 5))\n",
        "    axs[0, 0].plot(range(1, len(train_losses) + 1), train_losses, label='train')\n",
        "    axs[1, 0].plot(range(1, len(val_losses) + 1), val_losses, label='val')\n",
        "    axs[0,1].plot(range(1, len(train_metrics) + 1), train_metrics, label='train')\n",
        "    axs[1,1].plot(range(1, len(val_metrics) + 1), val_metrics, label='val')\n",
        "\n",
        "    for ax1, ax2 in axs:\n",
        "        ax1.set_xlabel('epoch')\n",
        "        ax1.legend()\n",
        "        ax2.set_xlabel('epoch')\n",
        "        ax2.legend()\n",
        "\n",
        "    axs[0, 0].set_ylabel('loss')\n",
        "    axs[0, 1].set_ylabel('Accuracy')\n",
        "    plt.show()"
      ],
      "metadata": {
        "id": "YztfxQFwMRi8"
      },
      "execution_count": null,
      "outputs": []
    },
    {
      "cell_type": "markdown",
      "metadata": {
        "id": "DHFNSKcoO9Dt"
      },
      "source": [
        "**Задание 2.2 (1 балл).** Постройте графики зависимости функции потерь и точности классификации от номера шага оптимизатора. На каждом графике расположите данные и для обучающей и для валидационной выборки, итого у вас должно получиться два графика. Обратите внимание, что на обучающей выборке эти данные считаются по каждому батчу, на валидационной же они считаются по всей выборке раз в эпоху."
      ]
    },
    {
      "cell_type": "code",
      "execution_count": null,
      "metadata": {
        "id": "LzIP0tGLO9Dt",
        "colab": {
          "base_uri": "https://localhost:8080/",
          "height": 465
        },
        "outputId": "69b9085f-a528-4a72-e1dc-d9b1f4d2a9c4"
      },
      "outputs": [
        {
          "output_type": "display_data",
          "data": {
            "text/plain": [
              "<Figure size 1500x500 with 4 Axes>"
            ],
            "image/png": "[encoded data removed]"
          },
          "metadata": {}
        }
      ],
      "source": [
        "plot_losses(train_loss_log, train_acc_log, val_loss_log, val_acc_log)"
      ]
    },
    {
      "cell_type": "markdown",
      "metadata": {
        "id": "_ttOJPj-O9Dt"
      },
      "source": [
        "## 3. Расписание длины шага (2 балла)"
      ]
    },
    {
      "cell_type": "markdown",
      "metadata": {
        "id": "qiz3JstuO9Dt"
      },
      "source": [
        "С курса \"Машинное обучение 1\" вы уже должны знать, что сходимость стохастического градиентного спуска мы можем теоретически гарантировать только если будем определенным образом со временем уменьшать длину шага. На практике при обучении нейронных сетей такая техника оказывается очень полезной, однако теоретически обоснованными способами уменьшения длины шага фантазия не ограничивается.\n",
        "\n",
        "Одним из простейших способов является кусочно постоянная функция: на нескольких фиксированных эпохах уменьшаем длину шага в константу раз."
      ]
    },
    {
      "cell_type": "code",
      "execution_count": null,
      "metadata": {
        "id": "V2Z0OT3nO9Du",
        "colab": {
          "base_uri": "https://localhost:8080/"
        },
        "outputId": "9e5aaa6d-772a-4364-efb5-49bdb2823e39"
      },
      "outputs": [
        {
          "output_type": "stream",
          "name": "stdout",
          "text": [
            "Epoch 0\n",
            " train loss: 1.5159906076860952, train acc: 0.4558150183150183\n",
            " val loss: 1.835571208061316, val acc: 0.38514957264957267\n",
            "\n",
            "Epoch 1\n",
            " train loss: 1.2886590420544803, train acc: 0.5435267857142857\n",
            " val loss: 1.7940540400325742, val acc: 0.39623397435897434\n",
            "\n",
            "Epoch 2\n",
            " train loss: 1.193786077556156, train acc: 0.5818738553113553\n",
            " val loss: 1.8076807535611665, val acc: 0.35877403846153844\n",
            "\n",
            "Epoch 3\n",
            " train loss: 1.1339013521924561, train acc: 0.6021062271062271\n",
            " val loss: 2.0818943799051466, val acc: 0.273838141025641\n",
            "\n",
            "Epoch 4\n",
            " train loss: 1.0937159815769055, train acc: 0.6167296245421245\n",
            " val loss: 2.1766075593793492, val acc: 0.26469017094017094\n",
            "\n",
            "Epoch 5\n",
            " train loss: 1.0613615875279074, train acc: 0.6294070512820513\n",
            " val loss: 2.90213258144183, val acc: 0.2093349358974359\n",
            "\n",
            "Epoch 6\n",
            " train loss: 1.0306730080436874, train acc: 0.6413118131868132\n",
            " val loss: 2.5383735436659594, val acc: 0.21955128205128205\n",
            "\n",
            "Epoch 7\n",
            " train loss: 1.0163437095317212, train acc: 0.646978021978022\n",
            " val loss: 2.557100825330131, val acc: 0.2206196581196581\n",
            "\n",
            "Epoch 8\n",
            " train loss: 0.995820245790831, train acc: 0.6540178571428571\n",
            " val loss: 3.1649998823801675, val acc: 0.18496260683760685\n",
            "\n",
            "Epoch 9\n",
            " train loss: 0.9854477801165737, train acc: 0.6595695970695971\n",
            " val loss: 2.801176715100932, val acc: 0.24439102564102563\n",
            "\n"
          ]
        }
      ],
      "source": [
        "net = BasicBlockNet().to(device)\n",
        "optimizer = optim.SGD(net.parameters(), lr=0.1, momentum=0.9)\n",
        "scheduler = optim.lr_scheduler.MultiStepLR(optimizer, milestones=[10, 15], gamma=0.1)\n",
        "tr_loss_log, tr_acc_log, val_loss_log, val_acc_log = train(net, optimizer, 10, train_loader, val_loader, scheduler)"
      ]
    },
    {
      "cell_type": "markdown",
      "metadata": {
        "id": "5Xc76KvzO9Du"
      },
      "source": [
        "Посчитайте точность на тестовой выборке:"
      ]
    },
    {
      "cell_type": "code",
      "execution_count": null,
      "metadata": {
        "id": "1AjiYhKqO9Du",
        "colab": {
          "base_uri": "https://localhost:8080/"
        },
        "outputId": "99079ca5-71b7-4971-e204-bc2225841582"
      },
      "outputs": [
        {
          "output_type": "execute_result",
          "data": {
            "text/plain": [
              "(2.8405769986984057, 0.23517628205128205)"
            ]
          },
          "metadata": {},
          "execution_count": 90
        }
      ],
      "source": [
        "test(net, test_loader)"
      ]
    },
    {
      "cell_type": "markdown",
      "metadata": {
        "id": "yE0dgLYrO9Du"
      },
      "source": [
        "**Задание 3.0 (0.5 баллов).** Здесь может возникнуть вопрос: а что будет, если мы не будем уменьшать длину шага в процессе обучения, а сразу возьмем констатную, равную значению нашей кусочно-постоянной функции на последних эпохах, то есть $0.001$ в нашем случае. Запустите обучение и проверьте, что в таком случае мы получим худшее качество на тестовой выборке."
      ]
    },
    {
      "cell_type": "code",
      "execution_count": null,
      "metadata": {
        "id": "qZ2iB-LBO9Du",
        "colab": {
          "base_uri": "https://localhost:8080/"
        },
        "outputId": "c079f9dd-4eb2-4064-bcd4-25276b9ea4bc"
      },
      "outputs": [
        {
          "output_type": "stream",
          "name": "stdout",
          "text": [
            "Epoch 0\n",
            " train loss: 1.867533191219791, train acc: 0.3507039835164835\n",
            " val loss: 1.8520009665407686, val acc: 0.3072916666666667\n",
            "\n",
            "Epoch 1\n",
            " train loss: 1.581260308677897, train acc: 0.44971955128205127\n",
            " val loss: 2.0962108307414584, val acc: 0.24913194444444445\n",
            "\n",
            "Epoch 2\n",
            " train loss: 1.4653665674475087, train acc: 0.4866357600732601\n",
            " val loss: 2.117167171250042, val acc: 0.26001602564102566\n",
            "\n",
            "Epoch 3\n",
            " train loss: 1.3987287614808415, train acc: 0.509529532967033\n",
            " val loss: 2.2189879121943417, val acc: 0.2484642094017094\n",
            "\n",
            "Epoch 4\n",
            " train loss: 1.3523820953054742, train acc: 0.5269288003663004\n",
            " val loss: 2.361219609904493, val acc: 0.23130341880341881\n",
            "\n",
            "Epoch 5\n",
            " train loss: 1.319021409247821, train acc: 0.5406936813186813\n",
            " val loss: 2.2388661172654896, val acc: 0.25874732905982906\n",
            "\n",
            "Epoch 6\n",
            " train loss: 1.2872780630221734, train acc: 0.5497939560439561\n",
            " val loss: 2.3488730039352026, val acc: 0.2543402777777778\n",
            "\n",
            "Epoch 7\n",
            " train loss: 1.253742183084453, train acc: 0.5634729853479854\n",
            " val loss: 2.349917431162973, val acc: 0.2605502136752137\n",
            "\n",
            "Epoch 8\n",
            " train loss: 1.2251443634758066, train acc: 0.573489010989011\n",
            " val loss: 2.2276689848329267, val acc: 0.29346955128205127\n",
            "\n",
            "Epoch 9\n",
            " train loss: 1.203212667515863, train acc: 0.5821314102564102\n",
            " val loss: 2.1697792874442206, val acc: 0.3187767094017094\n",
            "\n"
          ]
        }
      ],
      "source": [
        "net = BasicBlockNet().to(device)\n",
        "optimizer = optim.SGD(net.parameters(), lr=0.001, momentum=0.9)\n",
        "tr_loss_log, tr_acc_log, val_loss_log, val_acc_log = train(net, optimizer, 10, train_loader, val_loader)"
      ]
    },
    {
      "cell_type": "markdown",
      "metadata": {
        "id": "xVotU378O9Du"
      },
      "source": [
        "**Задание 3.1 (1.5 балла).** Изучите, какие еще способы уменьшения длины шага представлены в <code>torch.optim.lr_scheduler</code>. Выберите несколько из них, объясните, как они устроены, и обучите модель с ними. Удалось ли добиться улучшения качества на тестовой выборке?"
      ]
    },
    {
      "cell_type": "code",
      "execution_count": null,
      "metadata": {
        "id": "nkGlzocOO9Du",
        "colab": {
          "base_uri": "https://localhost:8080/"
        },
        "outputId": "1ab90048-2f26-4198-b417-f1b255e40396"
      },
      "outputs": [
        {
          "output_type": "stream",
          "name": "stdout",
          "text": [
            "Epoch 0\n",
            " train loss: 1.5356304628071769, train acc: 0.45006295787545786\n",
            " val loss: 1.688963104517032, val acc: 0.41139155982905984\n",
            "\n",
            "Epoch 1\n",
            " train loss: 1.2188130433742816, train acc: 0.5716861263736264\n",
            " val loss: 1.9829698011406467, val acc: 0.38000801282051283\n",
            "\n",
            "Epoch 2\n",
            " train loss: 1.169750641881328, train acc: 0.5898580586080586\n",
            " val loss: 2.130061058407156, val acc: 0.35550213675213677\n",
            "\n",
            "Epoch 3\n",
            " train loss: 1.1632822344809661, train acc: 0.5918612637362637\n",
            " val loss: 2.1703163522940416, val acc: 0.34915865384615385\n",
            "\n",
            "Epoch 4\n",
            " train loss: 1.1622244772456942, train acc: 0.5929201007326007\n",
            " val loss: 2.138408412790706, val acc: 0.3561698717948718\n",
            "\n",
            "Epoch 5\n",
            " train loss: 1.1615963627348889, train acc: 0.5922046703296703\n",
            " val loss: 2.128826412380251, val acc: 0.35436698717948717\n",
            "\n",
            "Epoch 6\n",
            " train loss: 1.162460751040078, train acc: 0.5932062728937729\n",
            " val loss: 2.145995604686248, val acc: 0.35523504273504275\n",
            "\n",
            "Epoch 7\n",
            " train loss: 1.1617672792721143, train acc: 0.5935210622710623\n",
            " val loss: 2.1412274205786552, val acc: 0.3545673076923077\n",
            "\n",
            "Epoch 8\n",
            " train loss: 1.1622059495894463, train acc: 0.5916895604395604\n",
            " val loss: 2.177628881401486, val acc: 0.3501602564102564\n",
            "\n",
            "Epoch 9\n",
            " train loss: 1.1630107641438425, train acc: 0.5922332875457875\n",
            " val loss: 2.1079554410062284, val acc: 0.36151175213675213\n",
            "\n"
          ]
        }
      ],
      "source": [
        "net = BasicBlockNet().to(device)\n",
        "optimizer = optim.SGD(net.parameters(), lr=0.1, momentum=0.9)\n",
        "scheduler = optim.lr_scheduler.ExponentialLR(optimizer, gamma=0.1)\n",
        "tr_loss_log, tr_acc_log, val_loss_log, val_acc_log = train(net, optimizer, 10, train_loader, val_loader, scheduler)"
      ]
    },
    {
      "cell_type": "code",
      "source": [
        "net = BasicBlockNet().to(device)\n",
        "optimizer = optim.SGD(net.parameters(), lr=0.1, momentum=0.9)\n",
        "scheduler = optim.lr_scheduler.CosineAnnealingLR(optimizer, T_max=2)\n",
        "tr_loss_log, tr_acc_log, val_loss_log, val_acc_log = train(net, optimizer, 10, train_loader, val_loader, scheduler)"
      ],
      "metadata": {
        "id": "RyGzfnNcTEFF",
        "colab": {
          "base_uri": "https://localhost:8080/"
        },
        "outputId": "3497c7d9-a89b-4fba-96e4-a084c9c9c1d1"
      },
      "execution_count": null,
      "outputs": [
        {
          "output_type": "stream",
          "name": "stdout",
          "text": [
            "Epoch 0\n",
            " train loss: 1.501881289394784, train acc: 0.4641998626373626\n",
            " val loss: 1.9950661852828457, val acc: 0.36725427350427353\n",
            "\n",
            "Epoch 1\n",
            " train loss: 1.203666287245768, train acc: 0.5768372252747253\n",
            " val loss: 1.8086400200159123, val acc: 0.3938301282051282\n",
            "\n",
            "Epoch 2\n",
            " train loss: 1.1405940782892836, train acc: 0.6063129578754579\n",
            " val loss: 1.7673524281917474, val acc: 0.4015758547008547\n",
            "\n",
            "Epoch 3\n",
            " train loss: 1.143650893544976, train acc: 0.6021348443223443\n",
            " val loss: 2.0793485840161643, val acc: 0.36331463675213677\n",
            "\n",
            "Epoch 4\n",
            " train loss: 1.170698690872926, train acc: 0.5922619047619048\n",
            " val loss: 2.110751671668811, val acc: 0.34301549145299143\n",
            "\n",
            "Epoch 5\n",
            " train loss: 1.0475248229372633, train acc: 0.6371050824175825\n",
            " val loss: 2.241473898418948, val acc: 0.35510149572649574\n",
            "\n",
            "Epoch 6\n",
            " train loss: 0.9975130098424988, train acc: 0.6549622252747253\n",
            " val loss: 2.2812047284892483, val acc: 0.34588675213675213\n",
            "\n",
            "Epoch 7\n",
            " train loss: 1.024199488180461, train acc: 0.6443166208791209\n",
            " val loss: 3.053988208118667, val acc: 0.28679220085470086\n",
            "\n",
            "Epoch 8\n",
            " train loss: 1.0887718064226073, train acc: 0.6234260531135531\n",
            " val loss: 2.7029499284222593, val acc: 0.27417200854700857\n",
            "\n",
            "Epoch 9\n",
            " train loss: 0.9865256166938461, train acc: 0.6594551282051282\n",
            " val loss: 3.062347840040158, val acc: 0.28973023504273504\n",
            "\n"
          ]
        }
      ]
    },
    {
      "cell_type": "markdown",
      "metadata": {
        "id": "5a_zMNNVO9Du"
      },
      "source": [
        "Your answers here:"
      ]
    },
    {
      "cell_type": "markdown",
      "metadata": {
        "id": "7xFXgl_3_E--"
      },
      "source": [
        "## 4. Аугментации данных (2 балла)"
      ]
    },
    {
      "cell_type": "markdown",
      "metadata": {
        "id": "5G0Easo9O9Du"
      },
      "source": [
        "Еще одной стандартной техникой, применяющейся в глубинном обучении, а особенно часто в компьютерном зрении, являются аугментации данных. Суть аугментаций состоит в том, что мы можем некоторым синтетическим образом видоизменять объекты обучающей выборки, тем самым расширяя ее, а также делая итоговую модель более устойчивой к таким изменениям.\n",
        "\n",
        "Простейшая аугментация, которую можно применить к картинкам — разворот картинки по горизонтальной оси. То есть при обучении модели с вероятностью $0.5$ мы будем разворачивать картинку из обучающей выборки."
      ]
    },
    {
      "cell_type": "code",
      "execution_count": null,
      "metadata": {
        "id": "SzeFpgtfO9Du",
        "colab": {
          "base_uri": "https://localhost:8080/",
          "height": 369
        },
        "outputId": "7fd5b3f4-d814-4d92-f33d-39146649ad8e"
      },
      "outputs": [
        {
          "output_type": "display_data",
          "data": {
            "text/plain": [
              "<Figure size 640x480 with 1 Axes>"
            ],
            "image/png": "[encoded data removed]"
          },
          "metadata": {}
        },
        {
          "output_type": "display_data",
          "data": {
            "text/plain": [
              "<Figure size 640x480 with 1 Axes>"
            ],
            "image/png": "[encoded data removed]"
          },
          "metadata": {}
        }
      ],
      "source": [
        "dataiter = iter(train_loader)\n",
        "images, labels = dataiter.__next__()\n",
        "\n",
        "imshow(torchvision.utils.make_grid(images[:4]))\n",
        "\n",
        "imshow(torchvision.utils.make_grid(transforms.functional.hflip(images[:4])))"
      ]
    },
    {
      "cell_type": "markdown",
      "metadata": {
        "id": "BR4a-XJQO9Du"
      },
      "source": [
        "Наиболее удобным способом работы с аугментациями в PyTorch является их задание в списке <code>transforms</code>, который затем передается в загрузчик данных. Обучим нашу сеть, применяя горизонтальные повороты:"
      ]
    },
    {
      "cell_type": "code",
      "execution_count": null,
      "metadata": {
        "id": "na0ScBf-_AqX",
        "scrolled": true,
        "colab": {
          "base_uri": "https://localhost:8080/"
        },
        "outputId": "292375b5-3fbf-49ed-f750-8762ed389e04"
      },
      "outputs": [
        {
          "output_type": "stream",
          "name": "stdout",
          "text": [
            "Files already downloaded and verified\n",
            "Files already downloaded and verified\n",
            "Epoch 0\n",
            " train loss: 1.508765275661762, train acc: 0.45887706043956045\n",
            " val loss: 1.7583317364382947, val acc: 0.37426549145299143\n",
            "\n",
            "Epoch 1\n",
            " train loss: 1.2643423263843243, train acc: 0.5557749542124543\n",
            " val loss: 1.5992175304991567, val acc: 0.42354433760683763\n",
            "\n",
            "Epoch 2\n",
            " train loss: 1.1642173722986773, train acc: 0.5922332875457875\n",
            " val loss: 1.912650230093899, val acc: 0.31356837606837606\n",
            "\n",
            "Epoch 3\n",
            " train loss: 1.114450066626727, train acc: 0.6132669413919414\n",
            " val loss: 1.9154640619571393, val acc: 0.3094951923076923\n",
            "\n",
            "Epoch 4\n",
            " train loss: 1.0775238103045648, train acc: 0.6257154304029304\n",
            " val loss: 1.8766318004355471, val acc: 0.3230502136752137\n",
            "\n",
            "Epoch 5\n",
            " train loss: 1.0462206430705911, train acc: 0.6369906135531136\n",
            " val loss: 1.8041999864782023, val acc: 0.3236511752136752\n",
            "\n",
            "Epoch 6\n",
            " train loss: 1.0226831378299237, train acc: 0.645260989010989\n",
            " val loss: 1.9576388011630783, val acc: 0.29734241452991456\n",
            "\n",
            "Epoch 7\n",
            " train loss: 1.0072395488237724, train acc: 0.6522149725274725\n",
            " val loss: 1.9680608643425836, val acc: 0.29073183760683763\n",
            "\n",
            "Epoch 8\n",
            " train loss: 0.998114831281669, train acc: 0.6550194597069597\n",
            " val loss: 1.9798714004011235, val acc: 0.26669337606837606\n",
            "\n",
            "Epoch 9\n",
            " train loss: 0.9777661678773579, train acc: 0.6626602564102564\n",
            " val loss: 2.021929017498962, val acc: 0.25340544871794873\n",
            "\n"
          ]
        }
      ],
      "source": [
        "transform = transforms.Compose(\n",
        "        [transforms.RandomHorizontalFlip(),\n",
        "         transforms.ToTensor(),\n",
        "         transforms.Normalize((0.5, 0.5, 0.5), (0.5, 0.5, 0.5))]\n",
        ")\n",
        "\n",
        "train_loader, val_loader, test_loader = get_cifar10_data(batch_size=64, transform_train=transform)\n",
        "\n",
        "net = BasicBlockNet().to(device)\n",
        "optimizer = optim.SGD(net.parameters(), lr=0.1, momentum=0.9)\n",
        "scheduler = optim.lr_scheduler.MultiStepLR(optimizer, milestones=[10, 15], gamma=0.1)\n",
        "tr_loss_log, tr_acc_log, val_loss_log, val_acc_log = train(net, optimizer, 10, train_loader, val_loader, scheduler)"
      ]
    },
    {
      "cell_type": "markdown",
      "metadata": {
        "id": "v3ZIqDQqO9Dv"
      },
      "source": [
        "Посчитайте точность на тестовой выборке:"
      ]
    },
    {
      "cell_type": "code",
      "execution_count": null,
      "metadata": {
        "id": "nNJizMkM_Auh",
        "colab": {
          "base_uri": "https://localhost:8080/"
        },
        "outputId": "85a298d6-b941-4005-e15b-2c5b82efa18e"
      },
      "outputs": [
        {
          "output_type": "execute_result",
          "data": {
            "text/plain": [
              "(2.0285224425487027, 0.25110176282051283)"
            ]
          },
          "metadata": {},
          "execution_count": 97
        }
      ],
      "source": [
        "test(net, test_loader)"
      ]
    },
    {
      "cell_type": "markdown",
      "metadata": {
        "id": "KndehSCHO9Dv"
      },
      "source": [
        "**Задание 4.1 (2 балла).** Изучите, какие еще способы аугментаций изображений представлены в <code>torchvision.transforms</code>. Выберите несколько из них, объясните, как они устроены, и обучите модель с ними (по отдельности и вместе). Удалось ли добиться улучшения качества на тестовой выборке?"
      ]
    },
    {
      "cell_type": "code",
      "execution_count": null,
      "metadata": {
        "id": "Np4rgvdZ_QRF",
        "colab": {
          "base_uri": "https://localhost:8080/"
        },
        "outputId": "da96dec0-6472-4d9d-e63c-0058a2203239"
      },
      "outputs": [
        {
          "output_type": "stream",
          "name": "stdout",
          "text": [
            "Files already downloaded and verified\n",
            "Files already downloaded and verified\n",
            "Epoch 0\n",
            " train loss: 1.7001082469255497, train acc: 0.3769459706959707\n",
            " val loss: 1.8453024350679839, val acc: 0.31650641025641024\n",
            "\n",
            "Epoch 1\n",
            " train loss: 1.5312332172533532, train acc: 0.4440533424908425\n",
            " val loss: 2.3773063227661653, val acc: 0.20592948717948717\n",
            "\n",
            "Epoch 2\n",
            " train loss: 1.4561336136562921, train acc: 0.47661973443223443\n",
            " val loss: 2.1000783107219596, val acc: 0.234375\n",
            "\n",
            "Epoch 3\n",
            " train loss: 1.39805064031056, train acc: 0.49745306776556775\n",
            " val loss: 2.9528792790877514, val acc: 0.16332799145299146\n",
            "\n",
            "Epoch 4\n",
            " train loss: 1.361175381438636, train acc: 0.511647206959707\n",
            " val loss: 3.5731786713640914, val acc: 0.18456196581196582\n",
            "\n",
            "Epoch 5\n",
            " train loss: 1.3436501961706322, train acc: 0.5186870421245421\n",
            " val loss: 4.254304608728131, val acc: 0.15544871794871795\n",
            "\n",
            "Epoch 6\n",
            " train loss: 1.307658504653763, train acc: 0.534426510989011\n",
            " val loss: 5.115105354887808, val acc: 0.16786858974358973\n",
            "\n",
            "Epoch 7\n",
            " train loss: 1.292952367565134, train acc: 0.540378891941392\n",
            " val loss: 6.745220575577173, val acc: 0.15337873931623933\n",
            "\n",
            "Epoch 8\n",
            " train loss: 1.2832319544348525, train acc: 0.5430116758241759\n",
            " val loss: 5.854262834940201, val acc: 0.15651709401709402\n",
            "\n",
            "Epoch 9\n",
            " train loss: 1.2635707700208867, train acc: 0.5490785256410257\n",
            " val loss: 6.730942465301252, val acc: 0.16366185897435898\n",
            "\n"
          ]
        }
      ],
      "source": [
        "transform = transforms.Compose(\n",
        "        [transforms.RandomHorizontalFlip(),\n",
        "         transforms.RandomVerticalFlip(),\n",
        "         transforms.RandomRotation([15, 45]),\n",
        "         transforms.ToTensor(),\n",
        "         transforms.Normalize((0.5, 0.5, 0.5), (0.5, 0.5, 0.5))]\n",
        ")\n",
        "train_loader, val_loader, test_loader = get_cifar10_data(batch_size=64, transform_train=transform)\n",
        "\n",
        "net = BasicBlockNet().to(device)\n",
        "optimizer = optim.SGD(net.parameters(), lr=0.1, momentum=0.9)\n",
        "scheduler = optim.lr_scheduler.MultiStepLR(optimizer, milestones=[10, 15], gamma=0.1)\n",
        "tr_loss_log, tr_acc_log, val_loss_log, val_acc_log = train(net, optimizer, 10, train_loader, val_loader, scheduler)"
      ]
    },
    {
      "cell_type": "markdown",
      "metadata": {
        "id": "4K-MptLiO9Dv"
      },
      "source": [
        "Your answers here:"
      ]
    },
    {
      "cell_type": "markdown",
      "metadata": {
        "id": "HCENjLw5O9Dv"
      },
      "source": [
        "## Бонус. Логирование в wandb (2 балла)"
      ]
    },
    {
      "cell_type": "markdown",
      "metadata": {
        "id": "xOyzc1mnO9Dv"
      },
      "source": [
        "На практике специалиста по глубинному обучению часто встречаются ситуации, когда нейросеть учится на каком-то удаленном сервере. И обычно вам хочется отслеживать прогресс обучения, особенно когда время обучения модели исчисляется днями или неделями. Для таких целей существует несколько инструментов. Вероятно, самый популярный из них — [wandb](https://wandb.ai/site).\n",
        "\n",
        "Ваша задача состоит в том, чтобы разобраться как им пользоваться, и повторить задания 2.1 и 2.2 с его использованием. Обучение вы можете запускать в этом же ноутбуке, но теперь вам необходимо через wandb логировать значения функции потерь и точности на обучающей выборке и на валидационной. Результатом работы должны быть ваш код и публичная ссылка на страничку с графиками, идентичными графикам в задании 2.2."
      ]
    },
    {
      "cell_type": "code",
      "execution_count": null,
      "metadata": {
        "id": "m5gSTLAr_QS4"
      },
      "outputs": [],
      "source": [
        "# <your code here>"
      ]
    }
  ],
  "metadata": {
    "accelerator": "GPU",
    "colab": {
      "provenance": [],
      "gpuType": "T4"
    },
    "kernelspec": {
      "display_name": "Python 3",
      "name": "python3"
    },
    "language_info": {
      "codemirror_mode": {
        "name": "ipython",
        "version": 3
      },
      "file_extension": ".py",
      "mimetype": "text/x-python",
      "name": "python",
      "nbconvert_exporter": "python",
      "pygments_lexer": "ipython3",
      "version": "3.10.4"
    }
  },
  "nbformat": 4,
  "nbformat_minor": 0
}