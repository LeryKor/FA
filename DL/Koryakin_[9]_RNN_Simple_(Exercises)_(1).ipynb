{
  "cells": [
    {
      "cell_type": "markdown",
      "id": "147987fe",
      "metadata": {
        "id": "147987fe"
      },
      "source": [
        "#  Особенности рекуррентных нейронных сетей"
      ]
    },
    {
      "cell_type": "markdown",
      "id": "b9bd8eec",
      "metadata": {
        "id": "b9bd8eec"
      },
      "source": [
        "До этого мы работали с методами машинного обучения, которые работают с признаковым описанием **фиксированной длины**.\n",
        "\n",
        "Так правильно делать в случае **табличных данных** — обычно каждый объект в таблицах описан фиксированным набором признаков, и новые признаки не могут появиться \"вдруг\". Мы точно знаем, что на вход нам приходит объект размера 100, а на выходе мы должны для него предсказать 1 число.\n",
        "\n",
        "Верно это и про **изображения** — обычно нейронная сеть учится на изображениях определенного разрешения. Да, мы можем сделать нейросеть, которая способна работать с изображением почти любого разрешения, но добиваемся мы этого за счет вставки слоев **global pooling**, которые  приводят признаковое описание, полученное сверточную частью нейросети, к фиксированному размеру."
      ]
    },
    {
      "cell_type": "markdown",
      "id": "b3cc3c66",
      "metadata": {
        "id": "b3cc3c66"
      },
      "source": [
        "Однако многие данные структурой фиксированной длины не обладают. К примеру, **тексты**. Возьмем все абзацы из \"Войны и Мира\". Какие-то будут больше, какие-то меньше. И обрезать их как-то нельзя. Аналогично будет и для текстов из Твиттера. И что делать, если мы хотим предсказывать, например, эмоциональную окрашенность текста?\n",
        "\n",
        "Или если на основе абзаца текста нам необходимо сгенерировать его **краткое содержание**? То, что нужно предсказать, может быть разной длины. Аналогичный вопрос возникает также в случае, если мы хотим по данным о курсе валюты за прошлый год спрогнозировать **курс валюты на следующий месяц** по дням."
      ]
    },
    {
      "cell_type": "markdown",
      "id": "8025a32b",
      "metadata": {
        "id": "8025a32b"
      },
      "source": [
        "<img src =\"https://edunet.kea.su/repo/EduNet-content/L08/out/time_series_data.png\" width=\"700\">"
      ]
    },
    {
      "cell_type": "markdown",
      "id": "2591614b",
      "metadata": {
        "id": "2591614b"
      },
      "source": [
        "Существует ряд задач, для которых необходима особая структура нейронной сети, позволяющая **принимать данные разного размера**.\n"
      ]
    },
    {
      "cell_type": "markdown",
      "id": "070bfbda",
      "metadata": {
        "id": "070bfbda"
      },
      "source": [
        "## Примеры задач"
      ]
    },
    {
      "cell_type": "markdown",
      "id": "0256cc58",
      "metadata": {
        "id": "0256cc58"
      },
      "source": [
        "**Анализ временных рядов**\n",
        "- Табличные данные\n",
        "- Аннотирование изображений и видео (Image/Video captioning)\n",
        "- Машинный перевод\n",
        "- Распознавание текста\n",
        "- Распознавание речи\n",
        "\n",
        "\n",
        "**Генеративные модели**\n",
        "- Генерация текста/речи (например, чат-боты)\n",
        "- Генерация изображений\n",
        "\n",
        "**Классификация**\n",
        "- Изображения\n",
        "- Блоки текста (Sentiment analysis)\n",
        "\n",
        "**Анализ последовательностей**\n",
        "- Анализ текстов\n",
        "- Биологические последовательности\n",
        "- Химические последовательности\n",
        "\n",
        "\n",
        "Общее для задач — мы имеем возможность сохранять информацию, сформированную при обработке одной части объекта (**токена**), и использовать ее, когда мы анализируем другие части."
      ]
    },
    {
      "cell_type": "markdown",
      "id": "8d481aeb",
      "metadata": {
        "id": "8d481aeb"
      },
      "source": [
        "**Основная идея**, на которой основано RNN, состоит в следующем: взять всю последовательность и пропустить через одну и ту же нейросеть.\n",
        "Но при этом сама нейросеть кроме следующего элемента последовательности (например, слова в тексте), будет принимать еще один параметр — некий $h$, который в начале будет, например, вектором из нулей, а далее — значением, которое выдает сама нейросеть после обработки очередного элемента последовательности (**токена**).\n",
        "\n",
        "Также далее мы будем использовать понятие **нулевого токена** — токена, который символизирует заплатку, токен, не несущий никакого смысла, но который иногда нужно передать модели. Например, как сигнал начала работы.\n",
        "\n",
        "В сети появляется новая сущность — **hidden state** ($h$) — вектор, хранящий состояние, учитывающее и локальный, и глобальный контекст."
      ]
    },
    {
      "cell_type": "markdown",
      "id": "fbfd033e",
      "metadata": {
        "id": "fbfd033e"
      },
      "source": [
        "<center><img src =\"https://edunet.kea.su/repo/EduNet-web_dependencies/L08/rnn_idea.png\" width=\"800\"></center>\n",
        "\n",
        "<center><em>Source: <a href=\"https://en.wikipedia.org/wiki/Recurrent_neural_network\">Recurrent neural network</a></em></center>"
      ]
    },
    {
      "cell_type": "markdown",
      "id": "a5e91c86",
      "metadata": {
        "id": "a5e91c86"
      },
      "source": [
        "При этом наша нейросеть может выдавать некий ответ на каждом шаге, но мы можем:\n",
        "\n",
        " 1. Использовать только выданный на последнем (если нам нужно предсказать одно значение) — **many-to-one**.\n",
        "\n",
        " 2. Мы можем подавать в наше нейросетку токены (когда кончился исходный сигнал, подаем нулевые токены), пока она не сгенерирует токен, символизирующий остановку (**many-to-many, one-to-many**).\n",
        "\n",
        " 3. Можем делать различные комбинации, игнорируя часть выходов нейросети в начале её работы."
      ]
    },
    {
      "cell_type": "markdown",
      "id": "89553bc5",
      "metadata": {
        "id": "89553bc5"
      },
      "source": [
        "*   **«One to one»** — обычная нейронная сеть, не обязательно применять RNN в таком случае.\n",
        "\n",
        "*   Более сложной является реализация **«one to many»**, когда у нас есть всего один вход, и нам необходимо сформировать несколько выходов. Такой тип нейронной сети актуален, когда мы говорим о **генерации музыки** или **текстов**. Мы задаем начальное слово или начальный звук, а дальше модель начинает самостоятельно генерировать выходы, в качестве входа к очередной ячейке рассматривая выход с прошлой ячейки нейронной сети.\n",
        "\n",
        "*   Если мы рассматриваем задачу **классификации**, то актуальна схема **«many to one»**. Мы должны проанализировать все входы нейронной сети и только в конце определиться с классом.\n",
        "\n",
        "*   Схема **«many to many»**, в которой количество выходов **равно** количеству входов нейронной сети. Обычно это задачи типа разметки исходной последовательности. Например, указать столицы городов, названия важных объектов, веществ и т.д., что относится к задачам вида NER (Named entity recogition).\n",
        "\n",
        "*   Схема **«many to many»**, в которой количество выходов нейронной сети **не равно** количеству входов. Это актуально в машинном переводе, когда одна и та же фраза может иметь разное количество слов в разных языках (т.е. это реализует схему кодировщик-декодировщик). Кодировщик получает данные различной длины — например, предложение на английском языке. С помощью скрытых состояний он формирует из исходных данных вектор, который затем передаётся в декодировщик. Последний, в свою очередь, генерирует из полученного вектора выходные данные — исходную фразу, переведённую на другой язык."
      ]
    },
    {
      "cell_type": "markdown",
      "id": "978ceed3",
      "metadata": {
        "id": "978ceed3"
      },
      "source": [
        "<img src =\"https://edunet.kea.su/repo/EduNet-content/L08/out/one_or_many_to_one_or_many_ways.png\" width=\"1000\">"
      ]
    },
    {
      "cell_type": "markdown",
      "id": "caebbbc8",
      "metadata": {
        "id": "caebbbc8"
      },
      "source": [
        "Можно объединять разные подходы. Сначала генерируем некий $h$, который содержит сжатую информацию о том, что было подано в нейросеть, а затем подаем его в нейросеть «one to many», которая генерирует, к примеру, перевод того текста, что был подан первой части нейросети."
      ]
    },
    {
      "cell_type": "markdown",
      "id": "0bb720a8",
      "metadata": {
        "id": "0bb720a8"
      },
      "source": [
        "<img src =\"https://edunet.kea.su/repo/EduNet-content/L08/out/sequence_to_sequence.png\" width=\"900\">"
      ]
    },
    {
      "cell_type": "markdown",
      "id": "a3d8db1a",
      "metadata": {
        "id": "a3d8db1a"
      },
      "source": [
        "# Базовый RNN блок"
      ]
    },
    {
      "cell_type": "markdown",
      "id": "1ee72438",
      "metadata": {
        "id": "1ee72438"
      },
      "source": [
        "Рассмотрим работу рекуррентной нейронной сети:\n",
        "1. На вход поступает некоторая последовательность $x = \\{x_1,...x_t,...,x_n\\}$, где $x_i$ — вектор фиксированной размерности. В ряде случаев этот вектор имеет размерность 1.\n",
        "\n",
        "2. Для каждого поступившего $x_t$ формируем скрытое состояние $h_t$, которое является функцией от предыдущего состояния $h_{t-1}$ и текущего элемента последовательности $x_t$:\n",
        "$$\\large h_t = f_W(h_{t-1}, x_t),$$\n",
        "где $W$  — это обучаемые параметры (веса).\n",
        "\n",
        "3. На основании рассчитанного скрытого состояния, учитывающего предыдущие значения  $x_i$, формируется выходная последовательность $y = \\{y_1,...y_t,...,y_k\\}$. Для формирования предсказания $y_t$ в текущий момент времени в модель могут быть добавлены полносвязные слои, принимающие на вход текущее скрытое состояние $h_t$.\n",
        "\n",
        "Ниже представлена простая RNN. В качестве функции активации используется тангенс."
      ]
    },
    {
      "cell_type": "markdown",
      "id": "01f8ac5f",
      "metadata": {
        "id": "01f8ac5f"
      },
      "source": [
        "Мы можем обрабатывать последовательность элементов вектора $x$ за счет применения рекуррентной формулы на каждом шаге:"
      ]
    },
    {
      "cell_type": "markdown",
      "id": "d97a8a1e",
      "metadata": {
        "id": "d97a8a1e"
      },
      "source": [
        "<img src =\"https://edunet.kea.su/repo/EduNet-content/L08/out/rnn_basic_block.png\" width=\"700\">\n"
      ]
    },
    {
      "cell_type": "markdown",
      "id": "518bc043",
      "metadata": {
        "id": "518bc043"
      },
      "source": [
        "Состояние состоит из вектора $h$, называемого скрытым состоянием:\n",
        "\n",
        "$\\large h_t = f_W(h_{t-1}, x_t),$\n",
        "\n",
        "$\\large \\quad \\quad \\quad \\color{grey}{\\downarrow \\text{(также может добавляться bias)}}$\n",
        "\n",
        "$\\large h_t = tanh(W_{hh}h_{t-1} + W_{xh}x_t).$"
      ]
    },
    {
      "cell_type": "markdown",
      "id": "5077209f",
      "metadata": {
        "id": "5077209f"
      },
      "source": [
        "$\\large y_t = W_{hy}h_t.$"
      ]
    },
    {
      "cell_type": "markdown",
      "id": "9d638e42",
      "metadata": {
        "id": "9d638e42"
      },
      "source": [
        "**Отличие** от слоев, с которыми мы уже сталкивались, состоит в том, что **на выходе мы получаем два объекта**: $y_t$ и $h_t$:\n",
        "\n",
        "$y_t$ — предсказание в текущий момент времени, например, метка класса,\n",
        "\n",
        "$h_t$ — контекст, в котором предсказание было сделано. Он может использоваться для дальнейших предсказаний."
      ]
    },
    {
      "cell_type": "markdown",
      "id": "f3b2bc7c",
      "metadata": {
        "id": "f3b2bc7c"
      },
      "source": [
        "<img src= 'https://blog.floydhub.com/content/images/2019/04/rnn-2.gif'>"
      ]
    },
    {
      "cell_type": "markdown",
      "id": "a90e7d4f",
      "metadata": {
        "id": "a90e7d4f"
      },
      "source": [
        "## RNNCell"
      ]
    },
    {
      "cell_type": "markdown",
      "id": "95faff2b",
      "metadata": {
        "id": "95faff2b"
      },
      "source": [
        "В PyTorch для вычисления $h_t$ используется модуль [RNNCell](https://pytorch.org/docs/stable/generated/torch.nn.RNNCell.html)\n",
        "\n",
        "$y_t$ в нем не вычисляется: предполагается, что для его получения в модель должен быть добавлен дополнительный линейный слой.\n",
        "\n",
        "**`input_size`** — размер элемента последовательности.\n",
        "\n",
        "В отличие от сверточных слоёв, это всегда вектор, а не тензор, поэтому **`input_size`** — скаляр.\n",
        "\n",
        "**`hidden_size`** — тоже скаляр. Он задает размер скрытого состояния, которое тоже является вектором. Фактически это количество нейронов в слое.\n"
      ]
    },
    {
      "cell_type": "code",
      "execution_count": null,
      "id": "07e84a48",
      "metadata": {
        "id": "07e84a48",
        "outputId": "85a4a268-2711-4c33-c8aa-a07dc1c5c058",
        "colab": {
          "base_uri": "https://localhost:8080/"
        }
      },
      "outputs": [
        {
          "output_type": "stream",
          "name": "stdout",
          "text": [
            "tensor([[-0.5176,  0.4321,  0.8953]])\n",
            "Inital shape:     torch.Size([1, 3])\n",
            "Resulting shape:  torch.Size([1, 2])\n"
          ]
        }
      ],
      "source": [
        "import torch\n",
        "\n",
        "rnn_cell = torch.nn.RNNCell(input_size=3, hidden_size=2)\n",
        "dummy_sequence = torch.randn((1, 3))  # batch, input_size\n",
        "print(dummy_sequence)\n",
        "h = rnn_cell(dummy_sequence)\n",
        "print(\"Inital shape:\".ljust(17), f\"{dummy_sequence.shape}\")\n",
        "print(\"Resulting shape:\".ljust(17), f\"{h.shape}\")  # hidden state"
      ]
    },
    {
      "cell_type": "markdown",
      "id": "e9351c9b",
      "metadata": {
        "id": "e9351c9b"
      },
      "source": [
        "Внутри происходит примерно то, что описано в коде ниже.\n",
        "Для понятности в данном примере опущена батчевая обработка. Также для того, чтобы подобный код корректно заработал, [необходимо обернуть веса](https://stackoverflow.com/questions/50935345/understanding-torch-nn-parameter) в `torch.nn.Parameter` для регистрации параметров в модели.\n",
        "\n",
        "Начальное значение может быть инициализировано нулями, но лучше инициализировать случайными значениями, чтобы нейросеть хоть как-то меняла своё поведение. Или даже чем-то осмысленным."
      ]
    },
    {
      "cell_type": "code",
      "execution_count": null,
      "id": "bc62e506",
      "metadata": {
        "id": "bc62e506",
        "outputId": "a230a0b6-d6f2-4db9-a29a-185d13d6e687"
      },
      "outputs": [
        {
          "name": "stdout",
          "output_type": "stream",
          "text": [
            "Out = h\n",
            "torch.Size([2]) \n",
            "tensor([0.0002, 0.0003])\n"
          ]
        }
      ],
      "source": [
        "from torch import nn\n",
        "\n",
        "\n",
        "# Simple RNNcell without a bias and batch support\n",
        "class SimplifiedRNNCell(nn.Module):\n",
        "    def __init__(self, input_size, hidden_size):\n",
        "        super().__init__()\n",
        "        # Init weight matrix, for simplicity omit bias\n",
        "        self.W_hx = (\n",
        "            torch.randn(input_size, hidden_size) * 0.0001\n",
        "        )  # hidden_size == number of neurons\n",
        "        self.W_hh = (\n",
        "            torch.randn(hidden_size, hidden_size) * 0.0001\n",
        "        )  # naive initialization\n",
        "        self.h0 = torch.zeros((hidden_size))  # Initial hidden state\n",
        "\n",
        "    def forward(self, x, h=None):  # Without a batch dimension\n",
        "        if h is None:\n",
        "            h = self.h0\n",
        "        h = torch.tanh(torch.matmul(self.W_hx.T, x) + torch.matmul(self.W_hh.T, h))\n",
        "        return h\n",
        "\n",
        "\n",
        "simple_rnn_cell = SimplifiedRNNCell(input_size=3, hidden_size=2)\n",
        "h = simple_rnn_cell(dummy_sequence[0])  # No batch\n",
        "print(f\"Out = h\\n{h.shape} \\n{h}\")"
      ]
    },
    {
      "cell_type": "markdown",
      "id": "7ac65a17",
      "metadata": {
        "id": "7ac65a17"
      },
      "source": [
        "Однако в последовательности всегда **несколько элементов**. И надо применить алгоритм к каждому.\n",
        "\n",
        "\n",
        "Поэтому RNNCell напрямую не используется. Для него есть обертка — [RNN](https://pytorch.org/docs/stable/generated/torch.nn.RNN.html), которая обеспечивает последовательный вызов RNNCell для всех элементов последовательности."
      ]
    },
    {
      "cell_type": "markdown",
      "id": "fba86c6a",
      "metadata": {
        "id": "fba86c6a"
      },
      "source": [
        "**Warning: формат данных для RNN: длина последовательности, батч, размер объекта**"
      ]
    },
    {
      "cell_type": "code",
      "execution_count": null,
      "id": "bec8ee85",
      "metadata": {
        "id": "bec8ee85",
        "outputId": "bbc4cda8-b1b8-417a-f06b-2344ff613910"
      },
      "outputs": [
        {
          "name": "stdout",
          "output_type": "stream",
          "text": [
            "Inital shape:        torch.Size([2, 1, 3])\n",
            "Resulting shape:     torch.Size([2, 1, 2])\n",
            "Hidden state shape:  torch.Size([1, 1, 2])\n"
          ]
        }
      ],
      "source": [
        "rnn = torch.nn.RNN(input_size=3, hidden_size=2)  # batch_first = True ??\n",
        "dummy_batched_seq = torch.randn((2, 1, 3))  # seq_len, batch, input_size\n",
        "out, h = rnn(dummy_batched_seq)\n",
        "\n",
        "print(\"Inital shape:\".ljust(20), f\"{dummy_batched_seq.shape}\")\n",
        "print(\"Resulting shape:\".ljust(20), f\"{out.shape}\")\n",
        "print(\"Hidden state shape:\".ljust(20), f\"{h.shape}\")"
      ]
    },
    {
      "cell_type": "markdown",
      "id": "c298ebbf",
      "metadata": {
        "id": "c298ebbf"
      },
      "source": [
        "Внутри происходит примерно следующее:"
      ]
    },
    {
      "cell_type": "code",
      "execution_count": null,
      "id": "408a2614",
      "metadata": {
        "id": "408a2614",
        "outputId": "8698822b-f85b-4fc4-da9b-396a257831bb"
      },
      "outputs": [
        {
          "name": "stdout",
          "output_type": "stream",
          "text": [
            "Inital shape:        (2, 4)\n",
            "Resulting shape:     (2, 2)\n",
            "Hidden state shape:  torch.Size([2])\n"
          ]
        }
      ],
      "source": [
        "import numpy as np\n",
        "\n",
        "\n",
        "# Simple RNN without batching\n",
        "class SimplifiedRNNLayer(nn.Module):\n",
        "    def __init__(self, input_size, hidden_size):\n",
        "        super().__init__()\n",
        "        self.rnn_cell = SimplifiedRNNCell(input_size, hidden_size)\n",
        "\n",
        "    # Without a batch dimension x have shape seq_len * input_size\n",
        "    def forward(self, x, h=None):\n",
        "        all_h = []\n",
        "        for i in range(x.shape[0]):  # iterating over timestamps\n",
        "            h = self.rnn_cell(torch.Tensor(x[i]), h)\n",
        "            all_h.append(h)\n",
        "        return np.stack(all_h), h\n",
        "\n",
        "\n",
        "simple_rnn = SimplifiedRNNLayer(input_size=4, hidden_size=2)\n",
        "sequence = np.array(\n",
        "    [[0, 1, 2, 0], [3, 4, 5, 0]]\n",
        ")  # batch with one sequence of two elements\n",
        "\n",
        "out, h = simple_rnn(sequence)\n",
        "print(\"Inital shape:\".ljust(20), f\"{sequence.shape}\")\n",
        "print(\"Resulting shape:\".ljust(20), f\"{out.shape}\")\n",
        "print(\"Hidden state shape:\".ljust(20), f\"{h.shape}\")"
      ]
    },
    {
      "cell_type": "markdown",
      "id": "448dcfda",
      "metadata": {
        "id": "448dcfda"
      },
      "source": [
        "Давайте разберемся.\n",
        "\n",
        "Если у нас есть две последовательности:\n",
        "\n",
        "*   [1, 3, 2]\n",
        "*   [0, 4, 2]\n",
        "\n",
        "Чтобы обработать элемент \"3\", нам нужен hidden state, вычисленный по \"1\".\n",
        "\n",
        "То же самое для \"4\" — нужно обработать \"0\". Таким образом, по горизонтальной оси мы не можем паралелиться. Придётся параллелиться по вертикальной. Мы можем паралельно обработать первые элементы первой и второй последовательностей.\n",
        "\n",
        "К данным добавляется еще одно измерение — **размер последовательности**. Batch из 5 последовательностей по 6 объектов (размер объекта 3) в каждой будет выглядеть так (время идёт первой размерностью, поэтому поэлементно идём \"сверху вниз\"):"
      ]
    },
    {
      "cell_type": "markdown",
      "id": "0990e023",
      "metadata": {
        "id": "0990e023"
      },
      "source": [
        "<img src =\"https://edunet.kea.su/repo/EduNet-content/L08/out/rnn_batch.png\" width=\"700\">\n",
        "\n",
        "<em>Source: <a href=\"https://www.researchgate.net/publication/284579100_Session-based_Recommendations_with_Recurrent_Neural_Networks\">Session-based Recommendations with Recurrent Neural Networks</a></em>"
      ]
    },
    {
      "cell_type": "markdown",
      "id": "8d326e32",
      "metadata": {
        "id": "8d326e32"
      },
      "source": [
        "Внутри RNN модуля элементы последовательности обрабатываются последовательно:"
      ]
    },
    {
      "cell_type": "markdown",
      "id": "3ba97a71",
      "metadata": {
        "id": "3ba97a71"
      },
      "source": [
        "<img src = \"https://edunet.kea.su/repo/EduNet-content/L08/out/simple_rnn_h_state.png\" width=\"700\">"
      ]
    },
    {
      "cell_type": "markdown",
      "id": "f8b8bd15",
      "metadata": {
        "id": "f8b8bd15"
      },
      "source": [
        "Веса при этом используются одни и те же."
      ]
    },
    {
      "cell_type": "code",
      "execution_count": null,
      "id": "dca8373e",
      "metadata": {
        "id": "dca8373e"
      },
      "outputs": [],
      "source": []
    },
    {
      "cell_type": "code",
      "execution_count": null,
      "id": "8d3c4e28",
      "metadata": {
        "id": "8d3c4e28",
        "outputId": "900dfdd5-fc0d-4053-c364-31bf1fc4b952"
      },
      "outputs": [
        {
          "name": "stdout",
          "output_type": "stream",
          "text": [
            "RNNCell\n",
            "Parameter  Shape\n",
            "weight_ih  torch.Size([2, 3])\n",
            "weight_hh  torch.Size([2, 2])\n",
            "bias_ih    torch.Size([2])\n",
            "bias_hh    torch.Size([2])\n",
            "\n",
            "Result shape =       torch.Size([1, 2])\n",
            "Hidden state shape = torch.Size([1, 2])\n",
            "----------------------------------------\n",
            "RNN\n",
            "Parameter       Shape\n",
            "weight_ih_l0    torch.Size([2, 3])\n",
            "weight_hh_l0    torch.Size([2, 2])\n",
            "bias_ih_l0      torch.Size([2])\n",
            "bias_hh_l0      torch.Size([2])\n",
            "\n",
            "Result shape =       torch.Size([2, 1, 2])\n",
            "Hidden state shape = torch.Size([1, 2])\n"
          ]
        }
      ],
      "source": [
        "dummy_seq = torch.randn((2, 1, 3))  #  seq_len, batch, input_size\n",
        "\n",
        "print(\"RNNCell\")\n",
        "rnn_cell = torch.nn.RNNCell(3, 2)\n",
        "print(\"Parameter\".ljust(10), \"Shape\")\n",
        "for t, p in rnn_cell.named_parameters():\n",
        "    print(t.ljust(10), p.shape)\n",
        "\n",
        "cell_out = rnn_cell(dummy_seq[0, :, :])  # take first element from sequence\n",
        "print()\n",
        "print(\"Result shape =\".ljust(20), cell_out.shape)\n",
        "print(\"Hidden state shape =\".ljust(20), cell_out.shape)  # one hidden state\n",
        "\n",
        "print(\"----------------------------------------\")\n",
        "\n",
        "print(\"RNN\")\n",
        "rnn = torch.nn.RNN(3, 2)\n",
        "print(\"Parameter\".ljust(15), \"Shape\")\n",
        "for t, p in rnn.named_parameters():\n",
        "    print(t.ljust(15), p.shape)\n",
        "\n",
        "out, h = rnn(dummy_seq)\n",
        "\n",
        "print()\n",
        "print(\"Result shape =\".ljust(20), out.shape)  # h for all timestamps element\n",
        "print(\"Hidden state shape =\".ljust(20), cell_out.shape)  # h for last element"
      ]
    },
    {
      "cell_type": "markdown",
      "id": "9037a846",
      "metadata": {
        "id": "9037a846"
      },
      "source": [
        "Давайте обратимся к [документации PyTorch](https://pytorch.org/docs/stable/generated/torch.nn.RNN.html) и посмотрим, какие параметры есть у модуля RNN."
      ]
    },
    {
      "cell_type": "markdown",
      "id": "2d2a1f91",
      "metadata": {
        "id": "2d2a1f91"
      },
      "source": [
        "### Слои (Stacked RNNs)"
      ]
    },
    {
      "cell_type": "markdown",
      "id": "da8ba941",
      "metadata": {
        "id": "da8ba941"
      },
      "source": [
        "RNN блоки можно объединять в слои, накладывая их друг на друга. Для этой операции в `torch.nn.RNN` есть аргумент `num_layers`, с помощью которого можно указать количество слоёв.\n",
        "\n",
        "В представленной архитектуре нижний слой (а это всё ещё одна RNN-ячейка) обрабатывает букву *h*, передаёт свой hidden state в саму себя (направо, `h[0]`) и обрабатывает *е* и т.д. Кроме того, эта же ячейка передаёт своё состояние на вторую RNN-ячейку (наверх, `h[1]`), которая уже обрабатывает результат работы первой ячейки.\n",
        "\n",
        "На практике такая схема может приводить к взрыву или затуханию градиента, причём при проходе как по горизонтали, так и по вертикали. Об этом ниже."
      ]
    },
    {
      "cell_type": "markdown",
      "id": "64ef1dfb",
      "metadata": {
        "id": "64ef1dfb"
      },
      "source": [
        "<img src =\"http://edunet.kea.su/repo/EduNet-content/L08/out/layers.png\" width=\"600\">"
      ]
    },
    {
      "cell_type": "markdown",
      "id": "de724c31",
      "metadata": {
        "id": "de724c31"
      },
      "source": [
        "Параметр **num_layers** задаёт количество RNN-ячеек."
      ]
    },
    {
      "cell_type": "code",
      "execution_count": null,
      "id": "74d7cf08",
      "metadata": {
        "id": "74d7cf08",
        "outputId": "81a8eeb4-490c-4d56-b69c-2cfb466c3651"
      },
      "outputs": [
        {
          "name": "stdout",
          "output_type": "stream",
          "text": [
            "weight_ih_l0 torch.Size([2, 3])\n",
            "weight_hh_l0 torch.Size([2, 2])\n",
            "bias_ih_l0 torch.Size([2])\n",
            "bias_hh_l0 torch.Size([2])\n",
            "weight_ih_l1 torch.Size([2, 2])\n",
            "weight_hh_l1 torch.Size([2, 2])\n",
            "bias_ih_l1 torch.Size([2])\n",
            "bias_hh_l1 torch.Size([2])\n",
            "weight_ih_l2 torch.Size([2, 2])\n",
            "weight_hh_l2 torch.Size([2, 2])\n",
            "bias_ih_l2 torch.Size([2])\n",
            "bias_hh_l2 torch.Size([2])\n",
            "\n",
            "Out:\n",
            " torch.Size([2, 1, 2])\n",
            "h:\n",
            " torch.Size([3, 1, 2])\n"
          ]
        }
      ],
      "source": [
        "dummy_input = torch.randn((2, 1, 3))  # seq_len, batch, input_size\n",
        "rnn = torch.nn.RNN(3, 2, num_layers=3)\n",
        "\n",
        "# Weights matrix sizes not changed!\n",
        "for t, p in rnn.named_parameters():\n",
        "    print(t, p.shape)\n",
        "\n",
        "out, h = rnn(dummy_input)\n",
        "\n",
        "print()\n",
        "print(\"Out:\\n\", out.shape)  # Hidden states for all elements from top layer\n",
        "print(\"h:\\n\", h.shape)  # Hidden states for last element for all layers"
      ]
    },
    {
      "cell_type": "markdown",
      "id": "3e15c4b8",
      "metadata": {
        "id": "3e15c4b8"
      },
      "source": [
        "### Bidirectional"
      ]
    },
    {
      "cell_type": "markdown",
      "id": "273eeaf1",
      "metadata": {
        "id": "273eeaf1"
      },
      "source": [
        "Последовательность можно пропустить через сеть два раза: в прямом и обратном направлении. Для этого создаётся слой, аналогичный входному, для обратного направления, и результат двух слоёв конкатенируется.\n",
        "\n",
        "[A Beginner’s Guide on Recurrent Neural Networks with PyTorch](https://blog.floydhub.com/a-beginners-guide-on-recurrent-neural-networks-with-pytorch/)"
      ]
    },
    {
      "cell_type": "markdown",
      "id": "64b7a994",
      "metadata": {
        "id": "64b7a994"
      },
      "source": [
        "<img src =\"http://edunet.kea.su/repo/EduNet-content/L08/out/bidirectional.png\" width=\"700\">"
      ]
    },
    {
      "cell_type": "code",
      "execution_count": null,
      "id": "0c083d85",
      "metadata": {
        "id": "0c083d85",
        "outputId": "afc47a4e-e730-4510-fec3-e34a92d97d6a"
      },
      "outputs": [
        {
          "name": "stdout",
          "output_type": "stream",
          "text": [
            "weight_ih_l0 torch.Size([2, 3])\n",
            "weight_hh_l0 torch.Size([2, 2])\n",
            "bias_ih_l0 torch.Size([2])\n",
            "bias_hh_l0 torch.Size([2])\n",
            "weight_ih_l0_reverse torch.Size([2, 3])\n",
            "weight_hh_l0_reverse torch.Size([2, 2])\n",
            "bias_ih_l0_reverse torch.Size([2])\n",
            "bias_hh_l0_reverse torch.Size([2])\n",
            "\n",
            "Out:\n",
            " torch.Size([2, 1, 4])\n",
            "h:\n",
            " torch.Size([2, 1, 2])\n"
          ]
        }
      ],
      "source": [
        "dummy_input = torch.randn((2, 1, 3))  # seq_len, batch, input_size\n",
        "rnn = torch.nn.RNN(3, 2, bidirectional=True)\n",
        "\n",
        "for t, p in rnn.named_parameters():\n",
        "    print(t, p.shape)\n",
        "\n",
        "out, h = rnn(dummy_input)\n",
        "\n",
        "print()\n",
        "print(\"Out:\\n\", out.shape)  # Concatenated Hidden states from both layers\n",
        "print(\n",
        "    \"h:\\n\", h.shape\n",
        ")  # Hidden states last element from  both : 2*num_layers*hidden_state"
      ]
    },
    {
      "cell_type": "markdown",
      "id": "a536cbbf",
      "metadata": {
        "id": "a536cbbf"
      },
      "source": [
        "# Simple RNN\n",
        "\n",
        "Сконструируем простейшую нейронную сеть для предсказания временных рядов."
      ]
    },
    {
      "cell_type": "markdown",
      "id": "499f623c",
      "metadata": {
        "id": "499f623c"
      },
      "source": [
        "### Шаг 1. Загрузим необходимые данные и библиотеки"
      ]
    },
    {
      "cell_type": "code",
      "execution_count": 2,
      "id": "53d16208",
      "metadata": {
        "id": "53d16208"
      },
      "outputs": [],
      "source": [
        "import torch\n",
        "from torch import nn\n",
        "import numpy as np\n",
        "import matplotlib.pyplot as plt\n",
        "%matplotlib inline"
      ]
    },
    {
      "cell_type": "code",
      "execution_count": 5,
      "id": "2572c319",
      "metadata": {
        "id": "2572c319",
        "outputId": "3539d27e-f12b-4457-e8c1-408020a409c1",
        "colab": {
          "base_uri": "https://localhost:8080/",
          "height": 445
        }
      },
      "outputs": [
        {
          "output_type": "display_data",
          "data": {
            "text/plain": [
              "<Figure size 800x500 with 1 Axes>"
            ],
            "image/png": "[encoded data removed]"
          },
          "metadata": {}
        }
      ],
      "source": [
        "plt.figure(figsize=(8,5))\n",
        "\n",
        "# how many time steps/data pts are in one batch of data\n",
        "seq_length = 20\n",
        "\n",
        "# generate evenly spaced data pts\n",
        "time_steps = np.linspace(0, np.pi, seq_length + 1)\n",
        "data = np.sin(time_steps)\n",
        "data.resize((seq_length + 1, 1)) # size becomes (seq_length+1, 1), adds an input_size dimension\n",
        "\n",
        "x = data[:-1] # all but the last piece of data\n",
        "y = data[1:] # all but the first\n",
        "\n",
        "# display the data\n",
        "plt.plot(time_steps[1:], x, 'r.', label='input, x') # x\n",
        "plt.plot(time_steps[1:], y, 'b.', label='target, y') # y\n",
        "\n",
        "plt.legend(loc='best')\n",
        "plt.show()"
      ]
    },
    {
      "cell_type": "markdown",
      "id": "7ac50d5e",
      "metadata": {
        "id": "7ac50d5e"
      },
      "source": [
        "---\n",
        "## Шаг 2. Создадим класс RNN\n",
        "\n",
        "\n",
        "Next, we define an RNN in PyTorch. We'll use `nn.RNN` to create an RNN layer, then we'll add a last, fully-connected layer to get the output size that we want. An RNN takes in a number of parameters:\n",
        "* **input_size** - размер входных данных\n",
        "* **hidden_dim** - количество признаков на выходе RNN и на скрытом состоянии\n",
        "* **n_layers** - количество слоёв, которые состоявляют RNN (обычно 1-3, больше 1 означает, что вы используете stacked RNN\n",
        "* **batch_first** - будет ли входное/выходное значение содержать размер батча (batch_size) на первом месте (batch_size, seq_length, hidden_dim)\n",
        "\n",
        "[RNN documentation](https://pytorch.org/docs/stable/nn.html#rnn)"
      ]
    },
    {
      "cell_type": "code",
      "execution_count": 11,
      "id": "da1bb1a1",
      "metadata": {
        "id": "da1bb1a1"
      },
      "outputs": [],
      "source": [
        "class RNN(torch.nn.Module):\n",
        "    def __init__(self, input_size, output_size, hidden_dim, n_layers):\n",
        "        super(RNN, self).__init__()\n",
        "\n",
        "        self.hidden_dim=hidden_dim\n",
        "        # define an RNN with specified parameters\n",
        "        # batch_first means that the first dim of the input and output will be the batch_size\n",
        "        self.rnn = nn.RNN(input_size, hidden_dim, batch_first=True)\n",
        "\n",
        "        # last, fully-connected layer\n",
        "        self.fc = torch.nn.Linear(hidden_dim, output_size)\n",
        "\n",
        "    def forward(self, x, hidden):\n",
        "        # x (batch_size, seq_length, input_size)\n",
        "        # hidden (n_layers, batch_size, hidden_dim)\n",
        "        # r_out (batch_size, time_step, hidden_size)\n",
        "        batch_size = x.shape[1]\n",
        "\n",
        "        # get RNN outputs\n",
        "        r_out, hidden = self.rnn(x, hidden)\n",
        "        # shape output to be (batch_size*seq_length, hidden_dim)\n",
        "        r_out = r_out.view(-1, self.hidden_dim)\n",
        "\n",
        "        # get final output\n",
        "        output = self.fc(r_out)\n",
        "\n",
        "        return output, hidden\n"
      ]
    },
    {
      "cell_type": "markdown",
      "id": "8f505726",
      "metadata": {
        "id": "8f505726"
      },
      "source": [
        "### Шаг 3. Проверка размерностей выходных и выходных значений"
      ]
    },
    {
      "cell_type": "code",
      "execution_count": 12,
      "id": "b4d00be5",
      "metadata": {
        "id": "b4d00be5",
        "outputId": "1f578603-5eaf-454a-d852-1aae99a71f6f",
        "colab": {
          "base_uri": "https://localhost:8080/"
        }
      },
      "outputs": [
        {
          "output_type": "stream",
          "name": "stdout",
          "text": [
            "Input size:  torch.Size([1, 20, 1])\n",
            "Output size:  torch.Size([20, 1])\n",
            "Hidden state size:  torch.Size([1, 1, 10])\n"
          ]
        }
      ],
      "source": [
        "# test that dimensions are as expected\n",
        "test_rnn = RNN(input_size=1, output_size=1, hidden_dim=10, n_layers=2)\n",
        "\n",
        "# generate evenly spaced, test data pts\n",
        "time_steps = np.linspace(0, np.pi, seq_length)\n",
        "data = np.sin(time_steps)\n",
        "data.resize((seq_length, 1))\n",
        "\n",
        "test_input = torch.Tensor(data).unsqueeze(0) # give it a batch_size of 1 as first dimension\n",
        "print('Input size: ', test_input.size())\n",
        "\n",
        "# test out rnn sizes\n",
        "test_out, test_h = test_rnn(test_input, None)\n",
        "print('Output size: ', test_out.size())\n",
        "print('Hidden state size: ', test_h.size())"
      ]
    },
    {
      "cell_type": "markdown",
      "id": "2c80579d",
      "metadata": {
        "id": "2c80579d"
      },
      "source": [
        "### Шаг 4. Тренировка RNN"
      ]
    },
    {
      "cell_type": "code",
      "execution_count": 13,
      "id": "a566c25c",
      "metadata": {
        "id": "a566c25c",
        "outputId": "ae12ecb7-73b1-4bd8-9efc-05ee8c20373d",
        "colab": {
          "base_uri": "https://localhost:8080/"
        }
      },
      "outputs": [
        {
          "output_type": "stream",
          "name": "stdout",
          "text": [
            "RNN(\n",
            "  (rnn): RNN(1, 32, batch_first=True)\n",
            "  (fc): Linear(in_features=32, out_features=1, bias=True)\n",
            ")\n"
          ]
        }
      ],
      "source": [
        "# decide on hyperparameters\n",
        "input_size=1\n",
        "output_size=1\n",
        "hidden_dim=32\n",
        "n_layers=1\n",
        "\n",
        "# instantiate an RNN\n",
        "rnn = RNN(input_size=input_size, output_size=output_size, hidden_dim=hidden_dim, n_layers=2)\n",
        "print(rnn)"
      ]
    },
    {
      "cell_type": "markdown",
      "id": "b8a642dd",
      "metadata": {
        "id": "b8a642dd"
      },
      "source": [
        "### Шаг 5. Задание функцции потерть и оптимизатора\n",
        "\n",
        "Задача относится в ктипу регрессии: можем ли мы натренировать RNN, чтобы она чётко предсказывала следующую коодинату во времени, основываясь на текущей координате?\n",
        "\n",
        "\n",
        ">* Функция потерь будет типичной для задачи регрессии: средняя квадратичная ошибка.\n",
        ">* В качестве оптимизатора для рекуррентных моделей обычно используют Adam (зададим шаг обучения 0.01)"
      ]
    },
    {
      "cell_type": "code",
      "execution_count": 20,
      "id": "b857dd86",
      "metadata": {
        "id": "b857dd86"
      },
      "outputs": [],
      "source": [
        "criterion = torch.nn.MSELoss()\n",
        "optimizer = torch.optim.Adam(rnn.parameters(), lr = 0.01)"
      ]
    },
    {
      "cell_type": "markdown",
      "id": "203eee52",
      "metadata": {
        "id": "203eee52"
      },
      "source": [
        "### Шаг 6. Определим функцию для тренировки\n",
        "\n",
        "Эта функция будет принимать в качестве параметров саму сеть (rnn), количество эпох обучения (n_steps), частоту вывода на экран значений функции потерь.\n",
        "\n",
        "Выходом этой функции будет обученная RNN-модель.\n",
        "\n",
        "Обратите внимание на работу со скрытым состоянием (hidden state):\n",
        "\n",
        "* скрытое состояние инициализируется значением None перед заходом в цикл;\n",
        "* после того как нейронная сеть сгенерирует последующее скрытое состояние, берётся предыдущее скрытое состояние и используется как входное значение для RNN на следующем шаге."
      ]
    },
    {
      "cell_type": "code",
      "execution_count": 30,
      "id": "a4cc6051",
      "metadata": {
        "id": "a4cc6051"
      },
      "outputs": [],
      "source": [
        "# train the RNN\n",
        "def train(rnn, n_steps, print_every):\n",
        "\n",
        "    # initialize the hidden state\n",
        "    hidden = None\n",
        "\n",
        "    for batch_i, step in enumerate(range(n_steps)):\n",
        "        # defining the training data\n",
        "        time_steps = np.linspace(step * np.pi, (step+1)*np.pi, seq_length + 1)\n",
        "        data = np.sin(time_steps)\n",
        "        data.resize((seq_length + 1, 1)) # input_size=1\n",
        "\n",
        "        x = data[:-1]\n",
        "        y = data[1:]\n",
        "\n",
        "        # convert data into Tensors\n",
        "        x_tensor = torch.tensor(x, dtype=torch.float32).unsqueeze(0) # unsqueeze gives a 1, batch_size dimension\n",
        "        y_tensor = torch.tensor(x, dtype=torch.float32)\n",
        "\n",
        "        # outputs from the rnn\n",
        "        prediction, hidden = rnn(x_tensor, hidden)\n",
        "\n",
        "        ## Representing Memory ##\n",
        "        # make a new variable for hidden and detach the hidden state from its history\n",
        "        # this way, we don't backpropagate through the entire history\n",
        "        hidden = hidden.detach()\n",
        "\n",
        "        # calculate the loss\n",
        "        loss = criterion(prediction, y_tensor)\n",
        "        # zero gradients\n",
        "        optimizer.zero_grad()\n",
        "        # perform backprop and update weights\n",
        "        loss.backward()\n",
        "        optimizer.step()\n",
        "\n",
        "        # display loss and predictions\n",
        "        if batch_i%print_every == 0:\n",
        "            print('Loss: ', loss.item())\n",
        "            plt.plot(time_steps[1:], x, 'r.') # input\n",
        "            plt.plot(time_steps[1:], prediction.data.numpy().flatten(), 'b.') # predictions\n",
        "            plt.show()\n",
        "\n",
        "    return rnn\n"
      ]
    },
    {
      "cell_type": "markdown",
      "id": "c0b2e928",
      "metadata": {
        "id": "c0b2e928"
      },
      "source": [
        "### Шаг 7. Запуск тренировки и вывод результатов"
      ]
    },
    {
      "cell_type": "code",
      "execution_count": 31,
      "id": "fbc59482",
      "metadata": {
        "id": "fbc59482",
        "outputId": "afd50d6c-a41e-4b87-fe12-64902ab132b0",
        "colab": {
          "base_uri": "https://localhost:8080/",
          "height": 1000
        }
      },
      "outputs": [
        {
          "output_type": "stream",
          "name": "stdout",
          "text": [
            "Loss:  0.4182172417640686\n"
          ]
        },
        {
          "output_type": "display_data",
          "data": {
            "text/plain": [
              "<Figure size 640x480 with 1 Axes>"
            ],
            "image/png": "[encoded data removed]"
          },
          "metadata": {}
        },
        {
          "output_type": "stream",
          "name": "stdout",
          "text": [
            "Loss:  0.028670161962509155\n"
          ]
        },
        {
          "output_type": "display_data",
          "data": {
            "text/plain": [
              "<Figure size 640x480 with 1 Axes>"
            ],
            "image/png": "[encoded data removed]"
          },
          "metadata": {}
        },
        {
          "output_type": "stream",
          "name": "stdout",
          "text": [
            "Loss:  0.002032265532761812\n"
          ]
        },
        {
          "output_type": "display_data",
          "data": {
            "text/plain": [
              "<Figure size 640x480 with 1 Axes>"
            ],
            "image/png": "[encoded data removed]"
          },
          "metadata": {}
        },
        {
          "output_type": "stream",
          "name": "stdout",
          "text": [
            "Loss:  0.0019766991026699543\n"
          ]
        },
        {
          "output_type": "display_data",
          "data": {
            "text/plain": [
              "<Figure size 640x480 with 1 Axes>"
            ],
            "image/png": "[encoded data removed]"
          },
          "metadata": {}
        },
        {
          "output_type": "stream",
          "name": "stdout",
          "text": [
            "Loss:  0.00010271584324073046\n"
          ]
        },
        {
          "output_type": "display_data",
          "data": {
            "text/plain": [
              "<Figure size 640x480 with 1 Axes>"
            ],
            "image/png": "[encoded data removed]"
          },
          "metadata": {}
        }
      ],
      "source": [
        "# train the rnn and monitor results\n",
        "n_steps = 75\n",
        "print_every = 15\n",
        "\n",
        "trained_rnn = train(rnn, n_steps, print_every)"
      ]
    },
    {
      "cell_type": "markdown",
      "id": "67bdfd9f",
      "metadata": {
        "id": "67bdfd9f"
      },
      "source": [
        "# Пример прогнозирования временного ряда"
      ]
    },
    {
      "cell_type": "markdown",
      "id": "6f6381fd",
      "metadata": {
        "id": "6f6381fd"
      },
      "source": [
        "---\n",
        "- [How to Remove Non-Stationarity From Time Series](https://www.kaggle.com/code/bextuychiev/how-to-remove-non-stationarity-from-time-series)\n",
        "- [A Guide to Time Series Forecasting in Python](https://builtin.com/data-science/time-series-forecasting-python)\n",
        "- [How to Check if Time Series Data is Stationary with Python?](https://www.geeksforgeeks.org/how-to-check-if-time-series-data-is-stationary-with-python/)\n",
        "- [Complete Guide on Time Series Analysis in Python](https://www.kaggle.com/code/prashant111/complete-guide-on-time-series-analysis-in-python)\n",
        "- [Data transformations and forecasting models: what to use and when](https://people.duke.edu/~rnau/whatuse.htm)"
      ]
    },
    {
      "cell_type": "markdown",
      "id": "83917e05",
      "metadata": {
        "id": "83917e05"
      },
      "source": [
        "Что общего у прогнозирования потребления электроэнергии домохозяйствами, оценки трафика на дорогах в определенные периоды, прогнозировании паводков и прогнозировании цены, по которой акции будут торговаться на фондовой бирже?\n",
        "\n",
        "Все они попадают под понятие данных временных рядов! Вы не можете точно предсказать любой из этих результатов без компонента «время». И по мере того, как в мире вокруг нас генерируется все больше и больше данных, прогнозирование временных рядов становится все более важной областью применения методов ML и DL.\n",
        "\n"
      ]
    },
    {
      "cell_type": "markdown",
      "id": "5457183d",
      "metadata": {
        "id": "5457183d"
      },
      "source": [
        "## Подготовка данных\n",
        "[Time Series Prediction with LSTM Using PyTorch](https://colab.research.google.com/github/dlmacedo/starter-academic/blob/master/content/courses/deeplearning/notebooks/pytorch/Time_Series_Prediction_with_LSTM_Using_PyTorch.ipynb#scrollTo=NabsV8O5BBd5)\n"
      ]
    },
    {
      "cell_type": "markdown",
      "id": "d1d0e101",
      "metadata": {
        "id": "d1d0e101"
      },
      "source": [
        "### Загрузка данных\n",
        "\n",
        "Данные о количестве пассажиров за каждый месяц.\n",
        "[Dataset Air Passengers Number of air passengers per month](https://www.kaggle.com/rakannimer/air-passengers)\n"
      ]
    },
    {
      "cell_type": "code",
      "execution_count": 53,
      "id": "ed742e19",
      "metadata": {
        "id": "ed742e19",
        "outputId": "7c7d8942-23d6-4e7a-919e-9626fb4c6fb9",
        "colab": {
          "base_uri": "https://localhost:8080/",
          "height": 206
        }
      },
      "outputs": [
        {
          "output_type": "execute_result",
          "data": {
            "text/plain": [
              "     Month  Passengers\n",
              "0  1949-01         112\n",
              "1  1949-02         118\n",
              "2  1949-03         132\n",
              "3  1949-04         129\n",
              "4  1949-05         121"
            ],
            "text/html": [
              "\n",
              "  <div id=\"df-0d833853-dbc4-48d3-9d5b-f6ff84a4d6c8\" class=\"colab-df-container\">\n",
              "    <div>\n",
              "<style scoped>\n",
              "    .dataframe tbody tr th:only-of-type {\n",
              "        vertical-align: middle;\n",
              "    }\n",
              "\n",
              "    .dataframe tbody tr th {\n",
              "        vertical-align: top;\n",
              "    }\n",
              "\n",
              "    .dataframe thead th {\n",
              "        text-align: right;\n",
              "    }\n",
              "</style>\n",
              "<table border=\"1\" class=\"dataframe\">\n",
              "  <thead>\n",
              "    <tr style=\"text-align: right;\">\n",
              "      <th></th>\n",
              "      <th>Month</th>\n",
              "      <th>Passengers</th>\n",
              "    </tr>\n",
              "  </thead>\n",
              "  <tbody>\n",
              "    <tr>\n",
              "      <th>0</th>\n",
              "      <td>1949-01</td>\n",
              "      <td>112</td>\n",
              "    </tr>\n",
              "    <tr>\n",
              "      <th>1</th>\n",
              "      <td>1949-02</td>\n",
              "      <td>118</td>\n",
              "    </tr>\n",
              "    <tr>\n",
              "      <th>2</th>\n",
              "      <td>1949-03</td>\n",
              "      <td>132</td>\n",
              "    </tr>\n",
              "    <tr>\n",
              "      <th>3</th>\n",
              "      <td>1949-04</td>\n",
              "      <td>129</td>\n",
              "    </tr>\n",
              "    <tr>\n",
              "      <th>4</th>\n",
              "      <td>1949-05</td>\n",
              "      <td>121</td>\n",
              "    </tr>\n",
              "  </tbody>\n",
              "</table>\n",
              "</div>\n",
              "    <div class=\"colab-df-buttons\">\n",
              "\n",
              "  <div class=\"colab-df-container\">\n",
              "    <button class=\"colab-df-convert\" onclick=\"convertToInteractive('df-0d833853-dbc4-48d3-9d5b-f6ff84a4d6c8')\"\n",
              "            title=\"Convert this dataframe to an interactive table.\"\n",
              "            style=\"display:none;\">\n",
              "\n",
              "  <svg xmlns=\"http://www.w3.org/2000/svg\" height=\"24px\" viewBox=\"0 -960 960 960\">\n",
              "    <path d=\"M120-120v-720h720v720H120Zm60-500h600v-160H180v160Zm220 220h160v-160H400v160Zm0 220h160v-160H400v160ZM180-400h160v-160H180v160Zm440 0h160v-160H620v160ZM180-180h160v-160H180v160Zm440 0h160v-160H620v160Z\"/>\n",
              "  </svg>\n",
              "    </button>\n",
              "\n",
              "  <style>\n",
              "    .colab-df-container {\n",
              "      display:flex;\n",
              "      gap: 12px;\n",
              "    }\n",
              "\n",
              "    .colab-df-convert {\n",
              "      background-color: #E8F0FE;\n",
              "      border: none;\n",
              "      border-radius: 50%;\n",
              "      cursor: pointer;\n",
              "      display: none;\n",
              "      fill: #1967D2;\n",
              "      height: 32px;\n",
              "      padding: 0 0 0 0;\n",
              "      width: 32px;\n",
              "    }\n",
              "\n",
              "    .colab-df-convert:hover {\n",
              "      background-color: #E2EBFA;\n",
              "      box-shadow: 0px 1px 2px rgba(60, 64, 67, 0.3), 0px 1px 3px 1px rgba(60, 64, 67, 0.15);\n",
              "      fill: #174EA6;\n",
              "    }\n",
              "\n",
              "    .colab-df-buttons div {\n",
              "      margin-bottom: 4px;\n",
              "    }\n",
              "\n",
              "    [theme=dark] .colab-df-convert {\n",
              "      background-color: #3B4455;\n",
              "      fill: #D2E3FC;\n",
              "    }\n",
              "\n",
              "    [theme=dark] .colab-df-convert:hover {\n",
              "      background-color: #434B5C;\n",
              "      box-shadow: 0px 1px 3px 1px rgba(0, 0, 0, 0.15);\n",
              "      filter: drop-shadow(0px 1px 2px rgba(0, 0, 0, 0.3));\n",
              "      fill: #FFFFFF;\n",
              "    }\n",
              "  </style>\n",
              "\n",
              "    <script>\n",
              "      const buttonEl =\n",
              "        document.querySelector('#df-0d833853-dbc4-48d3-9d5b-f6ff84a4d6c8 button.colab-df-convert');\n",
              "      buttonEl.style.display =\n",
              "        google.colab.kernel.accessAllowed ? 'block' : 'none';\n",
              "\n",
              "      async function convertToInteractive(key) {\n",
              "        const element = document.querySelector('#df-0d833853-dbc4-48d3-9d5b-f6ff84a4d6c8');\n",
              "        const dataTable =\n",
              "          await google.colab.kernel.invokeFunction('convertToInteractive',\n",
              "                                                    [key], {});\n",
              "        if (!dataTable) return;\n",
              "\n",
              "        const docLinkHtml = 'Like what you see? Visit the ' +\n",
              "          '<a target=\"_blank\" href=https://colab.research.google.com/notebooks/data_table.ipynb>data table notebook</a>'\n",
              "          + ' to learn more about interactive tables.';\n",
              "        element.innerHTML = '';\n",
              "        dataTable['output_type'] = 'display_data';\n",
              "        await google.colab.output.renderOutput(dataTable, element);\n",
              "        const docLink = document.createElement('div');\n",
              "        docLink.innerHTML = docLinkHtml;\n",
              "        element.appendChild(docLink);\n",
              "      }\n",
              "    </script>\n",
              "  </div>\n",
              "\n",
              "\n",
              "<div id=\"df-f1a09ea3-83e3-49bd-85f9-f2190fce074b\">\n",
              "  <button class=\"colab-df-quickchart\" onclick=\"quickchart('df-f1a09ea3-83e3-49bd-85f9-f2190fce074b')\"\n",
              "            title=\"Suggest charts\"\n",
              "            style=\"display:none;\">\n",
              "\n",
              "<svg xmlns=\"http://www.w3.org/2000/svg\" height=\"24px\"viewBox=\"0 0 24 24\"\n",
              "     width=\"24px\">\n",
              "    <g>\n",
              "        <path d=\"M19 3H5c-1.1 0-2 .9-2 2v14c0 1.1.9 2 2 2h14c1.1 0 2-.9 2-2V5c0-1.1-.9-2-2-2zM9 17H7v-7h2v7zm4 0h-2V7h2v10zm4 0h-2v-4h2v4z\"/>\n",
              "    </g>\n",
              "</svg>\n",
              "  </button>\n",
              "\n",
              "<style>\n",
              "  .colab-df-quickchart {\n",
              "      --bg-color: #E8F0FE;\n",
              "      --fill-color: #1967D2;\n",
              "      --hover-bg-color: #E2EBFA;\n",
              "      --hover-fill-color: #174EA6;\n",
              "      --disabled-fill-color: #AAA;\n",
              "      --disabled-bg-color: #DDD;\n",
              "  }\n",
              "\n",
              "  [theme=dark] .colab-df-quickchart {\n",
              "      --bg-color: #3B4455;\n",
              "      --fill-color: #D2E3FC;\n",
              "      --hover-bg-color: #434B5C;\n",
              "      --hover-fill-color: #FFFFFF;\n",
              "      --disabled-bg-color: #3B4455;\n",
              "      --disabled-fill-color: #666;\n",
              "  }\n",
              "\n",
              "  .colab-df-quickchart {\n",
              "    background-color: var(--bg-color);\n",
              "    border: none;\n",
              "    border-radius: 50%;\n",
              "    cursor: pointer;\n",
              "    display: none;\n",
              "    fill: var(--fill-color);\n",
              "    height: 32px;\n",
              "    padding: 0;\n",
              "    width: 32px;\n",
              "  }\n",
              "\n",
              "  .colab-df-quickchart:hover {\n",
              "    background-color: var(--hover-bg-color);\n",
              "    box-shadow: 0 1px 2px rgba(60, 64, 67, 0.3), 0 1px 3px 1px rgba(60, 64, 67, 0.15);\n",
              "    fill: var(--button-hover-fill-color);\n",
              "  }\n",
              "\n",
              "  .colab-df-quickchart-complete:disabled,\n",
              "  .colab-df-quickchart-complete:disabled:hover {\n",
              "    background-color: var(--disabled-bg-color);\n",
              "    fill: var(--disabled-fill-color);\n",
              "    box-shadow: none;\n",
              "  }\n",
              "\n",
              "  .colab-df-spinner {\n",
              "    border: 2px solid var(--fill-color);\n",
              "    border-color: transparent;\n",
              "    border-bottom-color: var(--fill-color);\n",
              "    animation:\n",
              "      spin 1s steps(1) infinite;\n",
              "  }\n",
              "\n",
              "  @keyframes spin {\n",
              "    0% {\n",
              "      border-color: transparent;\n",
              "      border-bottom-color: var(--fill-color);\n",
              "      border-left-color: var(--fill-color);\n",
              "    }\n",
              "    20% {\n",
              "      border-color: transparent;\n",
              "      border-left-color: var(--fill-color);\n",
              "      border-top-color: var(--fill-color);\n",
              "    }\n",
              "    30% {\n",
              "      border-color: transparent;\n",
              "      border-left-color: var(--fill-color);\n",
              "      border-top-color: var(--fill-color);\n",
              "      border-right-color: var(--fill-color);\n",
              "    }\n",
              "    40% {\n",
              "      border-color: transparent;\n",
              "      border-right-color: var(--fill-color);\n",
              "      border-top-color: var(--fill-color);\n",
              "    }\n",
              "    60% {\n",
              "      border-color: transparent;\n",
              "      border-right-color: var(--fill-color);\n",
              "    }\n",
              "    80% {\n",
              "      border-color: transparent;\n",
              "      border-right-color: var(--fill-color);\n",
              "      border-bottom-color: var(--fill-color);\n",
              "    }\n",
              "    90% {\n",
              "      border-color: transparent;\n",
              "      border-bottom-color: var(--fill-color);\n",
              "    }\n",
              "  }\n",
              "</style>\n",
              "\n",
              "  <script>\n",
              "    async function quickchart(key) {\n",
              "      const quickchartButtonEl =\n",
              "        document.querySelector('#' + key + ' button');\n",
              "      quickchartButtonEl.disabled = true;  // To prevent multiple clicks.\n",
              "      quickchartButtonEl.classList.add('colab-df-spinner');\n",
              "      try {\n",
              "        const charts = await google.colab.kernel.invokeFunction(\n",
              "            'suggestCharts', [key], {});\n",
              "      } catch (error) {\n",
              "        console.error('Error during call to suggestCharts:', error);\n",
              "      }\n",
              "      quickchartButtonEl.classList.remove('colab-df-spinner');\n",
              "      quickchartButtonEl.classList.add('colab-df-quickchart-complete');\n",
              "    }\n",
              "    (() => {\n",
              "      let quickchartButtonEl =\n",
              "        document.querySelector('#df-f1a09ea3-83e3-49bd-85f9-f2190fce074b button');\n",
              "      quickchartButtonEl.style.display =\n",
              "        google.colab.kernel.accessAllowed ? 'block' : 'none';\n",
              "    })();\n",
              "  </script>\n",
              "</div>\n",
              "    </div>\n",
              "  </div>\n"
            ]
          },
          "metadata": {},
          "execution_count": 53
        }
      ],
      "source": [
        "import pandas as pd\n",
        "\n",
        "dataset = pd.read_csv(\n",
        "    \"https://edunet.kea.su/repo/EduNet-web_dependencies/datasets/airline-passengers.csv\"\n",
        ")\n",
        "dataset.head()"
      ]
    },
    {
      "cell_type": "code",
      "execution_count": 67,
      "id": "b4a3bd55",
      "metadata": {
        "id": "b4a3bd55",
        "outputId": "aa6b2636-8195-463f-f87a-c65257de9bb2",
        "colab": {
          "base_uri": "https://localhost:8080/",
          "height": 410
        }
      },
      "outputs": [
        {
          "output_type": "display_data",
          "data": {
            "text/plain": [
              "<Figure size 1200x400 with 1 Axes>"
            ],
            "image/png": "[encoded data removed]"
          },
          "metadata": {}
        }
      ],
      "source": [
        "import matplotlib.pyplot as plt\n",
        "\n",
        "training_data = dataset.iloc[:, 1:2].values  # transform dataframe to numpy.array\n",
        "# plotting\n",
        "plt.figure(figsize=(12, 4))\n",
        "plt.plot(training_data, label=\"Airline Passangers Data\")\n",
        "plt.title(\"Number of passengers per month\")\n",
        "plt.ylabel(\"#passengers\")\n",
        "plt.xlabel(\"Month\")\n",
        "labels_to_display = [i for i in range(training_data.shape[0]) if i % 12 == 0]\n",
        "plt.xticks(labels_to_display, dataset[\"Month\"][labels_to_display])\n",
        "plt.grid()\n",
        "plt.show()"
      ]
    },
    {
      "cell_type": "markdown",
      "id": "d9ea2321",
      "metadata": {
        "id": "d9ea2321"
      },
      "source": [
        "Обратите внимание на разбиение временного ряда на **train-val-test**.\n",
        "\n",
        "Если мы поделим ряд на отрезки, точки склейки будут легко предсказываться либо предыдущим, либо средним значением по отрезку. Нужно предсказывать крупные отрезки ряда. И помнить о том, что перемешивать данные нельзя — есть \"прошлое\" и \"будущее\".\n"
      ]
    },
    {
      "cell_type": "markdown",
      "id": "55473b0f",
      "metadata": {
        "id": "55473b0f"
      },
      "source": [
        "<img src =\"https://edunet.kea.su/repo/EduNet-web_dependencies/L08/fixed_partitioning.jpg\" width=\"700\">\n",
        "\n",
        "<em>Source: <a href=\"https://yuting3656.github.io/yutingblog/coursera-tensorflow-developer-professional-certificate/sequences-time-series-and-prediction/week01-03\">Coursera: Sequences, Time Series and Prediction with TensorFlow</a></em>"
      ]
    },
    {
      "cell_type": "markdown",
      "id": "6742137c",
      "metadata": {
        "id": "6742137c"
      },
      "source": [
        "### Шкалирование данных"
      ]
    },
    {
      "cell_type": "code",
      "execution_count": 68,
      "id": "60a5922d",
      "metadata": {
        "id": "60a5922d",
        "outputId": "364597d6-8c19-4567-8db9-c8d946061b27",
        "colab": {
          "base_uri": "https://localhost:8080/"
        }
      },
      "outputs": [
        {
          "output_type": "stream",
          "name": "stdout",
          "text": [
            "Initial statistics:\n",
            "Minimum value:   104\n",
            "Maximum value:   622\n",
            "\n",
            "Resulting statistics:\n",
            "Minimum value:   0.0\n",
            "Maximum value:   1.0\n"
          ]
        }
      ],
      "source": [
        "# Min-Max normalization\n",
        "td_min = training_data.min()\n",
        "td_max = training_data.max()\n",
        "print(\"Initial statistics:\")\n",
        "print(\"Minimum value:\", repr(td_min).rjust(5))\n",
        "print(\"Maximum value:\", repr(td_max).rjust(5))\n",
        "\n",
        "training_data = (training_data - td_min) / (td_max - td_min)\n",
        "print(\"\\nResulting statistics:\")\n",
        "print(\"Minimum value:\", repr(training_data.min()).rjust(5))\n",
        "print(\"Maximum value:\", repr(training_data.max()).rjust(5))"
      ]
    },
    {
      "cell_type": "markdown",
      "id": "bf5d1235",
      "metadata": {
        "id": "bf5d1235"
      },
      "source": [
        "### Формирование ансамблей данных"
      ]
    },
    {
      "cell_type": "markdown",
      "id": "7ae55a1c",
      "metadata": {
        "id": "7ae55a1c"
      },
      "source": [
        "Поскольку мы хотим научиться предсказывать следующие значение на основе предыдущих, нам нужно подготовить данные соответствующим образом.\n",
        "\n",
        "Разобьем весь массив данных на фрагменты вида\n",
        "\n",
        "$x \\to y$,\n",
        "\n",
        "где $x$ — это подпоследовательность, например, записи с 1-й по 8-ю, а $y$ — это значение из 9-й записи, то самое, которое мы хотим предсказать."
      ]
    },
    {
      "cell_type": "code",
      "execution_count": 69,
      "id": "554e94d0",
      "metadata": {
        "id": "554e94d0",
        "outputId": "ad8b5d34-dd6a-492f-bbd7-380d73eca332",
        "colab": {
          "base_uri": "https://localhost:8080/"
        }
      },
      "outputs": [
        {
          "output_type": "stream",
          "name": "stdout",
          "text": [
            "Example of the obtained data:\n",
            "\n",
            "Data corresponding to the first x:\n",
            "tensor([[0.0154],\n",
            "        [0.0270],\n",
            "        [0.0541],\n",
            "        [0.0483],\n",
            "        [0.0328],\n",
            "        [0.0598],\n",
            "        [0.0849],\n",
            "        [0.0849]])\n",
            "Data corresponding to the first y:\n",
            "tensor([0.0618])\n"
          ]
        }
      ],
      "source": [
        "import numpy as np\n",
        "import torch\n",
        "\n",
        "# create data \"ensemble\"\n",
        "\n",
        "\n",
        "def sliding_windows(data, seq_length):\n",
        "    x = []\n",
        "    y = []\n",
        "\n",
        "    for i in range(len(data) - seq_length):\n",
        "        _x = data[i : (i + seq_length)]  # picking several sequential observations\n",
        "        _y = data[i + seq_length]  # picking the subsequent observation\n",
        "        x.append(_x)\n",
        "        y.append(_y)\n",
        "\n",
        "    return torch.Tensor(np.array(x)), torch.Tensor(np.array(y))\n",
        "\n",
        "\n",
        "# set length of the ensemble; accuracy of the predictions and\n",
        "# speed perfomance almost always depend on it size\n",
        "seq_length = 8  # compare 2 and 32\n",
        "x, y = sliding_windows(training_data, seq_length)\n",
        "print(\"Example of the obtained data:\\n\")\n",
        "print(\"Data corresponding to the first x:\")\n",
        "print(x[0])\n",
        "print(\"Data corresponding to the first y:\")\n",
        "print(y[0])"
      ]
    },
    {
      "cell_type": "markdown",
      "id": "da7d78d4",
      "metadata": {
        "id": "da7d78d4"
      },
      "source": [
        "Благодаря такому подходу мы можем работать с RNN моделью так же, как работали со сверточными моделями, подавая на вход такую подпоследовательность + результат."
      ]
    },
    {
      "cell_type": "markdown",
      "id": "45ca42eb",
      "metadata": {
        "id": "45ca42eb"
      },
      "source": [
        "### Разобьем на train и test"
      ]
    },
    {
      "cell_type": "code",
      "execution_count": 70,
      "id": "bdd65bf0",
      "metadata": {
        "id": "bdd65bf0",
        "outputId": "7e8373e6-ba02-45e5-f844-cf44c0e432fd",
        "colab": {
          "base_uri": "https://localhost:8080/"
        }
      },
      "outputs": [
        {
          "output_type": "stream",
          "name": "stdout",
          "text": [
            "Train data:\n",
            "x shape: torch.Size([108, 8, 1])\n",
            "y shape: torch.Size([108, 1])\n",
            "\n",
            "Test data:\n",
            "x shape: torch.Size([28, 8, 1])\n",
            "y shape: torch.Size([28, 1])\n"
          ]
        }
      ],
      "source": [
        "train_size = int(len(y) * 0.8)\n",
        "\n",
        "x_train = x[:train_size]\n",
        "y_train = y[:train_size]\n",
        "\n",
        "x_test = x[train_size:]\n",
        "y_test = y[train_size:]\n",
        "\n",
        "print(\"Train data:\")\n",
        "print(\"x shape:\", x_train.shape)\n",
        "print(\"y shape:\", y_train.shape)\n",
        "\n",
        "print(\"\\nTest data:\")\n",
        "print(\"x shape:\", x_test.shape)\n",
        "print(\"y shape:\", y_test.shape)"
      ]
    },
    {
      "cell_type": "markdown",
      "id": "8e53c182",
      "metadata": {
        "id": "8e53c182"
      },
      "source": [
        "## Создание и обучение модели"
      ]
    },
    {
      "cell_type": "markdown",
      "id": "1e83748e",
      "metadata": {
        "id": "1e83748e"
      },
      "source": [
        "Обратите внимание на параметр **batch_first**. Он позволяет записывать данные в привычном формате."
      ]
    },
    {
      "cell_type": "code",
      "execution_count": 73,
      "id": "3422d8c0",
      "metadata": {
        "id": "3422d8c0"
      },
      "outputs": [],
      "source": [
        "import torch.nn as nn\n",
        "\n",
        "\n",
        "class AirTrafficPredictor(nn.Module):\n",
        "    def __init__(self, input_size, hidden_size):\n",
        "        # hidden_size == number of neurons\n",
        "        super().__init__()\n",
        "        self.rnn = nn.RNN(\n",
        "            input_size, hidden_size, batch_first=True\n",
        "        )\n",
        "        self.fc = torch.nn.Linear(hidden_size, 1)  # Predict only one value\n",
        "\n",
        "    def forward(self, x):\n",
        "        # print(\"x: \",x.shape) # 108 x 8 x 1 : [batch_size, seq_len, input_size]\n",
        "        out, h = self.rnn(x)\n",
        "        # print(\"out: \", out.shape) # 108 x 8 x 4 : [batch_size, seq_len, hidden_size] Useless!\n",
        "        # print(\"h : \", h.shape) # 1 x 108 x 4 [ num_layers, batch_size, hidden_size]\n",
        "        y = self.fc(h)\n",
        "        # print(\"y\",y.shape) # 1 x 108 x 1\n",
        "        return y, h"
      ]
    },
    {
      "cell_type": "markdown",
      "id": "cf6fbe6c",
      "metadata": {
        "id": "cf6fbe6c"
      },
      "source": [
        "### Обучение"
      ]
    },
    {
      "cell_type": "markdown",
      "id": "071cbc34",
      "metadata": {
        "id": "071cbc34"
      },
      "source": [
        "Благодаря подготовке данных процесс обучения не будет отличаться от того, что мы использовали на прошедших занятиях.\n",
        "\n",
        "В силу того, что датасет маленький и все данные поместились в один batch, итерирования по batch-ам в явном виде здесь не происходит."
      ]
    },
    {
      "cell_type": "code",
      "execution_count": 74,
      "id": "52e92f0e",
      "metadata": {
        "id": "52e92f0e",
        "outputId": "ff34f42d-e6c4-4d38-c6a9-151e600b6875",
        "colab": {
          "base_uri": "https://localhost:8080/"
        }
      },
      "outputs": [
        {
          "output_type": "stream",
          "name": "stdout",
          "text": [
            "Simple RNN training process with MSE loss:\n",
            "Epoch: 0,       loss: 0.12236\n",
            "Epoch: 100,     loss: 0.00380\n",
            "Epoch: 200,     loss: 0.00274\n",
            "Epoch: 300,     loss: 0.00258\n",
            "Epoch: 400,     loss: 0.00265\n",
            "Epoch: 500,     loss: 0.00225\n",
            "Epoch: 600,     loss: 0.00220\n",
            "Epoch: 700,     loss: 0.00226\n",
            "Epoch: 800,     loss: 0.00234\n",
            "Epoch: 900,     loss: 0.00197\n",
            "Epoch: 1000,    loss: 0.00212\n",
            "Epoch: 1100,    loss: 0.00208\n",
            "Epoch: 1200,    loss: 0.00223\n",
            "Epoch: 1300,    loss: 0.00202\n",
            "Epoch: 1400,    loss: 0.00211\n",
            "Epoch: 1500,    loss: 0.00194\n",
            "Epoch: 1600,    loss: 0.00193\n",
            "Epoch: 1700,    loss: 0.00180\n",
            "Epoch: 1800,    loss: 0.00230\n",
            "Epoch: 1900,    loss: 0.00180\n"
          ]
        }
      ],
      "source": [
        "def time_series_train(model, num_epochs=2000, learning_rate=0.01):\n",
        "    criterion = torch.nn.MSELoss()  # mean-squared error for regression\n",
        "    optimizer = torch.optim.Adam(model.parameters(), lr = 0.01)\n",
        "\n",
        "    # Train the model\n",
        "    for epoch in range(num_epochs):\n",
        "        y_pred, h = model(x_train)  # we don't use h there, but we can!\n",
        "        optimizer.zero_grad()\n",
        "\n",
        "        # obtain the loss\n",
        "        loss = criterion(y_pred[0], y_train)  # for shape compatibility\n",
        "        loss.backward()\n",
        "        optimizer.step()\n",
        "\n",
        "        optimizer.step()\n",
        "        if epoch % 100 == 0:\n",
        "            print(f\"Epoch: {epoch},\".ljust(15), \"loss: %1.5f\" % (loss.item()))\n",
        "\n",
        "\n",
        "print(\"Simple RNN training process with MSE loss:\")\n",
        "input_size = 1\n",
        "hidden_size = 4\n",
        "rnn = AirTrafficPredictor(input_size, hidden_size)\n",
        "time_series_train(rnn)"
      ]
    },
    {
      "cell_type": "markdown",
      "id": "3a660c64",
      "metadata": {
        "id": "3a660c64"
      },
      "source": [
        "### Тестирование"
      ]
    },
    {
      "cell_type": "code",
      "execution_count": 75,
      "id": "76e2ef0a",
      "metadata": {
        "id": "76e2ef0a",
        "outputId": "23314e6f-49c0-4dfb-bbca-674f78afd1b7",
        "colab": {
          "base_uri": "https://localhost:8080/",
          "height": 410
        }
      },
      "outputs": [
        {
          "output_type": "display_data",
          "data": {
            "text/plain": [
              "<Figure size 1200x400 with 1 Axes>"
            ],
            "image/png": "[encoded data removed]"
          },
          "metadata": {}
        }
      ],
      "source": [
        "def time_series_plot(train_predict):\n",
        "    data_predict = train_predict.data\n",
        "    y_data_plot = y.data\n",
        "\n",
        "    # Denormalize\n",
        "    data_predict = data_predict[0] * (td_max - td_min) + td_min\n",
        "    y_data_plot = y_data_plot * (td_max - td_min) + td_min\n",
        "\n",
        "    # Plotting\n",
        "    plt.figure(figsize=(12, 4))\n",
        "    plt.axvline(x=train_size, c=\"r\", linestyle=\"--\")\n",
        "    # shifting the curve as first y-value not correspond first value overall\n",
        "    plt.plot(seq_length + np.arange(y_data_plot.shape[0]), y_data_plot)\n",
        "    plt.plot(seq_length + np.arange(y_data_plot.shape[0]), data_predict)\n",
        "\n",
        "    plt.title(\"Number of passengers per month\")\n",
        "    plt.ylabel(\"#passengers\")\n",
        "    plt.xlabel(\"Month\")\n",
        "    plt.xticks(labels_to_display, dataset[\"Month\"][labels_to_display])\n",
        "\n",
        "    plt.legend([\"Train/Test separation\", \"Real\", \"Predicted\"])\n",
        "    plt.grid(axis=\"x\")\n",
        "    plt.show()\n",
        "\n",
        "\n",
        "rnn.eval()\n",
        "train_predict, h = rnn(x)\n",
        "time_series_plot(train_predict)"
      ]
    },
    {
      "cell_type": "markdown",
      "id": "a7a3129a",
      "metadata": {
        "id": "a7a3129a"
      },
      "source": [
        "Видим, что модель в принципе справляется с задачей. Если подбирать размер hidden size, качество станет лучше. Или мы добьёмся того, что нейросеть будет предсказывать просто линию (большой hidden size — нейросеть выучивает, что нужно предсказывать следующее значение по предыщущему).\n",
        "\n",
        "Но посмотрим, как далее справятся более мощные архитектуры, и уже позднее напишем окончательные выводы.\n",
        "\n"
      ]
    },
    {
      "cell_type": "markdown",
      "id": "7897b9bc",
      "metadata": {
        "id": "7897b9bc"
      },
      "source": [
        "### Проблемы RNN"
      ]
    },
    {
      "cell_type": "markdown",
      "id": "9eb4aaaf",
      "metadata": {
        "id": "9eb4aaaf"
      },
      "source": [
        "Теоретически, можно было бы сразу пропустить все данные через сеть и затем вычислить градиент, однако возникнут следующие проблемы:\n",
        "\n",
        " - большие последовательности не поместятся в памяти;\n",
        " - так как цепочка будет очень длинной, возникнет затухание/взрыв градиента;\n",
        " - по мере прохождения сигнала по цепи контекст затирается.\n"
      ]
    },
    {
      "cell_type": "markdown",
      "id": "a33e5b09",
      "metadata": {
        "id": "a33e5b09"
      },
      "source": [
        "Допустим, у нас есть длинная последовательность. Если мы сразу предсказываем, то в каждый момент времени нужно распространить Loss. И все ячейки нужно обновить во время backpropogation. Все градиенты нужно посчитать. Возникают проблемы, связанные с нехваткой памяти.\n",
        "\n",
        "Есть специальные тесты для проверки, контекст какой длины использует RNN при предсказании. Если мы делаем предсказание только в последней ячейке, может оказаться, что используется, скажем, информация только о последних 10 словах предложения.\n",
        "\n",
        "Функция активации Tanh постепенно затирает контекст."
      ]
    },
    {
      "cell_type": "markdown",
      "id": "9e3ab349",
      "metadata": {
        "id": "9e3ab349"
      },
      "source": [
        "<center><img src =\"https://edunet.kea.su/repo/EduNet-web_dependencies/L08/backprop_through_time.png\"><center>\n",
        "\n",
        "<center><em>Source: <a href=\"http://cs231n.stanford.edu/slides/2021/lecture_10.pdf\">CS231n: Recurrent Neural Network</a></em></center>"
      ]
    },
    {
      "cell_type": "markdown",
      "id": "eaaedb59",
      "metadata": {
        "id": "eaaedb59"
      },
      "source": [
        "Затухающий/взрывающийся градиент (Vanishing/exploding gradient) — явления затухающего и взрывающегося градиента часто встречаются в контексте RNN. И при большой длине последовательности это становится критичным. Причина в том, что зависимость величины градиента от числа слоёв экспоненциальная, поскольку веса умножаются многократно.\n",
        "\n",
        "$dL ∝ (W)^N$.\n",
        "\n",
        "$W > 1$ => взрыв\n",
        "\n",
        "$W < 1$ => затухание"
      ]
    },
    {
      "cell_type": "markdown",
      "id": "19f93850",
      "metadata": {
        "id": "19f93850"
      },
      "source": [
        "<img src =\"http://edunet.kea.su/repo/EduNet-content/L08/out/simple_rnn_backprop.png\">"
      ]
    },
    {
      "cell_type": "markdown",
      "id": "8a3b0a5a",
      "metadata": {
        "id": "8a3b0a5a"
      },
      "source": [
        "Один из путей решения проблемы: **градиентное отсечение** (Gradient clipping) — метод, который ограничивает максимально допустимое значение градиента, позволяя избежать градиентного взрыва.\n",
        "\n",
        "А от затухания градиента может помочь **пропускание** **градиента по частям**, на сколько-то шагов по времени назад или вперёд. А не через всю нейросеть. Да, градиент будет не совсем точо считаться, и мы будем терять в качестве. И это нам спасает память."
      ]
    },
    {
      "cell_type": "markdown",
      "id": "3c6df02c",
      "metadata": {
        "id": "3c6df02c"
      },
      "source": [
        "<center><img src =\"https://edunet.kea.su/repo/EduNet-web_dependencies/L08/truncated_backprop.png\"></center>\n",
        "\n",
        "<center><em>Source: <a href=\"http://cs231n.stanford.edu/slides/2021/lecture_10.pdf\">CS231n: Recurrent Neural Network</a></em></center>"
      ]
    },
    {
      "cell_type": "code",
      "execution_count": null,
      "id": "0aaf3506",
      "metadata": {
        "id": "0aaf3506"
      },
      "outputs": [],
      "source": []
    },
    {
      "cell_type": "code",
      "execution_count": null,
      "id": "02549a78",
      "metadata": {
        "id": "02549a78"
      },
      "outputs": [],
      "source": []
    }
  ],
  "metadata": {
    "kernelspec": {
      "display_name": "Python 3 (ipykernel)",
      "language": "python",
      "name": "python3"
    },
    "language_info": {
      "codemirror_mode": {
        "name": "ipython",
        "version": 3
      },
      "file_extension": ".py",
      "mimetype": "text/x-python",
      "name": "python",
      "nbconvert_exporter": "python",
      "pygments_lexer": "ipython3",
      "version": "3.11.4"
    },
    "colab": {
      "provenance": []
    }
  },
  "nbformat": 4,
  "nbformat_minor": 5
}