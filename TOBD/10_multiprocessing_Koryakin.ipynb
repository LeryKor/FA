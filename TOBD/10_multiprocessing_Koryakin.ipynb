{
  "nbformat": 4,
  "nbformat_minor": 0,
  "metadata": {
    "colab": {
      "provenance": []
    },
    "kernelspec": {
      "name": "python3",
      "display_name": "Python 3"
    },
    "language_info": {
      "name": "python"
    }
  },
  "cells": [
    {
      "cell_type": "markdown",
      "metadata": {
        "id": "KmRnV1HyFW7R"
      },
      "source": [
        "# Параллельные вычисления"
      ]
    },
    {
      "cell_type": "markdown",
      "metadata": {
        "id": "61sjJCmSFW7X"
      },
      "source": [
        "## Задачи для совместного разбора"
      ]
    },
    {
      "cell_type": "code",
      "source": [
        "import multiprocessing as mp\n",
        "import pandas as pd\n",
        "\n",
        "from google.colab import drive\n",
        "drive.mount('/content/drive')"
      ],
      "metadata": {
        "colab": {
          "base_uri": "https://localhost:8080/"
        },
        "id": "57AOTUJQXsiQ",
        "outputId": "e1d996a6-f187-4804-d20c-8852a54217d6"
      },
      "execution_count": null,
      "outputs": [
        {
          "output_type": "stream",
          "name": "stdout",
          "text": [
            "Mounted at /content/drive\n"
          ]
        }
      ]
    },
    {
      "cell_type": "markdown",
      "metadata": {
        "id": "pX3BrsYmFW7Y"
      },
      "source": [
        "1. Посчитайте, сколько раз встречается каждый из символов (заглавные и строчные символы не различаются) в файле `Dostoevskiy Fedor. Prestuplenie i nakazanie - BooksCafe.Net.txt` и в файле `Dostoevskiy Fedor. Igrok - BooksCafe.Net.txt`."
      ]
    },
    {
      "cell_type": "code",
      "source": [
        "%%file count_symbols_.py\n",
        "\n",
        "def count_symbols_in_book(name):\n",
        "  with open('/content/drive/MyDrive/ТОБД/' + name, 'r', encoding='cp1251') as f:\n",
        "    text = ''.join(f.readlines()).lower()\n",
        "  count = dict.fromkeys(set(text), 0)\n",
        "  for letter in text:\n",
        "    count[letter] += 1\n",
        "  return sorted(count.items(), key=lambda x:x[1])"
      ],
      "metadata": {
        "id": "kAodvW27aV1R",
        "colab": {
          "base_uri": "https://localhost:8080/"
        },
        "outputId": "01b597fb-52cf-4978-db50-cab0f36b0f38"
      },
      "execution_count": null,
      "outputs": [
        {
          "output_type": "stream",
          "name": "stdout",
          "text": [
            "Overwriting count_symbols_.py\n"
          ]
        }
      ]
    },
    {
      "cell_type": "code",
      "source": [
        "import count_symbols_\n",
        "\n",
        "print(count_symbols_.count_symbols_in_book('Dostoevskiy Fedor. Prestuplenie i nakazanie - BooksCafe.Net.txt'))\n",
        "print(count_symbols_.count_symbols_in_book('Dostoevskiy Fedor. Igrok - BooksCafe.Net.txt'))"
      ],
      "metadata": {
        "colab": {
          "base_uri": "https://localhost:8080/"
        },
        "id": "9aNKmqGDWP_K",
        "outputId": "7675951f-0fd4-4d75-a76a-38ad7ffe85e2"
      },
      "execution_count": null,
      "outputs": [
        {
          "output_type": "stream",
          "name": "stdout",
          "text": [
            "[('j', 1), ('w', 4), ('y', 5), ('_', 8), ('q', 9), (\"'\", 11), ('z', 11), ('k', 16), ('g', 19), ('&', 22), ('#', 22), ('/', 22), ('f', 23), ('b', 25), ('p', 29), ('d', 38), ('c', 42), ('„', 44), ('“', 44), ('№', 45), ('l', 46), ('\\t', 48), ('h', 48), ('–', 49), ('x', 52), ('m', 54), ('v', 65), ('r', 76), (']', 85), ('[', 85), ('u', 86), ('s', 96), ('t', 98), ('a', 98), ('9', 100), ('o', 104), ('0', 110), ('n', 114), ('3', 120), ('7', 121), ('4', 130), ('5', 136), ('2', 141), ('e', 162), ('ъ', 223), ('i', 235), ('6', 271), ('8', 297), ('1', 384), (')', 527), ('(', 528), ('ё', 969), (':', 984), ('»', 1175), ('«', 1187), ('ф', 1237), (';', 1322), ('…', 2263), ('?', 2266), ('ц', 2782), ('щ', 3039), ('э', 3203), ('!', 3280), ('-', 3558), ('ю', 5418), ('\\xa0', 6092), ('—', 6440), ('ш', 7437), ('х', 8127), ('\\n', 8583), ('й', 9747), ('.', 9864), ('ж', 10552), ('з', 14414), ('ы', 15449), ('б', 16016), ('г', 16174), ('ч', 16492), ('я', 19751), ('ь', 20554), ('п', 25652), (',', 26973), ('у', 27309), ('м', 29312), ('д', 29633), ('к', 30802), ('р', 39784), ('л', 42328), ('в', 43700), ('с', 50084), ('т', 59813), ('н', 60920), ('и', 62030), ('а', 73555), ('е', 80972), ('о', 106740), (' ', 182305)]\n",
            "[('_', 4), ('w', 7), ('y', 8), ('`', 9), ('/', 20), ('k', 21), ('0', 22), ('x', 24), ('9', 36), ('8', 38), ('5', 40), ('j', 40), ('3', 40), ('2', 42), ('6', 42), ('4', 42), ('7', 42), ('z', 44), ('1', 46), ('q', 50), ('f', 52), (\"'\", 59), ('ъ', 63), ('g', 73), ('v', 87), (']', 97), ('[', 97), ('p', 100), ('»', 128), ('«', 129), ('d', 192), (':', 212), ('b', 220), ('h', 227), (')', 276), ('(', 276), ('…', 280), ('u', 285), ('r', 308), ('c', 324), ('t', 332), ('i', 369), ('o', 377), ('m', 401), (';', 406), ('s', 429), ('n', 459), ('l', 571), ('?', 571), ('щ', 587), ('a', 590), ('ф', 634), ('!', 718), ('ц', 817), ('э', 836), ('-', 900), ('e', 1200), ('ю', 1323), ('\\xa0', 1472), ('х', 1535), ('—', 1726), ('ш', 1943), ('й', 2028), ('ж', 2297), ('\\n', 2734), ('.', 2954), ('з', 3355), ('ы', 3869), ('г', 3948), ('б', 3980), ('ч', 4113), ('ь', 4857), ('я', 5458), ('п', 5489), ('у', 6044), (',', 6372), ('д', 6681), ('к', 6744), ('м', 7106), ('в', 9398), ('р', 9482), ('л', 9961), ('с', 11507), ('и', 13587), ('н', 14240), ('т', 14245), ('а', 18236), ('е', 20054), ('о', 23130), (' ', 45076)]\n"
          ]
        }
      ]
    },
    {
      "cell_type": "markdown",
      "metadata": {
        "id": "Tn-8pHqOFW7Y"
      },
      "source": [
        "2. Решить задачу 1, распараллелив вычисления с помощью модуля `multiprocessing`. Для обработки каждого файла создать свой собственный процесс."
      ]
    },
    {
      "cell_type": "code",
      "source": [
        "import count_symbols_\n",
        "\n",
        "names = ['Dostoevskiy Fedor. Prestuplenie i nakazanie - BooksCafe.Net.txt',\n",
        "         'Dostoevskiy Fedor. Igrok - BooksCafe.Net.txt']\n",
        "pool = mp.Pool(processes=2)\n",
        "results = [pool.apply_async(count_symbols_.count_symbols_in_book, args=(x,)) for x in names]\n",
        "\n",
        "print(*[p.get() for p in results], sep='\\n')"
      ],
      "metadata": {
        "colab": {
          "base_uri": "https://localhost:8080/"
        },
        "id": "M-Y6jK_hnpZv",
        "outputId": "f735dc89-9bfd-4ecd-f6dd-b1dbd243a560"
      },
      "execution_count": null,
      "outputs": [
        {
          "output_type": "stream",
          "name": "stdout",
          "text": [
            "[('j', 1), ('w', 4), ('y', 5), ('_', 8), ('q', 9), (\"'\", 11), ('z', 11), ('k', 16), ('g', 19), ('&', 22), ('#', 22), ('/', 22), ('f', 23), ('b', 25), ('p', 29), ('d', 38), ('c', 42), ('„', 44), ('“', 44), ('№', 45), ('l', 46), ('\\t', 48), ('h', 48), ('–', 49), ('x', 52), ('m', 54), ('v', 65), ('r', 76), (']', 85), ('[', 85), ('u', 86), ('s', 96), ('t', 98), ('a', 98), ('9', 100), ('o', 104), ('0', 110), ('n', 114), ('3', 120), ('7', 121), ('4', 130), ('5', 136), ('2', 141), ('e', 162), ('ъ', 223), ('i', 235), ('6', 271), ('8', 297), ('1', 384), (')', 527), ('(', 528), ('ё', 969), (':', 984), ('»', 1175), ('«', 1187), ('ф', 1237), (';', 1322), ('…', 2263), ('?', 2266), ('ц', 2782), ('щ', 3039), ('э', 3203), ('!', 3280), ('-', 3558), ('ю', 5418), ('\\xa0', 6092), ('—', 6440), ('ш', 7437), ('х', 8127), ('\\n', 8583), ('й', 9747), ('.', 9864), ('ж', 10552), ('з', 14414), ('ы', 15449), ('б', 16016), ('г', 16174), ('ч', 16492), ('я', 19751), ('ь', 20554), ('п', 25652), (',', 26973), ('у', 27309), ('м', 29312), ('д', 29633), ('к', 30802), ('р', 39784), ('л', 42328), ('в', 43700), ('с', 50084), ('т', 59813), ('н', 60920), ('и', 62030), ('а', 73555), ('е', 80972), ('о', 106740), (' ', 182305)]\n",
            "[('_', 4), ('w', 7), ('y', 8), ('`', 9), ('/', 20), ('k', 21), ('0', 22), ('x', 24), ('9', 36), ('8', 38), ('5', 40), ('j', 40), ('3', 40), ('2', 42), ('6', 42), ('4', 42), ('7', 42), ('z', 44), ('1', 46), ('q', 50), ('f', 52), (\"'\", 59), ('ъ', 63), ('g', 73), ('v', 87), (']', 97), ('[', 97), ('p', 100), ('»', 128), ('«', 129), ('d', 192), (':', 212), ('b', 220), ('h', 227), (')', 276), ('(', 276), ('…', 280), ('u', 285), ('r', 308), ('c', 324), ('t', 332), ('i', 369), ('o', 377), ('m', 401), (';', 406), ('s', 429), ('n', 459), ('l', 571), ('?', 571), ('щ', 587), ('a', 590), ('ф', 634), ('!', 718), ('ц', 817), ('э', 836), ('-', 900), ('e', 1200), ('ю', 1323), ('\\xa0', 1472), ('х', 1535), ('—', 1726), ('ш', 1943), ('й', 2028), ('ж', 2297), ('\\n', 2734), ('.', 2954), ('з', 3355), ('ы', 3869), ('г', 3948), ('б', 3980), ('ч', 4113), ('ь', 4857), ('я', 5458), ('п', 5489), ('у', 6044), (',', 6372), ('д', 6681), ('к', 6744), ('м', 7106), ('в', 9398), ('р', 9482), ('л', 9961), ('с', 11507), ('и', 13587), ('н', 14240), ('т', 14245), ('а', 18236), ('е', 20054), ('о', 23130), (' ', 45076)]\n"
          ]
        }
      ]
    },
    {
      "cell_type": "markdown",
      "metadata": {
        "id": "rhfctNIjFW7Z"
      },
      "source": [
        "## Лабораторная работа 10"
      ]
    },
    {
      "cell_type": "markdown",
      "metadata": {
        "id": "2B0zWskfFW7a"
      },
      "source": [
        "1. Разбейте файл `recipes_full.csv` на несколько (например, 8) примерно одинаковых по объему файлов c названиями `id_tag_nsteps_*.csv`. Каждый файл содержит 3 столбца: `id`, `tag` и `n_steps`, разделенных символом `;`. Для разбора строк используйте `csv.reader`.\n",
        "\n",
        "__Важно__: вы не можете загружать в память весь файл сразу. Посмотреть на первые несколько строк файла вы можете, написав код, который считывает эти строки.\n",
        "\n",
        "Подсказка: примерное кол-во строк в файле - 2.3 млн.\n",
        "\n",
        "```\n",
        "id;tag;n_steps\n",
        "137739;60-minutes-or-less;11\n",
        "137739;time-to-make;11\n",
        "137739;course;11\n",
        "```\n"
      ]
    },
    {
      "cell_type": "code",
      "source": [
        "import csv\n",
        "\n",
        "file_size = 2.3 * 10**6 // 8\n",
        "\n",
        "with open(\"/content/drive/MyDrive/ТОБД/recipes_full.csv\", \"r\") as f:\n",
        "  columns = f.readline().split(',')\n",
        "\n",
        "  output_file = open('id_tag_nsteps_1.csv', 'w')\n",
        "  writer = csv.writer(output_file, delimiter=',')\n",
        "\n",
        "  for i, row in enumerate(csv.reader(f, delimiter=',')):\n",
        "    if i % file_size == 0:\n",
        "      output_file = open(f'id_tag_nsteps_{int(i // file_size)}.csv', 'w')\n",
        "      writer = csv.writer(output_file, delimiter=',')\n",
        "    writer.writerow([row[columns.index('id')], row[columns.index('tags')].replace('[', '').replace(']', '').replace(\"'\", ''), row[columns.index('n_steps')]])"
      ],
      "metadata": {
        "id": "vPIWaQPeWRGx"
      },
      "execution_count": null,
      "outputs": []
    },
    {
      "cell_type": "markdown",
      "metadata": {
        "id": "bTpLS_8UFW7b"
      },
      "source": [
        "2. Напишите функцию, которая принимает на вход название файла, созданного в результате решения задачи 1, считает среднее значение количества шагов для каждого тэга и возвращает результат в виде словаря."
      ]
    },
    {
      "cell_type": "code",
      "source": [
        "def find_unique_tags(file_name):\n",
        "  unique_tags = {}\n",
        "\n",
        "  with open(file_name, 'r') as f:\n",
        "    for i, row in enumerate(csv.reader(f, delimiter=',')):\n",
        "      tags = row[1].split(', ')\n",
        "      for tag in tags:\n",
        "        if tag not in unique_tags.keys():\n",
        "          unique_tags[tag] = (1, int(row[2]))\n",
        "        else:\n",
        "          unique_tags[tag] = (unique_tags[tag][0] + 1, unique_tags[tag][1] + int(row[2]))\n",
        "\n",
        "  for key in unique_tags.keys():\n",
        "    unique_tags[key] = unique_tags[key][1] / unique_tags[key][0]\n",
        "\n",
        "  return unique_tags\n",
        "\n",
        "\n",
        "print(find_unique_tags('id_tag_nsteps_0.csv'))"
      ],
      "metadata": {
        "id": "wCr-bUQhWReJ",
        "colab": {
          "base_uri": "https://localhost:8080/"
        },
        "outputId": "0d8cb983-8af0-41bf-9a16-f2be34649259"
      },
      "execution_count": null,
      "outputs": [
        {
          "output_type": "stream",
          "name": "stdout",
          "text": [
            "{'mexican': 5.311320754716981, 'healthy-2': 6.332820775670596, 'orange-roughy': 3.4480574324324325, 'chicken-thighs-legs': 4.181891348088532, 'freezer': 3.919798527702441, 'whitefish': 3.526072329688814, 'pork-sausage': 4.298139004937334, 'brunch': 6.906736842105263, 'ham-and-bean-soup': 3.5179180887372015, 'colombian': 3.5746367239101717, 'savory-pies': 4.291799363057325, 'refrigerator': 4.748078266946192, 'australian': 4.24545116969922, 'served-cold': 4.941708229426434, 'spaghetti': 4.131141045958795, 'passover': 3.6275109170305675, 'quick-breads': 4.967139175257732, 'californian': 3.75273168757588, 'namibian': 3.5004244482173177, 'candy': 4.291462955998496, 'independence-day': 4.142910447761194, 'baking': 3.5878839590443685, 'pennsylvania-dutch': 3.5395445134575567, 'weeknight': 7.436413361984763, '60-minutes-or-less': 9.320880644881685, 'time-to-make': 9.247593582887701, 'course': 9.237038000195039, 'cuisine': 9.12648110495688, 'preparation': 9.289580430407185, 'occasion': 9.164448061384642, 'north-american': 8.152950576418217, 'desserts': 9.145772594752186, 'dinner-party': 8.246932097082084, 'holiday-event': 8.33072493725085, 'cookies-and-brownies': 6.800662758093296, 'gelatin': 3.7768662838392126, 'high-in-something': 5.489043567929879, 'barbecue': 4.632081911262799, 'main-ingredient': 9.317593235570442, 'main-dish': 9.423355774210254, 'poultry': 7.635381012430193, 'easy': 7.2396878483835, 'chicken': 7.334714003944773, 'one-dish-meal': 6.932051855163165, 'comfort-food': 7.493540502793296, 'meat': 8.936682582520241, 'chicken-breasts': 5.8292755344418055, 'taste-mood': 8.537598944591029, 'peppers': 4.502521613832853, 'grapes': 3.567295597484277, 'veal': 3.656436487638534, 'kid-friendly': 7.072934376062563, 'breakfast-casseroles': 3.4931153184165233, 'peruvian': 3.604651162790698, 'filipino': 3.628535246939637, 'for-large-groups': 7.399195350916406, 'pasta-salad': 3.4593777009507347, 'rosh-hashana': 3.6169590643274856, 'dips-summer': 3.478426395939086, 'chutneys': 3.5864661654135337, 'mardi-gras-carnival': 3.63771186440678, 'small-appliance': 5.297841726618705, 'desserts-easy': 3.496021220159151, 'high-protein': 5.114583333333333, 'beginner-cook': 6.334789573321683, 'bacon': 4.069018999612253, 'pork-loins': 3.9618627057406663, 'beef-barley-soup': 3.488975356679637, 'crab': 3.997991161108879, 'collard-greens': 3.4969670710571923, 'long-grain-rice': 3.942368839427663, 'oatmeal': 3.514982876712329, 'deer': 3.620274914089347, 'Throw the ultimate fiesta with this sopaipillas recipe from Food.com.': 3.502572898799314, 'camping': 3.951845906902087, 'quebec': 3.5476394849785406, 'chicken-crock-pot': 3.5921926910299002, 'microwave': 4.146080305927343, 'shrimp-main-dish': 3.435580204778157, 'medium-grain-rice': 3.4955414012738855, 'low-protein': 6.319344773790951, 'german': 4.052882703777336, 'european': 8.01892232834745, 'sandwiches': 4.7828496902510595, 'beef-sauces': 3.5597210113339144, 'rolls-biscuits': 4.307840122982321, 'steam': 3.6811244979919677, 'memorial-day': 3.5395956192080877, 'salads': 5.135890151515151, 'biscotti': 3.760486577181208, 'wedding': 3.8882163034705406, 'mashed-potatoes': 3.5773884021693783, 'pressure-canning': 3.507533362031855, 'eggs-dairy': 7.6149562450278445, 'tropical-fruit': 4.623064250411861, 'easter': 4.378021148036254, 'cinco-de-mayo': 3.5698513800424627, 'granola-and-porridge': 3.654036243822076, 'sole-and-flounder': 3.569948186528497, 'irish': 3.814539446509707, 'cambodian': 3.5449688334817453, 'pasta': 6.553139506474468, 'dairy-free': 3.59174116645381, 'potatoes': 5.837247405789186, 'scottish': 3.8558371416701287, 'bean-soup': 3.4738631534211644, 'bar-cookies': 4.857142857142857, 'valentines-day': 4.3140403286034354, 'cooking-mixes': 3.691397000789266, 'icelandic': 3.5495495495495497, 'pork-chops': 4.034415330465389, 'lamb-sheep': 4.1605431309904155, 'kiwifruit': 3.523427606585057, 'coconut': 4.234836702954899, 'georgian': 3.463996591393268, 'less_thansql:name_topics_of_recipegreater_than': 3.480118443316413, 'crock-pot-main-dish': 3.5289151540734487, 'greek': 4.306860551826995, 'dutch': 3.563533507397737, 'seafood': 6.3673902784332235, 'thai': 3.9495798319327733, 'spinach': 4.175314465408805, 'christmas': 5.919080322484324, 'freshwater-fish': 3.807160292921074, 'cake-fillings-and-frostings': 3.9232307077169133, 'mussels': 3.6137044967880088, 'asian': 6.448267326732673, 'jewish-ashkenazi': 3.815744680851064, 'casseroles': 5.231336405529954, 'romantic': 5.084030800133914, 'unprocessed-freezer': 3.461080391322841, 'fruit': 7.334268787028376, 'cabbage': 3.5199124726477025, 'grains': 5.144491663942465, 'equipment': 8.546581159545887, '15-minutes-or-less': 4.972413793103448, '30-minutes-or-less': 7.585726262837979, 'lime': 3.5872305815372103, 'czech': 3.5534979423868314, 'iranian-persian': 3.6066805845511483, 'eggs': 5.952862926547137, 'salad-dressings': 3.7783505154639174, 'appetizers': 6.2664912990692025, 'side-dishes': 6.586343309253526, 'vegetables': 8.063066908547647, 'american': 7.548193697156034, 'fall': 5.502732240437158, 'finger-food': 5.325137495956001, 'picnic': 5.114071856287425, 'spring': 4.541566057261124, 'summer': 5.306987399770905, 'vegetarian': 7.194676258992806, 'winter': 5.486568986568987, 'stove-top': 7.234513274336283, 'dietary': 8.814933019779112, 'copycat': 4.212328767123288, 'seasonal': 6.773481741847295, 'brown-bag': 4.440376948169627, 'inexpensive': 6.899470098410295, 'toddler-friendly': 4.470865611316942, 'novelty': 4.880783519081391, 'to-go': 6.4499897309509135, 'presentation': 7.289560439560439, 'served-hot': 6.507952537238071, '3-steps-or-less': 4.691670667306769, 'oven': 8.236470770662118, 'brazilian': 3.5968586387434556, 'pork': 6.401060070671378, 'canning': 4.017536534446764, 'chicken-livers': 3.4925309432351686, 'wild-game': 3.715406856670797, 'puddings-and-mousses': 4.315992292870906, 'beans-side-dishes': 3.48303647158609, 'ontario': 3.7674044265593563, 'savory': 6.187015762757147, 'low-sodium': 7.348, 'bass': 3.5768736616702355, 'meatballs': 3.614120781527531, 'prepared-potatoes': 3.50169779286927, 'oaxacan': 3.506935687263556, 'saudi-arabian': 3.528085106382979, 'zucchini': 3.6468029578077426, 'roast-beef': 4.009414654113795, 'caribbean': 4.053483992467044, 'flat-shapes': 3.772422464375524, 'healthy': 7.003283425269241, 'italian': 5.9470319634703195, 'low-cholesterol': 6.585502378953261, 'low-saturated-fat': 6.459396025661086, 'low-calorie': 6.6662472035794185, 'low-carb': 7.277678571428571, 'low-in-something': 7.98668352923672, 'green-yellow-beans': 3.9516253869969042, 'tomatoes': 4.791907514450867, 'for-1-or-2': 5.391391573955864, 'nepalese': 3.4632386107352278, 'pasta-rice-and-grains': 7.693433199790977, 'white-rice': 3.8692651238327245, 'lasagne': 3.5323617659665665, 'reynolds-wrap': 3.585774058577406, 'norwegian': 3.5627763041556144, 'egyptian': 3.6217484008528786, 'simply-potatoes': 3.6625666256662566, 'clear-soups': 3.689365279529214, 'soups-stews': 5.904035178479048, 'beans': 5.571428571428571, '4-hours-or-less': 10.14034687357371, 'beef': 6.924902046147149, 'ground-beef': 5.525594149908592, 'burgers': 3.6288916562889164, 'high-calcium': 4.526440677966102, 'nuts': 5.579362670713202, 'snacks-kid-friendly': 3.5072402044293014, 'manicotti': 3.5980819529206625, 'heirloom-historical-recipes': 3.5346358792184724, 'pheasant': 3.4788245462402765, 'fudge': 3.701606425702811, 'micro-melanesia': 3.5080071174377223, 'cajun': 3.923943661971831, 'breakfast-eggs': 3.483093829247675, 'cranberry-sauce': 3.445108927808629, 'ham': 3.8986027944111776, 'laotian': 3.491782006920415, 'wings': 3.7994075327972916, 'muffins': 4.305304944063515, 'ethiopian': 3.5024741340530814, 'whole-turkey': 3.5998256320836965, 'cuban': 3.548643006263048, 'austrian': 3.5785374296841193, 'guatemalan': 3.5276360544217686, 'pickeral': 3.5439681838267787, 'stir-fry': 4.213474343909127, 'roast-beef-main-dish': 3.559640872167593, 'high-in-something-diabetic-friendly': 3.5590248075278015, 'belgian': 3.6132433572332348, 'duck': 3.6461864406779663, 'middle-eastern-main-dish': 3.504803493449782, 'curries': 4.063112504900039, 'pies-and-tarts': 5.1875, 'snacks-sweet': 3.4841337907375642, 'heirloom-historical': 5.041783707865169, 'honduran': 3.460813704496788, 'halloween-cocktails': 3.5396210163652024, 'baked-beans': 3.4943722943722944, 'trout': 3.5761904761904764, 'chicken-stews': 3.508576329331046, 'lunch': 6.755526166635178, 'midwestern': 4.415570175438597, 'egg-free': 4.694007365249414, 'free-of-something': 5.726895119418484, 'number-of-servings': 7.8373737373737375, 'potluck': 5.715095868214961, 'dips': 4.030271757825937, 'spreads': 3.8722753346080308, 'cheese': 6.55830223880597, 'sweet-sauces': 3.594852635948526, 'somalian': 3.4913245873889123, 'shellfish': 5.4600737100737105, 'squash': 4.741717135732098, 'libyan': 3.4113175675675675, 'chilean': 3.5558375634517767, 'pitted-fruit': 4.150078369905956, 'chowders': 3.865979381443299, 'southern-united-states': 5.29593984962406, 'no-shell-fish': 3.6022397345499795, 'steaks': 3.92591059602649, 'turkey-burgers': 3.5004299226139297, 'kwanzaa': 3.662066081137599, 'irish-st-patricks-day': 3.4892148403796375, 'infant-baby-friendly': 3.647009267059815, 'celebrity': 3.828887977020927, 'costa-rican': 3.542869641294838, 'marinara-sauce': 3.5310314685314683, 'macaroni-and-cheese': 3.5097210481825867, 'bisques-cream-soups': 4.1784358390280945, 'cantonese': 3.5748936170212766, 'scandinavian': 3.836033188463058, 'french': 4.465800534963699, 'hanukkah': 3.738551207327227, 'chinese-new-year': 3.5453005927180357, 'pumpkin-bread': 3.5322921063739976, '1-day-or-more': 4.603414823438106, 'amish-mennonite': 3.5913481730365393, 'mixer': 4.318343195266272, 'blueberries': 3.9179584120982986, 'spanish': 3.8470783257355987, 'pressure-cooker': 3.6937051119560627, 'birthday': 3.5451096121416525, 'low-fat': 5.847122650649099, 'african': 4.275036818851252, 'turkey': 4.312618416066692, 'gluten-free': 4.759684832567301, 'pork-loin': 3.5206576728499157, 'main-dish-beef': 3.4778534923339013, 'water-bath': 3.767962806424345, 'lactose': 4.600269179004037, 'british-columbian': 3.649415692821369, 'main-dish-pork': 3.49936088623775, 'ragu-recipe-contest': 3.5559322033898306, 'pizza': 4.083827599841834, 'mahi-mahi': 3.587386644682605, 'creole': 3.7924604783137412, 'swedish': 3.5139220365950674, 'mango': 3.653378094838439, 'pork-crock-pot': 3.537381247418422, 'oamc-freezer-make-ahead': 5.009786787836421, 'crock-pot-slow-cooker': 4.754320987654321, 'bear': 3.4914361001317524, 'stews': 4.009385999217834, 'condiments-etc': 4.821112844513781, 'tuna': 3.7695722356739307, 'brewing': 3.50520381613183, 'veggie-burgers': 3.5141752577319587, 'served-hot-new-years': 3.5277171540811874, 'pork-ribs': 3.690077582686811, 'rolled-cookies': 3.8087812884694294, 'indonesian': 3.5633744855967078, 'lettuces': 3.6856573705179283, 'lentils': 3.949711459192086, 'breads': 6.928934010152284, 'tarts': 3.734651833539349, 'south-american': 3.8887996788438377, 'black-bean-soup': 3.451804670912951, 'food-processor-blender': 4.570891697984284, 'polish': 3.6479674796747967, 'punch': 3.5169660678642716, 'puerto-rican': 3.5209158960810214, 'non-alcoholic': 3.5488754325259517, 'superbowl': 3.9956245027844073, 'pakistani': 3.5238095238095237, 'jewish-sephardi': 3.566919191919192, 'mongolian': 3.4834324553950724, 'chick-peas-garbanzos': 3.9210943695479776, 'beef-sausage': 3.701320132013201, 'pasta-rice-and-grains-elbow-macaroni': 3.4853574504737295, 'vegan': 5.18109151047409, '5-ingredients-or-less': 5.3802053622361665, 'hunan': 3.5023902651021297, 'chinese': 4.289338089575902, 'salmon': 4.1831362075543685, 'fish': 5.188512068438741, 'saltwater-fish': 4.711249182472204, 'baja': 3.5094017094017094, 'herb-and-spice-mixes': 3.53654552878726, 'black-beans': 3.9011201235998456, 'pot-roast': 3.4861227922624054, 'salsas': 3.5974454058508445, 'breakfast': 6.095376422173808, 'kosher': 4.759674134419552, 'mushroom-soup': 3.5113065326633164, 'greens': 4.6604231703087065, 'a1-sauce': 3.491460290350128, 'whole-chicken': 3.987911629845769, 'cakes': 6.7390470974808325, 'shakes': 3.5346737792367664, 'ramadan': 3.5850515463917527, 'halloween-cupcakes': 3.4804375262936476, 'moose': 3.4884516680923867, 'finnish': 3.516470109800732, 'dips-lunch-snacks': 3.514792899408284, 'jellies': 3.6129436325678497, 'cherries': 3.6332366348943226, 'turkish': 3.650526315789474, 'palestinian': 3.477107402652974, 'pasta-shells': 3.7235524597300826, 'south-west-pacific': 4.467100753941056, 'quiche': 3.5344234079173837, 'breakfast-potatoes': 3.5019728189390618, 'lemon': 4.115906288532676, 'strawberries': 4.096749811035525, 'english': 4.132075471698113, 'for-large-groups-holiday-event': 3.5393548387096776, 'duck-breasts': 3.489888567891044, 'pies': 4.6114008941877795, 'vietnamese': 3.6124260355029585, 'drop-cookies': 4.375138325341203, 'ecuadorean': 3.5363175675675675, 'polynesian': 3.53684643886373, 'snacks': 4.964380335590227, 'szechuan': 3.575348248205994, 'citrus': 4.618336886993603, 'gifts': 5.588984399872652, 'broccoli': 4.1047469595919965, 'bread-machine': 3.697774306911363, 'new-zealand': 3.650433347090384, 'technique': 5.407262277951933, 'no-cook': 3.95715206185567, 'tempeh': 3.4729064039408866, 'carrots': 4.355844155844156, 'cauliflower': 3.756312625250501, 'mothers-day': 3.4809421841541757, 'northeastern-united-states': 4.281144147534814, 'frozen-desserts': 4.0596786534047435, 'brown-rice': 3.607631688096226, 'tilapia': 3.554585152838428, 'lobster': 3.602803738317757, 'spaghetti-sauce': 3.4874414644529588, 'rosh-hashanah': 3.5582362728785357, 'pacific-northwest': 3.807784911717496, 'scallops': 3.6803519061583576, 'octopus': 3.469666532744074, 'roast-beef-comfort-food': 3.5491329479768785, 'cupcakes': 3.9400656814449917, 'halloween': 3.7860169491525424, 'whole-duck': 3.585600669736291, 'labor-day': 3.524536082474227, 'pasta-elbow-macaroni': 3.4483069977426637, 'indian': 4.393916913946588, 'side-dishes-beans': 3.4857142857142858, 'stocks': 3.6717622080679404, 'bananas': 4.006540977298961, 'sweet': 6.110928961748634, 'lamb-sheep-main-dish': 3.5028421512898995, 'hidden-valley-ranch': 3.541529605263158, 'sauces': 4.233355749831876, 'stews-poultry': 3.4736186123805566, 'apples': 4.767341520079655, 'main-dish-pasta': 3.466053438458169, 'moroccan': 3.778894472361809, 'danish': 3.5912440398786303, 'korean': 3.5840592334494774, 'pork-loins-roast': 3.552133743950726, 'meatloaf': 3.531678082191781, 'grilling': 4.910891089108911, 'chard': 3.569277108433735, 'cobblers-and-crisps': 3.953757225433526, 'canadian': 4.777970211291999, 'berries': 5.0051679586563305, 'garnishes': 3.544861337683524, 'raspberries': 3.8013698630136985, 'peaches': 3.8225160256410255, 'penne': 3.931172468987595, 'oranges': 3.9122392758756397, 'beef-crock-pot': 3.4846652267818574, 'gumbo': 3.6219405594405596, 'cheesecake': 4.540140296180827, 'ravioli-tortellini': 3.7794294897549214, 'quail': 3.5576430401366355, 'super-bowl': 3.5982871125611746, 'chicken-stew': 3.511783014673188, 'middle-eastern': 4.214920757634325, 'spicy': 5.554458408138839, 'asparagus': 4.046354992076069, 'japanese': 3.8177379983726607, 'venezuelan': 3.541156606162938, 'april-fools-day': 3.5522889542209155, 'goose': 3.4735746982937994, 'beef-kidney': 3.5149754135002236, 'beverages': 3.8725617685305593, 'nigerian': 3.4623884402889926, 'rabbit': 3.5266639107069038, 'argentine': 3.5825708061002177, 'pineapple': 3.96205860255447, 'soul': 3.5596638655462183, '': 3.5604395604395602, 'broil': 4.021350931677019, 'smoothies': 3.484174830444612, 'mushrooms': 4.626248216833096, 'pears': 3.786898839137645, 'omelets-and-frittatas': 3.9701612903225807, 'onions': 5.093532338308457, 'south-african': 3.6303030303030304, 'cocktails': 3.590625, 'high-fiber': 3.5631672597864767, 'college': 3.547939262472885, 'st-patricks-day': 3.7034789644012944, 'main-dish-chicken': 3.5163934426229506, 'bok-choys': 3.51413881748072, 'lasagna': 4.133744855967078, 'soy-tofu': 3.9559748427672954, 'oysters': 3.590484282073067, 'rice': 5.009980682549903, 'halloween-cakes': 3.503578947368421, 'beef-organ-meats': 3.504684838160136, 'portuguese': 3.647108130762783, 'pumpkin': 3.511240632805995, 'yeast': 5.036118980169972, 'roast': 4.122465866776996, 'iraqi': 3.5629660314830156, 'avocado': 3.456493784826404, 'sudanese': 3.437984496124031, 'diabetic': 4.850782929075836, 'crusts-pastry-dough-2': 3.707567336468576, 'simply-potatoes2': 3.537241075363596, 'pancakes-and-waffles': 4.193636010865347, 'russian': 3.7893850042123, 'steak': 3.921591804570528, 'new-years': 4.401363120030291, 'perch': 3.526498696785404, 'desserts-fruit': 3.5163865546218487, 'welsh': 3.62882096069869, 'chocolate-chip-cookies': 3.5580204778157, 'stuffings-dressings': 3.706882255389718, 'beef-ribs': 3.6126384899466557, 'dehydrator': 3.548467274233637, 'central-american': 4.089972255251684, 'coffee-cakes': 3.978498985801217, 'halibut': 3.5662020905923346, 'bread-pudding': 3.5263385146804835, 'tex-mex': 4.004428341384863, 'fathers-day': 3.4832698009318084, 'lebanese': 3.6859923825645367, 'scones': 3.8892068683565, 'catfish': 3.5735865343116098, 'elk': 3.50148493848112, 'eggplant': 3.63244176013805, 'thanksgiving': 4.903798367057153, 'jams-and-preserves': 3.8534095549203755, 'fillings-and-frostings-chocolate': 3.477203647416413, 'plums': 3.5751605995717344, 'malaysian': 3.561916878710772, 'crawfish': 3.5283018867924527, 'marinades-and-rubs': 3.573640333465661, 'deep-fry': 4.052170283806344, 'chocolate': 6.254946297343132, 'hawaiian': 3.619672131147541, 'chili': 3.9473893981666004, 'squid': 3.476764199655766, 'cod': 3.6466445733222868, 'turkey-breasts': 3.616967660646787, 'beijing': 3.5068201193520885, 'native-american': 3.532754880694143, 'savory-sauces': 3.852214817718542, 'main-dish-seafood': 3.4346689895470384, 'swiss': 3.6045415595544132, 'southwestern-united-states': 4.510146955913226, 'yams-sweet-potatoes': 4.008624068992552, 'ice-cream': 3.5625531914893616, 'melons': 3.597334410339257, 'sourdough': 3.5789707187222715, 'hungarian': 3.6433946488294313, 'nut-free': 3.5928118393234674, 'short-grain-rice': 3.654229934924078, 'shrimp': 4.943954881917518, 'congolese': 3.5593869731800765, 'peanut-butter': 3.5862516212710767, 'brownies': 3.951357924604783, 'papaya': 3.5784105397365065, 'sugar-cookies': 3.5610260653702936, 'very-low-carbs': 5.38603577611079, 'leftovers': 3.6263463131731566, 'elbow-macaroni': 4.038051750380517, 'hand-formed-cookies': 4.275658670861188, 'clams': 3.6332109343125256, 'from-scratch': 4.6137832017229, 'pot-pie': 3.5328677074774033, 'corn': 4.08336549594751, 'artichoke': 3.5471226021684736, 'smoker': 3.5210643015521064, 'beef-liver': 3.56137339055794, 'eggs-breakfast': 3.4929697486152533, 'angolan': 3.5004208754208754}\n"
          ]
        }
      ]
    },
    {
      "cell_type": "markdown",
      "metadata": {
        "id": "_laZ-n3ZFW7b"
      },
      "source": [
        "3. Напишите функцию, которая считает среднее значение количества шагов для каждого тэга по всем файлам, полученным в задаче 1, и возвращает результат в виде словаря. Не используйте параллельных вычислений. При реализации выделите функцию, которая объединяет результаты обработки отдельных файлов. Модифицируйте код из задачи 2 таким образом, чтобы иметь возможность получить результат, имея результаты обработки отдельных файлов. Определите, за какое время задача решается для всех файлов.\n"
      ]
    },
    {
      "cell_type": "code",
      "source": [
        "%%time\n",
        "\n",
        "def find_unique_tags(file_name):\n",
        "  unique_tags = {}\n",
        "\n",
        "  with open(file_name, 'r') as f:\n",
        "    for i, row in enumerate(csv.reader(f, delimiter=',')):\n",
        "      tags = row[1].split(', ')\n",
        "      for tag in tags:\n",
        "        if tag not in unique_tags.keys():\n",
        "          unique_tags[tag] = (1, int(row[2]))\n",
        "        else:\n",
        "          unique_tags[tag] = (unique_tags[tag][0] + 1, unique_tags[tag][1] + int(row[2]))\n",
        "\n",
        "  return unique_tags\n",
        "\n",
        "\n",
        "def merge_results():\n",
        "  all_unique_tags = {}\n",
        "  for i in range(8):\n",
        "    currect_unique_tags = find_unique_tags(f\"id_tag_nsteps_{i}.csv\")\n",
        "    for tag in currect_unique_tags.keys():\n",
        "      if tag not in all_unique_tags.keys():\n",
        "        all_unique_tags[tag] = currect_unique_tags[tag]\n",
        "      else:\n",
        "        all_unique_tags[tag] = (all_unique_tags[tag][0] + currect_unique_tags[tag][0],\n",
        "                                all_unique_tags[tag][1] + currect_unique_tags[tag][1])\n",
        "\n",
        "  for key in all_unique_tags.keys():\n",
        "    all_unique_tags[key] = all_unique_tags[key][1] / all_unique_tags[key][0]\n",
        "\n",
        "  return all_unique_tags\n",
        "\n",
        "\n",
        "print(merge_results())"
      ],
      "metadata": {
        "id": "B6V-Ees9WR6p",
        "colab": {
          "base_uri": "https://localhost:8080/"
        },
        "outputId": "324b88f8-ba6a-4d2a-b7e7-428f1285b0dc"
      },
      "execution_count": null,
      "outputs": [
        {
          "output_type": "stream",
          "name": "stdout",
          "text": [
            "{'mexican': 5.301792547834844, 'healthy-2': 6.384162244806188, 'orange-roughy': 3.5135644937586683, 'chicken-thighs-legs': 4.145581465931509, 'freezer': 4.033043922369765, 'whitefish': 3.514734127201888, 'pork-sausage': 4.255981694274486, 'brunch': 6.871549922653133, 'ham-and-bean-soup': 3.508423254789694, 'colombian': 3.5360135838308593, 'savory-pies': 4.298328243879716, 'refrigerator': 4.702294079091108, 'australian': 4.218603314493725, 'served-cold': 4.911663673979233, 'spaghetti': 4.0825152293208475, 'passover': 3.658820965457121, 'quick-breads': 5.059023265562775, 'californian': 3.74143203627544, 'namibian': 3.5042895887529752, 'candy': 4.229612689762553, 'independence-day': 4.10637159533074, 'baking': 3.6306821245618766, 'pennsylvania-dutch': 3.5471966710468683, 'weeknight': 7.413649806241077, '60-minutes-or-less': 9.413602442333785, 'time-to-make': 9.278471292592988, 'course': 9.274649020305171, 'cuisine': 9.169982611878833, 'preparation': 9.293402191225445, 'occasion': 9.13625109453788, 'north-american': 8.18706162136127, 'desserts': 9.023505982599044, 'dinner-party': 8.23403451995685, 'holiday-event': 8.308218661639962, 'cookies-and-brownies': 6.727248893986564, 'gelatin': 3.7341488168367074, 'high-in-something': 5.4657229524772495, 'barbecue': 4.596669048044293, 'main-ingredient': 9.315163927902498, 'main-dish': 9.44243402739116, 'poultry': 7.6739336492891, 'easy': 7.253304422522723, 'chicken': 7.325226860254084, 'one-dish-meal': 7.003855449418805, 'comfort-food': 7.501108948535736, 'meat': 8.918743681337197, 'chicken-breasts': 5.757163077158487, 'taste-mood': 8.455585970187357, 'peppers': 4.517914691943128, 'grapes': 3.5635613911345017, 'veal': 3.680577413577902, 'kid-friendly': 7.095552329417975, 'breakfast-casseroles': 3.506533222129552, 'peruvian': 3.566594190778837, 'filipino': 3.575145609928692, 'for-large-groups': 7.293004554911994, 'pasta-salad': 3.504848484848485, 'rosh-hashana': 3.6900091857135138, 'dips-summer': 3.484745194456862, 'chutneys': 3.5558799675587998, 'mardi-gras-carnival': 3.6024259489900903, 'small-appliance': 5.241089441829186, 'desserts-easy': 3.5050172725777267, 'high-protein': 5.007946914610402, 'beginner-cook': 6.325948599264637, 'bacon': 4.106558195248553, 'pork-loins': 4.010719834282755, 'beef-barley-soup': 3.498673006745549, 'crab': 3.950655712609073, 'collard-greens': 3.5319676193622995, 'long-grain-rice': 3.9543551305246836, 'oatmeal': 3.500110460620789, 'deer': 3.6036775570513875, 'Throw the ultimate fiesta with this sopaipillas recipe from Food.com.': 3.511621562636403, 'camping': 3.934283942963422, 'quebec': 3.5783718768793396, 'chicken-crock-pot': 3.5050559965206047, 'microwave': 4.0819245134656965, 'shrimp-main-dish': 3.500250180686051, 'medium-grain-rice': 3.550577719642468, 'low-protein': 6.292347241447499, 'german': 4.057022013860579, 'european': 8.0163594899004, 'sandwiches': 4.794260578131546, 'beef-sauces': 3.5037515745659675, 'rolls-biscuits': 4.376873661670236, 'steam': 3.6812774622226985, 'memorial-day': 3.526248754014841, 'salads': 5.062135863099777, 'biscotti': 3.741453107222192, 'wedding': 3.921485635680652, 'mashed-potatoes': 3.52792349726776, 'pressure-canning': 3.538096551724138, 'eggs-dairy': 7.623197739643495, 'tropical-fruit': 4.590361445783133, 'easter': 4.4522033565609975, 'cinco-de-mayo': 3.5550013702384216, 'granola-and-porridge': 3.736885971766422, 'sole-and-flounder': 3.580126803672934, 'irish': 3.77251974002256, 'cambodian': 3.5120280563318538, 'pasta': 6.583805408865419, 'dairy-free': 3.5595883286801335, 'potatoes': 5.894695843070604, 'scottish': 3.7988300983780907, 'bean-soup': 3.506754893851668, 'bar-cookies': 4.8392488262910796, 'valentines-day': 4.472800344481126, 'cooking-mixes': 3.609224057338735, 'icelandic': 3.502124183006536, 'pork-chops': 4.036843453753523, 'lamb-sheep': 4.130016786204791, 'kiwifruit': 3.5339135164536306, 'coconut': 4.106714990435921, 'georgian': 3.497130242825607, 'less_thansql:name_topics_of_recipegreater_than': 3.5148095133230566, 'crock-pot-main-dish': 3.515579629215993, 'greek': 4.349770081205362, 'dutch': 3.5777420428080293, 'seafood': 6.374263556570879, 'thai': 3.899144946945503, 'spinach': 4.175668854114083, 'christmas': 5.920039637167467, 'freshwater-fish': 3.834774306476423, 'cake-fillings-and-frostings': 3.9406652527029125, 'mussels': 3.5937723103959582, 'asian': 6.445874984183222, 'jewish-ashkenazi': 3.7949626765479834, 'casseroles': 5.341425279789335, 'romantic': 5.15583577207781, 'unprocessed-freezer': 3.51974303594174, 'fruit': 7.310819312808231, 'cabbage': 3.5122165004930426, 'grains': 5.206610190710679, 'equipment': 8.574086438894108, '15-minutes-or-less': 4.986581181435959, '30-minutes-or-less': 7.610088793421899, 'lime': 3.674473934651581, 'czech': 3.5725535547111624, 'iranian-persian': 3.621968461120174, 'eggs': 5.909033055066821, 'salad-dressings': 3.719867615095831, 'appetizers': 6.231012410189419, 'side-dishes': 6.6765300455403755, 'vegetables': 8.089417327214575, 'american': 7.5751317476143, 'fall': 5.556090793479518, 'finger-food': 5.2388437512758745, 'picnic': 5.04966607814539, 'spring': 4.533165331653317, 'summer': 5.304315317239906, 'vegetarian': 7.214011265714179, 'winter': 5.496159515866243, 'stove-top': 7.255239465264515, 'dietary': 8.84663842609778, 'copycat': 4.257366235035426, 'seasonal': 6.80609902176083, 'brown-bag': 4.355673243661245, 'inexpensive': 6.930874758544566, 'toddler-friendly': 4.594455133811439, 'novelty': 4.800665178766794, 'to-go': 6.433789830508474, 'presentation': 7.177175697865353, 'served-hot': 6.446202217441668, '3-steps-or-less': 4.728792059112676, 'oven': 8.348934612882237, 'brazilian': 3.592612419700214, 'pork': 6.443171089044441, 'canning': 3.9452296819787986, 'chicken-livers': 3.544458514562572, 'wild-game': 3.695546295795227, 'puddings-and-mousses': 4.324723247232472, 'beans-side-dishes': 3.5152363696260913, 'ontario': 3.7371174885048357, 'savory': 6.042196451026967, 'low-sodium': 7.3863798933541425, 'bass': 3.5415725384318697, 'meatballs': 3.541812330059375, 'prepared-potatoes': 3.5132198880328143, 'oaxacan': 3.5224962918200298, 'saudi-arabian': 3.531842893598136, 'zucchini': 3.58697079094191, 'roast-beef': 4.015181449516481, 'caribbean': 3.9957735849056606, 'flat-shapes': 3.83120286677007, 'healthy': 7.080683136559067, 'italian': 5.8739571150097465, 'low-cholesterol': 6.621636363636363, 'low-saturated-fat': 6.505154015290581, 'low-calorie': 6.726423560871078, 'low-carb': 7.247922207446808, 'low-in-something': 8.057089602428855, 'green-yellow-beans': 3.8723883654240066, 'tomatoes': 4.863886342804766, 'for-1-or-2': 5.473579840874465, 'nepalese': 3.5187945024010596, 'pasta-rice-and-grains': 7.771952031978681, 'white-rice': 3.8467779684818226, 'lasagne': 3.5145545102379634, 'reynolds-wrap': 3.565602449158102, 'norwegian': 3.5663843361566383, 'egyptian': 3.5796514209591472, 'simply-potatoes': 3.6358264485418834, 'clear-soups': 3.7017780172413794, 'soups-stews': 5.934964562942963, 'beans': 5.485727808927401, '4-hours-or-less': 10.065307389774373, 'beef': 6.937072852565011, 'ground-beef': 5.532396415715708, 'burgers': 3.5708975620421994, 'high-calcium': 4.515901675005439, 'nuts': 5.503219139972975, 'snacks-kid-friendly': 3.5009977827050998, 'manicotti': 3.61434333388585, 'heirloom-historical-recipes': 3.5178403496155335, 'pheasant': 3.520208171852508, 'fudge': 3.726083488433927, 'micro-melanesia': 3.5141301957334505, 'cajun': 3.910293213040804, 'breakfast-eggs': 3.510853437379788, 'cranberry-sauce': 3.495701058201058, 'ham': 4.0299143132383515, 'laotian': 3.493464938445686, 'wings': 3.6984937995635745, 'muffins': 4.305949143647727, 'ethiopian': 3.509815849140076, 'whole-turkey': 3.6933993399339933, 'cuban': 3.5884474561451447, 'austrian': 3.582217343578485, 'guatemalan': 3.5009334504722163, 'pickeral': 3.4951028942445252, 'stir-fry': 4.167118746232671, 'roast-beef-main-dish': 3.524678950307091, 'high-in-something-diabetic-friendly': 3.5027038958172385, 'belgian': 3.573172048817367, 'duck': 3.5998804152851007, 'middle-eastern-main-dish': 3.4852607709750565, 'curries': 4.056318540535001, 'pies-and-tarts': 5.233969866853539, 'snacks-sweet': 3.4965144163738775, 'heirloom-historical': 5.063758537122714, 'honduran': 3.5144091431071254, 'halloween-cocktails': 3.514695340501792, 'baked-beans': 3.4936835106382977, 'trout': 3.562904109589041, 'chicken-stews': 3.5082121329425426, 'lunch': 6.6787724277262015, 'midwestern': 4.399375384469787, 'egg-free': 4.786814808385053, 'free-of-something': 5.713103494488558, 'number-of-servings': 7.848588714912623, 'potluck': 5.740600062724327, 'dips': 4.025779588944012, 'spreads': 3.84343757695149, 'cheese': 6.524636803874092, 'sweet-sauces': 3.6261628514685897, 'somalian': 3.520273942819872, 'shellfish': 5.401717519490284, 'squash': 4.694080622020642, 'libyan': 3.474786231089673, 'chilean': 3.5288842429577465, 'pitted-fruit': 4.122613728675873, 'chowders': 3.8468745120491334, 'southern-united-states': 5.231357927786499, 'no-shell-fish': 3.562506806054666, 'steaks': 3.881317642114112, 'turkey-burgers': 3.4884499314128945, 'kwanzaa': 3.6018448997103936, 'irish-st-patricks-day': 3.518823333147973, 'infant-baby-friendly': 3.6132161914515173, 'celebrity': 3.769673704414587, 'costa-rican': 3.5134618535306648, 'marinara-sauce': 3.522765969132751, 'macaroni-and-cheese': 3.5318565632196512, 'bisques-cream-soups': 4.132540995938017, 'cantonese': 3.5635441362959694, 'scandinavian': 3.953488372093023, 'french': 4.472535520726527, 'hanukkah': 3.7728091554519443, 'chinese-new-year': 3.518324321372003, 'pumpkin-bread': 3.5090979695994675, '1-day-or-more': 4.45873665302864, 'amish-mennonite': 3.560696788241698, 'mixer': 4.301563056870831, 'blueberries': 3.9650378038260516, 'spanish': 3.8624283480979678, 'pressure-cooker': 3.667061547574175, 'birthday': 3.6248698416178002, 'low-fat': 5.944369638938759, 'african': 4.372096337466154, 'turkey': 4.414412664497645, 'gluten-free': 4.7919290090851465, 'pork-loin': 3.487238597068994, 'main-dish-beef': 3.509886225560588, 'water-bath': 3.7291033434650456, 'lactose': 4.548226982068596, 'british-columbian': 3.718204621871164, 'main-dish-pork': 3.513633340722678, 'ragu-recipe-contest': 3.5131040583877033, 'pizza': 4.149197643713183, 'mahi-mahi': 3.5369613771313397, 'creole': 3.805019815059445, 'swedish': 3.63088602219037, 'mango': 3.681424395429179, 'pork-crock-pot': 3.510396975425331, 'oamc-freezer-make-ahead': 5.101522613292369, 'crock-pot-slow-cooker': 4.700854008985308, 'bear': 3.494859606455892, 'stews': 4.120658411356086, 'condiments-etc': 4.7830466911886536, 'tuna': 3.8548345860817097, 'brewing': 3.534414513468939, 'veggie-burgers': 3.512272148041443, 'served-hot-new-years': 3.5059235775070916, 'pork-ribs': 3.711184495452577, 'rolled-cookies': 3.933474801061008, 'indonesian': 3.582323121005069, 'lettuces': 3.72550662407708, 'lentils': 3.932844361215148, 'breads': 7.145996378479575, 'tarts': 3.7580584405101436, 'south-american': 3.9411187945092374, 'black-bean-soup': 3.503279763857002, 'food-processor-blender': 4.479378963481303, 'polish': 3.6785428556189665, 'punch': 3.5957710159876224, 'puerto-rican': 3.540382513661202, 'non-alcoholic': 3.5278395229059365, 'superbowl': 4.055649492739208, 'pakistani': 3.557893002306932, 'jewish-sephardi': 3.5652531229454305, 'mongolian': 3.5210619665225584, 'chick-peas-garbanzos': 3.819497053872054, 'beef-sausage': 3.676327981898502, 'pasta-rice-and-grains-elbow-macaroni': 3.491643223564455, 'vegan': 5.190527141736215, '5-ingredients-or-less': 5.345920719916704, 'hunan': 3.5117907354506244, 'chinese': 4.309035268148297, 'salmon': 4.205071502285125, 'fish': 5.3004755728491135, 'saltwater-fish': 4.834339025120897, 'baja': 3.53721200066302, 'herb-and-spice-mixes': 3.5520499679692503, 'black-beans': 3.93185306456564, 'pot-roast': 3.488254387412664, 'salsas': 3.605928790075721, 'breakfast': 6.098151629072682, 'kosher': 4.825939468699062, 'mushroom-soup': 3.4855330514133094, 'greens': 4.658566221142163, 'a1-sauce': 3.5280419809773695, 'whole-chicken': 4.0393326645900425, 'cakes': 6.733708189158016, 'shakes': 3.525634933206611, 'ramadan': 3.6026196087028004, 'halloween-cupcakes': 3.5033479692645444, 'moose': 3.527143016386133, 'finnish': 3.558148348673525, 'dips-lunch-snacks': 3.507624309392265, 'jellies': 3.572049554444686, 'cherries': 3.707792207792208, 'turkish': 3.620761690502973, 'palestinian': 3.5308247479477717, 'pasta-shells': 3.698086919243342, 'south-west-pacific': 4.414301359861276, 'quiche': 3.5354525921436837, 'breakfast-potatoes': 3.501639891044527, 'lemon': 4.108630574864275, 'strawberries': 4.110803597904517, 'english': 4.146556529671109, 'for-large-groups-holiday-event': 3.517296463589292, 'duck-breasts': 3.5412215387935686, 'pies': 4.679968336747998, 'vietnamese': 3.6583629893238436, 'drop-cookies': 4.393322360686574, 'ecuadorean': 3.516626558739882, 'polynesian': 3.553561718325177, 'snacks': 4.97476069544833, 'szechuan': 3.553976808753879, 'citrus': 4.549448073890516, 'gifts': 5.5754301720688275, 'broccoli': 4.107346030175612, 'bread-machine': 3.793686699912601, 'new-zealand': 3.6738208797032326, 'technique': 5.330209278108099, 'no-cook': 3.952942146035932, 'tempeh': 3.527434613244296, 'carrots': 4.3147672093687515, 'cauliflower': 3.85839378238342, 'mothers-day': 3.558894362342638, 'northeastern-united-states': 4.325447229359577, 'frozen-desserts': 4.0388811743701645, 'brown-rice': 3.719026197406721, 'tilapia': 3.6113482842475007, 'lobster': 3.590265486725664, 'spaghetti-sauce': 3.508873435326843, 'rosh-hashanah': 3.5342638896521406, 'pacific-northwest': 3.7700684505289357, 'scallops': 3.766795657314845, 'octopus': 3.4926734863146254, 'roast-beef-comfort-food': 3.498625316177279, 'cupcakes': 3.9464164357781377, 'halloween': 3.7386053967405823, 'whole-duck': 3.537125152152263, 'labor-day': 3.5164488258750555, 'pasta-elbow-macaroni': 3.4888071985076263, 'indian': 4.467002398081535, 'side-dishes-beans': 3.5016934095830328, 'stocks': 3.6284188379996762, 'bananas': 4.000644649409898, 'sweet': 6.063357532390843, 'lamb-sheep-main-dish': 3.496599015650058, 'hidden-valley-ranch': 3.56636587366694, 'sauces': 4.232786330570123, 'stews-poultry': 3.4909318664560756, 'apples': 4.85682676038006, 'main-dish-pasta': 3.5127964699393273, 'moroccan': 3.8259457193754582, 'danish': 3.5856840045654654, 'korean': 3.5821382007822686, 'pork-loins-roast': 3.51767830465335, 'meatloaf': 3.5529649448509337, 'grilling': 4.793819410912603, 'chard': 3.586361401016338, 'cobblers-and-crisps': 3.910389202762084, 'canadian': 4.7647242827777285, 'berries': 4.987919797417908, 'garnishes': 3.6137860853730386, 'raspberries': 3.904577930669489, 'peaches': 3.779071597167585, 'penne': 3.9567099567099566, 'oranges': 3.8910941736150186, 'beef-crock-pot': 3.4955118673935788, 'gumbo': 3.6034682080924854, 'cheesecake': 4.447027633323136, 'ravioli-tortellini': 3.7443362324878913, 'quail': 3.502773547966065, 'super-bowl': 3.581976585897087, 'chicken-stew': 3.4798751254320437, 'middle-eastern': 4.191139303236038, 'spicy': 5.450922706606044, 'asparagus': 4.046916957997669, 'japanese': 3.7886009281952338, 'venezuelan': 3.496940364931019, 'april-fools-day': 3.5103864194773284, 'goose': 3.5103463538784996, 'beef-kidney': 3.4972076493484514, 'beverages': 3.899079152278421, 'nigerian': 3.485750232481812, 'rabbit': 3.5242584628955784, 'argentine': 3.5665815193247448, 'pineapple': 3.9677019864269085, 'soul': 3.5588170985022414, '': 3.5224061142574365, 'broil': 4.0652075925276705, 'smoothies': 3.4916926794884704, 'mushrooms': 4.6644879149816605, 'pears': 3.756370779358675, 'omelets-and-frittatas': 3.950609630088861, 'onions': 5.0035008860267105, 'south-african': 3.6286164034087824, 'cocktails': 3.619577752151158, 'high-fiber': 3.518181818181818, 'college': 3.511240587038971, 'st-patricks-day': 3.770565045992116, 'main-dish-chicken': 3.508348895968362, 'bok-choys': 3.544763882815916, 'lasagna': 4.090599201065246, 'soy-tofu': 3.9271849645681423, 'oysters': 3.5687245515571697, 'rice': 5.126250103314323, 'halloween-cakes': 3.4989791977045743, 'beef-organ-meats': 3.5562396921385377, 'portuguese': 3.6449111470113085, 'pumpkin': 3.56003276003276, 'yeast': 5.179112222274636, 'roast': 4.020509341404864, 'iraqi': 3.5319321813552897, 'avocado': 3.531085237258348, 'sudanese': 3.496088407462115, 'diabetic': 4.895206785989691, 'crusts-pastry-dough-2': 3.6874797450577943, 'simply-potatoes2': 3.508810081409613, 'pancakes-and-waffles': 4.173556576282906, 'russian': 3.7004963850221215, 'steak': 3.92369043943604, 'new-years': 4.311485857149861, 'perch': 3.494737416153133, 'desserts-fruit': 3.5015064365927144, 'welsh': 3.5899640796778054, 'chocolate-chip-cookies': 3.519182286528554, 'stuffings-dressings': 3.717682339081075, 'beef-ribs': 3.617224880382775, 'dehydrator': 3.5021339461588967, 'central-american': 4.059544571229259, 'coffee-cakes': 4.042268842268842, 'halibut': 3.6225172830023045, 'bread-pudding': 3.5062297601405126, 'tex-mex': 3.9515024529844642, 'fathers-day': 3.5008259911894273, 'lebanese': 3.6328620185275478, 'scones': 3.8034052453468696, 'catfish': 3.5580889154921915, 'elk': 3.5071385591597832, 'eggplant': 3.564435399592982, 'thanksgiving': 4.9586061530182075, 'jams-and-preserves': 3.850592261121348, 'fillings-and-frostings-chocolate': 3.5120261582797605, 'plums': 3.5635477155691904, 'malaysian': 3.57388691614313, 'crawfish': 3.52754767331962, 'marinades-and-rubs': 3.5825519771708114, 'deep-fry': 4.015004966800857, 'chocolate': 6.202497285559175, 'hawaiian': 3.625, 'chili': 3.9434637885818034, 'squid': 3.550452710810516, 'cod': 3.6569441449212854, 'turkey-breasts': 3.6294220093610536, 'beijing': 3.512504788485744, 'native-american': 3.5656162962153894, 'savory-sauces': 3.812120306742356, 'main-dish-seafood': 3.5055221432476764, 'swiss': 3.6533907427341226, 'southwestern-united-states': 4.492530431575065, 'yams-sweet-potatoes': 4.005262620069487, 'ice-cream': 3.5219947855993787, 'melons': 3.6164650184113625, 'sourdough': 3.5868755903761738, 'hungarian': 3.664425862163196, 'nut-free': 3.580711763107851, 'short-grain-rice': 3.689175985235045, 'shrimp': 4.860099484810801, 'congolese': 3.4968992681155373, 'peanut-butter': 3.58467937982821, 'brownies': 3.9802875816993466, 'papaya': 3.545848890841204, 'sugar-cookies': 3.537796619501184, 'very-low-carbs': 5.320392257309085, 'leftovers': 3.628175895765472, 'elbow-macaroni': 4.066379177575851, 'hand-formed-cookies': 4.259456205478077, 'clams': 3.6354341357857725, 'from-scratch': 4.745889101338432, 'pot-pie': 3.5088093674764718, 'corn': 4.076911822083496, 'artichoke': 3.495869577110345, 'smoker': 3.5809953239812957, 'beef-liver': 3.550352718991279, 'eggs-breakfast': 3.4854300315320215, 'angolan': 3.4931362780914426}\n",
            "CPU times: user 16.3 s, sys: 216 ms, total: 16.5 s\n",
            "Wall time: 16.5 s\n"
          ]
        }
      ]
    },
    {
      "cell_type": "markdown",
      "metadata": {
        "id": "kL_zioQOFW7c"
      },
      "source": [
        "4. Решите задачу 3, распараллелив вычисления с помощью модуля `multiprocessing`. Для обработки каждого файла создайте свой собственный процесс. Определите, за какое время задача решается для всех файлов."
      ]
    },
    {
      "cell_type": "code",
      "source": [
        "%%file find_unique_tags1_.py\n",
        "\n",
        "import csv\n",
        "\n",
        "def find_unique_tags(file_name):\n",
        "  unique_tags = {}\n",
        "\n",
        "  with open(file_name, 'r') as f:\n",
        "    for i, row in enumerate(csv.reader(f, delimiter=',')):\n",
        "      tags = row[1].split(', ')\n",
        "      for tag in tags:\n",
        "        if tag not in unique_tags.keys():\n",
        "          unique_tags[tag] = (1, int(row[2]))\n",
        "        else:\n",
        "          unique_tags[tag] = (unique_tags[tag][0] + 1, unique_tags[tag][1] + int(row[2]))\n",
        "\n",
        "  return unique_tags"
      ],
      "metadata": {
        "colab": {
          "base_uri": "https://localhost:8080/"
        },
        "id": "1DAAolZTZgEx",
        "outputId": "7894dd8d-53f2-4bb2-a2b9-72695574a088"
      },
      "execution_count": null,
      "outputs": [
        {
          "output_type": "stream",
          "name": "stdout",
          "text": [
            "Overwriting find_unique_tags1_.py\n"
          ]
        }
      ]
    },
    {
      "cell_type": "code",
      "source": [
        "%%time\n",
        "\n",
        "import find_unique_tags1_\n",
        "\n",
        "pool = mp.Pool(processes=2)\n",
        "results = [pool.apply_async(find_unique_tags1_.find_unique_tags, args=(f\"id_tag_nsteps_{i}.csv\",)) for i in range(8)]\n",
        "\n",
        "output = [p.get() for p in results]\n",
        "\n",
        "all_unique_tags = {}\n",
        "\n",
        "for i in range(8):\n",
        "  for tag in output[i].keys():\n",
        "    if tag not in all_unique_tags.keys():\n",
        "      all_unique_tags[tag] = output[i][tag]\n",
        "    else:\n",
        "      all_unique_tags[tag] = (all_unique_tags[tag][0] + output[i][tag][0],\n",
        "                              all_unique_tags[tag][1] + output[i][tag][1])\n",
        "\n",
        "for key in all_unique_tags.keys():\n",
        "  all_unique_tags[key] = all_unique_tags[key][1] / all_unique_tags[key][0]\n",
        "\n",
        "print(all_unique_tags)"
      ],
      "metadata": {
        "id": "hCgZd0VqWSH5",
        "colab": {
          "base_uri": "https://localhost:8080/"
        },
        "outputId": "938e7406-2bb2-4a90-99d4-848eec5ec2cb"
      },
      "execution_count": null,
      "outputs": [
        {
          "output_type": "stream",
          "name": "stdout",
          "text": [
            "{'mexican': 5.301792547834844, 'healthy-2': 6.384162244806188, 'orange-roughy': 3.5135644937586683, 'chicken-thighs-legs': 4.145581465931509, 'freezer': 4.033043922369765, 'whitefish': 3.514734127201888, 'pork-sausage': 4.255981694274486, 'brunch': 6.871549922653133, 'ham-and-bean-soup': 3.508423254789694, 'colombian': 3.5360135838308593, 'savory-pies': 4.298328243879716, 'refrigerator': 4.702294079091108, 'australian': 4.218603314493725, 'served-cold': 4.911663673979233, 'spaghetti': 4.0825152293208475, 'passover': 3.658820965457121, 'quick-breads': 5.059023265562775, 'californian': 3.74143203627544, 'namibian': 3.5042895887529752, 'candy': 4.229612689762553, 'independence-day': 4.10637159533074, 'baking': 3.6306821245618766, 'pennsylvania-dutch': 3.5471966710468683, 'weeknight': 7.413649806241077, '60-minutes-or-less': 9.413602442333785, 'time-to-make': 9.278471292592988, 'course': 9.274649020305171, 'cuisine': 9.169982611878833, 'preparation': 9.293402191225445, 'occasion': 9.13625109453788, 'north-american': 8.18706162136127, 'desserts': 9.023505982599044, 'dinner-party': 8.23403451995685, 'holiday-event': 8.308218661639962, 'cookies-and-brownies': 6.727248893986564, 'gelatin': 3.7341488168367074, 'high-in-something': 5.4657229524772495, 'barbecue': 4.596669048044293, 'main-ingredient': 9.315163927902498, 'main-dish': 9.44243402739116, 'poultry': 7.6739336492891, 'easy': 7.253304422522723, 'chicken': 7.325226860254084, 'one-dish-meal': 7.003855449418805, 'comfort-food': 7.501108948535736, 'meat': 8.918743681337197, 'chicken-breasts': 5.757163077158487, 'taste-mood': 8.455585970187357, 'peppers': 4.517914691943128, 'grapes': 3.5635613911345017, 'veal': 3.680577413577902, 'kid-friendly': 7.095552329417975, 'breakfast-casseroles': 3.506533222129552, 'peruvian': 3.566594190778837, 'filipino': 3.575145609928692, 'for-large-groups': 7.293004554911994, 'pasta-salad': 3.504848484848485, 'rosh-hashana': 3.6900091857135138, 'dips-summer': 3.484745194456862, 'chutneys': 3.5558799675587998, 'mardi-gras-carnival': 3.6024259489900903, 'small-appliance': 5.241089441829186, 'desserts-easy': 3.5050172725777267, 'high-protein': 5.007946914610402, 'beginner-cook': 6.325948599264637, 'bacon': 4.106558195248553, 'pork-loins': 4.010719834282755, 'beef-barley-soup': 3.498673006745549, 'crab': 3.950655712609073, 'collard-greens': 3.5319676193622995, 'long-grain-rice': 3.9543551305246836, 'oatmeal': 3.500110460620789, 'deer': 3.6036775570513875, 'Throw the ultimate fiesta with this sopaipillas recipe from Food.com.': 3.511621562636403, 'camping': 3.934283942963422, 'quebec': 3.5783718768793396, 'chicken-crock-pot': 3.5050559965206047, 'microwave': 4.0819245134656965, 'shrimp-main-dish': 3.500250180686051, 'medium-grain-rice': 3.550577719642468, 'low-protein': 6.292347241447499, 'german': 4.057022013860579, 'european': 8.0163594899004, 'sandwiches': 4.794260578131546, 'beef-sauces': 3.5037515745659675, 'rolls-biscuits': 4.376873661670236, 'steam': 3.6812774622226985, 'memorial-day': 3.526248754014841, 'salads': 5.062135863099777, 'biscotti': 3.741453107222192, 'wedding': 3.921485635680652, 'mashed-potatoes': 3.52792349726776, 'pressure-canning': 3.538096551724138, 'eggs-dairy': 7.623197739643495, 'tropical-fruit': 4.590361445783133, 'easter': 4.4522033565609975, 'cinco-de-mayo': 3.5550013702384216, 'granola-and-porridge': 3.736885971766422, 'sole-and-flounder': 3.580126803672934, 'irish': 3.77251974002256, 'cambodian': 3.5120280563318538, 'pasta': 6.583805408865419, 'dairy-free': 3.5595883286801335, 'potatoes': 5.894695843070604, 'scottish': 3.7988300983780907, 'bean-soup': 3.506754893851668, 'bar-cookies': 4.8392488262910796, 'valentines-day': 4.472800344481126, 'cooking-mixes': 3.609224057338735, 'icelandic': 3.502124183006536, 'pork-chops': 4.036843453753523, 'lamb-sheep': 4.130016786204791, 'kiwifruit': 3.5339135164536306, 'coconut': 4.106714990435921, 'georgian': 3.497130242825607, 'less_thansql:name_topics_of_recipegreater_than': 3.5148095133230566, 'crock-pot-main-dish': 3.515579629215993, 'greek': 4.349770081205362, 'dutch': 3.5777420428080293, 'seafood': 6.374263556570879, 'thai': 3.899144946945503, 'spinach': 4.175668854114083, 'christmas': 5.920039637167467, 'freshwater-fish': 3.834774306476423, 'cake-fillings-and-frostings': 3.9406652527029125, 'mussels': 3.5937723103959582, 'asian': 6.445874984183222, 'jewish-ashkenazi': 3.7949626765479834, 'casseroles': 5.341425279789335, 'romantic': 5.15583577207781, 'unprocessed-freezer': 3.51974303594174, 'fruit': 7.310819312808231, 'cabbage': 3.5122165004930426, 'grains': 5.206610190710679, 'equipment': 8.574086438894108, '15-minutes-or-less': 4.986581181435959, '30-minutes-or-less': 7.610088793421899, 'lime': 3.674473934651581, 'czech': 3.5725535547111624, 'iranian-persian': 3.621968461120174, 'eggs': 5.909033055066821, 'salad-dressings': 3.719867615095831, 'appetizers': 6.231012410189419, 'side-dishes': 6.6765300455403755, 'vegetables': 8.089417327214575, 'american': 7.5751317476143, 'fall': 5.556090793479518, 'finger-food': 5.2388437512758745, 'picnic': 5.04966607814539, 'spring': 4.533165331653317, 'summer': 5.304315317239906, 'vegetarian': 7.214011265714179, 'winter': 5.496159515866243, 'stove-top': 7.255239465264515, 'dietary': 8.84663842609778, 'copycat': 4.257366235035426, 'seasonal': 6.80609902176083, 'brown-bag': 4.355673243661245, 'inexpensive': 6.930874758544566, 'toddler-friendly': 4.594455133811439, 'novelty': 4.800665178766794, 'to-go': 6.433789830508474, 'presentation': 7.177175697865353, 'served-hot': 6.446202217441668, '3-steps-or-less': 4.728792059112676, 'oven': 8.348934612882237, 'brazilian': 3.592612419700214, 'pork': 6.443171089044441, 'canning': 3.9452296819787986, 'chicken-livers': 3.544458514562572, 'wild-game': 3.695546295795227, 'puddings-and-mousses': 4.324723247232472, 'beans-side-dishes': 3.5152363696260913, 'ontario': 3.7371174885048357, 'savory': 6.042196451026967, 'low-sodium': 7.3863798933541425, 'bass': 3.5415725384318697, 'meatballs': 3.541812330059375, 'prepared-potatoes': 3.5132198880328143, 'oaxacan': 3.5224962918200298, 'saudi-arabian': 3.531842893598136, 'zucchini': 3.58697079094191, 'roast-beef': 4.015181449516481, 'caribbean': 3.9957735849056606, 'flat-shapes': 3.83120286677007, 'healthy': 7.080683136559067, 'italian': 5.8739571150097465, 'low-cholesterol': 6.621636363636363, 'low-saturated-fat': 6.505154015290581, 'low-calorie': 6.726423560871078, 'low-carb': 7.247922207446808, 'low-in-something': 8.057089602428855, 'green-yellow-beans': 3.8723883654240066, 'tomatoes': 4.863886342804766, 'for-1-or-2': 5.473579840874465, 'nepalese': 3.5187945024010596, 'pasta-rice-and-grains': 7.771952031978681, 'white-rice': 3.8467779684818226, 'lasagne': 3.5145545102379634, 'reynolds-wrap': 3.565602449158102, 'norwegian': 3.5663843361566383, 'egyptian': 3.5796514209591472, 'simply-potatoes': 3.6358264485418834, 'clear-soups': 3.7017780172413794, 'soups-stews': 5.934964562942963, 'beans': 5.485727808927401, '4-hours-or-less': 10.065307389774373, 'beef': 6.937072852565011, 'ground-beef': 5.532396415715708, 'burgers': 3.5708975620421994, 'high-calcium': 4.515901675005439, 'nuts': 5.503219139972975, 'snacks-kid-friendly': 3.5009977827050998, 'manicotti': 3.61434333388585, 'heirloom-historical-recipes': 3.5178403496155335, 'pheasant': 3.520208171852508, 'fudge': 3.726083488433927, 'micro-melanesia': 3.5141301957334505, 'cajun': 3.910293213040804, 'breakfast-eggs': 3.510853437379788, 'cranberry-sauce': 3.495701058201058, 'ham': 4.0299143132383515, 'laotian': 3.493464938445686, 'wings': 3.6984937995635745, 'muffins': 4.305949143647727, 'ethiopian': 3.509815849140076, 'whole-turkey': 3.6933993399339933, 'cuban': 3.5884474561451447, 'austrian': 3.582217343578485, 'guatemalan': 3.5009334504722163, 'pickeral': 3.4951028942445252, 'stir-fry': 4.167118746232671, 'roast-beef-main-dish': 3.524678950307091, 'high-in-something-diabetic-friendly': 3.5027038958172385, 'belgian': 3.573172048817367, 'duck': 3.5998804152851007, 'middle-eastern-main-dish': 3.4852607709750565, 'curries': 4.056318540535001, 'pies-and-tarts': 5.233969866853539, 'snacks-sweet': 3.4965144163738775, 'heirloom-historical': 5.063758537122714, 'honduran': 3.5144091431071254, 'halloween-cocktails': 3.514695340501792, 'baked-beans': 3.4936835106382977, 'trout': 3.562904109589041, 'chicken-stews': 3.5082121329425426, 'lunch': 6.6787724277262015, 'midwestern': 4.399375384469787, 'egg-free': 4.786814808385053, 'free-of-something': 5.713103494488558, 'number-of-servings': 7.848588714912623, 'potluck': 5.740600062724327, 'dips': 4.025779588944012, 'spreads': 3.84343757695149, 'cheese': 6.524636803874092, 'sweet-sauces': 3.6261628514685897, 'somalian': 3.520273942819872, 'shellfish': 5.401717519490284, 'squash': 4.694080622020642, 'libyan': 3.474786231089673, 'chilean': 3.5288842429577465, 'pitted-fruit': 4.122613728675873, 'chowders': 3.8468745120491334, 'southern-united-states': 5.231357927786499, 'no-shell-fish': 3.562506806054666, 'steaks': 3.881317642114112, 'turkey-burgers': 3.4884499314128945, 'kwanzaa': 3.6018448997103936, 'irish-st-patricks-day': 3.518823333147973, 'infant-baby-friendly': 3.6132161914515173, 'celebrity': 3.769673704414587, 'costa-rican': 3.5134618535306648, 'marinara-sauce': 3.522765969132751, 'macaroni-and-cheese': 3.5318565632196512, 'bisques-cream-soups': 4.132540995938017, 'cantonese': 3.5635441362959694, 'scandinavian': 3.953488372093023, 'french': 4.472535520726527, 'hanukkah': 3.7728091554519443, 'chinese-new-year': 3.518324321372003, 'pumpkin-bread': 3.5090979695994675, '1-day-or-more': 4.45873665302864, 'amish-mennonite': 3.560696788241698, 'mixer': 4.301563056870831, 'blueberries': 3.9650378038260516, 'spanish': 3.8624283480979678, 'pressure-cooker': 3.667061547574175, 'birthday': 3.6248698416178002, 'low-fat': 5.944369638938759, 'african': 4.372096337466154, 'turkey': 4.414412664497645, 'gluten-free': 4.7919290090851465, 'pork-loin': 3.487238597068994, 'main-dish-beef': 3.509886225560588, 'water-bath': 3.7291033434650456, 'lactose': 4.548226982068596, 'british-columbian': 3.718204621871164, 'main-dish-pork': 3.513633340722678, 'ragu-recipe-contest': 3.5131040583877033, 'pizza': 4.149197643713183, 'mahi-mahi': 3.5369613771313397, 'creole': 3.805019815059445, 'swedish': 3.63088602219037, 'mango': 3.681424395429179, 'pork-crock-pot': 3.510396975425331, 'oamc-freezer-make-ahead': 5.101522613292369, 'crock-pot-slow-cooker': 4.700854008985308, 'bear': 3.494859606455892, 'stews': 4.120658411356086, 'condiments-etc': 4.7830466911886536, 'tuna': 3.8548345860817097, 'brewing': 3.534414513468939, 'veggie-burgers': 3.512272148041443, 'served-hot-new-years': 3.5059235775070916, 'pork-ribs': 3.711184495452577, 'rolled-cookies': 3.933474801061008, 'indonesian': 3.582323121005069, 'lettuces': 3.72550662407708, 'lentils': 3.932844361215148, 'breads': 7.145996378479575, 'tarts': 3.7580584405101436, 'south-american': 3.9411187945092374, 'black-bean-soup': 3.503279763857002, 'food-processor-blender': 4.479378963481303, 'polish': 3.6785428556189665, 'punch': 3.5957710159876224, 'puerto-rican': 3.540382513661202, 'non-alcoholic': 3.5278395229059365, 'superbowl': 4.055649492739208, 'pakistani': 3.557893002306932, 'jewish-sephardi': 3.5652531229454305, 'mongolian': 3.5210619665225584, 'chick-peas-garbanzos': 3.819497053872054, 'beef-sausage': 3.676327981898502, 'pasta-rice-and-grains-elbow-macaroni': 3.491643223564455, 'vegan': 5.190527141736215, '5-ingredients-or-less': 5.345920719916704, 'hunan': 3.5117907354506244, 'chinese': 4.309035268148297, 'salmon': 4.205071502285125, 'fish': 5.3004755728491135, 'saltwater-fish': 4.834339025120897, 'baja': 3.53721200066302, 'herb-and-spice-mixes': 3.5520499679692503, 'black-beans': 3.93185306456564, 'pot-roast': 3.488254387412664, 'salsas': 3.605928790075721, 'breakfast': 6.098151629072682, 'kosher': 4.825939468699062, 'mushroom-soup': 3.4855330514133094, 'greens': 4.658566221142163, 'a1-sauce': 3.5280419809773695, 'whole-chicken': 4.0393326645900425, 'cakes': 6.733708189158016, 'shakes': 3.525634933206611, 'ramadan': 3.6026196087028004, 'halloween-cupcakes': 3.5033479692645444, 'moose': 3.527143016386133, 'finnish': 3.558148348673525, 'dips-lunch-snacks': 3.507624309392265, 'jellies': 3.572049554444686, 'cherries': 3.707792207792208, 'turkish': 3.620761690502973, 'palestinian': 3.5308247479477717, 'pasta-shells': 3.698086919243342, 'south-west-pacific': 4.414301359861276, 'quiche': 3.5354525921436837, 'breakfast-potatoes': 3.501639891044527, 'lemon': 4.108630574864275, 'strawberries': 4.110803597904517, 'english': 4.146556529671109, 'for-large-groups-holiday-event': 3.517296463589292, 'duck-breasts': 3.5412215387935686, 'pies': 4.679968336747998, 'vietnamese': 3.6583629893238436, 'drop-cookies': 4.393322360686574, 'ecuadorean': 3.516626558739882, 'polynesian': 3.553561718325177, 'snacks': 4.97476069544833, 'szechuan': 3.553976808753879, 'citrus': 4.549448073890516, 'gifts': 5.5754301720688275, 'broccoli': 4.107346030175612, 'bread-machine': 3.793686699912601, 'new-zealand': 3.6738208797032326, 'technique': 5.330209278108099, 'no-cook': 3.952942146035932, 'tempeh': 3.527434613244296, 'carrots': 4.3147672093687515, 'cauliflower': 3.85839378238342, 'mothers-day': 3.558894362342638, 'northeastern-united-states': 4.325447229359577, 'frozen-desserts': 4.0388811743701645, 'brown-rice': 3.719026197406721, 'tilapia': 3.6113482842475007, 'lobster': 3.590265486725664, 'spaghetti-sauce': 3.508873435326843, 'rosh-hashanah': 3.5342638896521406, 'pacific-northwest': 3.7700684505289357, 'scallops': 3.766795657314845, 'octopus': 3.4926734863146254, 'roast-beef-comfort-food': 3.498625316177279, 'cupcakes': 3.9464164357781377, 'halloween': 3.7386053967405823, 'whole-duck': 3.537125152152263, 'labor-day': 3.5164488258750555, 'pasta-elbow-macaroni': 3.4888071985076263, 'indian': 4.467002398081535, 'side-dishes-beans': 3.5016934095830328, 'stocks': 3.6284188379996762, 'bananas': 4.000644649409898, 'sweet': 6.063357532390843, 'lamb-sheep-main-dish': 3.496599015650058, 'hidden-valley-ranch': 3.56636587366694, 'sauces': 4.232786330570123, 'stews-poultry': 3.4909318664560756, 'apples': 4.85682676038006, 'main-dish-pasta': 3.5127964699393273, 'moroccan': 3.8259457193754582, 'danish': 3.5856840045654654, 'korean': 3.5821382007822686, 'pork-loins-roast': 3.51767830465335, 'meatloaf': 3.5529649448509337, 'grilling': 4.793819410912603, 'chard': 3.586361401016338, 'cobblers-and-crisps': 3.910389202762084, 'canadian': 4.7647242827777285, 'berries': 4.987919797417908, 'garnishes': 3.6137860853730386, 'raspberries': 3.904577930669489, 'peaches': 3.779071597167585, 'penne': 3.9567099567099566, 'oranges': 3.8910941736150186, 'beef-crock-pot': 3.4955118673935788, 'gumbo': 3.6034682080924854, 'cheesecake': 4.447027633323136, 'ravioli-tortellini': 3.7443362324878913, 'quail': 3.502773547966065, 'super-bowl': 3.581976585897087, 'chicken-stew': 3.4798751254320437, 'middle-eastern': 4.191139303236038, 'spicy': 5.450922706606044, 'asparagus': 4.046916957997669, 'japanese': 3.7886009281952338, 'venezuelan': 3.496940364931019, 'april-fools-day': 3.5103864194773284, 'goose': 3.5103463538784996, 'beef-kidney': 3.4972076493484514, 'beverages': 3.899079152278421, 'nigerian': 3.485750232481812, 'rabbit': 3.5242584628955784, 'argentine': 3.5665815193247448, 'pineapple': 3.9677019864269085, 'soul': 3.5588170985022414, '': 3.5224061142574365, 'broil': 4.0652075925276705, 'smoothies': 3.4916926794884704, 'mushrooms': 4.6644879149816605, 'pears': 3.756370779358675, 'omelets-and-frittatas': 3.950609630088861, 'onions': 5.0035008860267105, 'south-african': 3.6286164034087824, 'cocktails': 3.619577752151158, 'high-fiber': 3.518181818181818, 'college': 3.511240587038971, 'st-patricks-day': 3.770565045992116, 'main-dish-chicken': 3.508348895968362, 'bok-choys': 3.544763882815916, 'lasagna': 4.090599201065246, 'soy-tofu': 3.9271849645681423, 'oysters': 3.5687245515571697, 'rice': 5.126250103314323, 'halloween-cakes': 3.4989791977045743, 'beef-organ-meats': 3.5562396921385377, 'portuguese': 3.6449111470113085, 'pumpkin': 3.56003276003276, 'yeast': 5.179112222274636, 'roast': 4.020509341404864, 'iraqi': 3.5319321813552897, 'avocado': 3.531085237258348, 'sudanese': 3.496088407462115, 'diabetic': 4.895206785989691, 'crusts-pastry-dough-2': 3.6874797450577943, 'simply-potatoes2': 3.508810081409613, 'pancakes-and-waffles': 4.173556576282906, 'russian': 3.7004963850221215, 'steak': 3.92369043943604, 'new-years': 4.311485857149861, 'perch': 3.494737416153133, 'desserts-fruit': 3.5015064365927144, 'welsh': 3.5899640796778054, 'chocolate-chip-cookies': 3.519182286528554, 'stuffings-dressings': 3.717682339081075, 'beef-ribs': 3.617224880382775, 'dehydrator': 3.5021339461588967, 'central-american': 4.059544571229259, 'coffee-cakes': 4.042268842268842, 'halibut': 3.6225172830023045, 'bread-pudding': 3.5062297601405126, 'tex-mex': 3.9515024529844642, 'fathers-day': 3.5008259911894273, 'lebanese': 3.6328620185275478, 'scones': 3.8034052453468696, 'catfish': 3.5580889154921915, 'elk': 3.5071385591597832, 'eggplant': 3.564435399592982, 'thanksgiving': 4.9586061530182075, 'jams-and-preserves': 3.850592261121348, 'fillings-and-frostings-chocolate': 3.5120261582797605, 'plums': 3.5635477155691904, 'malaysian': 3.57388691614313, 'crawfish': 3.52754767331962, 'marinades-and-rubs': 3.5825519771708114, 'deep-fry': 4.015004966800857, 'chocolate': 6.202497285559175, 'hawaiian': 3.625, 'chili': 3.9434637885818034, 'squid': 3.550452710810516, 'cod': 3.6569441449212854, 'turkey-breasts': 3.6294220093610536, 'beijing': 3.512504788485744, 'native-american': 3.5656162962153894, 'savory-sauces': 3.812120306742356, 'main-dish-seafood': 3.5055221432476764, 'swiss': 3.6533907427341226, 'southwestern-united-states': 4.492530431575065, 'yams-sweet-potatoes': 4.005262620069487, 'ice-cream': 3.5219947855993787, 'melons': 3.6164650184113625, 'sourdough': 3.5868755903761738, 'hungarian': 3.664425862163196, 'nut-free': 3.580711763107851, 'short-grain-rice': 3.689175985235045, 'shrimp': 4.860099484810801, 'congolese': 3.4968992681155373, 'peanut-butter': 3.58467937982821, 'brownies': 3.9802875816993466, 'papaya': 3.545848890841204, 'sugar-cookies': 3.537796619501184, 'very-low-carbs': 5.320392257309085, 'leftovers': 3.628175895765472, 'elbow-macaroni': 4.066379177575851, 'hand-formed-cookies': 4.259456205478077, 'clams': 3.6354341357857725, 'from-scratch': 4.745889101338432, 'pot-pie': 3.5088093674764718, 'corn': 4.076911822083496, 'artichoke': 3.495869577110345, 'smoker': 3.5809953239812957, 'beef-liver': 3.550352718991279, 'eggs-breakfast': 3.4854300315320215, 'angolan': 3.4931362780914426}\n",
            "CPU times: user 132 ms, sys: 40.8 ms, total: 173 ms\n",
            "Wall time: 15.5 s\n"
          ]
        }
      ]
    },
    {
      "cell_type": "markdown",
      "metadata": {
        "id": "SuX5Ra-2FW7d"
      },
      "source": [
        "5. (*) Решите задачу 3, распараллелив вычисления с помощью модуля `multiprocessing`. Создайте фиксированное количество процессов (равное половине количества ядер на компьютере). При помощи очереди передайте названия файлов для обработки процессам и при помощи другой очереди заберите от них ответы."
      ]
    },
    {
      "cell_type": "code",
      "source": [
        "def average_last(input_, output):\n",
        "    unique_tags = {}\n",
        "\n",
        "    for file in iter(input_.get, 'STOP'):\n",
        "        with open(file, 'r', encoding='utf-8') as f:\n",
        "            for i, row in enumerate(csv.reader(f, delimiter=',')):\n",
        "                if row:\n",
        "                    tags = row[1].split(', ')\n",
        "                    for tag in tags:\n",
        "                        if tag not in unique_tags.keys():\n",
        "                            unique_tags[tag] = (1, int(row[2]))\n",
        "                        else:\n",
        "                            unique_tags[tag] = (unique_tags[tag][0] + 1, unique_tags[tag][1] + int(row[2]))\n",
        "        output.put(unique_tags)\n",
        "\n",
        "\n",
        "def last():\n",
        "    files = [\"id_tag_nsteps_1.csv\", \"id_tag_nsteps_2.csv\", \"id_tag_nsteps_3.csv\",\n",
        "             \"id_tag_nsteps_4.csv\", \"id_tag_nsteps_5.csv\", \"id_tag_nsteps_6.csv\",\n",
        "             \"id_tag_nsteps_7.csv\", \"id_tag_nsteps_0.csv\"]\n",
        "    number_of_processes = 4\n",
        "\n",
        "    task_queue = mp.Queue()\n",
        "    done_queue = mp.Queue()\n",
        "\n",
        "    for file in files:\n",
        "        task_queue.put(file)\n",
        "\n",
        "    processes = [mp.Process(target=average_last, args=(task_queue, done_queue)) for i in range(number_of_processes)]\n",
        "\n",
        "    for p in processes:\n",
        "        p.start()\n",
        "\n",
        "    for p in processes:\n",
        "        p.join(3)\n",
        "\n",
        "    output = []\n",
        "    for i in range(8):\n",
        "      output.append(done_queue.get())\n",
        "\n",
        "    all_unique_tags = {}\n",
        "    for i in range(8):\n",
        "      for tag in output[i].keys():\n",
        "        if tag not in all_unique_tags.keys():\n",
        "          all_unique_tags[tag] = output[i][tag]\n",
        "        else:\n",
        "          all_unique_tags[tag] = (all_unique_tags[tag][0] + output[i][tag][0],\n",
        "                                  all_unique_tags[tag][1] + output[i][tag][1])\n",
        "\n",
        "    for key in all_unique_tags.keys():\n",
        "      all_unique_tags[key] = all_unique_tags[key][1] / all_unique_tags[key][0]\n",
        "    print(all_unique_tags)\n",
        "\n",
        "last()"
      ],
      "metadata": {
        "id": "GpVBxHar5djO",
        "colab": {
          "base_uri": "https://localhost:8080/"
        },
        "outputId": "211fce73-247f-4d34-d748-d022ae2a09d6"
      },
      "execution_count": null,
      "outputs": [
        {
          "output_type": "stream",
          "name": "stdout",
          "text": [
            "{'snacks-sweet': 3.499409942469391, 'served-cold': 4.8996655518394645, 'sugar-cookies': 3.5326591271567347, 'unprocessed-freezer': 3.5183898800818953, '60-minutes-or-less': 9.421596307251054, 'marinara-sauce': 3.519196670888366, 'mongolian': 3.5205639564613924, 'dietary': 8.847475085808545, 'new-zealand': 3.675539543180944, 'halibut': 3.6307357738310984, 'potatoes': 5.904853054459721, 'ham': 4.035313001605137, 'condiments-etc': 4.774664803249334, 'salads': 5.073807416941517, 'native-american': 3.5564752231900822, 'grains': 5.224492602167097, 'icelandic': 3.495472602984861, 'beans-side-dishes': 3.5171589921807125, 'chocolate-chip-cookies': 3.517361111111111, 'south-west-pacific': 4.41256904826587, 'finger-food': 5.242669036271105, 'super-bowl': 3.5900333656226455, 'pasta-shells': 3.692348490205785, 'beijing': 3.5082926829268293, 'clams': 3.6345715100527594, '30-minutes-or-less': 7.612898280169187, 'time-to-make': 9.281481461399151, 'course': 9.276040822485902, 'main-ingredient': 9.319338618409995, 'cuisine': 9.169345295595054, 'preparation': 9.290184944410539, 'occasion': 9.127588610115492, 'lunch': 6.678070133701289, 'snacks': 4.97824463839757, 'beans': 5.474823097543894, 'eggs-dairy': 7.61906585515968, 'asian': 6.44093896713615, 'middle-eastern': 4.18662534659925, 'easy': 7.257102974828375, 'european': 8.014284619511074, 'refrigerator': 4.700468242796817, 'beginner-cook': 6.332339717928189, 'dinner-party': 8.213281110913298, 'holiday-event': 8.297268371601021, 'vegetarian': 7.213573444760813, 'cheese': 6.531488110713357, 'stove-top': 7.253518137591015, 'christmas': 5.903472379371904, 'chick-peas-garbanzos': 3.8186306895232796, 'pasta-rice-and-grains': 7.778678806153666, 'brunch': 6.868345285144584, 'equipment': 8.581638229855283, 'memorial-day': 3.526194651468654, 'lentils': 3.9427124328393965, 'desserts-easy': 3.5051987767584096, 'dairy-free': 3.5531937967682463, 'st-patricks-day': 3.766104506497097, 'for-large-groups': 7.3129576627141955, 'breads': 7.151545202485276, 'vegetables': 8.096691645188807, 'irish': 3.7633798823279223, 'rolls-biscuits': 4.372955933539108, 'food-processor-blender': 4.468688619295205, 'onions': 5.008485918501011, 'taste-mood': 8.445523435307326, 'savory': 6.017530540409966, 'small-appliance': 5.245017758484609, 'number-of-servings': 7.843861137534171, 'from-scratch': 4.760201670080353, 'low-protein': 6.283603904577961, '5-ingredients-or-less': 5.336957720926241, 'desserts': 9.020831084727469, 'fruit': 7.31098436556398, 'potluck': 5.737963112206129, 'cakes': 6.748525214081827, 'low-in-something': 8.06143725401966, 'berries': 4.990349126500259, 'blueberries': 3.9690835480309166, 'tropical-fruit': 4.583793790143887, 'pineapple': 3.9652213630876645, 'to-go': 6.43465154668772, '4-hours-or-less': 10.061619048548046, 'roast': 4.0202735373350835, 'scandinavian': 3.95965014178824, 'gifts': 5.575590301621679, 'moose': 3.531225849188533, 'pork-loin': 3.4879634000217856, 'wedding': 3.924997377530683, 'deep-fry': 4.000034461368806, 'polish': 3.676203916034574, 'salsas': 3.6077271761456196, 'corn': 4.067056517687884, 'water-bath': 3.7336880825684795, 'african': 4.375515212535003, 'lasagna': 4.087288254234915, 'palestinian': 3.543812367980188, 'main-dish': 9.44096194386702, 'lamb-sheep': 4.123188648304943, 'one-dish-meal': 6.998387800390721, 'meat': 8.924918166939444, 'north-american': 8.180343634434827, 'healthy': 7.079380270906286, 'poultry': 7.6766569162664835, 'american': 7.577563646612001, 'southwestern-united-states': 4.484544567735642, 'winter': 5.497891804870569, 'chili': 3.9477126352831817, 'chicken': 7.323216943527278, 'spicy': 5.443107579770463, 'low-cholesterol': 6.624373335891962, 'seasonal': 6.805500756230683, 'low-calorie': 6.72912462997644, 'oamc-freezer-make-ahead': 5.098784918696766, 'low-carb': 7.2368588268805185, 'midwestern': 4.405890244282906, 'healthy-2': 6.390612238836999, 'chicken-breasts': 5.761701590507448, 'superbowl': 4.05981057254285, 'presentation': 7.168295398317665, 'served-hot': 6.446493819056996, 'goose': 3.5147188049209137, 'stuffings-dressings': 3.712663139329806, 'pitted-fruit': 4.117140944091061, 'black-beans': 3.932902483589362, 'pasta-rice-and-grains-elbow-macaroni': 3.4895655024219687, 'vietnamese': 3.6528540462427745, 'for-1-or-2': 5.469710020097617, 'drop-cookies': 4.3989254324668465, 'grapes': 3.5594732522037043, 'fudge': 3.735997208166114, 'infant-baby-friendly': 3.610292555075441, 'fillings-and-frostings-chocolate': 3.5172666886858233, 'beef': 6.947181386301575, 'steak': 3.927591230982957, 'saltwater-fish': 4.84894713008038, 'namibian': 3.4985236758648344, 'macaroni-and-cheese': 3.5415717333911974, 'baja': 3.5419669505714495, 'whole-chicken': 4.038478918280093, 'northeastern-united-states': 4.332135017338466, 'costa-rican': 3.51002331002331, 'peaches': 3.7718481997152877, 'bisques-cream-soups': 4.130641958967571, 'fathers-day': 3.500671238344037, 'turkey-breasts': 3.6286218190980097, 'roast-beef-main-dish': 3.5206913070715258, 'hidden-valley-ranch': 3.566594672426206, 'chicken-stews': 3.5087051938551572, 'ice-cream': 3.521969392600168, 'swiss': 3.661581580161067, 'laotian': 3.4832660642211666, 'georgian': 3.494425417182832, 'south-american': 3.9476568083585746, 'jellies': 3.564046631383207, 'sudanese': 3.4982489078239523, 'lebanese': 3.63631815907954, 'ground-beef': 5.549105678750725, 'high-calcium': 4.498177016048, 'cranberry-sauce': 3.497544650976683, 'low-saturated-fat': 6.517548064120999, '1-day-or-more': 4.4408199467823, 'hand-formed-cookies': 4.240565881456449, 'swedish': 3.6387271068696934, 'independence-day': 4.103371654912569, 'trout': 3.5571078784387153, 'italian': 5.875401743244286, 'hawaiian': 3.625746682405122, 'beef-crock-pot': 3.4976798143851506, 'tarts': 3.761529728962679, 'avocado': 3.5428054298642535, 'egyptian': 3.5658595730609544, 'soups-stews': 5.928872814948765, 'irish-st-patricks-day': 3.523739580655822, 'pressure-cooker': 3.669383378016086, 'cocktails': 3.616459944549832, 'heirloom-historical': 5.063764829030007, 'kid-friendly': 7.099744912748565, 'english': 4.145306587187301, 'scottish': 3.794825047331884, 'stocks': 3.6274845052361617, 'welsh': 3.5835602694567865, 'halloween': 3.730336683770296, 'comfort-food': 7.501722826330156, 'steaks': 3.881967781049714, 'bacon': 4.111746532570828, 'biscotti': 3.748597362684487, 'wild-game': 3.6915300253634835, 'Throw the ultimate fiesta with this sopaipillas recipe from Food.com.': 3.5091909780927373, 'pancakes-and-waffles': 4.1782645488868635, 'for-large-groups-holiday-event': 3.5099026032803504, 'coffee-cakes': 4.051087437459583, 'bread-pudding': 3.5103090915679243, 'iranian-persian': 3.6192373976734165, 'brown-rice': 3.716767450802195, 'german': 4.058475402669894, 'mexican': 5.300829045930744, 'pakistani': 3.5574368231046933, 'brown-bag': 4.357712765957447, 'oysters': 3.5647897001916746, 'heirloom-historical-recipes': 3.518718528789316, 'halloween-cakes': 3.497570776255708, 'raspberries': 3.911983774521803, 'bar-cookies': 4.8400583072294765, 'carrots': 4.311104822989373, 'spanish': 3.854108134036867, 'baked-beans': 3.4958463892734826, 'stews': 4.113397941852333, 'quail': 3.493760563886791, 'chard': 3.585968450623064, 'lasagne': 3.513804689211891, 'medium-grain-rice': 3.553534918756053, 'grilling': 4.7802524771066235, 'pizza': 4.157289431330472, 'muffins': 4.313896251419917, 'pasta': 6.583467128612472, 'spaghetti': 4.085556364599192, 'honduran': 3.5198920863309353, 'portuguese': 3.6468583599574016, 'cobblers-and-crisps': 3.8976795427941884, 'tuna': 3.852090032154341, 'cantonese': 3.5629565027798975, 'nut-free': 3.5772639553999, 'free-of-something': 5.702490836019962, 'non-alcoholic': 3.527155865024103, 'lobster': 3.5890681593677973, 'japanese': 3.7766150890314614, 'breakfast-casseroles': 3.5072967338429466, 'appetizers': 6.238108383223202, 'cooking-mixes': 3.6059236432117787, 'danish': 3.588848805229132, 'beef-kidney': 3.4941924983354293, 'melons': 3.6215869271068244, 'sourdough': 3.5825708220481665, 'labor-day': 3.5143223443223444, 'oven': 8.35578397868848, 'low-sodium': 7.38934074423795, 'high-protein': 4.9976361821715605, 'inexpensive': 6.938978910300557, 'high-in-something': 5.454825599571256, 'chicken-thighs-legs': 4.138689048760991, 'southern-united-states': 5.228728767548282, 'prepared-potatoes': 3.513888888888889, 'pickeral': 3.495783658040128, 'beef-liver': 3.553861900062141, 'chicken-crock-pot': 3.5021024258760107, 'rabbit': 3.519358951010745, 'april-fools-day': 3.5025232990754045, 'diabetic': 4.898358636570541, 'roast-beef-comfort-food': 3.4910856070448966, 'casseroles': 5.342120297070105, 'jewish-ashkenazi': 3.809071580439405, 'lettuces': 3.72604062489223, 'indonesian': 3.576455208976361, 'perch': 3.4991011074356395, 'barbecue': 4.595115340423652, 'less_thansql:name_topics_of_recipegreater_than': 3.519786523380773, 'novelty': 4.78505294832475, 'candy': 4.223484360921612, 'savory-pies': 4.306357791611389, 'nigerian': 3.491498004817198, 'californian': 3.741683178642194, 'crab': 3.94717246930972, 'kwanzaa': 3.590012767768478, 'cod': 3.651148687214612, 'polynesian': 3.5534190342443557, 'catfish': 3.557591154685655, 'beef-ribs': 3.610570186469299, 'scallops': 3.764405517534839, 'weeknight': 7.407898505551531, 'no-cook': 3.939926440539436, 'freshwater-fish': 3.835674650558404, 'wings': 3.6951493848857644, 'pressure-canning': 3.543630238707574, 'summer': 5.3021716163869, 'beverages': 3.897186677961568, 'celebrity': 3.757790816147279, 'veal': 3.686989970162131, 'halloween-cupcakes': 3.50969217366052, 'broccoli': 4.109892613081679, 'creole': 3.808877412150609, 'peppers': 4.524768917436942, 'strawberries': 4.118463493304662, '': 3.5241900334156617, 'toddler-friendly': 4.606256306760848, 'chicken-livers': 3.549497951933882, 'libyan': 3.4792518360406643, 'canadian': 4.762798937112489, 'seafood': 6.3766398478062705, 'eggs': 5.90428286115837, 'shellfish': 5.39521506079226, 'curries': 4.05021486820289, 'plums': 3.561009969657564, 'garnishes': 3.6196835688361113, 'chutneys': 3.5546227493569593, 'simply-potatoes2': 3.5105781238522002, 'main-dish-pasta': 3.5204359673024523, 'crawfish': 3.528399882127597, 'citrus': 4.539481883735422, 'crock-pot-main-dish': 3.5173733804475855, 'oranges': 3.8819250328360217, 'elbow-macaroni': 4.067232021709634, 'main-dish-beef': 3.5136130043372087, 'simply-potatoes': 3.6336680150245595, 'pork': 6.441009612296889, 'romantic': 5.151137717755207, 'gluten-free': 4.787555803571428, 'mushrooms': 4.666181164585206, 'british-columbian': 3.720289549511561, 'sauces': 4.230173110696066, 'sweet-sauces': 3.6269604310374413, 'bok-choys': 3.5429084380610414, 'yeast': 5.179025258359611, 'korean': 3.581213447669621, 'mothers-day': 3.5598459766805814, 'college': 3.5081593515938776, 'apples': 4.861765800853403, 'breakfast-potatoes': 3.498179276860264, 'puddings-and-mousses': 4.322346459244855, 'salad-dressings': 3.7239745056381763, 'lamb-sheep-main-dish': 3.4889929057266147, 'turkish': 3.615094073211197, 'brewing': 3.533591404073659, 'dips-summer': 3.483032091479159, 'dips-lunch-snacks': 3.5019560527951445, '15-minutes-or-less': 4.984987347693878, 'iraqi': 3.5353205243311185, 'mussels': 3.5866642573183953, 'chinese': 4.296693476318141, 'spaghetti-sauce': 3.513485781295808, 'main-dish-seafood': 3.5074083420454953, 'pork-loins-roast': 3.5220368616595032, 'flat-shapes': 3.8335504771294766, 'middle-eastern-main-dish': 3.482265884154121, 'lime': 3.6680705906923317, 'egg-free': 4.785101191330559, 'squash': 4.688833353651103, 'copycat': 4.258911638970139, 'dutch': 3.572373469760643, 'cookies-and-brownies': 6.724128982028158, 'fish': 5.308030746137322, 'bass': 3.5448755277332946, 'micro-melanesia': 3.515873303167421, 'pies-and-tarts': 5.219548872180451, 'white-rice': 3.844236760124611, 'duck': 3.598146226246287, 'ragu-recipe-contest': 3.5170680170498017, 'mushroom-soup': 3.4879347706320933, 'salmon': 4.212808517502823, 'hunan': 3.51156016077289, 'finnish': 3.5618049615055605, 'fall': 5.57149396058487, 'penne': 3.9522452622905795, 'malaysian': 3.5721047877145438, 'indian': 4.4621711044587995, 'crusts-pastry-dough-2': 3.6795540881173006, 'artichoke': 3.497362526194089, 'pumpkin': 3.569636585191026, 'whole-turkey': 3.690044263841521, 'octopus': 3.4900051255766273, 'brownies': 3.988007030361512, 'greens': 4.659794731846227, 'brazilian': 3.593456133554045, 'russian': 3.699989338640321, 'meatloaf': 3.5574070748787934, 'colombian': 3.537073065283182, 'side-dishes-beans': 3.4995969514876153, 'scones': 3.797224067405517, 'cajun': 3.9092691501588805, 'czech': 3.569284987647144, 'breakfast': 6.110814833188639, 'oaxacan': 3.520124963673351, 'side-dishes': 6.677882504463894, '3-steps-or-less': 4.725444880979894, 'mardi-gras-carnival': 3.592349414787325, 'sole-and-flounder': 3.574008778873138, 'ethiopian': 3.5176102459612864, 'turkey-burgers': 3.485523788817625, 'microwave': 4.0709821573135585, 'squid': 3.5498325108957967, 'cambodian': 3.50419744190236, 'tomatoes': 4.863825220812811, 'argentine': 3.571543584864232, 'norwegian': 3.569491771188284, 'pot-pie': 3.5061656963078147, 'nuts': 5.506497589603857, 'shrimp-main-dish': 3.5090474439132033, 'asparagus': 4.043901139164612, 'beef-sauces': 3.5010481422582043, 'collard-greens': 3.5332316962503176, 'soy-tofu': 3.9173077574812756, 'yams-sweet-potatoes': 4.005874012558234, 'rosh-hashanah': 3.5359039650782105, 'chocolate': 6.20676727637423, 'sweet': 6.041963795940757, 'spring': 4.523367544251078, 'green-yellow-beans': 3.8667932718393923, 'manicotti': 3.608735246976541, 'cherries': 3.7146248140012754, 'south-african': 3.6295001248795806, 'pork-chops': 4.038390176432885, 'pork-loins': 4.020388647928691, 'beef-organ-meats': 3.5532530469060792, 'hungarian': 3.6615977802601707, 'deer': 3.6029613084516177, 'high-fiber': 3.519729506132873, 'cake-fillings-and-frostings': 3.956685370192966, 'a1-sauce': 3.5294117647058822, 'whole-duck': 3.5282598370538163, 'bear': 3.4962042788129746, 'dehydrator': 3.498736735725114, 'new-years': 4.294761935442304, 'pheasant': 3.518821424659535, 'venezuelan': 3.484913080230806, 'meatballs': 3.5391047173944794, 'pork-sausage': 4.247814270277351, 'pennsylvania-dutch': 3.5433153531477393, 'breakfast-eggs': 3.5157483165592645, 'quiche': 3.530417422867514, 'dips': 4.0301674997807595, 'black-bean-soup': 3.508809858393687, 'rosh-hashana': 3.7044417510337944, 'crock-pot-slow-cooker': 4.697439190816408, 'broil': 4.056272757365111, 'clear-soups': 3.707621690862511, 'pork-ribs': 3.7111350188273264, 'chinese-new-year': 3.520067672150031, 'quick-breads': 5.0533835419204785, 'cupcakes': 3.9474428389143705, 'savory-sauces': 3.8123636363636364, 'jams-and-preserves': 3.8485838401390096, 'smoker': 3.5864111241907004, 'ravioli-tortellini': 3.736475831333562, 'cabbage': 3.5118587776614563, 'kosher': 4.838593327321911, 'lactose': 4.545132115623337, 'very-low-carbs': 5.311499131776963, 'filipino': 3.5700995240155775, 'easter': 4.438456053927923, 'congolese': 3.5009982991939657, 'stews-poultry': 3.492420432502335, 'main-dish-pork': 3.5115573110964817, 'cuban': 3.584447979177211, 'herb-and-spice-mixes': 3.5609068152170082, 'guatemalan': 3.5065568440446517, 'valentines-day': 4.48628192999054, 'beef-barley-soup': 3.498578820785657, 'tilapia': 3.619123308961181, 'mahi-mahi': 3.5342819253790188, 'omelets-and-frittatas': 3.94711636437742, 'short-grain-rice': 3.7009141423194123, 'smoothies': 3.4913586013612705, 'sandwiches': 4.788710212201591, 'rice': 5.122117871239962, 'mashed-potatoes': 3.5291910225878618, 'shrimp': 4.863974464097458, 'leftovers': 3.629642857142857, 'puerto-rican': 3.540115383237181, 'roast-beef': 4.007225779939043, 'australian': 4.221544972208186, 'french': 4.458006178401338, 'mixer': 4.313010178373475, 'amish-mennonite': 3.5538417492753105, 'passover': 3.662700837496855, 'pot-roast': 3.4867186084435584, 'spinach': 4.174417448374159, 'snacks-kid-friendly': 3.4987774168825956, 'belgian': 3.5707569011576137, 'thai': 3.891702641150277, 'chilean': 3.525028172598059, 'eggplant': 3.555599912898309, 'picnic': 5.047545585594699, 'no-shell-fish': 3.558615971772161, 'bread-machine': 3.7988581914568256, 'vegan': 5.194263609774507, 'canning': 3.9403362493165663, 'baking': 3.641841955656623, 'oatmeal': 3.4966018707980124, 'desserts-fruit': 3.5003251210172674, 'bean-soup': 3.5084320709457004, 'whitefish': 3.51517995740226, 'main-dish-chicken': 3.511603452026978, 'turkey': 4.416725453729238, 'pumpkin-bread': 3.505998098163997, 'quebec': 3.580821224607822, 'pork-crock-pot': 3.507781887428132, 'punch': 3.6038718018508438, 'frozen-desserts': 4.037359981711897, 'veggie-burgers': 3.5183765830869738, 'spreads': 3.84067344882504, 'camping': 3.926769146495943, 'pacific-northwest': 3.7673529311345555, 'pasta-salad': 3.50231884057971, 'thanksgiving': 4.962536107999764, 'chowders': 3.8393623965096704, 'long-grain-rice': 3.9565320745746595, 'peruvian': 3.5610730384432148, 'shakes': 3.5319910981292164, 'peanut-butter': 3.586288247068916, 'tempeh': 3.5280709469363822, 'jewish-sephardi': 3.572768422958537, 'beef-sausage': 3.674594441091903, 'mango': 3.6854711629372834, 'ecuadorean': 3.51644748693929, 'austrian': 3.584847396768402, 'chicken-stew': 3.4807091103019605, 'papaya': 3.53895019602149, 'birthday': 3.6297502714440824, 'technique': 5.310917457706244, 'rolled-cookies': 3.9377637130801686, 'granola-and-porridge': 3.7367356038001165, 'ontario': 3.7336962210823823, 'gumbo': 3.6050099836630967, 'low-fat': 5.95424890305829, 'gelatin': 3.730784113694727, 'lemon': 4.10420835000667, 'ham-and-bean-soup': 3.5061292786730203, 'ramadan': 3.6072477962781586, 'kiwifruit': 3.5360576923076925, 'angolan': 3.4955861968337345, 'central-american': 4.054360988381607, 'coconut': 4.104726814047666, 'pears': 3.7494835614999475, 'zucchini': 3.5807451178208547, 'high-in-something-diabetic-friendly': 3.503904405622344, 'halloween-cocktails': 3.5093900977151367, 'freezer': 4.0372639445248595, 'moroccan': 3.8281553398058255, 'nepalese': 3.5254998551144596, 'hanukkah': 3.7782499651665042, 'szechuan': 3.5476583824163197, 'cauliflower': 3.8560854141083367, 'orange-roughy': 3.520115573110965, 'eggs-breakfast': 3.485571387449626, 'cinco-de-mayo': 3.5556836606016935, 'pasta-elbow-macaroni': 3.493827160493827, 'steam': 3.6800028299550744, 'caribbean': 3.989617540717153, 'served-hot-new-years': 3.508674963396779, 'bananas': 3.9994123408423117, 'saudi-arabian': 3.53382551807317, 'greek': 4.357570268784164, 'pies': 4.671550109032832, 'cheesecake': 4.439035058206042, 'stir-fry': 4.166832339297548, 'reynolds-wrap': 3.564260057471264, 'somalian': 3.5215115445288974, 'elk': 3.5048554203819355, 'soul': 3.5568488954556923, 'duck-breasts': 3.540310215724728, 'burgers': 3.5678549544029123, 'tex-mex': 3.9362418366659933, 'marinades-and-rubs': 3.574061639696502}\n"
          ]
        }
      ]
    }
  ]
}