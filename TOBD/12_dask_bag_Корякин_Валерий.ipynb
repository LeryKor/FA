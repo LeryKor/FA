{
  "cells": [
    {
      "cell_type": "markdown",
      "metadata": {
        "id": "vIRIHRHkstt_"
      },
      "source": [
        "# Dask Bag"
      ]
    },
    {
      "cell_type": "markdown",
      "metadata": {
        "id": "ZK8ijWn6stuF"
      },
      "source": [
        "Материалы:\n",
        "* Макрушин С.В. Лекция 12: Map-Reduce\n",
        "* https://docs.dask.org/en/latest/bag.html\n",
        "* JESSE C. DANIEL. Data Science with Python and Dask."
      ]
    },
    {
      "cell_type": "markdown",
      "metadata": {
        "id": "ILmaM4NTstuO"
      },
      "source": [
        "## Лабораторная работа 12"
      ]
    },
    {
      "cell_type": "code",
      "execution_count": null,
      "metadata": {
        "id": "Ph0HHoxbstuP"
      },
      "outputs": [],
      "source": [
        "import dask.bag as db\n",
        "import json\n",
        "import re\n",
        "import pandas as pd"
      ]
    },
    {
      "cell_type": "markdown",
      "metadata": {
        "id": "_92F2FAsstuS"
      },
      "source": [
        "1. В файлах архиве `reviews_full.zip` находятся файлы, содержащие информацию об отзывах к рецептам в формате JSON Lines. Отзывы разделены на файлы в зависимости от оценки (например, в файле `reviews_1.json` находятся отзывы с оценкой 1). Считайте файлы из этого архива в виде `dask.bag`. Преобразуйте текстовое содержимое файлов в объекты python (с помощью модуля `json`). Выведите на экран первые 5 элементов полученного `bag`."
      ]
    },
    {
      "cell_type": "code",
      "source": [
        "from google.colab import drive\n",
        "drive.mount('/content/drive')"
      ],
      "metadata": {
        "colab": {
          "base_uri": "https://localhost:8080/"
        },
        "id": "qw8rhvljFqu1",
        "outputId": "c668dc5c-0ac7-4a5b-fbd0-aaf5255ebd08"
      },
      "execution_count": null,
      "outputs": [
        {
          "output_type": "stream",
          "name": "stdout",
          "text": [
            "Mounted at /content/drive\n"
          ]
        }
      ]
    },
    {
      "cell_type": "code",
      "source": [
        "rvb = db.read_text(\"/content/drive/MyDrive/tobd/reviews_full/reviews_*.json\")"
      ],
      "metadata": {
        "id": "xi--zInrFol4"
      },
      "execution_count": null,
      "outputs": []
    },
    {
      "cell_type": "code",
      "source": [
        "js = rvb.map(json.loads)\n",
        "js.take(5)"
      ],
      "metadata": {
        "colab": {
          "base_uri": "https://localhost:8080/"
        },
        "id": "21RXNRKwx2hI",
        "outputId": "fbb7fe9a-a758-4653-c979-8957f5756b82"
      },
      "execution_count": null,
      "outputs": [
        {
          "output_type": "execute_result",
          "data": {
            "text/plain": [
              "({'user_id': 452355,\n",
              "  'recipe_id': 292657,\n",
              "  'date': '2016-05-08',\n",
              "  'review': 'WOW!!! This is the best. I have never been able to make homemade enchiladas that taste like the Mexican restaurants. I made this last night for my family and they said they will never have enchiladas at the Mexican Restaurants again. Thanks for sharing.'},\n",
              " {'user_id': 329304,\n",
              "  'recipe_id': 433404,\n",
              "  'date': '2006-06-14',\n",
              "  'review': 'This was good but the dressing needed something and I found it to be a little too sweet, next time I will experiment with some garlic and herbs and reduce the sugar slightly, thanks for sharing kcdlong!...Kitten'},\n",
              " {'user_id': 227932,\n",
              "  'recipe_id': 2008187,\n",
              "  'date': '1985-11-19',\n",
              "  'review': 'Very good,it was a hit for my family. I used 6 cloves of garlic and had 1 lb beef and  Johnsonville sausage,1/2 lb hot and  1/2 lb honey garlic( which I wanted to use). That was a perfect combo for us. The sausage gave it nice flavor No guestion , I will be making this often.'},\n",
              " {'user_id': 171468,\n",
              "  'recipe_id': 270716,\n",
              "  'date': '2019-05-21',\n",
              "  'review': 'Made for ZWT-8 Family Picks after I saw these mentioned in the Family Picks thread. So I got up this morning, made my morning coffee while the oven was heating & then made these quick-fix sweet treats B4 I was ready for my 2nd cup of coffee. I used 8\" tortillas (all I had on-hand) & cut them into 8 wedges. Then I used 2 of my Pamperd Chef gadgets .. my sml basting brush to spread the honey on the warm tortillas & my flour/sugar shaker to sprinkle the powd sugar/cinnamon mixture atop the honeyed tortillas. It might have taken a total of 2 min from oven to tasting! Yum! Using the same \"sweet mix\" these would also be good w/butter, cream cheese or even lime juice. Can\\'t wait to try them w/lime juice! Thx for sharing this tasty little treat w/us.'},\n",
              " {'user_id': 91392,\n",
              "  'recipe_id': 1159916,\n",
              "  'date': '1972-09-18',\n",
              "  'review': \"Very nice slaw. I especially like that it doesn't have the mayo dressing. I used a prepackaged Cole slaw mix, so i didn't include the carrots nor the nuts. I also doubled the sauce. :)\"})"
            ]
          },
          "metadata": {},
          "execution_count": 4
        }
      ]
    },
    {
      "cell_type": "markdown",
      "metadata": {
        "id": "AkfoGqA3stuT"
      },
      "source": [
        "2. Модифицируйте функцию разбора JSON таким образом, чтобы в каждый словарь c информацией об отзыве добавить ключ `rating`. Значение получите на основе названия файла (см. аргумент `include_path`), использовав для этого регулярное выражение."
      ]
    },
    {
      "cell_type": "code",
      "source": [
        "def modifiedLoads(x):\n",
        "  dct = json.loads(x[0])\n",
        "  dct[\"rating\"] = int(x[1][-6])\n",
        "  return dct\n",
        "rvb = db.read_text(\"/content/drive/MyDrive/tobd/reviews_full/reviews_*.json\", include_path=True)\n",
        "js = rvb.map(modifiedLoads)\n",
        "js.take(5)\n"
      ],
      "metadata": {
        "id": "YDmuJPitKR4Y",
        "colab": {
          "base_uri": "https://localhost:8080/"
        },
        "outputId": "ecf8abc7-9019-47ee-f0a9-f6f403240ffe"
      },
      "execution_count": null,
      "outputs": [
        {
          "output_type": "execute_result",
          "data": {
            "text/plain": [
              "({'user_id': 452355,\n",
              "  'recipe_id': 292657,\n",
              "  'date': '2016-05-08',\n",
              "  'review': 'WOW!!! This is the best. I have never been able to make homemade enchiladas that taste like the Mexican restaurants. I made this last night for my family and they said they will never have enchiladas at the Mexican Restaurants again. Thanks for sharing.',\n",
              "  'rating': 0},\n",
              " {'user_id': 329304,\n",
              "  'recipe_id': 433404,\n",
              "  'date': '2006-06-14',\n",
              "  'review': 'This was good but the dressing needed something and I found it to be a little too sweet, next time I will experiment with some garlic and herbs and reduce the sugar slightly, thanks for sharing kcdlong!...Kitten',\n",
              "  'rating': 0},\n",
              " {'user_id': 227932,\n",
              "  'recipe_id': 2008187,\n",
              "  'date': '1985-11-19',\n",
              "  'review': 'Very good,it was a hit for my family. I used 6 cloves of garlic and had 1 lb beef and  Johnsonville sausage,1/2 lb hot and  1/2 lb honey garlic( which I wanted to use). That was a perfect combo for us. The sausage gave it nice flavor No guestion , I will be making this often.',\n",
              "  'rating': 0},\n",
              " {'user_id': 171468,\n",
              "  'recipe_id': 270716,\n",
              "  'date': '2019-05-21',\n",
              "  'review': 'Made for ZWT-8 Family Picks after I saw these mentioned in the Family Picks thread. So I got up this morning, made my morning coffee while the oven was heating & then made these quick-fix sweet treats B4 I was ready for my 2nd cup of coffee. I used 8\" tortillas (all I had on-hand) & cut them into 8 wedges. Then I used 2 of my Pamperd Chef gadgets .. my sml basting brush to spread the honey on the warm tortillas & my flour/sugar shaker to sprinkle the powd sugar/cinnamon mixture atop the honeyed tortillas. It might have taken a total of 2 min from oven to tasting! Yum! Using the same \"sweet mix\" these would also be good w/butter, cream cheese or even lime juice. Can\\'t wait to try them w/lime juice! Thx for sharing this tasty little treat w/us.',\n",
              "  'rating': 0},\n",
              " {'user_id': 91392,\n",
              "  'recipe_id': 1159916,\n",
              "  'date': '1972-09-18',\n",
              "  'review': \"Very nice slaw. I especially like that it doesn't have the mayo dressing. I used a prepackaged Cole slaw mix, so i didn't include the carrots nor the nuts. I also doubled the sauce. :)\",\n",
              "  'rating': 0})"
            ]
          },
          "metadata": {},
          "execution_count": 5
        }
      ]
    },
    {
      "cell_type": "markdown",
      "metadata": {
        "id": "-QSHRcB7stuU"
      },
      "source": [
        "3. Посчитайте количество отзывов в исходном датасете."
      ]
    },
    {
      "cell_type": "code",
      "source": [
        "js.npartitions = 3000\n"
      ],
      "metadata": {
        "id": "KP2XOGYqSeDC"
      },
      "execution_count": null,
      "outputs": []
    },
    {
      "cell_type": "code",
      "source": [
        "js.count().compute()"
      ],
      "metadata": {
        "id": "uK5GBEI1P1nI",
        "colab": {
          "base_uri": "https://localhost:8080/"
        },
        "outputId": "fd2b4cc4-dc26-45dd-de37-63e359d66286"
      },
      "execution_count": null,
      "outputs": [
        {
          "output_type": "execute_result",
          "data": {
            "text/plain": [
              "9063528"
            ]
          },
          "metadata": {},
          "execution_count": 133
        }
      ]
    },
    {
      "cell_type": "markdown",
      "metadata": {
        "id": "InTaww2sstuV"
      },
      "source": [
        "4. Отфильтруйте `bag`, сохранив только отзывы, оставленные в 2014 и 2015 годах."
      ]
    },
    {
      "cell_type": "code",
      "source": [
        "js = js.filter(lambda record: isinstance(record, dict))\n",
        "js = js.filter(lambda record: record['date'][:4] == '2014' or record['date'][:4] == '2015')\n",
        "fjs = js.compute()\n",
        "fjs[:5]"
      ],
      "metadata": {
        "colab": {
          "base_uri": "https://localhost:8080/"
        },
        "id": "Psm9I0c3M1dr",
        "outputId": "484fc43d-8ef5-4c04-b28f-9b22a8d1585b"
      },
      "execution_count": null,
      "outputs": [
        {
          "output_type": "execute_result",
          "data": {
            "text/plain": [
              "[{'user_id': 229850,\n",
              "  'recipe_id': 1300038,\n",
              "  'date': '2014-10-03',\n",
              "  'review': 'Took this to a New Year&#039;s Eve Party. Everyone loved it! It&#039;s absolutely perfect, the flavor, the crunch, just delicious!',\n",
              "  'rating': 0},\n",
              " {'user_id': 2706705,\n",
              "  'recipe_id': 133747,\n",
              "  'date': '2015-05-08',\n",
              "  'review': 'Simple and easy way to enjoy a slice of pizza any time!  Well-toasted bread is the key - really toast it!  I put a bit of pizza sauce underneath my cheese for a more pizza-like flavor.  I used sourdough bread & medium cheddar cheese.  Fast & fun!  Great idea!  Made for 1-2-3 Hits Tag Game.',\n",
              "  'rating': 0},\n",
              " {'user_id': 945545,\n",
              "  'recipe_id': 898468,\n",
              "  'date': '2015-06-30',\n",
              "  'review': 'Delish!  I wanted to make this spicy so I used hot enchilada sauce and jalapeno refried beans.  I forgot to buy the onions so I doctored up the beans with onion powder and granulated garlic.  Added the olives under the cheese and baked, uncovered, for the 25 minutes.  Served with pico de gallo, sour cream and avocado chunks.  Fantastic!  Thanks for sharing, lazyme!',\n",
              "  'rating': 0},\n",
              " {'user_id': 262915,\n",
              "  'recipe_id': 1657686,\n",
              "  'date': '2015-11-29',\n",
              "  'review': 'This is seriously delicious.  I mixed it up the night before and baked it in the morning before work.  Made the sauce the night before and refrigerated overnight and heated in microwave.  Such an unusual combination but it kind of reminded me of the pancake on a stick that my kids used to get at the convenience store (sausage wrapped in a pancake, kind of like a corn dog.  Making it again this week and will try to get a pic this time!',\n",
              "  'rating': 0},\n",
              " {'user_id': 2000408662,\n",
              "  'recipe_id': 128848,\n",
              "  'date': '2015-08-17',\n",
              "  'review': 'Many thanks. Found the recipe truly marvellous! I can now make full use of the lemons growing in my garden.The marmalade was delicious and very easy to make. Since it was the first time, I didn&#039;t want to use a large quantity and so I halved the measures after converting them into grams. Please could we have measurements of ingredients in  recipes in the metric system, i.e. grams and litres,and not in pounds?  Now I am going to search for a recipe to make lemon squash',\n",
              "  'rating': 0}]"
            ]
          },
          "metadata": {},
          "execution_count": 7
        }
      ]
    },
    {
      "cell_type": "code",
      "source": [
        "js = db.from_sequence(fjs)"
      ],
      "metadata": {
        "id": "XEE9GZhFKLBh"
      },
      "execution_count": null,
      "outputs": []
    },
    {
      "cell_type": "markdown",
      "metadata": {
        "id": "Iq0rej9BstuZ"
      },
      "source": [
        "5. Выполните препроцессинг отзывов:\n",
        "    * привести строки к нижнему регистру\n",
        "    * обрезать пробельные символы в начале и конце строки\n",
        "    * удалите все символы, кроме английских букв и пробелов\n",
        "    \n",
        "Примените препроцессинг ко всем записям из `bag`, полученного в задании 4."
      ]
    },
    {
      "cell_type": "code",
      "source": [
        "def preprocess_review(review_dict):\n",
        "    review = review_dict['review']\n",
        "    if review.strip():\n",
        "        review_dict['review'] = re.sub(r'[^a-z\\s]', '', review.lower().strip())\n",
        "    return review_dict\n",
        "\n",
        "js = js.map(preprocess_review)\n",
        "js.take(3)"
      ],
      "metadata": {
        "colab": {
          "base_uri": "https://localhost:8080/"
        },
        "id": "ZjKgiCMmNiS8",
        "outputId": "c3b537c1-0695-4359-9a1a-173863eff677"
      },
      "execution_count": null,
      "outputs": [
        {
          "output_type": "execute_result",
          "data": {
            "text/plain": [
              "({'user_id': 229850,\n",
              "  'recipe_id': 1300038,\n",
              "  'date': '2014-10-03',\n",
              "  'review': 'took this to a new years eve party everyone loved it its absolutely perfect the flavor the crunch just delicious',\n",
              "  'rating': 0},\n",
              " {'user_id': 2706705,\n",
              "  'recipe_id': 133747,\n",
              "  'date': '2015-05-08',\n",
              "  'review': 'simple and easy way to enjoy a slice of pizza any time  welltoasted bread is the key  really toast it  i put a bit of pizza sauce underneath my cheese for a more pizzalike flavor  i used sourdough bread  medium cheddar cheese  fast  fun  great idea  made for  hits tag game',\n",
              "  'rating': 0},\n",
              " {'user_id': 945545,\n",
              "  'recipe_id': 898468,\n",
              "  'date': '2015-06-30',\n",
              "  'review': 'delish  i wanted to make this spicy so i used hot enchilada sauce and jalapeno refried beans  i forgot to buy the onions so i doctored up the beans with onion powder and granulated garlic  added the olives under the cheese and baked uncovered for the  minutes  served with pico de gallo sour cream and avocado chunks  fantastic  thanks for sharing lazyme',\n",
              "  'rating': 0})"
            ]
          },
          "metadata": {},
          "execution_count": 9
        }
      ]
    },
    {
      "cell_type": "markdown",
      "metadata": {
        "id": "oRyo2CStstua"
      },
      "source": [
        "6. Посчитайте количество отзывов в датасете, полученном в результате решения задачи 5. В случае ошибок прокомментируйте результат и исправьте функцию препроцессинга."
      ]
    },
    {
      "cell_type": "code",
      "source": [
        "js.count().compute()"
      ],
      "metadata": {
        "colab": {
          "base_uri": "https://localhost:8080/"
        },
        "id": "8wsyhWmCQHBJ",
        "outputId": "4d282f22-7453-4b2b-e2bd-e4e88dc7f362"
      },
      "execution_count": null,
      "outputs": [
        {
          "output_type": "execute_result",
          "data": {
            "text/plain": [
              "735274"
            ]
          },
          "metadata": {},
          "execution_count": 10
        }
      ]
    },
    {
      "cell_type": "markdown",
      "metadata": {
        "id": "VAM1b90Jstuc"
      },
      "source": [
        "7. Посчитайте, как часто в наборе, полученном в задании 5, встречается та или иная оценка"
      ]
    },
    {
      "cell_type": "code",
      "source": [
        "from operator import add\n",
        "def incr(tot, _):\n",
        "  return tot+1\n",
        "result = js.foldby(key='rating',binop=incr,initial=0,combine=add,combine_initial=0).compute()\n",
        "result"
      ],
      "metadata": {
        "colab": {
          "base_uri": "https://localhost:8080/"
        },
        "id": "ye6kap4m6W7S",
        "outputId": "fa5069c9-bbee-4412-b1f3-13653817e91b"
      },
      "execution_count": null,
      "outputs": [
        {
          "output_type": "execute_result",
          "data": {
            "text/plain": [
              "[(0, 42472), (1, 9246), (2, 9380), (3, 26532), (4, 119413), (5, 528231)]"
            ]
          },
          "metadata": {},
          "execution_count": 11
        }
      ]
    },
    {
      "cell_type": "markdown",
      "metadata": {
        "id": "jYRj7Kqestud"
      },
      "source": [
        "8. Найдите среднее значение `rating` в выборке"
      ]
    },
    {
      "cell_type": "code",
      "source": [
        "result = js.pluck('rating').mean().compute()\n",
        "result"
      ],
      "metadata": {
        "colab": {
          "base_uri": "https://localhost:8080/"
        },
        "id": "_be7F6LSF_rd",
        "outputId": "6f21a6ac-2d57-4f3c-9dd0-0bbf8917ce6c"
      },
      "execution_count": null,
      "outputs": [
        {
          "output_type": "execute_result",
          "data": {
            "text/plain": [
              "4.388036296673077"
            ]
          },
          "metadata": {},
          "execution_count": 12
        }
      ]
    },
    {
      "cell_type": "markdown",
      "metadata": {
        "id": "PcQg3brgstue"
      },
      "source": [
        "9. Используя метод `foldby`, подсчитать максимальную длину отзывов в зависимости от оценки `rating` в наборе, полученном в задании 5."
      ]
    },
    {
      "cell_type": "code",
      "source": [
        "def maxBinop(tot, x):\n",
        "  return max(tot, len(x[\"review\"]))\n",
        "result = js.foldby(key='rating',binop=maxBinop,initial=0,combine=max,combine_initial=0).compute()\n",
        "result"
      ],
      "metadata": {
        "colab": {
          "base_uri": "https://localhost:8080/"
        },
        "id": "M74hb1p4WM7t",
        "outputId": "d308a4f0-00ac-4137-e7f9-c260208c5fbe"
      },
      "execution_count": null,
      "outputs": [
        {
          "output_type": "execute_result",
          "data": {
            "text/plain": [
              "[(0, 6548), (1, 2868), (2, 2844), (3, 3174), (4, 6548), (5, 5351)]"
            ]
          },
          "metadata": {},
          "execution_count": 36
        }
      ]
    }
  ],
  "metadata": {
    "kernelspec": {
      "display_name": "Python 3",
      "language": "python",
      "name": "python3"
    },
    "language_info": {
      "codemirror_mode": {
        "name": "ipython",
        "version": 3
      },
      "file_extension": ".py",
      "mimetype": "text/x-python",
      "name": "python",
      "nbconvert_exporter": "python",
      "pygments_lexer": "ipython3",
      "version": "3.8.3"
    },
    "colab": {
      "provenance": []
    }
  },
  "nbformat": 4,
  "nbformat_minor": 0
}