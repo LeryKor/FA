{
 "cells": [
  {
   "cell_type": "markdown",
   "metadata": {
    "id": "w286_axzZXwt"
   },
   "source": [
    "    __Автор задач: Блохин Н.В. (NVBlokhin@fa.ru)__\n",
    "\n",
    "Материалы:\n",
    "* Макрушин С.В. Лекция \"Работа со строковыми значениям\"\n",
    "* https://pyformat.info/\n",
    "* https://docs.python.org/3/library/re.html\n",
    "    * https://docs.python.org/3/library/re.html#flags\n",
    "    * https://docs.python.org/3/library/re.html#functions\n",
    "* https://pythonru.com/primery/primery-primeneniya-regulyarnyh-vyrazheniy-v-python\n",
    "* https://kanoki.org/2019/11/12/how-to-use-regex-in-pandas/\n",
    "* https://realpython.com/nltk-nlp-python/"
   ]
  },
  {
   "cell_type": "markdown",
   "metadata": {
    "id": "PjiJvqE2ZXww"
   },
   "source": [
    "## Задачи для совместного разбора"
   ]
  },
  {
   "cell_type": "markdown",
   "metadata": {
    "id": "mTppf8ktZXwx"
   },
   "source": [
    "1. Вывести на экран данные из словаря `obj` построчно в виде `k = v`, задав формат таким образом, чтобы знак равенства оказался на одной и той же позиции во всех строках. Строковые литералы обернуть в кавычки."
   ]
  },
  {
   "cell_type": "code",
   "execution_count": null,
   "metadata": {
    "id": "p62Flgb_ZXwz"
   },
   "outputs": [],
   "source": [
    "import re\n",
    "\n",
    "import nltk\n",
    "import pandas as pd\n",
    "\n",
    "obj = {\n",
    "    \"home_page\": \"https://github.com/pypa/sampleproject\",\n",
    "    \"keywords\": \"sample setuptools development\",\n",
    "    \"license\": \"MIT\",\n",
    "}"
   ]
  },
  {
   "cell_type": "markdown",
   "metadata": {
    "id": "myDR4i7eZXw2"
   },
   "source": [
    "2. Написать регулярное выражение,которое позволит найти номера групп студентов."
   ]
  },
  {
   "cell_type": "code",
   "execution_count": null,
   "metadata": {
    "id": "DDfRNZjSZXw3",
    "outputId": "9abccd65-fdfa-46b7-d5e0-3e1a0e2cd615"
   },
   "outputs": [
    {
     "data": {
      "text/plain": [
       "0    Евгения гр.ПМ19-1\n",
       "1         Илья пм 20-4\n",
       "2            Анна 20-3\n",
       "dtype: object"
      ]
     },
     "execution_count": 4,
     "metadata": {},
     "output_type": "execute_result"
    }
   ],
   "source": [
    "obj = pd.Series([\"Евгения гр.ПМ19-1\", \"Илья пм 20-4\", \"Анна 20-3\"])\n",
    "obj"
   ]
  },
  {
   "cell_type": "markdown",
   "metadata": {
    "id": "4DczsDiPZXw6"
   },
   "source": [
    "3. Разбейте текст формулировки задачи 2 на слова."
   ]
  },
  {
   "cell_type": "markdown",
   "metadata": {
    "id": "LZ95sip1ZXw7"
   },
   "source": [
    "## Лабораторная работа 6.1"
   ]
  },
  {
   "cell_type": "markdown",
   "metadata": {
    "id": "KIteLnxcZXw8"
   },
   "source": [
    "### Форматирование строк"
   ]
  },
  {
   "cell_type": "markdown",
   "metadata": {
    "id": "IXlUu7bXZXw9"
   },
   "source": [
    "6\\.1\\.1\\. Загрузите данные из файла `recipes_sample.csv` (__ЛР2__) в виде `pd.DataFrame` `recipes` При помощи форматирования строк выведите информацию об id рецепта и времени выполнения 5 случайных рецептов в виде таблицы следующего вида:\n",
    "\n",
    "    \n",
    "    |      id      |  minutes  |\n",
    "    |--------------------------|\n",
    "    |    61178     |    65     |\n",
    "    |    202352    |    80     |\n",
    "    |    364322    |    150    |\n",
    "    |    26177     |    20     |\n",
    "    |    224785    |    35     |\n",
    "    \n",
    "Обратите внимание, что ширина столбцов заранее неизвестна и должна рассчитываться динамически, в зависимости от тех данных, которые были выбраны."
   ]
  },
  {
   "cell_type": "code",
   "execution_count": null,
   "outputs": [
    {
     "name": "stdout",
     "output_type": "stream",
     "text": [
      "|    id    |  minutes  |\n",
      "|----------------------|\n",
      "|  210106  |    20     |\n",
      "|  461357  |    42     |\n",
      "|  214749  |    90     |\n",
      "|  178445  |     5     |\n",
      "|  81161   |    495    |\n"
     ]
    }
   ],
   "source": [
    "import pandas as pd\n",
    "sample = 5\n",
    "data = pd.read_csv(\"recipes_sample.csv\").sample(sample)\n",
    "len1 = len(str(data.id.max())) + 4\n",
    "len2 = max(len('minutes'),len(str(data.id.max()))) + 4\n",
    "print(f\"|{'id': ^{len1}}|{'minutes': ^{len2}}|\")\n",
    "print(f\"|{'':->{(len1+len2) + 1}}|\")\n",
    "for i in range(sample):\n",
    "    print(f\"|{data.iloc[i]['id']: ^{len1}}|{data.iloc[i]['minutes']: ^{len2}}|\")\n",
    "\n"
   ],
   "metadata": {
    "id": "knzF6lx2ZXw_",
    "outputId": "9e15bf74-f4c0-4100-e07e-8bc6b823d754"
   }
  },
  {
   "cell_type": "markdown",
   "metadata": {
    "id": "mzTSiJEVZXxB"
   },
   "source": [
    "6\\.1\\.2\\. Напишите функцию `show_info`, которая по данным о рецепте создает строку (в смысле объекта python) с описанием следующего вида:\n",
    "\n",
    "```\n",
    "\"Название Из Нескольких Слов\"\n",
    "\n",
    "1. Шаг 1\n",
    "2. Шаг 2\n",
    "----------\n",
    "Автор: contributor_id\n",
    "Среднее время приготовления: minutes минут\n",
    "```\n",
    "\n",
    "    \n",
    "Данные для создания строки получите из файлов `recipes_sample.csv` (__ЛР2__) и `steps_sample.xml` (__ЛР3__). \n",
    "Вызовите данную функцию для рецепта с id `170895` и выведите (через `print`) полученную строку на экран."
   ]
  },
  {
   "cell_type": "code",
   "execution_count": null,
   "metadata": {
    "id": "Xd120ZIrZXxD",
    "outputId": "6b30297d-5d46-418b-84b0-a6e048a40ad4"
   },
   "outputs": [
    {
     "name": "stdout",
     "output_type": "stream",
     "text": [
      "\"George S At The Cove Black Bean Soup\"\n",
      "\n",
      "1. Clean the leeks and discard the dark green portions\n",
      "2. Cut the leeks lengthwise then into one-inch pieces\n",
      "3. Melt the butter in a medium skillet , med\n",
      "----------\n",
      "Автор: 35193\n",
      "Среднее время приготовления: 90 минут\n",
      "\n"
     ]
    }
   ],
   "source": [
    "import string\n",
    "def show_info(name, steps, minutes, author_id):\n",
    "    a = '\\n'\n",
    "    return f\"\\\"{string.capwords(name)}\\\"\\n\\n{''.join([f'{i+1}. {steps[i].capitalize()}{a}' for i in range(len(steps))])}----------\\nАвтор: {author_id}\\nСреднее время приготовления: {minutes} минут\\n\"\n",
    "assert (\n",
    "    show_info(\n",
    "        name=\"george s at the cove black bean soup\",\n",
    "        steps=[\n",
    "            \"clean the leeks and discard the dark green portions\",\n",
    "            \"cut the leeks lengthwise then into one-inch pieces\",\n",
    "            \"melt the butter in a medium skillet , med\",\n",
    "        ],\n",
    "        minutes=90,\n",
    "        author_id=35193,\n",
    "    )\n",
    "    == '\"George S At The Cove Black Bean Soup\"\\n\\n1. Clean the leeks and discard the dark green portions\\n2. Cut the leeks lengthwise then into one-inch pieces\\n3. Melt the butter in a medium skillet , med\\n----------\\nАвтор: 35193\\nСреднее время приготовления: 90 минут\\n'\n",
    ")\n",
    "print(show_info(\n",
    "        name=\"george s at the cove black bean soup\",\n",
    "        steps=[\n",
    "            \"clean the leeks and discard the dark green portions\",\n",
    "            \"cut the leeks lengthwise then into one-inch pieces\",\n",
    "            \"melt the butter in a medium skillet , med\",\n",
    "        ],\n",
    "        minutes=90,\n",
    "        author_id=35193,\n",
    "    ))"
   ]
  },
  {
   "cell_type": "markdown",
   "metadata": {
    "id": "jwwL84JVZXxF"
   },
   "source": [
    "## Работа с регулярными выражениями"
   ]
  },
  {
   "cell_type": "markdown",
   "metadata": {
    "id": "4V3_GFhHZXxG"
   },
   "source": [
    "6\\.1\\.3\\. Напишите регулярное выражение, которое ищет следующий паттерн в строке: число (1 цифра или более), затем пробел, затем слова: hour или hours или minute или minutes. Произведите поиск по данному регулярному выражению в каждом шаге рецепта с id 25082. Выведите на экран все непустые результаты, найденные по данному шаблону."
   ]
  },
  {
   "cell_type": "code",
   "execution_count": null,
   "outputs": [],
   "source": [
    "from bs4 import BeautifulSoup as bs\n",
    "with open(\"steps_sample.xml\") as f:\n",
    "    steps_data = bs(f, 'xml')"
   ],
   "metadata": {
    "id": "fZ4iNyh8ZXxH"
   }
  },
  {
   "cell_type": "code",
   "execution_count": null,
   "outputs": [
    {
     "name": "stdout",
     "output_type": "stream",
     "text": [
      "20 minutes\n",
      "10 minutes\n",
      "2 hours\n",
      "10 minutes\n",
      "20 minutes\n",
      "30 minutes\n"
     ]
    }
   ],
   "source": [
    "import re\n",
    "p = re.compile(r\"([0-9]+ (hours|hour|minutes|minute))\")\n",
    "for i in steps_data.find(\"id\", text=\"25082\").findNextSibling():\n",
    "    for j in p.findall(i.text):\n",
    "        print(j[0])"
   ],
   "metadata": {
    "id": "dJAOkJXiZXxI",
    "outputId": "c21c88de-02f6-4bb2-8169-66b40780eb0e"
   }
  },
  {
   "cell_type": "code",
   "execution_count": 8,
   "outputs": [
    {
     "name": "stdout",
     "output_type": "stream",
     "text": [
      "12 hours\n",
      "1 minute\n",
      "-----\n"
     ]
    }
   ],
   "source": [
    "import re\n",
    "p = re.compile(r\"([0-9]+ (hours|hour|minutes|minute))\")\n",
    "primer = \"fbrbrg brg rg 12 hours ff we 1 minute\"\n",
    "contrPrimer = \"ferg 3 2fgeg erg 12 w hours minutes\"\n",
    "for j in p.findall(primer):\n",
    "        print(j[0])\n",
    "print(\"-----\")\n",
    "for j in p.findall(contrPrimer):\n",
    "        print(j[0])"
   ],
   "metadata": {
    "collapsed": false
   }
  },
  {
   "cell_type": "markdown",
   "metadata": {
    "id": "GEtH8LGGZXxJ"
   },
   "source": [
    "    6\\.1\\.4\\. Напишите регулярное выражение, которое ищет шаблон вида \"this..., but\" _в начале строки_ . Между словом \"this\" и частью \", but\" может находиться произвольное число букв, цифр, знаков подчеркивания и пробелов. Никаких других символов вместо многоточия быть не может. Пробел между запятой и словом \"but\" может присутствовать или отсутствовать.\n",
    "\n",
    "Используя строковые методы `pd.Series`, выясните, для каких рецептов данный шаблон содержится в тексте описания. Выведите на экран количество таких рецептов и 3 примера подходящих описаний (текст описания должен быть виден на экране полностью)."
   ]
  },
  {
   "cell_type": "code",
   "execution_count": null,
   "outputs": [
    {
     "name": "stdout",
     "output_type": "stream",
     "text": [
      "Количество рецептов: 134\n",
      "Примеры совпадений: \n",
      "this is a great meal eaten the same day ,but even better the next day , if you can wait! add your favourite spices, but try it first as it is and i think that you will enjoy the 'vegetable' taste. good for freezing.\n",
      "\n",
      "this was adapted from a recipe i found on the net, but i added julienne onion to the peppers.  this is a meal in itself, or you could have a small slice with a meat dish.  for those that like to have brunch, it's a bit different to your traditional quiche recipes.  if you love cheese, you could add 1/2 cup of your favorite to the egg mixture, then pour over peppers.\n",
      "\n",
      "this is kind of similar to some of the other versions out there, but it is the best and easiest i have found\n",
      "\n"
     ]
    }
   ],
   "source": [
    "p2 = re.compile(r\"^this[\\s\\w]*,\\s?but\")\n",
    "a = pd.read_csv(\"recipes_sample.csv\").description\n",
    "b = a.str.contains(p2)\n",
    "print(\"Количество рецептов: \" + str(b[b==True].count()))\n",
    "print(\"Примеры совпадений: \")\n",
    "for i in b[b==True].iloc[:3].index.tolist():\n",
    "    print(a[i])\n",
    "    print()"
   ],
   "metadata": {
    "id": "lGf4tkCxZXxK",
    "outputId": "5763d3c2-b5dc-4d10-9695-a5f1599aa00b"
   }
  },
  {
   "cell_type": "markdown",
   "metadata": {
    "id": "gSFQAGEaZXxL"
   },
   "source": [
    "## Лабораторная 6.2"
   ]
  },
  {
   "cell_type": "markdown",
   "metadata": {
    "id": "8t-SRVBQZXxM"
   },
   "source": [
    "6\\.2\\.1\\. В текстах шагов рецептов обыкновенные дроби имеют вид \"a / b\". Используя регулярные выражения, уберите в тексте шагов рецепта с id 72367 пробелы до и после символа дроби. Выведите на экран шаги этого рецепта после их изменения."
   ]
  },
  {
   "cell_type": "code",
   "execution_count": null,
   "outputs": [
    {
     "name": "stdout",
     "output_type": "stream",
     "text": [
      "mix butter , flour , 1/3 c\n",
      "sugar and 1-1/4 t\n",
      "vanilla\n",
      "press into greased 9\" springform pan\n",
      "mix cream cheese , 1/4 c\n",
      "sugar , eggs and 1/2 t\n",
      "vanilla beating until fluffy\n",
      "pour over dough\n",
      "combine apples , 1/3 c\n",
      "sugar and cinnamon\n",
      "arrange on top of cream cheese mixture and sprinkle with almonds\n",
      "bake at 350 for 45-55 minutes , or until tester comes out clean\n"
     ]
    }
   ],
   "source": [
    "import re\n",
    "r = re.compile(r\" / \")\n",
    "stps = steps_data.find(\"id\", text =\"72367\").findNextSibling().findAll()\n",
    "for i in stps:\n",
    "    print(re.sub(r, \"/\", i.text))"
   ],
   "metadata": {
    "id": "4K3uwPoZZXxN",
    "outputId": "b899e075-6bde-42ed-bb69-07c1fbc22ec2"
   }
  },
  {
   "cell_type": "markdown",
   "metadata": {
    "id": "eG1UDZO6ZXxO"
   },
   "source": [
    "### Сегментация тек,ста"
   ]
  },
  {
   "cell_type": "markdown",
   "metadata": {
    "id": "ELyJIKHhZXxP"
   },
   "source": [
    "6\\.2\\.2\\. Разбейте тексты шагов рецептов на слова при помощиt пакета `nltk`. Посчитайте и выведите на экран кол-во уникальных слов среди всех рецептов. Словом называется любая последовательность алфавитных символов (для проверки можно воспользоваться `str.isalpha`). При подсчете количества уникальных слов не учитывайте регистр."
   ]
  },
  {
   "cell_type": "code",
   "execution_count": null,
   "outputs": [
    {
     "data": {
      "text/plain": "19742"
     },
     "execution_count": 67,
     "metadata": {},
     "output_type": "execute_result"
    }
   ],
   "source": [
    "from nltk.tokenize.toktok import ToktokTokenizer\n",
    "words = set()\n",
    "for i in steps_data.findAll(\"step\"):\n",
    "    toktok = ToktokTokenizer()\n",
    "    for j in toktok.tokenize(i.text):\n",
    "        words.add(j.lower())\n",
    "len(words)"
   ],
   "metadata": {
    "id": "pkbJFjYFZXxQ",
    "outputId": "f5a312f1-ecff-4a72-8f60-e746ae766b0c"
   }
  },
  {
   "cell_type": "markdown",
   "metadata": {
    "id": "N3uidKFuZXxR"
   },
   "source": [
    "6\\.2\\.3\\. Разбейте описания рецептов из `recipes` на предложения при помощи пакета `nltk`. Найдите 5 самых длинных описаний (по количеству _предложений_) рецептов в датасете и выведите строки фрейма, соответствующие этим рецептами, в порядке убывания длины."
   ]
  },
  {
   "cell_type": "code",
   "execution_count": null,
   "outputs": [
    {
     "name": "stderr",
     "output_type": "stream",
     "text": [
      "[nltk_data] Downloading package punkt to\n",
      "[nltk_data]     C:\\Users\\User\\AppData\\Roaming\\nltk_data...\n",
      "[nltk_data]   Unzipping tokenizers\\punkt.zip.\n"
     ]
    },
    {
     "data": {
      "text/plain": "True"
     },
     "execution_count": 6,
     "metadata": {},
     "output_type": "execute_result"
    }
   ],
   "source": [
    "import nltk\n",
    "nltk.download('punkt')"
   ],
   "metadata": {
    "id": "rMSPLYv6ZXxS",
    "outputId": "97055ced-38c6-4d33-9fd8-9243cb50da75"
   }
  },
  {
   "cell_type": "code",
   "execution_count": null,
   "outputs": [
    {
     "name": "stdout",
     "output_type": "stream",
     "text": [
      "Количество предложений : 20\n",
      "i'm proud of my scottish heritage, as well as my love of food (heck- i'm a midwesterner!) this named for the seven rivers highland society here in st. louis, mo, and for hogmanay- a truly scottish celebration!\r\n",
      "\r\n",
      "scotch eggs were invented in london by fortnum & mason, a food shop, in 1851- apparently in a \"let's pretend to be scottish\" craze. silly sasenachs! but the name stuck, as did their portability. some call these \"picnic eggs\", some call them \"savory eggs\" (using chopped eggs) but these are a great item to bring to the office pot-luck, that will leave your co-workers raving!\r\n",
      "\r\n",
      "i first tried scotch eggs at the missouri tartan day festivities a few years ago. i was hooked and when i finally saw how easy they were to make i mastered them!  and searched the world over for variations! and the one i liked was the one from the handmade scotch egg company in the uk. alas, we can't get them here- but here is my version of one of theirs. if you go there, avoid the pre-packaged ones at tesco's, sainsbury's and the ilk as those are horrid!  and when you can get them here, some are poorly made, and served with a lack-luster approach as an \"appetizer\". yet, these are an easy and unique way to take a quick breakfast out the door to work and can eat this in the car with one hand and no mess! yep- portability! \r\n",
      "\r\n",
      "the key i learned to making any type of scotch egg is the quality of the sausage! if you use the low-priced, \"discount\" stuff, you will end up with holes and gaps in the outer sausage shell. go for jimmy dean, r.b.rice, johnsonville, or your favourite one. my daughter loves making these, and everytime we have taken them to a pot-luck lunch, or just something different.\r\n",
      "egg + ham + sausage + bread(ing) = yummmm.\n",
      "\n",
      "Количество предложений : 22\n",
      "this is the recipe as taught in the main line school night [winter, 2005] class on regional chinese cooking by betty foo, chef & co-owner of the hunan restaurant in ardmore, pa. betty and her husband are from hunan and have returned to visit, so the recipe is authentic to the region, both by family history, by recent comparison, and by my own review of chinese regional cookbooks.\r\n",
      "\r\n",
      "originally a sichuan regional specialty, hot and sour soup has become a staple at every chinese restaurant, no matter what regional style they claim as a specialty. clearly, as with many soups, individual variations are easy and can vary the flavor considerably.\r\n",
      "\r\n",
      "one of the ways i judge any chinese restaurant the first time i eat there is by the quality of their hot and sour soup ... this one is superb!\r\n",
      "\r\n",
      "to make a kosher meat version, replace the pork with (kosher) chicken or turkey and replace the broth with a kosher broth (watch the salt if you use a commercial broth). to make a vegetarian version, use a vegetable broth and add a variety of sliced fresh mushrooms (e.g., shiitake, oyster). to make it vegan, use the above substitutions for vegetarian and skip the eggs.\r\n",
      "\r\n",
      "recipe makes about 48 oz of soup, so you can serve 4 @ 12 oz or 6 @ 8 oz.\r\n",
      "\r\n",
      "october 2008 -- addendum. thanks to all the fellow recipezaar foodies who have tried this recipe ... there have been two major issues raised: the amount of vinegar and the spiciness. re the vinegar, i went back and asked betty foo about the \"white distilled\" vs \"rice\" vinegar. so far as she knows, both are the same acidity (5%, marked on the bottle) and while the taste is different (the rice vinegar provides a more subtle flavor), they \"should be\" equivalent. she noted that rice vinegar comes in a seasoned and unseasoned version (for marukan, look at the label and the cap color to see the difference), but this shouldn't affect the acidity the vinegar provides. i'll make versions with both vinegars and update this note with some recommendations if i taste a significant difference.\r\n",
      "\r\n",
      "re the spiciness, as noted, this soup comes from sichuan, known for its love of spiciness. it may be more than you are used to, so by all means, feel free to adjust the pepper components (and other components) to your taste. \r\n",
      "\r\n",
      "also, re substituting fresh mushrooms for the dried, you should know that the dried mushrooms tend to give a more intense and woodsy flavor than fresh ... the opposite of the situation with fresh herbs vs dried. don't be surprised if you prefer the recipe done with dried mushrooms!\r\n",
      "\r\n",
      "re the ginger, it should be added at step 11, with other spices. it adds to the \"hot\" flavor by infusing the broth and the pieces add to the texture. you could, if you wanted to increase the \"hot\" of the pepper and the crunch of the veggies, divide the ginger and add some at the end as a garnish. i prefer not to, simply because i prefer the hot and sour components to be more of a blended flavor ...\n",
      "\n",
      "Количество предложений : 23\n",
      "the first time i made this cake i grated a million pounds of carrots on a knucklebuster.  then they invented cuisinarts!  now it is much faster to shred the carrots on a fine shredding disk and no bloody knuckles!  i have baked it in 8\", 9\", 9x13\" pans so if you want to experiment with pan size it works.  one thing i found was baking and stacking the three layers is tricky.  my favorite way is two 8\" pans for a nice layer cake and an 8\" square pan to put into the freezer for unexpected company. i hope you try this wonderful cake.  update:  in the spirit of carrot cake stories, this cake was invented by a bunny named foo-foo.  he is very famous and even has a hit song which goes like this: sing to the tune of 'down by the station'..........     \r\n",
      "\r\n",
      "\r\n",
      " little bunny foo foo,\r\n",
      "hopping through the forest,\r\n",
      "scooping up the field mice,\r\n",
      "and boppin' 'em on the head.\r\n",
      "\r\n",
      "down came the good fairy and she said - \r\n",
      "\r\n",
      "\"little bunny foo foo,\r\n",
      "i don't want to see you,\r\n",
      "scooping up the field mice,\r\n",
      "and boppin' 'em on the head.\r\n",
      "i'll give you three chances,\r\n",
      "and if you don't behave ...\r\n",
      "i'll turn you into a goon!\"\r\n",
      "\r\n",
      "the next day:\r\n",
      "\r\n",
      "little bunny foo foo,\r\n",
      "hopping through the forest,\r\n",
      "scooping up the field mice,\r\n",
      "and boppin' 'em on the head.\r\n",
      "\r\n",
      "down came the good fairy and she said:\r\n",
      "\r\n",
      "\"little bunny foo foo,\r\n",
      "i don't want to see you.\r\n",
      "scooping up the field mice.\r\n",
      "and boppin' 'em on the head.\r\n",
      "i'll give you two more chances,\r\n",
      "and if you don't behave...\r\n",
      "i'll turn you into a goon!\"\r\n",
      "\r\n",
      "the next day:\r\n",
      "\r\n",
      "little bunny foo foo,\r\n",
      "hopping through the forest,\r\n",
      "scooping up the field mice,\r\n",
      "and boppin' 'em on the head.\r\n",
      "\r\n",
      "down came the good fairy and she said:\r\n",
      "\r\n",
      "\"little bunny foo foo,\r\n",
      "i don't want to see you,\r\n",
      "scooping up the field mice,\r\n",
      "and boppin' 'em on the head.\r\n",
      "i'll give you one more chance,\r\n",
      "and if you don't behave..........\r\n",
      "i'll turn you into a goon!\"\r\n",
      "\r\n",
      "the next day:\r\n",
      "\r\n",
      "little bunny foo foo,\r\n",
      "hopping through the forest,\r\n",
      "scooping up the field mice,\r\n",
      "and boppin' 'em on the head,\r\n",
      "\r\n",
      "down came the good fairy and she said\r\n",
      "\r\n",
      "\"little bunny foo foo,\r\n",
      "i don't want to see you,\r\n",
      "scooping up the field mice,\r\n",
      "and boppin' 'em on the head.\r\n",
      "i gave you three chances\r\n",
      "and you didn't behave\r\n",
      "now you're a goon! poof!!\"\r\n",
      "\r\n",
      "the moral of the story is:\r\n",
      "hare today, goon tomorrow\n",
      "\n",
      "Количество предложений : 24\n",
      "this is one of the best soups i've ever made and it is even worthy of company.  so simple, yet rich in deep, mushroomy flavor.  the inspiration was zaar #26877, a delicious mushroom rice casserole.  i found i couldn't stop eating the liquid before putting the casserole into the oven and that gave me the idea that the base  would make a delicious soup.  and it does! \r\n",
      "use plenty of fresh mushrooms.  i buy them when they are marked 1/2 price at the grocery, as this is a good way to use your 'shrooms that are starting to get dark.  it is the soy sauce that transforms the broth from ho-hum to yum.  i try to use low sodium or home-made no sodium chicken broth so that i can use the soy for the sodium.  there is no sense of \"asian\" in this soup at all.  ( i would not make this without the soy. )  just a little bit adds the depth of flavor and even color that transforms the soup.\r\n",
      "\r\n",
      "notes:\r\n",
      "1. if you want to make it into \"cream of\" just add some evaporated milk...delicious. \r\n",
      "\r\n",
      "2.  once i broke up a leftover ground sirloin burger into my soup bowl and nuked it...was that ever good.\r\n",
      "\r\n",
      "3. i did do this recipe with sinewy beef scraps cut from a roast once.  i browned the beef in the bottom of the pan, added the butter and onions and continued as written.  the beef added great color and flavor.  in this case, i threw the beef piece away, because it had too much sinew, but it was a great addition!  i ended up using less soy.\r\n",
      "\r\n",
      "4.  i have eye-ball made this soup with amounts i had in the fridge/cupboard and it was great.  so if you don't have that many mushrooms, make it anyway, just keep tasting it until it tastes good to you! \r\n",
      "\r\n",
      "5.  i've made it without food-processing the onions, and that worked just as well.\r\n",
      "\r\n",
      " lots of flexibility here!  try it, it might be the best barley mushroom soup you've ever had!\n",
      "\n",
      "Количество предложений : 27\n",
      "a translucent golden-brown crust allows the green of the avocado to be seen.  the crispy exterior is a counterpoint to the unctuous interior.  these are a signature dish for me, and the one i most often get requests to make (although my seafood and ricotta stuffed buckwheat pancakes run a close second).\r\n",
      "\r\n",
      "these fritters came about ten years ago when i was shopping for a dinner i was making for a friend who is a cia-trained chef.  i was in a vegetable market and saw these gorgeous avocados that i just knew would be ripe in the next two days.  i tried to think of what i could do with them since a) everyone serves cold avocado, and b) i really am not fond of guacamole.  as i tried to think of what i could make with them that was hot, the work 'fritters' jumped into my head.  having never made a fritter before, i was a little surprised to have that thought; but having never known when a vegetable was going to be ripe before i figured i was on a roll and decided to go for it.\r\n",
      "\r\n",
      "to serve with my never-before-tried-fritters, i decided to make a crème fraîche-lime-cayenne dipping sauce.  so i made fresh crème fraîche, and used it as a base not only for this dip, but for a tia maria sauce to go with the flourless chocolate cake i made for dessert (another never-before made item, but with the recipe from cook's illustrated it was the only thing i wasn't making up as i went along).\r\n",
      "\r\n",
      "the result of the fritters was that i got to taste the test fritter, then had to dive across the couch before the last one was devoured in order to have a second.\r\n",
      "\r\n",
      "the one evolution in the recipe is the change from cayenne to chipotle in the dip.  i like the smokiness, and it gives a rough edge to something very smooth - i am all about contrast.  feel free to use whatever chile or combination thereof that you like best.  this dip is easy and stands on it's own at a party for anything you want to dip into it.  i have also made it with vegan sour cream with great results.\r\n",
      "\r\n",
      "the name alligator claws comes from an alternate name for the avocado: the alligator pear, as well as the fact that the wedges of avocado look like claws.\r\n",
      "\r\n",
      "(for those not familiar with the name alligator pear, it derives from both the tough, textured exterior - reminiscent of an alligator's hide, and the fact that you really can't eat one until it softens - just like a pear.)\r\n",
      "\r\n",
      "alligator claws are also a great name to call them if you have kids who either won't eat anything that sounds weird and you want to keep them to yourself, or - if you want your kids to eat them - if you have kids who'll only eat things that will gross other people out.\r\n",
      "\r\n",
      "if you are preparing these for kids (and i recommend you do whatever name you choose to call them), protect their palates and tone down the heat of the sauce.  maybe skip the chiles altogether and put in just a hint of finely ground pepper (white pepper won't look like black specks throughout the dip - i'm normally not that fussy, but it's something kids will notice).\r\n",
      "\r\n",
      "allow half an avocado per person.  this is so rich that more is too much.\r\n",
      "\r\n",
      "note:\r\n",
      "you can easily cut the recipe in half, all the batter is is a one-to-one mix of flour & water (someone has suggested trying tempura batter which comes in a mix at many supermarkets - i tend to be a from-scratch kind of guy.  or do i just mean itchy?).\r\n",
      "\r\n",
      "enjoy.\r\n",
      "\r\n",
      "-- text by michael david winter, aka the poker roach\n",
      "\n"
     ]
    }
   ],
   "source": [
    "from nltk import sent_tokenize\n",
    "import pandas as pd\n",
    "data = pd.read_csv(\"recipes_sample.csv\", index_col=1)\n",
    "descriptions = data.description.tolist()\n",
    "lengths = dict()\n",
    "for i in range(len(descriptions)):\n",
    "    toklen = len(sent_tokenize(str(descriptions[i])))\n",
    "    lengths[toklen] = i\n",
    "lst = list(lengths.keys())\n",
    "lst.sort()\n",
    "for j in lst[-6:-1]:\n",
    "    print(f\"Количество предложений : {j}\")\n",
    "    print(descriptions[lengths.get(j)])\n",
    "    print()"
   ],
   "metadata": {
    "id": "_9n2R2jrZXxT",
    "outputId": "9b4f8313-ab9e-486e-b63b-c227ba47da8f"
   }
  },
  {
   "cell_type": "markdown",
   "metadata": {
    "id": "vimaDWHMZXxU"
   },
   "source": [
    "6\\.2\\.4\\. Напишите функцию, которая для заданного предложения выводит информацию о частях речи слов, входящих в предложение, в следующем виде:\n",
    "```\n",
    "PRP   VBD   DT      NNS     CC   VBD      NNS        RB   \n",
    " I  omitted the raspberries and added strawberries instead\n",
    "``` \n",
    "Для определения части речи слова можно воспользоваться `nltk.pos_tag`.\n",
    "\n",
    "Проверьте работоспособность функции на названии рецепта с id 241106.\n",
    "\n",
    "Обратите внимание, что часть речи должна находиться ровно посередине над соотвествующим словом, а между самими словами должен быть ровно один пробел.\n"
   ]
  },
  {
   "cell_type": "code",
   "execution_count": null,
   "outputs": [
    {
     "name": "stderr",
     "output_type": "stream",
     "text": [
      "[nltk_data] Downloading package averaged_perceptron_tagger to\n",
      "[nltk_data]     C:\\Users\\User\\AppData\\Roaming\\nltk_data...\n",
      "[nltk_data]   Unzipping taggers\\averaged_perceptron_tagger.zip.\n"
     ]
    },
    {
     "data": {
      "text/plain": "True"
     },
     "execution_count": 71,
     "metadata": {},
     "output_type": "execute_result"
    }
   ],
   "source": [
    "import nltk\n",
    "nltk.download('averaged_perceptron_tagger')"
   ],
   "metadata": {
    "id": "MsY9S-NdZXxV",
    "outputId": "4db16685-c8f7-416d-ce2d-f481e8534443"
   }
  },
  {
   "cell_type": "code",
   "execution_count": null,
   "outputs": [
    {
     "name": "stdout",
     "output_type": "stream",
     "text": [
      "   JJ     NNS    IN     NNS    VBP    JJ   CC   JJ    NNS   \n",
      "eggplant steaks with chickpeas feta cheese and black olives \n"
     ]
    }
   ],
   "source": [
    "def parts_of_speech(sentence) -> None:\n",
    "    tokens = nltk.word_tokenize(sentence)\n",
    "    tagged = nltk.pos_tag(tokens)\n",
    "    tags = \"\"\n",
    "    words = \"\"\n",
    "    for word, tag in tagged:\n",
    "        length_of_word = max(len(word), len(tag))\n",
    "        tags = tags + f\"{tag:^{length_of_word}} \"\n",
    "        words = words + f\"{word:^{length_of_word}} \"\n",
    "    print(tags)\n",
    "    print(words)\n",
    "\n",
    "\n",
    "parts_of_speech(data.loc[241106]['name'])"
   ],
   "metadata": {
    "id": "tg0XFT9YZXxX",
    "outputId": "ce41af17-6f81-46e2-9826-a6abe4c4348e"
   }
  },
  {
   "cell_type": "code",
   "execution_count": null,
   "outputs": [],
   "source": [],
   "metadata": {
    "pycharm": {
     "is_executing": true
    },
    "id": "pDWua0LcZXxY"
   }
  }
 ],
 "metadata": {
  "kernelspec": {
   "display_name": "Python 3 (ipykernel)",
   "language": "python",
   "name": "python3"
  },
  "language_info": {
   "codemirror_mode": {
    "name": "ipython",
    "version": 3
   },
   "file_extension": ".py",
   "mimetype": "text/x-python",
   "name": "python",
   "nbconvert_exporter": "python",
   "pygments_lexer": "ipython3",
   "version": "3.9.12"
  },
  "colab": {
   "provenance": []
  }
 },
 "nbformat": 4,
 "nbformat_minor": 0
}
