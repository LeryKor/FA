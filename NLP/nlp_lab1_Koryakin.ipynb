{
  "nbformat": 4,
  "nbformat_minor": 0,
  "metadata": {
    "colab": {
      "provenance": []
    },
    "kernelspec": {
      "name": "python3",
      "display_name": "Python 3"
    },
    "language_info": {
      "name": "python"
    }
  },
  "cells": [
    {
      "cell_type": "code",
      "execution_count": null,
      "metadata": {
        "id": "-bsIvxQNVBtS"
      },
      "outputs": [],
      "source": [
        "from bs4 import BeautifulSoup\n",
        "import requests\n",
        "import re"
      ]
    },
    {
      "cell_type": "code",
      "source": [
        "url = 'https://www.banki.ru/services/responses/list/'"
      ],
      "metadata": {
        "id": "vIoYj261Vgic"
      },
      "execution_count": null,
      "outputs": []
    },
    {
      "cell_type": "code",
      "source": [
        "root = \"https://www.banki.ru\""
      ],
      "metadata": {
        "id": "0wg3OCTW-j81"
      },
      "execution_count": null,
      "outputs": []
    },
    {
      "cell_type": "code",
      "source": [
        "page = requests.get(url)\n",
        "content = page.text\n",
        "soup = BeautifulSoup(content, \"lxml\")\n",
        "rws = soup.find_all('div', {\"class\" : \"la8a5ef73\"})"
      ],
      "metadata": {
        "id": "lbR6qgikVnNs"
      },
      "execution_count": null,
      "outputs": []
    },
    {
      "cell_type": "code",
      "source": [
        "reviews = []"
      ],
      "metadata": {
        "id": "fjybpm2ziGvI"
      },
      "execution_count": null,
      "outputs": []
    },
    {
      "cell_type": "code",
      "source": [
        "for i in range(len(rws) -1):\n",
        "  urlRw = root + rws[i].find_all(\"a\", {\"class\": \"link-simple\"})[0]['href']\n",
        "  page = requests.get(urlRw)\n",
        "  content = page.text\n",
        "  soup = BeautifulSoup(content, \"lxml\")\n",
        "  try:\n",
        "    reviews.append((\"\".join(p.text for p in [soup.find(\"div\", {\"class\": \"lb1789875\"}).find_all(\"p\")]), int(soup.find('div', {\"class\": \"rating-grade\"}).text)))\n",
        "  except:\n",
        "    reviews.append((soup.find(\"div\", {\"class\": \"lb1789875\"}).text, int(soup.find('div', {\"class\": \"rating-grade\"}).text)))\n"
      ],
      "metadata": {
        "id": "6T89uGOxjfjr"
      },
      "execution_count": null,
      "outputs": []
    },
    {
      "cell_type": "code",
      "source": [
        "len(reviews)"
      ],
      "metadata": {
        "colab": {
          "base_uri": "https://localhost:8080/"
        },
        "id": "ALhaGmMqsO6n",
        "outputId": "401955d4-e5c4-4bd3-edc5-070bf50215d9"
      },
      "execution_count": null,
      "outputs": [
        {
          "output_type": "execute_result",
          "data": {
            "text/plain": [
              "25"
            ]
          },
          "metadata": {},
          "execution_count": 118
        }
      ]
    },
    {
      "cell_type": "code",
      "source": [
        "reviews[1]"
      ],
      "metadata": {
        "colab": {
          "base_uri": "https://localhost:8080/"
        },
        "id": "SLIgNQoNyEaU",
        "outputId": "3192cf61-d62e-4094-8819-40d5f30059e8"
      },
      "execution_count": null,
      "outputs": [
        {
          "output_type": "execute_result",
          "data": {
            "text/plain": [
              "('\\nРешел сменить премиальное обслуживание с ОТП банка на ДомРФ. где условия намного лучше и проценты выше. Забежал в отделение в г. Казани где мне быстро все оформили объяснили активировали приложение. Я ранее был клентом банка так что все знал и быстро сделали. Спасибо менеджеру Светлане. Договорились что как только выведу деньги со своего банка то приеду к ним. Это удалось сделать в этот же вечер и я позвонил Светлане и меня уже ждали в ДомРФ банке. Пустили на свою парковку и быстро все сделали. Обслуживание на высоте. И вот я снова клиент банка. Заодно и ИИС открыли. Давно хотел все руки не доходили. Мне понравилось такое отношение к клиентам. Молодцы.\\xa0\\n',\n",
              " 5)"
            ]
          },
          "metadata": {},
          "execution_count": 119
        }
      ]
    },
    {
      "cell_type": "code",
      "source": [
        "from threading import Thread"
      ],
      "metadata": {
        "id": "4zz_hPLkt3cR"
      },
      "execution_count": null,
      "outputs": []
    },
    {
      "cell_type": "code",
      "source": [
        "def parse(start, end):\n",
        "  for x in range(start, end):\n",
        "    url =  f'https://www.banki.ru/services/responses/list/?page={x}&is_countable=on'\n",
        "    page = requests.get(url)\n",
        "    content = page.text\n",
        "    soup = BeautifulSoup(content, \"lxml\")\n",
        "    rws = soup.find_all('div', {\"class\" : \"la8a5ef73\"})\n",
        "    for i in range(len(rws) -1):\n",
        "      urlRw = root + rws[i].find_all(\"a\", {\"class\": \"link-simple\"})[0]['href']\n",
        "      page = requests.get(urlRw)\n",
        "      content = page.text\n",
        "      soup = BeautifulSoup(content, \"lxml\")\n",
        "      try:\n",
        "        reviews.append((\"\".join(p.text for p in [soup.find(\"div\", {\"class\": \"lb1789875\"}).find_all(\"p\")]), int(soup.find('div', {\"class\": \"rating-grade\"}).text)))\n",
        "      except:\n",
        "        reviews.append((soup.find(\"div\", {\"class\": \"lb1789875\"}).text, int(soup.find('div', {\"class\": \"rating-grade\"}).text)))"
      ],
      "metadata": {
        "id": "3T3hm_iot4Xs"
      },
      "execution_count": null,
      "outputs": []
    },
    {
      "cell_type": "code",
      "source": [
        "thrds = [Thread(target=parse, args=(2+i*10, 2+ (i+1) * 10)) for i in range(0, 25)]\n",
        "for thrd in thrds:\n",
        "  thrd.start()\n",
        "for thrd in thrds:\n",
        "  thrd.join()"
      ],
      "metadata": {
        "colab": {
          "base_uri": "https://localhost:8080/"
        },
        "id": "VqEM5VxhuE0V",
        "outputId": "846f3621-4fcb-433b-a49d-b9c0c54b1e60"
      },
      "execution_count": null,
      "outputs": [
        {
          "output_type": "stream",
          "name": "stderr",
          "text": [
            "Exception in thread Thread-40 (parse):\n",
            "Traceback (most recent call last):\n",
            "  File \"<ipython-input-121-b58703c76569>\", line 14, in parse\n",
            "  File \"<ipython-input-121-b58703c76569>\", line 14, in <genexpr>\n",
            "  File \"/usr/local/lib/python3.10/dist-packages/bs4/element.py\", line 2308, in __getattr__\n",
            "    raise AttributeError(\n",
            "AttributeError: ResultSet object has no attribute 'text'. You're probably treating a list of elements like a single element. Did you call find_all() when you meant to call find()?\n",
            "\n",
            "During handling of the above exception, another exception occurred:\n",
            "\n",
            "Traceback (most recent call last):\n",
            "  File \"/usr/lib/python3.10/threading.py\", line 1016, in _bootstrap_inner\n",
            "    self.run()\n",
            "  File \"/usr/lib/python3.10/threading.py\", line 953, in run\n",
            "    self._target(*self._args, **self._kwargs)\n",
            "  File \"<ipython-input-121-b58703c76569>\", line 16, in parse\n",
            "AttributeError: 'NoneType' object has no attribute 'text'\n"
          ]
        }
      ]
    },
    {
      "cell_type": "code",
      "source": [
        "len(reviews)"
      ],
      "metadata": {
        "colab": {
          "base_uri": "https://localhost:8080/"
        },
        "id": "FWaZmX6KxCbf",
        "outputId": "5661f6f9-3f8f-44c6-9901-c4ad62a02435"
      },
      "execution_count": null,
      "outputs": [
        {
          "output_type": "execute_result",
          "data": {
            "text/plain": [
              "6094"
            ]
          },
          "metadata": {},
          "execution_count": 123
        }
      ]
    },
    {
      "cell_type": "code",
      "source": [
        "import pickle"
      ],
      "metadata": {
        "id": "3g6xLOt6-t4y"
      },
      "execution_count": null,
      "outputs": []
    },
    {
      "cell_type": "code",
      "source": [
        "f = open('data', 'wb')\n",
        "pickle.dump(reviews, f)\n",
        "f.close()"
      ],
      "metadata": {
        "colab": {
          "base_uri": "https://localhost:8080/"
        },
        "id": "g_JyvE2O--Sm",
        "outputId": "719c43e0-2ea8-4dce-c704-281f4e064577"
      },
      "execution_count": null,
      "outputs": [
        {
          "output_type": "execute_result",
          "data": {
            "text/plain": [
              "<function BufferedWriter.close>"
            ]
          },
          "metadata": {},
          "execution_count": 129
        }
      ]
    },
    {
      "cell_type": "code",
      "source": [
        "f = open('data', 'rb')\n",
        "data = pickle.load(f)\n",
        "f.close()"
      ],
      "metadata": {
        "id": "Fx1mVCwP_Wok"
      },
      "execution_count": null,
      "outputs": []
    },
    {
      "cell_type": "code",
      "source": [
        "len(data)"
      ],
      "metadata": {
        "colab": {
          "base_uri": "https://localhost:8080/"
        },
        "id": "pfYwcqpK_ws4",
        "outputId": "96705d10-3173-496c-c0d6-e280ba9cfa4a"
      },
      "execution_count": null,
      "outputs": [
        {
          "output_type": "execute_result",
          "data": {
            "text/plain": [
              "6094"
            ]
          },
          "metadata": {},
          "execution_count": 3
        }
      ]
    },
    {
      "cell_type": "code",
      "source": [
        "data[6000]"
      ],
      "metadata": {
        "colab": {
          "base_uri": "https://localhost:8080/"
        },
        "id": "MgJ9sY85_zkF",
        "outputId": "57f86991-cc47-41df-c580-5ebcec243c27"
      },
      "execution_count": null,
      "outputs": [
        {
          "output_type": "execute_result",
          "data": {
            "text/plain": [
              "('\\nДобрый день! Сегодня я расскажу вам как оформил кредитную карту 120 дней без процентов в банке Открытие! Оформлял карту по ссылке друга (была акция при оформлении карты 120 дней процентов можно получить 3000 баллов на дополнительно оформленную дебетовую карту при трате кредитных денег более 3000 рублей)! При оформлении карты по ссылке при получении кредитной карты в отделении банка оператор не уведомил что если вы были уже клиентом банка (ранее приобретал карту дебетовую в банке открытие когда было оформлено ИП) то никаких баллов вы не получите на дебетовую карту! Оформил карту, потратил более 3000 рублей по кредитной карте и стал ждать обещанных баллов! Спустя 2 недели сделал запрос в поддержку о зачислении баллов и там ответили что в этом месяце не будет, ждите в следующем! Спустя месяц снова сделал запрос в службу поддержки и там мне написали что баллов не будет так как уже были клиентом банка! Соответственно, балов я не получил! Потом приходит смс о том что в следующем месяце будет снята 599 рублей с кредитной карты за снятие наличных с карты (не важно будете снимать деньги или нет)! Поэтому принял решение закрыть кредитную карту чтобы не снимали эту сумму! После написания заявления на закрытие карты оператор банка сообщает что карту полностью закроют только через месяц (не в день написания заявления а через месяц). Со спокойной душой я забываю об этой кредитной карте и через неделю мне приходит уведомление о снятии 599 рублей! при обращении в службу поддержки мне сообщают что эта услуга активируется при подписании договора и выдачи карты! На мой вопрос как закрыть задолженность по кредитной карте которая закрыта и отсутствует в интернет банке и физически, мне скидывают реквизиты карты где я сам себе должен перевести деньги на закрытую карту для её закрытия! Крайне не рекомендую брать кредитные карты в банке Открытие, где при их выдаче выясняется о куче скрытых комиссий при пользовании карты!\\n',\n",
              " 1)"
            ]
          },
          "metadata": {},
          "execution_count": 4
        }
      ]
    },
    {
      "cell_type": "code",
      "source": [
        "import numpy as np"
      ],
      "metadata": {
        "id": "xs5ypbbiAtLR"
      },
      "execution_count": null,
      "outputs": []
    },
    {
      "cell_type": "code",
      "source": [
        "data = np.array(data)\n",
        "np.shape(data)\n",
        "y = data[:, 1]"
      ],
      "metadata": {
        "id": "9qfy5ORoy84e"
      },
      "execution_count": null,
      "outputs": []
    },
    {
      "cell_type": "code",
      "source": [
        "import matplotlib.pyplot as plt\n",
        "classes = np.unique(y, return_counts=True)\n",
        "plt.pie(classes[1], labels=classes[0]);"
      ],
      "metadata": {
        "colab": {
          "base_uri": "https://localhost:8080/",
          "height": 406
        },
        "id": "HLPvjJd69QXD",
        "outputId": "57e67feb-5fba-40ba-94af-ff8dc573254c"
      },
      "execution_count": null,
      "outputs": [
        {
          "output_type": "display_data",
          "data": {
            "text/plain": [
              "<Figure size 640x480 with 1 Axes>"
            ],
            "image/png": "[encoded data removed]"
          },
          "metadata": {}
        }
      ]
    },
    {
      "cell_type": "markdown",
      "source": [
        "Дисбаланс классов очень сильный. Было принято решение немного переписать парсер, чтобы не терять качество данных"
      ],
      "metadata": {
        "id": "kiPu5f9KSFwd"
      }
    },
    {
      "cell_type": "markdown",
      "source": [
        "\n",
        "\n",
        "---\n",
        "\n"
      ],
      "metadata": {
        "id": "KUCpr1HB9YgE"
      }
    },
    {
      "cell_type": "code",
      "source": [
        "from bs4 import BeautifulSoup\n",
        "import requests\n",
        "import re"
      ],
      "metadata": {
        "id": "7NMhJRZL-fKO"
      },
      "execution_count": null,
      "outputs": []
    },
    {
      "cell_type": "code",
      "source": [
        "reviews = []\n",
        "root = \"https://www.banki.ru\""
      ],
      "metadata": {
        "id": "vwsNKzKT-LUr"
      },
      "execution_count": null,
      "outputs": []
    },
    {
      "cell_type": "code",
      "source": [
        "def parse(start, end, rate):\n",
        "  for x in range(start, end):\n",
        "    url =  f'https://www.banki.ru/services/responses/list/?page={x}&is_countable=on&rate={rate}'\n",
        "    page = requests.get(url)\n",
        "    content = page.text\n",
        "    soup = BeautifulSoup(content, \"lxml\")\n",
        "    rws = soup.find_all('div', {\"class\" : \"la8a5ef73\"})\n",
        "    for i in range(len(rws) -1):\n",
        "      urlRw = root + rws[i].find_all(\"a\", {\"class\": \"link-simple\"})[0]['href']\n",
        "      page = requests.get(urlRw)\n",
        "      content = page.text\n",
        "      soup = BeautifulSoup(content, \"lxml\")\n",
        "      try:\n",
        "        reviews.append((\"\".join(p.text for p in [soup.find(\"div\", {\"class\": \"lb1789875\"}).find_all(\"p\")]), rate))\n",
        "      except:\n",
        "        reviews.append((soup.find(\"div\", {\"class\": \"lb1789875\"}).text, rate))"
      ],
      "metadata": {
        "id": "p31yNuFr9beb"
      },
      "execution_count": null,
      "outputs": []
    },
    {
      "cell_type": "code",
      "source": [
        "from threading import Thread\n",
        "thrds = [Thread(target=parse, args=(2+i*4, 2+ (i+1) * 4, r)) for i in range(0, 10) for r in range(1,6)]\n",
        "for thrd in thrds:\n",
        "  thrd.start()\n",
        "for thrd in thrds:\n",
        "  thrd.join()"
      ],
      "metadata": {
        "id": "oYXuprbq9k51"
      },
      "execution_count": null,
      "outputs": []
    },
    {
      "cell_type": "code",
      "source": [
        "len(reviews)"
      ],
      "metadata": {
        "colab": {
          "base_uri": "https://localhost:8080/"
        },
        "id": "ASPefeRmEMKq",
        "outputId": "080c5c2c-a963-450e-b3a7-8a705a6ab1a8"
      },
      "execution_count": null,
      "outputs": [
        {
          "output_type": "execute_result",
          "data": {
            "text/plain": [
              "5000"
            ]
          },
          "metadata": {},
          "execution_count": 84
        }
      ]
    },
    {
      "cell_type": "code",
      "source": [
        "import matplotlib.pyplot as plt\n",
        "import numpy as np\n",
        "classes = np.unique(np.array(reviews)[:, 1], return_counts=True)\n",
        "plt.pie(classes[1], labels=classes[0], autopct='%.1f');"
      ],
      "metadata": {
        "colab": {
          "base_uri": "https://localhost:8080/",
          "height": 406
        },
        "id": "hQ6sEL71_q2Z",
        "outputId": "9ee2ea0e-5005-41fb-adab-2aab63efbada"
      },
      "execution_count": null,
      "outputs": [
        {
          "output_type": "display_data",
          "data": {
            "text/plain": [
              "<Figure size 640x480 with 1 Axes>"
            ],
            "image/png": "[encoded data removed]"
          },
          "metadata": {}
        }
      ]
    },
    {
      "cell_type": "code",
      "source": [
        "import pickle\n",
        "import numpy as np"
      ],
      "metadata": {
        "id": "OIX9bRQHD1Lg"
      },
      "execution_count": null,
      "outputs": []
    },
    {
      "cell_type": "code",
      "source": [
        "f = open('data_balanced', 'wb')\n",
        "pickle.dump(reviews, f)\n",
        "f.close()"
      ],
      "metadata": {
        "id": "DDJTxJCQD37w"
      },
      "execution_count": null,
      "outputs": []
    },
    {
      "cell_type": "code",
      "source": [
        "f = open('data_balanced', 'rb')\n",
        "data = pickle.load(f)\n",
        "f.close()"
      ],
      "metadata": {
        "id": "bVhX6a9VD9lB"
      },
      "execution_count": null,
      "outputs": []
    },
    {
      "cell_type": "code",
      "source": [
        "data = np.array(data)"
      ],
      "metadata": {
        "id": "-iZYYUg9E1-U"
      },
      "execution_count": null,
      "outputs": []
    },
    {
      "cell_type": "code",
      "source": [
        "import sklearn\n",
        "from sklearn.model_selection import train_test_split\n",
        "from sklearn.feature_extraction.text import TfidfVectorizer"
      ],
      "metadata": {
        "id": "q4rBtstKESU3"
      },
      "execution_count": null,
      "outputs": []
    },
    {
      "cell_type": "code",
      "source": [
        "vectorizer = TfidfVectorizer()\n",
        "X = vectorizer.fit_transform(data[:,0])\n",
        "y = data[:, 1]"
      ],
      "metadata": {
        "id": "szLktjcdEZkO"
      },
      "execution_count": null,
      "outputs": []
    },
    {
      "cell_type": "code",
      "source": [
        "X_train, X_test, y_train, y_test = train_test_split(X, y,\n",
        "                                                    test_size=0.25,\n",
        "                                                    random_state=3)"
      ],
      "metadata": {
        "id": "8tp6yGFMGuE7"
      },
      "execution_count": null,
      "outputs": []
    },
    {
      "cell_type": "code",
      "source": [
        "import pandas as pd\n",
        "from sklearn.naive_bayes import GaussianNB\n",
        "from sklearn.linear_model import LogisticRegression\n",
        "from sklearn.tree import DecisionTreeClassifier\n",
        "from sklearn.neighbors import KNeighborsClassifier\n",
        "from sklearn.ensemble import RandomForestClassifier\n",
        "from sklearn.linear_model import RidgeClassifier\n",
        "from sklearn.metrics import accuracy_score\n",
        "import time\n",
        "\n",
        "models = {\n",
        "    'Naive Bayes': GaussianNB(),\n",
        "    'Logistic regression': LogisticRegression(),\n",
        "    'Decision tree': DecisionTreeClassifier(),\n",
        "    'k Nearest Neighbor n=3': KNeighborsClassifier(n_neighbors = 3),\n",
        "    'k Nearest Neighbor n=5': KNeighborsClassifier(n_neighbors = 5),\n",
        "    'k Nearest Neighbor n=7': KNeighborsClassifier(n_neighbors = 7),\n",
        "    'Random forest n=100': RandomForestClassifier(n_estimators= 100),\n",
        "    'Random forest n=100': RandomForestClassifier(n_estimators= 30),\n",
        "    'Random forest n=100': RandomForestClassifier(n_estimators= 150),\n",
        "    'Ridge Classifier': RidgeClassifier()\n",
        "}\n",
        "\n",
        "results = pd.DataFrame(columns=['Модель', 'Время обучения', 'Время тестирования', 'Точность'])\n",
        "\n",
        "\n",
        "for model_name, model in models.items():\n",
        "    start_time = time.time()\n",
        "    model.fit(X_train.toarray(), y_train)\n",
        "    training_time = time.time() - start_time\n",
        "\n",
        "    start_time = time.time()\n",
        "    y_pred = model.predict(X_test.toarray())\n",
        "    testing_time = time.time() - start_time\n",
        "\n",
        "    accuracy = accuracy_score(y_test, y_pred)\n",
        "\n",
        "    results = results.append({'Модель': model_name, 'Время обучения': training_time,\n",
        "                              'Время тестирования': testing_time, 'Точность': accuracy}, ignore_index=True)"
      ],
      "metadata": {
        "colab": {
          "base_uri": "https://localhost:8080/"
        },
        "id": "KaFjBDd7Ee6M",
        "outputId": "3c648106-2ca4-44c4-a237-e767e1f4fc47"
      },
      "execution_count": null,
      "outputs": [
        {
          "output_type": "stream",
          "name": "stderr",
          "text": [
            "<ipython-input-11-b4a638c1a5dc>:38: FutureWarning: The frame.append method is deprecated and will be removed from pandas in a future version. Use pandas.concat instead.\n",
            "  results = results.append({'Модель': model_name, 'Время обучения': training_time,\n",
            "<ipython-input-11-b4a638c1a5dc>:38: FutureWarning: The frame.append method is deprecated and will be removed from pandas in a future version. Use pandas.concat instead.\n",
            "  results = results.append({'Модель': model_name, 'Время обучения': training_time,\n",
            "<ipython-input-11-b4a638c1a5dc>:38: FutureWarning: The frame.append method is deprecated and will be removed from pandas in a future version. Use pandas.concat instead.\n",
            "  results = results.append({'Модель': model_name, 'Время обучения': training_time,\n",
            "<ipython-input-11-b4a638c1a5dc>:38: FutureWarning: The frame.append method is deprecated and will be removed from pandas in a future version. Use pandas.concat instead.\n",
            "  results = results.append({'Модель': model_name, 'Время обучения': training_time,\n",
            "<ipython-input-11-b4a638c1a5dc>:38: FutureWarning: The frame.append method is deprecated and will be removed from pandas in a future version. Use pandas.concat instead.\n",
            "  results = results.append({'Модель': model_name, 'Время обучения': training_time,\n",
            "<ipython-input-11-b4a638c1a5dc>:38: FutureWarning: The frame.append method is deprecated and will be removed from pandas in a future version. Use pandas.concat instead.\n",
            "  results = results.append({'Модель': model_name, 'Время обучения': training_time,\n",
            "<ipython-input-11-b4a638c1a5dc>:38: FutureWarning: The frame.append method is deprecated and will be removed from pandas in a future version. Use pandas.concat instead.\n",
            "  results = results.append({'Модель': model_name, 'Время обучения': training_time,\n",
            "<ipython-input-11-b4a638c1a5dc>:38: FutureWarning: The frame.append method is deprecated and will be removed from pandas in a future version. Use pandas.concat instead.\n",
            "  results = results.append({'Модель': model_name, 'Время обучения': training_time,\n"
          ]
        }
      ]
    },
    {
      "cell_type": "code",
      "source": [
        "results"
      ],
      "metadata": {
        "colab": {
          "base_uri": "https://localhost:8080/",
          "height": 300
        },
        "id": "Lmo2Nu67HQj8",
        "outputId": "c9ced956-0e48-411d-adcd-3f7db63c7a7d"
      },
      "execution_count": null,
      "outputs": [
        {
          "output_type": "execute_result",
          "data": {
            "text/plain": [
              "                   Модель  Время обучения  Время тестирования  Точность\n",
              "0             Naive Bayes        3.672990            2.180377    0.3104\n",
              "1     Logistic regression       94.355759            0.522992    0.5616\n",
              "2           Decision tree       22.207634            0.384401    0.4024\n",
              "3  k Nearest Neighbor n=3        1.205078           15.058254    0.3744\n",
              "4  k Nearest Neighbor n=5        1.204746           15.073625    0.4128\n",
              "5  k Nearest Neighbor n=7        1.272448           16.127080    0.4232\n",
              "6     Random forest n=100       41.353189            0.811073    0.5288\n",
              "7        Ridge Classifier       30.069762            0.515093    0.5480"
            ],
            "text/html": [
              "\n",
              "  <div id=\"df-0fd8c064-3f1f-4bbc-ae6c-7701c4aea729\" class=\"colab-df-container\">\n",
              "    <div>\n",
              "<style scoped>\n",
              "    .dataframe tbody tr th:only-of-type {\n",
              "        vertical-align: middle;\n",
              "    }\n",
              "\n",
              "    .dataframe tbody tr th {\n",
              "        vertical-align: top;\n",
              "    }\n",
              "\n",
              "    .dataframe thead th {\n",
              "        text-align: right;\n",
              "    }\n",
              "</style>\n",
              "<table border=\"1\" class=\"dataframe\">\n",
              "  <thead>\n",
              "    <tr style=\"text-align: right;\">\n",
              "      <th></th>\n",
              "      <th>Модель</th>\n",
              "      <th>Время обучения</th>\n",
              "      <th>Время тестирования</th>\n",
              "      <th>Точность</th>\n",
              "    </tr>\n",
              "  </thead>\n",
              "  <tbody>\n",
              "    <tr>\n",
              "      <th>0</th>\n",
              "      <td>Naive Bayes</td>\n",
              "      <td>3.672990</td>\n",
              "      <td>2.180377</td>\n",
              "      <td>0.3104</td>\n",
              "    </tr>\n",
              "    <tr>\n",
              "      <th>1</th>\n",
              "      <td>Logistic regression</td>\n",
              "      <td>94.355759</td>\n",
              "      <td>0.522992</td>\n",
              "      <td>0.5616</td>\n",
              "    </tr>\n",
              "    <tr>\n",
              "      <th>2</th>\n",
              "      <td>Decision tree</td>\n",
              "      <td>22.207634</td>\n",
              "      <td>0.384401</td>\n",
              "      <td>0.4024</td>\n",
              "    </tr>\n",
              "    <tr>\n",
              "      <th>3</th>\n",
              "      <td>k Nearest Neighbor n=3</td>\n",
              "      <td>1.205078</td>\n",
              "      <td>15.058254</td>\n",
              "      <td>0.3744</td>\n",
              "    </tr>\n",
              "    <tr>\n",
              "      <th>4</th>\n",
              "      <td>k Nearest Neighbor n=5</td>\n",
              "      <td>1.204746</td>\n",
              "      <td>15.073625</td>\n",
              "      <td>0.4128</td>\n",
              "    </tr>\n",
              "    <tr>\n",
              "      <th>5</th>\n",
              "      <td>k Nearest Neighbor n=7</td>\n",
              "      <td>1.272448</td>\n",
              "      <td>16.127080</td>\n",
              "      <td>0.4232</td>\n",
              "    </tr>\n",
              "    <tr>\n",
              "      <th>6</th>\n",
              "      <td>Random forest n=100</td>\n",
              "      <td>41.353189</td>\n",
              "      <td>0.811073</td>\n",
              "      <td>0.5288</td>\n",
              "    </tr>\n",
              "    <tr>\n",
              "      <th>7</th>\n",
              "      <td>Ridge Classifier</td>\n",
              "      <td>30.069762</td>\n",
              "      <td>0.515093</td>\n",
              "      <td>0.5480</td>\n",
              "    </tr>\n",
              "  </tbody>\n",
              "</table>\n",
              "</div>\n",
              "    <div class=\"colab-df-buttons\">\n",
              "\n",
              "  <div class=\"colab-df-container\">\n",
              "    <button class=\"colab-df-convert\" onclick=\"convertToInteractive('df-0fd8c064-3f1f-4bbc-ae6c-7701c4aea729')\"\n",
              "            title=\"Convert this dataframe to an interactive table.\"\n",
              "            style=\"display:none;\">\n",
              "\n",
              "  <svg xmlns=\"http://www.w3.org/2000/svg\" height=\"24px\" viewBox=\"0 -960 960 960\">\n",
              "    <path d=\"M120-120v-720h720v720H120Zm60-500h600v-160H180v160Zm220 220h160v-160H400v160Zm0 220h160v-160H400v160ZM180-400h160v-160H180v160Zm440 0h160v-160H620v160ZM180-180h160v-160H180v160Zm440 0h160v-160H620v160Z\"/>\n",
              "  </svg>\n",
              "    </button>\n",
              "\n",
              "  <style>\n",
              "    .colab-df-container {\n",
              "      display:flex;\n",
              "      gap: 12px;\n",
              "    }\n",
              "\n",
              "    .colab-df-convert {\n",
              "      background-color: #E8F0FE;\n",
              "      border: none;\n",
              "      border-radius: 50%;\n",
              "      cursor: pointer;\n",
              "      display: none;\n",
              "      fill: #1967D2;\n",
              "      height: 32px;\n",
              "      padding: 0 0 0 0;\n",
              "      width: 32px;\n",
              "    }\n",
              "\n",
              "    .colab-df-convert:hover {\n",
              "      background-color: #E2EBFA;\n",
              "      box-shadow: 0px 1px 2px rgba(60, 64, 67, 0.3), 0px 1px 3px 1px rgba(60, 64, 67, 0.15);\n",
              "      fill: #174EA6;\n",
              "    }\n",
              "\n",
              "    .colab-df-buttons div {\n",
              "      margin-bottom: 4px;\n",
              "    }\n",
              "\n",
              "    [theme=dark] .colab-df-convert {\n",
              "      background-color: #3B4455;\n",
              "      fill: #D2E3FC;\n",
              "    }\n",
              "\n",
              "    [theme=dark] .colab-df-convert:hover {\n",
              "      background-color: #434B5C;\n",
              "      box-shadow: 0px 1px 3px 1px rgba(0, 0, 0, 0.15);\n",
              "      filter: drop-shadow(0px 1px 2px rgba(0, 0, 0, 0.3));\n",
              "      fill: #FFFFFF;\n",
              "    }\n",
              "  </style>\n",
              "\n",
              "    <script>\n",
              "      const buttonEl =\n",
              "        document.querySelector('#df-0fd8c064-3f1f-4bbc-ae6c-7701c4aea729 button.colab-df-convert');\n",
              "      buttonEl.style.display =\n",
              "        google.colab.kernel.accessAllowed ? 'block' : 'none';\n",
              "\n",
              "      async function convertToInteractive(key) {\n",
              "        const element = document.querySelector('#df-0fd8c064-3f1f-4bbc-ae6c-7701c4aea729');\n",
              "        const dataTable =\n",
              "          await google.colab.kernel.invokeFunction('convertToInteractive',\n",
              "                                                    [key], {});\n",
              "        if (!dataTable) return;\n",
              "\n",
              "        const docLinkHtml = 'Like what you see? Visit the ' +\n",
              "          '<a target=\"_blank\" href=https://colab.research.google.com/notebooks/data_table.ipynb>data table notebook</a>'\n",
              "          + ' to learn more about interactive tables.';\n",
              "        element.innerHTML = '';\n",
              "        dataTable['output_type'] = 'display_data';\n",
              "        await google.colab.output.renderOutput(dataTable, element);\n",
              "        const docLink = document.createElement('div');\n",
              "        docLink.innerHTML = docLinkHtml;\n",
              "        element.appendChild(docLink);\n",
              "      }\n",
              "    </script>\n",
              "  </div>\n",
              "\n",
              "\n",
              "<div id=\"df-e0686b4d-35b2-4557-82a8-1188dadaf34a\">\n",
              "  <button class=\"colab-df-quickchart\" onclick=\"quickchart('df-e0686b4d-35b2-4557-82a8-1188dadaf34a')\"\n",
              "            title=\"Suggest charts.\"\n",
              "            style=\"display:none;\">\n",
              "\n",
              "<svg xmlns=\"http://www.w3.org/2000/svg\" height=\"24px\"viewBox=\"0 0 24 24\"\n",
              "     width=\"24px\">\n",
              "    <g>\n",
              "        <path d=\"M19 3H5c-1.1 0-2 .9-2 2v14c0 1.1.9 2 2 2h14c1.1 0 2-.9 2-2V5c0-1.1-.9-2-2-2zM9 17H7v-7h2v7zm4 0h-2V7h2v10zm4 0h-2v-4h2v4z\"/>\n",
              "    </g>\n",
              "</svg>\n",
              "  </button>\n",
              "\n",
              "<style>\n",
              "  .colab-df-quickchart {\n",
              "      --bg-color: #E8F0FE;\n",
              "      --fill-color: #1967D2;\n",
              "      --hover-bg-color: #E2EBFA;\n",
              "      --hover-fill-color: #174EA6;\n",
              "      --disabled-fill-color: #AAA;\n",
              "      --disabled-bg-color: #DDD;\n",
              "  }\n",
              "\n",
              "  [theme=dark] .colab-df-quickchart {\n",
              "      --bg-color: #3B4455;\n",
              "      --fill-color: #D2E3FC;\n",
              "      --hover-bg-color: #434B5C;\n",
              "      --hover-fill-color: #FFFFFF;\n",
              "      --disabled-bg-color: #3B4455;\n",
              "      --disabled-fill-color: #666;\n",
              "  }\n",
              "\n",
              "  .colab-df-quickchart {\n",
              "    background-color: var(--bg-color);\n",
              "    border: none;\n",
              "    border-radius: 50%;\n",
              "    cursor: pointer;\n",
              "    display: none;\n",
              "    fill: var(--fill-color);\n",
              "    height: 32px;\n",
              "    padding: 0;\n",
              "    width: 32px;\n",
              "  }\n",
              "\n",
              "  .colab-df-quickchart:hover {\n",
              "    background-color: var(--hover-bg-color);\n",
              "    box-shadow: 0 1px 2px rgba(60, 64, 67, 0.3), 0 1px 3px 1px rgba(60, 64, 67, 0.15);\n",
              "    fill: var(--button-hover-fill-color);\n",
              "  }\n",
              "\n",
              "  .colab-df-quickchart-complete:disabled,\n",
              "  .colab-df-quickchart-complete:disabled:hover {\n",
              "    background-color: var(--disabled-bg-color);\n",
              "    fill: var(--disabled-fill-color);\n",
              "    box-shadow: none;\n",
              "  }\n",
              "\n",
              "  .colab-df-spinner {\n",
              "    border: 2px solid var(--fill-color);\n",
              "    border-color: transparent;\n",
              "    border-bottom-color: var(--fill-color);\n",
              "    animation:\n",
              "      spin 1s steps(1) infinite;\n",
              "  }\n",
              "\n",
              "  @keyframes spin {\n",
              "    0% {\n",
              "      border-color: transparent;\n",
              "      border-bottom-color: var(--fill-color);\n",
              "      border-left-color: var(--fill-color);\n",
              "    }\n",
              "    20% {\n",
              "      border-color: transparent;\n",
              "      border-left-color: var(--fill-color);\n",
              "      border-top-color: var(--fill-color);\n",
              "    }\n",
              "    30% {\n",
              "      border-color: transparent;\n",
              "      border-left-color: var(--fill-color);\n",
              "      border-top-color: var(--fill-color);\n",
              "      border-right-color: var(--fill-color);\n",
              "    }\n",
              "    40% {\n",
              "      border-color: transparent;\n",
              "      border-right-color: var(--fill-color);\n",
              "      border-top-color: var(--fill-color);\n",
              "    }\n",
              "    60% {\n",
              "      border-color: transparent;\n",
              "      border-right-color: var(--fill-color);\n",
              "    }\n",
              "    80% {\n",
              "      border-color: transparent;\n",
              "      border-right-color: var(--fill-color);\n",
              "      border-bottom-color: var(--fill-color);\n",
              "    }\n",
              "    90% {\n",
              "      border-color: transparent;\n",
              "      border-bottom-color: var(--fill-color);\n",
              "    }\n",
              "  }\n",
              "</style>\n",
              "\n",
              "  <script>\n",
              "    async function quickchart(key) {\n",
              "      const quickchartButtonEl =\n",
              "        document.querySelector('#' + key + ' button');\n",
              "      quickchartButtonEl.disabled = true;  // To prevent multiple clicks.\n",
              "      quickchartButtonEl.classList.add('colab-df-spinner');\n",
              "      try {\n",
              "        const charts = await google.colab.kernel.invokeFunction(\n",
              "            'suggestCharts', [key], {});\n",
              "      } catch (error) {\n",
              "        console.error('Error during call to suggestCharts:', error);\n",
              "      }\n",
              "      quickchartButtonEl.classList.remove('colab-df-spinner');\n",
              "      quickchartButtonEl.classList.add('colab-df-quickchart-complete');\n",
              "    }\n",
              "    (() => {\n",
              "      let quickchartButtonEl =\n",
              "        document.querySelector('#df-e0686b4d-35b2-4557-82a8-1188dadaf34a button');\n",
              "      quickchartButtonEl.style.display =\n",
              "        google.colab.kernel.accessAllowed ? 'block' : 'none';\n",
              "    })();\n",
              "  </script>\n",
              "</div>\n",
              "    </div>\n",
              "  </div>\n"
            ]
          },
          "metadata": {},
          "execution_count": 12
        }
      ]
    },
    {
      "cell_type": "markdown",
      "source": [
        "лучший результат показа логистическая регрессия с accuracy 56%\n"
      ],
      "metadata": {
        "id": "NGGTOJiJRg7-"
      }
    },
    {
      "cell_type": "code",
      "source": [
        "from sklearn.metrics import classification_report\n",
        "model = LogisticRegression()\n",
        "model.fit(X_train.toarray(), y_train)\n",
        "y_pred = model.predict(X_test)\n",
        "print(classification_report(y_test, y_pred))"
      ],
      "metadata": {
        "colab": {
          "base_uri": "https://localhost:8080/"
        },
        "id": "aoZnVhjPH-Hw",
        "outputId": "13fd4511-bece-4174-907f-f034379d8eec"
      },
      "execution_count": null,
      "outputs": [
        {
          "output_type": "stream",
          "name": "stdout",
          "text": [
            "              precision    recall  f1-score   support\n",
            "\n",
            "           1       0.57      0.66      0.61       256\n",
            "           2       0.41      0.42      0.41       240\n",
            "           3       0.47      0.41      0.44       254\n",
            "           4       0.57      0.54      0.55       235\n",
            "           5       0.75      0.77      0.76       265\n",
            "\n",
            "    accuracy                           0.56      1250\n",
            "   macro avg       0.56      0.56      0.56      1250\n",
            "weighted avg       0.56      0.56      0.56      1250\n",
            "\n"
          ]
        }
      ]
    },
    {
      "cell_type": "markdown",
      "source": [
        "хуже всего предсказывается оценка 2, а лучше всего - оценка 5"
      ],
      "metadata": {
        "id": "bi7EslcbQRR3"
      }
    },
    {
      "cell_type": "markdown",
      "source": [
        "Попробуем улучшить результаты совместив классы"
      ],
      "metadata": {
        "id": "-fcjLoprVS4I"
      }
    },
    {
      "cell_type": "code",
      "source": [
        "data[:,1] = np.where(data[:,1] == \"1\", \"Плохо\", data[:, 1])\n",
        "data[:,1] = np.where(data[:,1] == \"2\", \"Плохо\", data[:, 1])\n",
        "data[:,1] = np.where(data[:,1] == \"3\", \"Средне\", data[:, 1])\n",
        "data[:,1] = np.where(data[:,1] == \"4\", \"Средне\", data[:, 1])\n",
        "data[:,1] = np.where(data[:,1] == \"5\", \"Хорошо\", data[:, 1])"
      ],
      "metadata": {
        "id": "ym0XpBglVaOq"
      },
      "execution_count": null,
      "outputs": []
    },
    {
      "cell_type": "code",
      "source": [
        "data[:, 1]"
      ],
      "metadata": {
        "colab": {
          "base_uri": "https://localhost:8080/"
        },
        "id": "ml-Evrf7X7Xe",
        "outputId": "eee92a53-dc21-4dd1-e415-4681317dac3f"
      },
      "execution_count": null,
      "outputs": [
        {
          "output_type": "execute_result",
          "data": {
            "text/plain": [
              "array(['Плохо', 'Средне', 'Плохо', ..., 'Средне', 'Средне', 'Средне'],\n",
              "      dtype='<U3603')"
            ]
          },
          "metadata": {},
          "execution_count": 41
        }
      ]
    },
    {
      "cell_type": "code",
      "source": [
        "vectorizer = TfidfVectorizer()\n",
        "X = vectorizer.fit_transform(data[:,0])\n",
        "y = data[:, 1]"
      ],
      "metadata": {
        "id": "GS0jHNrRZFAG"
      },
      "execution_count": null,
      "outputs": []
    },
    {
      "cell_type": "code",
      "source": [
        "X_train, X_test, y_train, y_test = train_test_split(X, y,\n",
        "                                                    test_size=0.25,\n",
        "                                                    random_state=3)"
      ],
      "metadata": {
        "id": "jT_t75VvZI7p"
      },
      "execution_count": null,
      "outputs": []
    },
    {
      "cell_type": "code",
      "source": [
        "results = pd.DataFrame(columns=['Модель', 'Время обучения', 'Время тестирования', 'Точность'])\n",
        "\n",
        "for model_name, model in models.items():\n",
        "    start_time = time.time()\n",
        "    model.fit(X_train.toarray(), y_train)\n",
        "    training_time = time.time() - start_time\n",
        "\n",
        "    start_time = time.time()\n",
        "    y_pred = model.predict(X_test.toarray())\n",
        "    testing_time = time.time() - start_time\n",
        "\n",
        "    accuracy = accuracy_score(y_test, y_pred)\n",
        "\n",
        "    results = results.append({'Модель': model_name, 'Время обучения': training_time,\n",
        "                              'Время тестирования': testing_time, 'Точность': accuracy}, ignore_index=True)"
      ],
      "metadata": {
        "colab": {
          "base_uri": "https://localhost:8080/"
        },
        "id": "Bnp7wALCX_SZ",
        "outputId": "9fb05301-22d4-496d-cd3b-9df14bf19297"
      },
      "execution_count": null,
      "outputs": [
        {
          "output_type": "stream",
          "name": "stderr",
          "text": [
            "<ipython-input-45-af27e9d46247>:14: FutureWarning: The frame.append method is deprecated and will be removed from pandas in a future version. Use pandas.concat instead.\n",
            "  results = results.append({'Модель': model_name, 'Время обучения': training_time,\n",
            "<ipython-input-45-af27e9d46247>:14: FutureWarning: The frame.append method is deprecated and will be removed from pandas in a future version. Use pandas.concat instead.\n",
            "  results = results.append({'Модель': model_name, 'Время обучения': training_time,\n",
            "<ipython-input-45-af27e9d46247>:14: FutureWarning: The frame.append method is deprecated and will be removed from pandas in a future version. Use pandas.concat instead.\n",
            "  results = results.append({'Модель': model_name, 'Время обучения': training_time,\n",
            "<ipython-input-45-af27e9d46247>:14: FutureWarning: The frame.append method is deprecated and will be removed from pandas in a future version. Use pandas.concat instead.\n",
            "  results = results.append({'Модель': model_name, 'Время обучения': training_time,\n",
            "<ipython-input-45-af27e9d46247>:14: FutureWarning: The frame.append method is deprecated and will be removed from pandas in a future version. Use pandas.concat instead.\n",
            "  results = results.append({'Модель': model_name, 'Время обучения': training_time,\n",
            "<ipython-input-45-af27e9d46247>:14: FutureWarning: The frame.append method is deprecated and will be removed from pandas in a future version. Use pandas.concat instead.\n",
            "  results = results.append({'Модель': model_name, 'Время обучения': training_time,\n",
            "<ipython-input-45-af27e9d46247>:14: FutureWarning: The frame.append method is deprecated and will be removed from pandas in a future version. Use pandas.concat instead.\n",
            "  results = results.append({'Модель': model_name, 'Время обучения': training_time,\n",
            "<ipython-input-45-af27e9d46247>:14: FutureWarning: The frame.append method is deprecated and will be removed from pandas in a future version. Use pandas.concat instead.\n",
            "  results = results.append({'Модель': model_name, 'Время обучения': training_time,\n"
          ]
        }
      ]
    },
    {
      "cell_type": "code",
      "source": [
        "results"
      ],
      "metadata": {
        "colab": {
          "base_uri": "https://localhost:8080/",
          "height": 300
        },
        "id": "kqtWMtE3aRog",
        "outputId": "add0827c-266d-4a01-d505-c256f6967b1a"
      },
      "execution_count": null,
      "outputs": [
        {
          "output_type": "execute_result",
          "data": {
            "text/plain": [
              "                   Модель  Время обучения  Время тестирования  Точность\n",
              "0             Naive Bayes        3.623148            1.355076    0.4720\n",
              "1     Logistic regression       71.042552            0.462599    0.6816\n",
              "2           Decision tree       20.829737            0.371867    0.5608\n",
              "3  k Nearest Neighbor n=3        1.271555           15.442723    0.5520\n",
              "4  k Nearest Neighbor n=5        1.276558           15.454262    0.5704\n",
              "5  k Nearest Neighbor n=7        1.276504           16.296431    0.5888\n",
              "6     Random forest n=100       40.080613            0.538774    0.6368\n",
              "7        Ridge Classifier       28.414084            0.434329    0.6704"
            ],
            "text/html": [
              "\n",
              "  <div id=\"df-7b58f000-cbea-496f-9aef-1d6695c53377\" class=\"colab-df-container\">\n",
              "    <div>\n",
              "<style scoped>\n",
              "    .dataframe tbody tr th:only-of-type {\n",
              "        vertical-align: middle;\n",
              "    }\n",
              "\n",
              "    .dataframe tbody tr th {\n",
              "        vertical-align: top;\n",
              "    }\n",
              "\n",
              "    .dataframe thead th {\n",
              "        text-align: right;\n",
              "    }\n",
              "</style>\n",
              "<table border=\"1\" class=\"dataframe\">\n",
              "  <thead>\n",
              "    <tr style=\"text-align: right;\">\n",
              "      <th></th>\n",
              "      <th>Модель</th>\n",
              "      <th>Время обучения</th>\n",
              "      <th>Время тестирования</th>\n",
              "      <th>Точность</th>\n",
              "    </tr>\n",
              "  </thead>\n",
              "  <tbody>\n",
              "    <tr>\n",
              "      <th>0</th>\n",
              "      <td>Naive Bayes</td>\n",
              "      <td>3.623148</td>\n",
              "      <td>1.355076</td>\n",
              "      <td>0.4720</td>\n",
              "    </tr>\n",
              "    <tr>\n",
              "      <th>1</th>\n",
              "      <td>Logistic regression</td>\n",
              "      <td>71.042552</td>\n",
              "      <td>0.462599</td>\n",
              "      <td>0.6816</td>\n",
              "    </tr>\n",
              "    <tr>\n",
              "      <th>2</th>\n",
              "      <td>Decision tree</td>\n",
              "      <td>20.829737</td>\n",
              "      <td>0.371867</td>\n",
              "      <td>0.5608</td>\n",
              "    </tr>\n",
              "    <tr>\n",
              "      <th>3</th>\n",
              "      <td>k Nearest Neighbor n=3</td>\n",
              "      <td>1.271555</td>\n",
              "      <td>15.442723</td>\n",
              "      <td>0.5520</td>\n",
              "    </tr>\n",
              "    <tr>\n",
              "      <th>4</th>\n",
              "      <td>k Nearest Neighbor n=5</td>\n",
              "      <td>1.276558</td>\n",
              "      <td>15.454262</td>\n",
              "      <td>0.5704</td>\n",
              "    </tr>\n",
              "    <tr>\n",
              "      <th>5</th>\n",
              "      <td>k Nearest Neighbor n=7</td>\n",
              "      <td>1.276504</td>\n",
              "      <td>16.296431</td>\n",
              "      <td>0.5888</td>\n",
              "    </tr>\n",
              "    <tr>\n",
              "      <th>6</th>\n",
              "      <td>Random forest n=100</td>\n",
              "      <td>40.080613</td>\n",
              "      <td>0.538774</td>\n",
              "      <td>0.6368</td>\n",
              "    </tr>\n",
              "    <tr>\n",
              "      <th>7</th>\n",
              "      <td>Ridge Classifier</td>\n",
              "      <td>28.414084</td>\n",
              "      <td>0.434329</td>\n",
              "      <td>0.6704</td>\n",
              "    </tr>\n",
              "  </tbody>\n",
              "</table>\n",
              "</div>\n",
              "    <div class=\"colab-df-buttons\">\n",
              "\n",
              "  <div class=\"colab-df-container\">\n",
              "    <button class=\"colab-df-convert\" onclick=\"convertToInteractive('df-7b58f000-cbea-496f-9aef-1d6695c53377')\"\n",
              "            title=\"Convert this dataframe to an interactive table.\"\n",
              "            style=\"display:none;\">\n",
              "\n",
              "  <svg xmlns=\"http://www.w3.org/2000/svg\" height=\"24px\" viewBox=\"0 -960 960 960\">\n",
              "    <path d=\"M120-120v-720h720v720H120Zm60-500h600v-160H180v160Zm220 220h160v-160H400v160Zm0 220h160v-160H400v160ZM180-400h160v-160H180v160Zm440 0h160v-160H620v160ZM180-180h160v-160H180v160Zm440 0h160v-160H620v160Z\"/>\n",
              "  </svg>\n",
              "    </button>\n",
              "\n",
              "  <style>\n",
              "    .colab-df-container {\n",
              "      display:flex;\n",
              "      gap: 12px;\n",
              "    }\n",
              "\n",
              "    .colab-df-convert {\n",
              "      background-color: #E8F0FE;\n",
              "      border: none;\n",
              "      border-radius: 50%;\n",
              "      cursor: pointer;\n",
              "      display: none;\n",
              "      fill: #1967D2;\n",
              "      height: 32px;\n",
              "      padding: 0 0 0 0;\n",
              "      width: 32px;\n",
              "    }\n",
              "\n",
              "    .colab-df-convert:hover {\n",
              "      background-color: #E2EBFA;\n",
              "      box-shadow: 0px 1px 2px rgba(60, 64, 67, 0.3), 0px 1px 3px 1px rgba(60, 64, 67, 0.15);\n",
              "      fill: #174EA6;\n",
              "    }\n",
              "\n",
              "    .colab-df-buttons div {\n",
              "      margin-bottom: 4px;\n",
              "    }\n",
              "\n",
              "    [theme=dark] .colab-df-convert {\n",
              "      background-color: #3B4455;\n",
              "      fill: #D2E3FC;\n",
              "    }\n",
              "\n",
              "    [theme=dark] .colab-df-convert:hover {\n",
              "      background-color: #434B5C;\n",
              "      box-shadow: 0px 1px 3px 1px rgba(0, 0, 0, 0.15);\n",
              "      filter: drop-shadow(0px 1px 2px rgba(0, 0, 0, 0.3));\n",
              "      fill: #FFFFFF;\n",
              "    }\n",
              "  </style>\n",
              "\n",
              "    <script>\n",
              "      const buttonEl =\n",
              "        document.querySelector('#df-7b58f000-cbea-496f-9aef-1d6695c53377 button.colab-df-convert');\n",
              "      buttonEl.style.display =\n",
              "        google.colab.kernel.accessAllowed ? 'block' : 'none';\n",
              "\n",
              "      async function convertToInteractive(key) {\n",
              "        const element = document.querySelector('#df-7b58f000-cbea-496f-9aef-1d6695c53377');\n",
              "        const dataTable =\n",
              "          await google.colab.kernel.invokeFunction('convertToInteractive',\n",
              "                                                    [key], {});\n",
              "        if (!dataTable) return;\n",
              "\n",
              "        const docLinkHtml = 'Like what you see? Visit the ' +\n",
              "          '<a target=\"_blank\" href=https://colab.research.google.com/notebooks/data_table.ipynb>data table notebook</a>'\n",
              "          + ' to learn more about interactive tables.';\n",
              "        element.innerHTML = '';\n",
              "        dataTable['output_type'] = 'display_data';\n",
              "        await google.colab.output.renderOutput(dataTable, element);\n",
              "        const docLink = document.createElement('div');\n",
              "        docLink.innerHTML = docLinkHtml;\n",
              "        element.appendChild(docLink);\n",
              "      }\n",
              "    </script>\n",
              "  </div>\n",
              "\n",
              "\n",
              "<div id=\"df-77af0e64-239c-4c36-a5b2-76729223cc43\">\n",
              "  <button class=\"colab-df-quickchart\" onclick=\"quickchart('df-77af0e64-239c-4c36-a5b2-76729223cc43')\"\n",
              "            title=\"Suggest charts.\"\n",
              "            style=\"display:none;\">\n",
              "\n",
              "<svg xmlns=\"http://www.w3.org/2000/svg\" height=\"24px\"viewBox=\"0 0 24 24\"\n",
              "     width=\"24px\">\n",
              "    <g>\n",
              "        <path d=\"M19 3H5c-1.1 0-2 .9-2 2v14c0 1.1.9 2 2 2h14c1.1 0 2-.9 2-2V5c0-1.1-.9-2-2-2zM9 17H7v-7h2v7zm4 0h-2V7h2v10zm4 0h-2v-4h2v4z\"/>\n",
              "    </g>\n",
              "</svg>\n",
              "  </button>\n",
              "\n",
              "<style>\n",
              "  .colab-df-quickchart {\n",
              "      --bg-color: #E8F0FE;\n",
              "      --fill-color: #1967D2;\n",
              "      --hover-bg-color: #E2EBFA;\n",
              "      --hover-fill-color: #174EA6;\n",
              "      --disabled-fill-color: #AAA;\n",
              "      --disabled-bg-color: #DDD;\n",
              "  }\n",
              "\n",
              "  [theme=dark] .colab-df-quickchart {\n",
              "      --bg-color: #3B4455;\n",
              "      --fill-color: #D2E3FC;\n",
              "      --hover-bg-color: #434B5C;\n",
              "      --hover-fill-color: #FFFFFF;\n",
              "      --disabled-bg-color: #3B4455;\n",
              "      --disabled-fill-color: #666;\n",
              "  }\n",
              "\n",
              "  .colab-df-quickchart {\n",
              "    background-color: var(--bg-color);\n",
              "    border: none;\n",
              "    border-radius: 50%;\n",
              "    cursor: pointer;\n",
              "    display: none;\n",
              "    fill: var(--fill-color);\n",
              "    height: 32px;\n",
              "    padding: 0;\n",
              "    width: 32px;\n",
              "  }\n",
              "\n",
              "  .colab-df-quickchart:hover {\n",
              "    background-color: var(--hover-bg-color);\n",
              "    box-shadow: 0 1px 2px rgba(60, 64, 67, 0.3), 0 1px 3px 1px rgba(60, 64, 67, 0.15);\n",
              "    fill: var(--button-hover-fill-color);\n",
              "  }\n",
              "\n",
              "  .colab-df-quickchart-complete:disabled,\n",
              "  .colab-df-quickchart-complete:disabled:hover {\n",
              "    background-color: var(--disabled-bg-color);\n",
              "    fill: var(--disabled-fill-color);\n",
              "    box-shadow: none;\n",
              "  }\n",
              "\n",
              "  .colab-df-spinner {\n",
              "    border: 2px solid var(--fill-color);\n",
              "    border-color: transparent;\n",
              "    border-bottom-color: var(--fill-color);\n",
              "    animation:\n",
              "      spin 1s steps(1) infinite;\n",
              "  }\n",
              "\n",
              "  @keyframes spin {\n",
              "    0% {\n",
              "      border-color: transparent;\n",
              "      border-bottom-color: var(--fill-color);\n",
              "      border-left-color: var(--fill-color);\n",
              "    }\n",
              "    20% {\n",
              "      border-color: transparent;\n",
              "      border-left-color: var(--fill-color);\n",
              "      border-top-color: var(--fill-color);\n",
              "    }\n",
              "    30% {\n",
              "      border-color: transparent;\n",
              "      border-left-color: var(--fill-color);\n",
              "      border-top-color: var(--fill-color);\n",
              "      border-right-color: var(--fill-color);\n",
              "    }\n",
              "    40% {\n",
              "      border-color: transparent;\n",
              "      border-right-color: var(--fill-color);\n",
              "      border-top-color: var(--fill-color);\n",
              "    }\n",
              "    60% {\n",
              "      border-color: transparent;\n",
              "      border-right-color: var(--fill-color);\n",
              "    }\n",
              "    80% {\n",
              "      border-color: transparent;\n",
              "      border-right-color: var(--fill-color);\n",
              "      border-bottom-color: var(--fill-color);\n",
              "    }\n",
              "    90% {\n",
              "      border-color: transparent;\n",
              "      border-bottom-color: var(--fill-color);\n",
              "    }\n",
              "  }\n",
              "</style>\n",
              "\n",
              "  <script>\n",
              "    async function quickchart(key) {\n",
              "      const quickchartButtonEl =\n",
              "        document.querySelector('#' + key + ' button');\n",
              "      quickchartButtonEl.disabled = true;  // To prevent multiple clicks.\n",
              "      quickchartButtonEl.classList.add('colab-df-spinner');\n",
              "      try {\n",
              "        const charts = await google.colab.kernel.invokeFunction(\n",
              "            'suggestCharts', [key], {});\n",
              "      } catch (error) {\n",
              "        console.error('Error during call to suggestCharts:', error);\n",
              "      }\n",
              "      quickchartButtonEl.classList.remove('colab-df-spinner');\n",
              "      quickchartButtonEl.classList.add('colab-df-quickchart-complete');\n",
              "    }\n",
              "    (() => {\n",
              "      let quickchartButtonEl =\n",
              "        document.querySelector('#df-77af0e64-239c-4c36-a5b2-76729223cc43 button');\n",
              "      quickchartButtonEl.style.display =\n",
              "        google.colab.kernel.accessAllowed ? 'block' : 'none';\n",
              "    })();\n",
              "  </script>\n",
              "</div>\n",
              "    </div>\n",
              "  </div>\n"
            ]
          },
          "metadata": {},
          "execution_count": 47
        }
      ]
    },
    {
      "cell_type": "code",
      "source": [
        "from sklearn.metrics import classification_report\n",
        "model = LogisticRegression()\n",
        "model.fit(X_train.toarray(), y_train)\n",
        "y_pred = model.predict(X_test)\n",
        "print(classification_report(y_test, y_pred))"
      ],
      "metadata": {
        "colab": {
          "base_uri": "https://localhost:8080/"
        },
        "id": "w31kQIGVaZYW",
        "outputId": "23da86d8-556c-4de0-aedb-9eb797791e36"
      },
      "execution_count": null,
      "outputs": [
        {
          "output_type": "stream",
          "name": "stdout",
          "text": [
            "              precision    recall  f1-score   support\n",
            "\n",
            "       Плохо       0.68      0.78      0.73       496\n",
            "      Средне       0.61      0.60      0.60       489\n",
            "      Хорошо       0.85      0.65      0.74       265\n",
            "\n",
            "    accuracy                           0.68      1250\n",
            "   macro avg       0.71      0.68      0.69      1250\n",
            "weighted avg       0.69      0.68      0.68      1250\n",
            "\n"
          ]
        }
      ]
    },
    {
      "cell_type": "markdown",
      "source": [
        "Результаты стали лучше"
      ],
      "metadata": {
        "id": "CWlcblqiavb0"
      }
    },
    {
      "cell_type": "markdown",
      "source": [
        "\n",
        "\n",
        "---\n",
        "\n"
      ],
      "metadata": {
        "id": "dkGtZQYA6PSS"
      }
    },
    {
      "cell_type": "code",
      "source": [
        "print(\"Предположительная оценка: \" + model.predict(vectorizer.transform([input()]))[0])"
      ],
      "metadata": {
        "colab": {
          "base_uri": "https://localhost:8080/"
        },
        "id": "4Inv-qT_6P1R",
        "outputId": "22b1b830-29bc-4953-a18c-359e4f0080d5"
      },
      "execution_count": null,
      "outputs": [
        {
          "output_type": "stream",
          "name": "stdout",
          "text": [
            "Банк хороший, но есть недочеты\n",
            "Предположительная оценка: Средне\n"
          ]
        }
      ]
    },
    {
      "cell_type": "code",
      "source": [
        "print(\"Предположительная оценка: \" + model.predict(vectorizer.transform([input()]))[0])"
      ],
      "metadata": {
        "colab": {
          "base_uri": "https://localhost:8080/"
        },
        "id": "HJJ8Eaqq-Y0J",
        "outputId": "ea5dab38-3eb5-43aa-844e-f4d1d74de9a4"
      },
      "execution_count": null,
      "outputs": [
        {
          "output_type": "stream",
          "name": "stdout",
          "text": [
            "Все отлично, обслуживанием доволен!\n",
            "Предположительная оценка: Хорошо\n"
          ]
        }
      ]
    },
    {
      "cell_type": "code",
      "source": [
        "print(\"Предположительная оценка: \" + model.predict(vectorizer.transform([input()]))[0])"
      ],
      "metadata": {
        "colab": {
          "base_uri": "https://localhost:8080/"
        },
        "id": "d7I7dgic-fhR",
        "outputId": "d421c879-a856-4834-9d12-428418892194"
      },
      "execution_count": null,
      "outputs": [
        {
          "output_type": "stream",
          "name": "stdout",
          "text": [
            "Банк ужасный, ненавижу его\n",
            "Предположительная оценка: Плохо\n"
          ]
        }
      ]
    },
    {
      "cell_type": "markdown",
      "source": [
        "А теперь попробуйте сами"
      ],
      "metadata": {
        "id": "yCI5th4QAxJa"
      }
    },
    {
      "cell_type": "code",
      "source": [
        "print(\"Предположительная оценка: \" + model.predict(vectorizer.transform([input()]))[0])"
      ],
      "metadata": {
        "id": "pByYzCnX_RG9",
        "colab": {
          "base_uri": "https://localhost:8080/"
        },
        "outputId": "bcc9a27e-d762-4d7d-b9c7-53a55d1f0375"
      },
      "execution_count": null,
      "outputs": [
        {
          "output_type": "stream",
          "name": "stdout",
          "text": [
            "нормальный банк\n",
            "Предположительная оценка: Средне\n"
          ]
        }
      ]
    },
    {
      "cell_type": "markdown",
      "source": [
        "\n",
        "\n",
        "---\n",
        "\n"
      ],
      "metadata": {
        "id": "jIPF8igJfcWA"
      }
    },
    {
      "cell_type": "code",
      "source": [
        "rating = []"
      ],
      "metadata": {
        "id": "AdLT9VrpfbNx"
      },
      "execution_count": null,
      "outputs": []
    },
    {
      "cell_type": "code",
      "source": [
        "def parse2(start, end):\n",
        "  for x in range(start, end):\n",
        "    url =  f'https://www.banki.ru/services/responses/list/?page={x}&is_countable=on'\n",
        "    page = requests.get(url)\n",
        "    content = page.text\n",
        "    soup = BeautifulSoup(content, \"lxml\")\n",
        "    rws = soup.find_all('div', {\"class\" : \"la8a5ef73\"})\n",
        "    for i in range(len(rws) -1):\n",
        "      rating.append((rws[i].find(\"img\")['alt'], int(rws[i].find(\"div\", {\"class\": \"lb3db10af\"}).text)))\n"
      ],
      "metadata": {
        "id": "dOkFS-2XcMue"
      },
      "execution_count": null,
      "outputs": []
    },
    {
      "cell_type": "code",
      "source": [
        "from threading import Thread\n",
        "thrds = [Thread(target=parse2, args=(2+i*4, 2+ (i+1) * 4)) for i in range(0, 15)]\n",
        "for thrd in thrds:\n",
        "  thrd.start()\n",
        "for thrd in thrds:\n",
        "  thrd.join()"
      ],
      "metadata": {
        "id": "E1awyRY6dKHT"
      },
      "execution_count": null,
      "outputs": []
    },
    {
      "cell_type": "code",
      "source": [
        "df = pd.DataFrame(rating, columns=[\"Банк\", \"Оценка\"])"
      ],
      "metadata": {
        "id": "AiJK6RbDhJQD"
      },
      "execution_count": null,
      "outputs": []
    },
    {
      "cell_type": "markdown",
      "source": [
        "## Средняя оценка по банкам"
      ],
      "metadata": {
        "id": "XTVsGafYiG_u"
      }
    },
    {
      "cell_type": "code",
      "source": [
        "df.groupby(\"Банк\").mean().plot.bar();"
      ],
      "metadata": {
        "colab": {
          "base_uri": "https://localhost:8080/",
          "height": 695
        },
        "id": "Kk5k3u3ifr-s",
        "outputId": "a56e874f-a05f-4520-83e6-8fb4cf298f08"
      },
      "execution_count": null,
      "outputs": [
        {
          "output_type": "display_data",
          "data": {
            "text/plain": [
              "<Figure size 640x480 with 1 Axes>"
            ],
            "image/png": "[encoded data removed]"
          },
          "metadata": {}
        }
      ]
    },
    {
      "cell_type": "markdown",
      "source": [
        "худший банк- Уралсиб"
      ],
      "metadata": {
        "id": "pr7QavVUin8g"
      }
    },
    {
      "cell_type": "markdown",
      "source": [
        "## Количество оценок по банкам"
      ],
      "metadata": {
        "id": "WX2GU2vUiNt6"
      }
    },
    {
      "cell_type": "code",
      "source": [
        "df.groupby(\"Банк\").count().plot.bar();"
      ],
      "metadata": {
        "colab": {
          "base_uri": "https://localhost:8080/",
          "height": 695
        },
        "id": "TO2bOChMhEnn",
        "outputId": "ddd19285-5fde-4936-b621-b3ce91206616"
      },
      "execution_count": null,
      "outputs": [
        {
          "output_type": "display_data",
          "data": {
            "text/plain": [
              "<Figure size 640x480 with 1 Axes>"
            ],
            "image/png": "[encoded data removed]"
          },
          "metadata": {}
        }
      ]
    }
  ]
}