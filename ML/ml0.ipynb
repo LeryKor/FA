{
  "cells": [
    {
      "cell_type": "markdown",
      "source": [
        "С помощью массивов numpy создайте таблицу умножения."
      ],
      "metadata": {
        "collapsed": false,
        "id": "5X6pnQS-8OCd"
      }
    },
    {
      "cell_type": "code",
      "execution_count": null,
      "outputs": [
        {
          "name": "stdout",
          "output_type": "stream",
          "text": [
            "[[  1   2   3   4   5   6   7   8   9  10]\n",
            " [  2   4   6   8  10  12  14  16  18  20]\n",
            " [  3   6   9  12  15  18  21  24  27  30]\n",
            " [  4   8  12  16  20  24  28  32  36  40]\n",
            " [  5  10  15  20  25  30  35  40  45  50]\n",
            " [  6  12  18  24  30  36  42  48  54  60]\n",
            " [  7  14  21  28  35  42  49  56  63  70]\n",
            " [  8  16  24  32  40  48  56  64  72  80]\n",
            " [  9  18  27  36  45  54  63  72  81  90]\n",
            " [ 10  20  30  40  50  60  70  80  90 100]]\n"
          ]
        }
      ],
      "source": [
        "import numpy as np\n",
        "\n",
        "n = 10\n",
        "table = np.arange(1, n+1)\n",
        "print(np.outer(table, table))"
      ],
      "metadata": {
        "id": "CQhtryOu8OCg",
        "outputId": "1b21f63c-70a2-42f0-d20b-fd80dcf52057"
      }
    },
    {
      "cell_type": "markdown",
      "source": [
        "Создайте функцию, которая принимает как аргументы целое число N и первый элемент (вещественное число), и разность (вещественное число) и создает матрицу numpy по диагонали, которой располагаются первые N членов арифметической прогрессии."
      ],
      "metadata": {
        "collapsed": false,
        "id": "TfFL452H8OCj"
      }
    },
    {
      "cell_type": "code",
      "execution_count": null,
      "outputs": [
        {
          "name": "stdout",
          "output_type": "stream",
          "text": [
            "[[ 2  0  0  0  0]\n",
            " [ 0  4  0  0  0]\n",
            " [ 0  0  6  0  0]\n",
            " [ 0  0  0  8  0]\n",
            " [ 0  0  0  0 10]]\n"
          ]
        }
      ],
      "source": [
        "def create_matrix(N, first, diff):\n",
        "    return np.diag(np.arange(first, first + N * diff, diff))\n",
        "print(create_matrix(5, 2, 2))"
      ],
      "metadata": {
        "id": "G2HZ9Q468OCk",
        "outputId": "a84740b4-44f0-42b8-d129-35140d8208c0"
      }
    },
    {
      "cell_type": "markdown",
      "source": [
        "Сгенерируйте средствами numpy матрицу А 5 на 5, содержащую последовательные числа от 1 до 25. Используя срезы извлеките в плоский массив все нечетные элементы этой матрицы."
      ],
      "metadata": {
        "collapsed": false,
        "id": "hrZuRk1e8OCk"
      }
    },
    {
      "cell_type": "code",
      "execution_count": null,
      "outputs": [
        {
          "data": {
            "text/plain": "array([ 1,  3,  5,  7,  9, 11, 13, 15, 17, 19, 21, 23, 25])"
          },
          "execution_count": 63,
          "metadata": {},
          "output_type": "execute_result"
        }
      ],
      "source": [
        "a = np.arange(1, 26).reshape(5, 5)\n",
        "b = a[a%2==1]\n",
        "b"
      ],
      "metadata": {
        "id": "4mRRfN1o8OCl",
        "outputId": "fd13e228-f86e-439a-d43f-f095f5a2a19d"
      }
    },
    {
      "cell_type": "markdown",
      "source": [
        "Создайте двумерный массив, содержащий единицы на границе и нули внутри."
      ],
      "metadata": {
        "collapsed": false,
        "id": "8dOiFTrq8OCl"
      }
    },
    {
      "cell_type": "code",
      "execution_count": null,
      "outputs": [
        {
          "data": {
            "text/plain": "array([[1., 1., 1., 1., 1., 1.],\n       [1., 0., 0., 0., 0., 1.],\n       [1., 0., 0., 0., 0., 1.],\n       [1., 0., 0., 0., 0., 1.],\n       [1., 0., 0., 0., 0., 1.],\n       [1., 1., 1., 1., 1., 1.]])"
          },
          "execution_count": 64,
          "metadata": {},
          "output_type": "execute_result"
        }
      ],
      "source": [
        "n = 4\n",
        "a = np.zeros((1,n*n)).reshape(n, n)\n",
        "np.pad(a, pad_width=1, constant_values=1)"
      ],
      "metadata": {
        "id": "3JrH_o618OCl",
        "outputId": "541d07f2-fe7b-4d0a-f269-61daef46b566"
      }
    },
    {
      "cell_type": "markdown",
      "source": [
        "Создайте две матрицы размером (5,5). Одна матрица содержит 5 в шахматном порядке как в задаче домашнего задания, другая имеет треугольную форму содержащую 5 на основной диагонали и в позициях выше ее, а ниже все 0. Посчитайте их детерминант и найдите обратные матрицы."
      ],
      "metadata": {
        "collapsed": false,
        "id": "BFUs9zTz8OCm"
      }
    },
    {
      "cell_type": "code",
      "execution_count": null,
      "outputs": [
        {
          "name": "stdout",
          "output_type": "stream",
          "text": [
            "0.0\n",
            "3124.999999999999\n",
            "[[ 0.2 -0.2  0.   0.   0. ]\n",
            " [ 0.   0.2 -0.2  0.   0. ]\n",
            " [ 0.   0.   0.2 -0.2  0. ]\n",
            " [ 0.   0.   0.   0.2 -0.2]\n",
            " [ 0.   0.   0.   0.   0.2]]\n"
          ]
        }
      ],
      "source": [
        "a = np.zeros((5, 5), dtype=int)\n",
        "a[::2, ::2] = 5\n",
        "a[1::2, 1::2] = 5\n",
        "print(np.linalg.det(a))\n",
        "# singular matrix\n",
        "# print(np.linalg.inv(a))\n",
        "\n",
        "b = np.tri(5, dtype=int) * 5\n",
        "b= np.flip(b)\n",
        "print(np.linalg.det(b))\n",
        "print(np.linalg.inv(b))"
      ],
      "metadata": {
        "id": "_nyI4Bie8OCn",
        "outputId": "90abf59a-6050-4f54-aee4-869bb4ded970"
      }
    },
    {
      "cell_type": "markdown",
      "source": [
        "С помощью pandas загрузите датасет для предсказания цены квартиры, прилагающийся к этой работе."
      ],
      "metadata": {
        "collapsed": false,
        "id": "AOCV0D5-8OCn"
      }
    },
    {
      "cell_type": "code",
      "execution_count": null,
      "outputs": [
        {
          "output_type": "error",
          "ename": "FileNotFoundError",
          "evalue": "ignored",
          "traceback": [
            "\u001b[0;31m---------------------------------------------------------------------------\u001b[0m",
            "\u001b[0;31mFileNotFoundError\u001b[0m                         Traceback (most recent call last)",
            "\u001b[0;32m<ipython-input-1-79f3943f2727>\u001b[0m in \u001b[0;36m<module>\u001b[0;34m\u001b[0m\n\u001b[1;32m      1\u001b[0m \u001b[0;32mimport\u001b[0m \u001b[0mpandas\u001b[0m \u001b[0;32mas\u001b[0m \u001b[0mpd\u001b[0m\u001b[0;34m\u001b[0m\u001b[0;34m\u001b[0m\u001b[0m\n\u001b[1;32m      2\u001b[0m \u001b[0;34m\u001b[0m\u001b[0m\n\u001b[0;32m----> 3\u001b[0;31m \u001b[0mdata\u001b[0m \u001b[0;34m=\u001b[0m \u001b[0mpd\u001b[0m\u001b[0;34m.\u001b[0m\u001b[0mread_csv\u001b[0m\u001b[0;34m(\u001b[0m\u001b[0;34m\"data.csv\"\u001b[0m\u001b[0;34m)\u001b[0m\u001b[0;34m\u001b[0m\u001b[0;34m\u001b[0m\u001b[0m\n\u001b[0m",
            "\u001b[0;32m/usr/local/lib/python3.8/dist-packages/pandas/util/_decorators.py\u001b[0m in \u001b[0;36mwrapper\u001b[0;34m(*args, **kwargs)\u001b[0m\n\u001b[1;32m    309\u001b[0m                     \u001b[0mstacklevel\u001b[0m\u001b[0;34m=\u001b[0m\u001b[0mstacklevel\u001b[0m\u001b[0;34m,\u001b[0m\u001b[0;34m\u001b[0m\u001b[0;34m\u001b[0m\u001b[0m\n\u001b[1;32m    310\u001b[0m                 )\n\u001b[0;32m--> 311\u001b[0;31m             \u001b[0;32mreturn\u001b[0m \u001b[0mfunc\u001b[0m\u001b[0;34m(\u001b[0m\u001b[0;34m*\u001b[0m\u001b[0margs\u001b[0m\u001b[0;34m,\u001b[0m \u001b[0;34m**\u001b[0m\u001b[0mkwargs\u001b[0m\u001b[0;34m)\u001b[0m\u001b[0;34m\u001b[0m\u001b[0;34m\u001b[0m\u001b[0m\n\u001b[0m\u001b[1;32m    312\u001b[0m \u001b[0;34m\u001b[0m\u001b[0m\n\u001b[1;32m    313\u001b[0m         \u001b[0;32mreturn\u001b[0m \u001b[0mwrapper\u001b[0m\u001b[0;34m\u001b[0m\u001b[0;34m\u001b[0m\u001b[0m\n",
            "\u001b[0;32m/usr/local/lib/python3.8/dist-packages/pandas/io/parsers/readers.py\u001b[0m in \u001b[0;36mread_csv\u001b[0;34m(filepath_or_buffer, sep, delimiter, header, names, index_col, usecols, squeeze, prefix, mangle_dupe_cols, dtype, engine, converters, true_values, false_values, skipinitialspace, skiprows, skipfooter, nrows, na_values, keep_default_na, na_filter, verbose, skip_blank_lines, parse_dates, infer_datetime_format, keep_date_col, date_parser, dayfirst, cache_dates, iterator, chunksize, compression, thousands, decimal, lineterminator, quotechar, quoting, doublequote, escapechar, comment, encoding, encoding_errors, dialect, error_bad_lines, warn_bad_lines, on_bad_lines, delim_whitespace, low_memory, memory_map, float_precision, storage_options)\u001b[0m\n\u001b[1;32m    584\u001b[0m     \u001b[0mkwds\u001b[0m\u001b[0;34m.\u001b[0m\u001b[0mupdate\u001b[0m\u001b[0;34m(\u001b[0m\u001b[0mkwds_defaults\u001b[0m\u001b[0;34m)\u001b[0m\u001b[0;34m\u001b[0m\u001b[0;34m\u001b[0m\u001b[0m\n\u001b[1;32m    585\u001b[0m \u001b[0;34m\u001b[0m\u001b[0m\n\u001b[0;32m--> 586\u001b[0;31m     \u001b[0;32mreturn\u001b[0m \u001b[0m_read\u001b[0m\u001b[0;34m(\u001b[0m\u001b[0mfilepath_or_buffer\u001b[0m\u001b[0;34m,\u001b[0m \u001b[0mkwds\u001b[0m\u001b[0;34m)\u001b[0m\u001b[0;34m\u001b[0m\u001b[0;34m\u001b[0m\u001b[0m\n\u001b[0m\u001b[1;32m    587\u001b[0m \u001b[0;34m\u001b[0m\u001b[0m\n\u001b[1;32m    588\u001b[0m \u001b[0;34m\u001b[0m\u001b[0m\n",
            "\u001b[0;32m/usr/local/lib/python3.8/dist-packages/pandas/io/parsers/readers.py\u001b[0m in \u001b[0;36m_read\u001b[0;34m(filepath_or_buffer, kwds)\u001b[0m\n\u001b[1;32m    480\u001b[0m \u001b[0;34m\u001b[0m\u001b[0m\n\u001b[1;32m    481\u001b[0m     \u001b[0;31m# Create the parser.\u001b[0m\u001b[0;34m\u001b[0m\u001b[0;34m\u001b[0m\u001b[0;34m\u001b[0m\u001b[0m\n\u001b[0;32m--> 482\u001b[0;31m     \u001b[0mparser\u001b[0m \u001b[0;34m=\u001b[0m \u001b[0mTextFileReader\u001b[0m\u001b[0;34m(\u001b[0m\u001b[0mfilepath_or_buffer\u001b[0m\u001b[0;34m,\u001b[0m \u001b[0;34m**\u001b[0m\u001b[0mkwds\u001b[0m\u001b[0;34m)\u001b[0m\u001b[0;34m\u001b[0m\u001b[0;34m\u001b[0m\u001b[0m\n\u001b[0m\u001b[1;32m    483\u001b[0m \u001b[0;34m\u001b[0m\u001b[0m\n\u001b[1;32m    484\u001b[0m     \u001b[0;32mif\u001b[0m \u001b[0mchunksize\u001b[0m \u001b[0;32mor\u001b[0m \u001b[0miterator\u001b[0m\u001b[0;34m:\u001b[0m\u001b[0;34m\u001b[0m\u001b[0;34m\u001b[0m\u001b[0m\n",
            "\u001b[0;32m/usr/local/lib/python3.8/dist-packages/pandas/io/parsers/readers.py\u001b[0m in \u001b[0;36m__init__\u001b[0;34m(self, f, engine, **kwds)\u001b[0m\n\u001b[1;32m    809\u001b[0m             \u001b[0mself\u001b[0m\u001b[0;34m.\u001b[0m\u001b[0moptions\u001b[0m\u001b[0;34m[\u001b[0m\u001b[0;34m\"has_index_names\"\u001b[0m\u001b[0;34m]\u001b[0m \u001b[0;34m=\u001b[0m \u001b[0mkwds\u001b[0m\u001b[0;34m[\u001b[0m\u001b[0;34m\"has_index_names\"\u001b[0m\u001b[0;34m]\u001b[0m\u001b[0;34m\u001b[0m\u001b[0;34m\u001b[0m\u001b[0m\n\u001b[1;32m    810\u001b[0m \u001b[0;34m\u001b[0m\u001b[0m\n\u001b[0;32m--> 811\u001b[0;31m         \u001b[0mself\u001b[0m\u001b[0;34m.\u001b[0m\u001b[0m_engine\u001b[0m \u001b[0;34m=\u001b[0m \u001b[0mself\u001b[0m\u001b[0;34m.\u001b[0m\u001b[0m_make_engine\u001b[0m\u001b[0;34m(\u001b[0m\u001b[0mself\u001b[0m\u001b[0;34m.\u001b[0m\u001b[0mengine\u001b[0m\u001b[0;34m)\u001b[0m\u001b[0;34m\u001b[0m\u001b[0;34m\u001b[0m\u001b[0m\n\u001b[0m\u001b[1;32m    812\u001b[0m \u001b[0;34m\u001b[0m\u001b[0m\n\u001b[1;32m    813\u001b[0m     \u001b[0;32mdef\u001b[0m \u001b[0mclose\u001b[0m\u001b[0;34m(\u001b[0m\u001b[0mself\u001b[0m\u001b[0;34m)\u001b[0m\u001b[0;34m:\u001b[0m\u001b[0;34m\u001b[0m\u001b[0;34m\u001b[0m\u001b[0m\n",
            "\u001b[0;32m/usr/local/lib/python3.8/dist-packages/pandas/io/parsers/readers.py\u001b[0m in \u001b[0;36m_make_engine\u001b[0;34m(self, engine)\u001b[0m\n\u001b[1;32m   1038\u001b[0m             )\n\u001b[1;32m   1039\u001b[0m         \u001b[0;31m# error: Too many arguments for \"ParserBase\"\u001b[0m\u001b[0;34m\u001b[0m\u001b[0;34m\u001b[0m\u001b[0;34m\u001b[0m\u001b[0m\n\u001b[0;32m-> 1040\u001b[0;31m         \u001b[0;32mreturn\u001b[0m \u001b[0mmapping\u001b[0m\u001b[0;34m[\u001b[0m\u001b[0mengine\u001b[0m\u001b[0;34m]\u001b[0m\u001b[0;34m(\u001b[0m\u001b[0mself\u001b[0m\u001b[0;34m.\u001b[0m\u001b[0mf\u001b[0m\u001b[0;34m,\u001b[0m \u001b[0;34m**\u001b[0m\u001b[0mself\u001b[0m\u001b[0;34m.\u001b[0m\u001b[0moptions\u001b[0m\u001b[0;34m)\u001b[0m  \u001b[0;31m# type: ignore[call-arg]\u001b[0m\u001b[0;34m\u001b[0m\u001b[0;34m\u001b[0m\u001b[0m\n\u001b[0m\u001b[1;32m   1041\u001b[0m \u001b[0;34m\u001b[0m\u001b[0m\n\u001b[1;32m   1042\u001b[0m     \u001b[0;32mdef\u001b[0m \u001b[0m_failover_to_python\u001b[0m\u001b[0;34m(\u001b[0m\u001b[0mself\u001b[0m\u001b[0;34m)\u001b[0m\u001b[0;34m:\u001b[0m\u001b[0;34m\u001b[0m\u001b[0;34m\u001b[0m\u001b[0m\n",
            "\u001b[0;32m/usr/local/lib/python3.8/dist-packages/pandas/io/parsers/c_parser_wrapper.py\u001b[0m in \u001b[0;36m__init__\u001b[0;34m(self, src, **kwds)\u001b[0m\n\u001b[1;32m     49\u001b[0m \u001b[0;34m\u001b[0m\u001b[0m\n\u001b[1;32m     50\u001b[0m         \u001b[0;31m# open handles\u001b[0m\u001b[0;34m\u001b[0m\u001b[0;34m\u001b[0m\u001b[0;34m\u001b[0m\u001b[0m\n\u001b[0;32m---> 51\u001b[0;31m         \u001b[0mself\u001b[0m\u001b[0;34m.\u001b[0m\u001b[0m_open_handles\u001b[0m\u001b[0;34m(\u001b[0m\u001b[0msrc\u001b[0m\u001b[0;34m,\u001b[0m \u001b[0mkwds\u001b[0m\u001b[0;34m)\u001b[0m\u001b[0;34m\u001b[0m\u001b[0;34m\u001b[0m\u001b[0m\n\u001b[0m\u001b[1;32m     52\u001b[0m         \u001b[0;32massert\u001b[0m \u001b[0mself\u001b[0m\u001b[0;34m.\u001b[0m\u001b[0mhandles\u001b[0m \u001b[0;32mis\u001b[0m \u001b[0;32mnot\u001b[0m \u001b[0;32mNone\u001b[0m\u001b[0;34m\u001b[0m\u001b[0;34m\u001b[0m\u001b[0m\n\u001b[1;32m     53\u001b[0m \u001b[0;34m\u001b[0m\u001b[0m\n",
            "\u001b[0;32m/usr/local/lib/python3.8/dist-packages/pandas/io/parsers/base_parser.py\u001b[0m in \u001b[0;36m_open_handles\u001b[0;34m(self, src, kwds)\u001b[0m\n\u001b[1;32m    220\u001b[0m         \u001b[0mLet\u001b[0m \u001b[0mthe\u001b[0m \u001b[0mreaders\u001b[0m \u001b[0mopen\u001b[0m \u001b[0mIOHandles\u001b[0m \u001b[0mafter\u001b[0m \u001b[0mthey\u001b[0m \u001b[0mare\u001b[0m \u001b[0mdone\u001b[0m \u001b[0;32mwith\u001b[0m \u001b[0mtheir\u001b[0m \u001b[0mpotential\u001b[0m \u001b[0mraises\u001b[0m\u001b[0;34m.\u001b[0m\u001b[0;34m\u001b[0m\u001b[0;34m\u001b[0m\u001b[0m\n\u001b[1;32m    221\u001b[0m         \"\"\"\n\u001b[0;32m--> 222\u001b[0;31m         self.handles = get_handle(\n\u001b[0m\u001b[1;32m    223\u001b[0m             \u001b[0msrc\u001b[0m\u001b[0;34m,\u001b[0m\u001b[0;34m\u001b[0m\u001b[0;34m\u001b[0m\u001b[0m\n\u001b[1;32m    224\u001b[0m             \u001b[0;34m\"r\"\u001b[0m\u001b[0;34m,\u001b[0m\u001b[0;34m\u001b[0m\u001b[0;34m\u001b[0m\u001b[0m\n",
            "\u001b[0;32m/usr/local/lib/python3.8/dist-packages/pandas/io/common.py\u001b[0m in \u001b[0;36mget_handle\u001b[0;34m(path_or_buf, mode, encoding, compression, memory_map, is_text, errors, storage_options)\u001b[0m\n\u001b[1;32m    700\u001b[0m         \u001b[0;32mif\u001b[0m \u001b[0mioargs\u001b[0m\u001b[0;34m.\u001b[0m\u001b[0mencoding\u001b[0m \u001b[0;32mand\u001b[0m \u001b[0;34m\"b\"\u001b[0m \u001b[0;32mnot\u001b[0m \u001b[0;32min\u001b[0m \u001b[0mioargs\u001b[0m\u001b[0;34m.\u001b[0m\u001b[0mmode\u001b[0m\u001b[0;34m:\u001b[0m\u001b[0;34m\u001b[0m\u001b[0;34m\u001b[0m\u001b[0m\n\u001b[1;32m    701\u001b[0m             \u001b[0;31m# Encoding\u001b[0m\u001b[0;34m\u001b[0m\u001b[0;34m\u001b[0m\u001b[0;34m\u001b[0m\u001b[0m\n\u001b[0;32m--> 702\u001b[0;31m             handle = open(\n\u001b[0m\u001b[1;32m    703\u001b[0m                 \u001b[0mhandle\u001b[0m\u001b[0;34m,\u001b[0m\u001b[0;34m\u001b[0m\u001b[0;34m\u001b[0m\u001b[0m\n\u001b[1;32m    704\u001b[0m                 \u001b[0mioargs\u001b[0m\u001b[0;34m.\u001b[0m\u001b[0mmode\u001b[0m\u001b[0;34m,\u001b[0m\u001b[0;34m\u001b[0m\u001b[0;34m\u001b[0m\u001b[0m\n",
            "\u001b[0;31mFileNotFoundError\u001b[0m: [Errno 2] No such file or directory: 'data.csv'"
          ]
        }
      ],
      "source": [
        "import pandas as pd\n",
        "\n",
        "data = pd.read_csv(\"data.csv\")"
      ],
      "metadata": {
        "id": "EgpHZ-ma8OCo",
        "outputId": "9fd1a077-51e5-4fa9-d189-fe25ea995f2b",
        "colab": {
          "base_uri": "https://localhost:8080/",
          "height": 363
        }
      }
    },
    {
      "cell_type": "markdown",
      "source": [
        "Выведите на экран несколько первых и несколько последний строк файла."
      ],
      "metadata": {
        "collapsed": false,
        "id": "43HDtQ0S8OCo"
      }
    },
    {
      "cell_type": "code",
      "execution_count": null,
      "outputs": [
        {
          "data": {
            "text/plain": "      Id  DistrictId  Rooms      Square  LifeSquare  KitchenSquare  Floor  \\\n0  11809          27    3.0  115.027311         NaN           10.0      4   \n1   3013          22    1.0   39.832524   23.169223            8.0      7   \n2   8215           1    3.0   78.342215   47.671972           10.0      2   \n\n   HouseFloor  HouseYear  Ecology_1 Ecology_2 Ecology_3  Social_1  Social_2  \\\n0        10.0       2014   0.075424         B         B        11      3097   \n1         8.0       1966   0.118537         B         B        30      6207   \n2        17.0       1988   0.025609         B         B        33      5261   \n\n   Social_3  Healthcare_1  Helthcare_2  Shops_1 Shops_2          Price  \n0         0           NaN            0        0       B  305018.871089  \n1         1        1183.0            1        0       B  177734.553407  \n2         0         240.0            3        1       B  282078.720850  ",
            "text/html": "<div>\n<style scoped>\n    .dataframe tbody tr th:only-of-type {\n        vertical-align: middle;\n    }\n\n    .dataframe tbody tr th {\n        vertical-align: top;\n    }\n\n    .dataframe thead th {\n        text-align: right;\n    }\n</style>\n<table border=\"1\" class=\"dataframe\">\n  <thead>\n    <tr style=\"text-align: right;\">\n      <th></th>\n      <th>Id</th>\n      <th>DistrictId</th>\n      <th>Rooms</th>\n      <th>Square</th>\n      <th>LifeSquare</th>\n      <th>KitchenSquare</th>\n      <th>Floor</th>\n      <th>HouseFloor</th>\n      <th>HouseYear</th>\n      <th>Ecology_1</th>\n      <th>Ecology_2</th>\n      <th>Ecology_3</th>\n      <th>Social_1</th>\n      <th>Social_2</th>\n      <th>Social_3</th>\n      <th>Healthcare_1</th>\n      <th>Helthcare_2</th>\n      <th>Shops_1</th>\n      <th>Shops_2</th>\n      <th>Price</th>\n    </tr>\n  </thead>\n  <tbody>\n    <tr>\n      <th>0</th>\n      <td>11809</td>\n      <td>27</td>\n      <td>3.0</td>\n      <td>115.027311</td>\n      <td>NaN</td>\n      <td>10.0</td>\n      <td>4</td>\n      <td>10.0</td>\n      <td>2014</td>\n      <td>0.075424</td>\n      <td>B</td>\n      <td>B</td>\n      <td>11</td>\n      <td>3097</td>\n      <td>0</td>\n      <td>NaN</td>\n      <td>0</td>\n      <td>0</td>\n      <td>B</td>\n      <td>305018.871089</td>\n    </tr>\n    <tr>\n      <th>1</th>\n      <td>3013</td>\n      <td>22</td>\n      <td>1.0</td>\n      <td>39.832524</td>\n      <td>23.169223</td>\n      <td>8.0</td>\n      <td>7</td>\n      <td>8.0</td>\n      <td>1966</td>\n      <td>0.118537</td>\n      <td>B</td>\n      <td>B</td>\n      <td>30</td>\n      <td>6207</td>\n      <td>1</td>\n      <td>1183.0</td>\n      <td>1</td>\n      <td>0</td>\n      <td>B</td>\n      <td>177734.553407</td>\n    </tr>\n    <tr>\n      <th>2</th>\n      <td>8215</td>\n      <td>1</td>\n      <td>3.0</td>\n      <td>78.342215</td>\n      <td>47.671972</td>\n      <td>10.0</td>\n      <td>2</td>\n      <td>17.0</td>\n      <td>1988</td>\n      <td>0.025609</td>\n      <td>B</td>\n      <td>B</td>\n      <td>33</td>\n      <td>5261</td>\n      <td>0</td>\n      <td>240.0</td>\n      <td>3</td>\n      <td>1</td>\n      <td>B</td>\n      <td>282078.720850</td>\n    </tr>\n  </tbody>\n</table>\n</div>"
          },
          "execution_count": 67,
          "metadata": {},
          "output_type": "execute_result"
        }
      ],
      "source": [
        "data.head(3)"
      ],
      "metadata": {
        "id": "zpf87Mgd8OCo",
        "outputId": "747801c0-7e9d-4c5f-8f38-0b0922aac655"
      }
    },
    {
      "cell_type": "code",
      "execution_count": null,
      "outputs": [
        {
          "data": {
            "text/plain": "         Id  DistrictId  Rooms     Square  LifeSquare  KitchenSquare  Floor  \\\n9997   2795         178    1.0  29.648057   16.555363            5.0      3   \n9998  14561          21    1.0  32.330292   22.326870            5.0      3   \n9999   7202          94    1.0  35.815476   22.301367            6.0      9   \n\n      HouseFloor  HouseYear  Ecology_1 Ecology_2 Ecology_3  Social_1  \\\n9997         5.0       1958   0.460556         B         B        20   \n9998         9.0       1969   0.194489         B         B        47   \n9999         9.0       1975   0.127376         B         B        43   \n\n      Social_2  Social_3  Healthcare_1  Helthcare_2  Shops_1 Shops_2  \\\n9997      4386        14           NaN            1        5       B   \n9998      8004         3         125.0            3        5       B   \n9999      8429         3           NaN            3        9       B   \n\n              Price  \n9997  165953.912580  \n9998  171842.411855  \n9999  177685.627486  ",
            "text/html": "<div>\n<style scoped>\n    .dataframe tbody tr th:only-of-type {\n        vertical-align: middle;\n    }\n\n    .dataframe tbody tr th {\n        vertical-align: top;\n    }\n\n    .dataframe thead th {\n        text-align: right;\n    }\n</style>\n<table border=\"1\" class=\"dataframe\">\n  <thead>\n    <tr style=\"text-align: right;\">\n      <th></th>\n      <th>Id</th>\n      <th>DistrictId</th>\n      <th>Rooms</th>\n      <th>Square</th>\n      <th>LifeSquare</th>\n      <th>KitchenSquare</th>\n      <th>Floor</th>\n      <th>HouseFloor</th>\n      <th>HouseYear</th>\n      <th>Ecology_1</th>\n      <th>Ecology_2</th>\n      <th>Ecology_3</th>\n      <th>Social_1</th>\n      <th>Social_2</th>\n      <th>Social_3</th>\n      <th>Healthcare_1</th>\n      <th>Helthcare_2</th>\n      <th>Shops_1</th>\n      <th>Shops_2</th>\n      <th>Price</th>\n    </tr>\n  </thead>\n  <tbody>\n    <tr>\n      <th>9997</th>\n      <td>2795</td>\n      <td>178</td>\n      <td>1.0</td>\n      <td>29.648057</td>\n      <td>16.555363</td>\n      <td>5.0</td>\n      <td>3</td>\n      <td>5.0</td>\n      <td>1958</td>\n      <td>0.460556</td>\n      <td>B</td>\n      <td>B</td>\n      <td>20</td>\n      <td>4386</td>\n      <td>14</td>\n      <td>NaN</td>\n      <td>1</td>\n      <td>5</td>\n      <td>B</td>\n      <td>165953.912580</td>\n    </tr>\n    <tr>\n      <th>9998</th>\n      <td>14561</td>\n      <td>21</td>\n      <td>1.0</td>\n      <td>32.330292</td>\n      <td>22.326870</td>\n      <td>5.0</td>\n      <td>3</td>\n      <td>9.0</td>\n      <td>1969</td>\n      <td>0.194489</td>\n      <td>B</td>\n      <td>B</td>\n      <td>47</td>\n      <td>8004</td>\n      <td>3</td>\n      <td>125.0</td>\n      <td>3</td>\n      <td>5</td>\n      <td>B</td>\n      <td>171842.411855</td>\n    </tr>\n    <tr>\n      <th>9999</th>\n      <td>7202</td>\n      <td>94</td>\n      <td>1.0</td>\n      <td>35.815476</td>\n      <td>22.301367</td>\n      <td>6.0</td>\n      <td>9</td>\n      <td>9.0</td>\n      <td>1975</td>\n      <td>0.127376</td>\n      <td>B</td>\n      <td>B</td>\n      <td>43</td>\n      <td>8429</td>\n      <td>3</td>\n      <td>NaN</td>\n      <td>3</td>\n      <td>9</td>\n      <td>B</td>\n      <td>177685.627486</td>\n    </tr>\n  </tbody>\n</table>\n</div>"
          },
          "execution_count": 68,
          "metadata": {},
          "output_type": "execute_result"
        }
      ],
      "source": [
        "data.tail(3)"
      ],
      "metadata": {
        "id": "UuKrJ-4g8OCo",
        "outputId": "cd79ebe3-f82c-4a8c-9bf4-5bbf06c69542"
      }
    },
    {
      "cell_type": "markdown",
      "source": [
        "Выведите с помощью методов pandas основные количественные параметры датасета: количество строк и столбцов, тип данных каждого поля, количество значений в каждом столбце, шкала измерения каждого численного поля."
      ],
      "metadata": {
        "collapsed": false,
        "id": "J1PhshUm8OCp"
      }
    },
    {
      "cell_type": "code",
      "execution_count": null,
      "outputs": [
        {
          "name": "stdout",
          "output_type": "stream",
          "text": [
            "<class 'pandas.core.frame.DataFrame'>\n",
            "RangeIndex: 10000 entries, 0 to 9999\n",
            "Data columns (total 20 columns):\n",
            " #   Column         Non-Null Count  Dtype  \n",
            "---  ------         --------------  -----  \n",
            " 0   Id             10000 non-null  int64  \n",
            " 1   DistrictId     10000 non-null  int64  \n",
            " 2   Rooms          10000 non-null  float64\n",
            " 3   Square         10000 non-null  float64\n",
            " 4   LifeSquare     7887 non-null   float64\n",
            " 5   KitchenSquare  10000 non-null  float64\n",
            " 6   Floor          10000 non-null  int64  \n",
            " 7   HouseFloor     10000 non-null  float64\n",
            " 8   HouseYear      10000 non-null  int64  \n",
            " 9   Ecology_1      10000 non-null  float64\n",
            " 10  Ecology_2      10000 non-null  object \n",
            " 11  Ecology_3      10000 non-null  object \n",
            " 12  Social_1       10000 non-null  int64  \n",
            " 13  Social_2       10000 non-null  int64  \n",
            " 14  Social_3       10000 non-null  int64  \n",
            " 15  Healthcare_1   5202 non-null   float64\n",
            " 16  Helthcare_2    10000 non-null  int64  \n",
            " 17  Shops_1        10000 non-null  int64  \n",
            " 18  Shops_2        10000 non-null  object \n",
            " 19  Price          10000 non-null  float64\n",
            "dtypes: float64(8), int64(9), object(3)\n",
            "memory usage: 1.5+ MB\n"
          ]
        }
      ],
      "source": [
        "data.info()"
      ],
      "metadata": {
        "id": "3WpdV3ZA8OCp",
        "outputId": "d5a11496-5420-4705-df63-c677ecb8f084"
      }
    },
    {
      "cell_type": "markdown",
      "source": [
        "Удалите из таблицы столбцы, содержащие идентификаторы, переименуйте все оставшиеся названия колонок на русском языке."
      ],
      "metadata": {
        "collapsed": false,
        "id": "2U8ADOX68OCp"
      }
    },
    {
      "cell_type": "code",
      "execution_count": null,
      "outputs": [],
      "source": [
        "data.drop(columns=[\"DistrictId\"], inplace=True)"
      ],
      "metadata": {
        "id": "sQzRRz_F8OCq"
      }
    },
    {
      "cell_type": "code",
      "execution_count": null,
      "outputs": [
        {
          "data": {
            "text/plain": "         Id  Комнаты     Площадь  ЖилаяПлощадь  ПлощадьКухни  Этаж  Этаж2  \\\n0     11809      3.0  115.027311           NaN          10.0     4   10.0   \n1      3013      1.0   39.832524     23.169223           8.0     7    8.0   \n2      8215      3.0   78.342215     47.671972          10.0     2   17.0   \n3      2352      1.0   40.409907           NaN           1.0    10   22.0   \n4     13866      2.0   64.285067     38.562517           9.0    16   16.0   \n...     ...      ...         ...           ...           ...   ...    ...   \n9995   1260      2.0   49.090728     33.272626           6.0     3   12.0   \n9996  16265      2.0   64.307684     37.038420           9.0    13    0.0   \n9997   2795      1.0   29.648057     16.555363           5.0     3    5.0   \n9998  14561      1.0   32.330292     22.326870           5.0     3    9.0   \n9999   7202      1.0   35.815476     22.301367           6.0     9    9.0   \n\n       Год  Экология_1 Экология_2 Экология_3  Общество_1  Общество_2  \\\n0     2014    0.075424          B          B          11        3097   \n1     1966    0.118537          B          B          30        6207   \n2     1988    0.025609          B          B          33        5261   \n3     1977    0.007122          B          B           1         264   \n4     1972    0.282798          B          B          33        8667   \n...    ...         ...        ...        ...         ...         ...   \n9995  1981    0.300323          B          B          52       10311   \n9996  1977    0.072158          B          B           2         629   \n9997  1958    0.460556          B          B          20        4386   \n9998  1969    0.194489          B          B          47        8004   \n9999  1975    0.127376          B          B          43        8429   \n\n      Общество_3  Здоровье_1  Здоровье_2  Магазины_1 Магазины_2           Цена  \n0              0         NaN           0           0          B  305018.871089  \n1              1      1183.0           1           0          B  177734.553407  \n2              0       240.0           3           1          B  282078.720850  \n3              0         NaN           0           1          B  168106.007630  \n4              2         NaN           0           6          B  343995.102962  \n...          ...         ...         ...         ...        ...            ...  \n9995           6         NaN           1           9          B  119367.455796  \n9996           1         NaN           0           0          A  199715.148807  \n9997          14         NaN           1           5          B  165953.912580  \n9998           3       125.0           3           5          B  171842.411855  \n9999           3         NaN           3           9          B  177685.627486  \n\n[10000 rows x 19 columns]",
            "text/html": "<div>\n<style scoped>\n    .dataframe tbody tr th:only-of-type {\n        vertical-align: middle;\n    }\n\n    .dataframe tbody tr th {\n        vertical-align: top;\n    }\n\n    .dataframe thead th {\n        text-align: right;\n    }\n</style>\n<table border=\"1\" class=\"dataframe\">\n  <thead>\n    <tr style=\"text-align: right;\">\n      <th></th>\n      <th>Id</th>\n      <th>Комнаты</th>\n      <th>Площадь</th>\n      <th>ЖилаяПлощадь</th>\n      <th>ПлощадьКухни</th>\n      <th>Этаж</th>\n      <th>Этаж2</th>\n      <th>Год</th>\n      <th>Экология_1</th>\n      <th>Экология_2</th>\n      <th>Экология_3</th>\n      <th>Общество_1</th>\n      <th>Общество_2</th>\n      <th>Общество_3</th>\n      <th>Здоровье_1</th>\n      <th>Здоровье_2</th>\n      <th>Магазины_1</th>\n      <th>Магазины_2</th>\n      <th>Цена</th>\n    </tr>\n  </thead>\n  <tbody>\n    <tr>\n      <th>0</th>\n      <td>11809</td>\n      <td>3.0</td>\n      <td>115.027311</td>\n      <td>NaN</td>\n      <td>10.0</td>\n      <td>4</td>\n      <td>10.0</td>\n      <td>2014</td>\n      <td>0.075424</td>\n      <td>B</td>\n      <td>B</td>\n      <td>11</td>\n      <td>3097</td>\n      <td>0</td>\n      <td>NaN</td>\n      <td>0</td>\n      <td>0</td>\n      <td>B</td>\n      <td>305018.871089</td>\n    </tr>\n    <tr>\n      <th>1</th>\n      <td>3013</td>\n      <td>1.0</td>\n      <td>39.832524</td>\n      <td>23.169223</td>\n      <td>8.0</td>\n      <td>7</td>\n      <td>8.0</td>\n      <td>1966</td>\n      <td>0.118537</td>\n      <td>B</td>\n      <td>B</td>\n      <td>30</td>\n      <td>6207</td>\n      <td>1</td>\n      <td>1183.0</td>\n      <td>1</td>\n      <td>0</td>\n      <td>B</td>\n      <td>177734.553407</td>\n    </tr>\n    <tr>\n      <th>2</th>\n      <td>8215</td>\n      <td>3.0</td>\n      <td>78.342215</td>\n      <td>47.671972</td>\n      <td>10.0</td>\n      <td>2</td>\n      <td>17.0</td>\n      <td>1988</td>\n      <td>0.025609</td>\n      <td>B</td>\n      <td>B</td>\n      <td>33</td>\n      <td>5261</td>\n      <td>0</td>\n      <td>240.0</td>\n      <td>3</td>\n      <td>1</td>\n      <td>B</td>\n      <td>282078.720850</td>\n    </tr>\n    <tr>\n      <th>3</th>\n      <td>2352</td>\n      <td>1.0</td>\n      <td>40.409907</td>\n      <td>NaN</td>\n      <td>1.0</td>\n      <td>10</td>\n      <td>22.0</td>\n      <td>1977</td>\n      <td>0.007122</td>\n      <td>B</td>\n      <td>B</td>\n      <td>1</td>\n      <td>264</td>\n      <td>0</td>\n      <td>NaN</td>\n      <td>0</td>\n      <td>1</td>\n      <td>B</td>\n      <td>168106.007630</td>\n    </tr>\n    <tr>\n      <th>4</th>\n      <td>13866</td>\n      <td>2.0</td>\n      <td>64.285067</td>\n      <td>38.562517</td>\n      <td>9.0</td>\n      <td>16</td>\n      <td>16.0</td>\n      <td>1972</td>\n      <td>0.282798</td>\n      <td>B</td>\n      <td>B</td>\n      <td>33</td>\n      <td>8667</td>\n      <td>2</td>\n      <td>NaN</td>\n      <td>0</td>\n      <td>6</td>\n      <td>B</td>\n      <td>343995.102962</td>\n    </tr>\n    <tr>\n      <th>...</th>\n      <td>...</td>\n      <td>...</td>\n      <td>...</td>\n      <td>...</td>\n      <td>...</td>\n      <td>...</td>\n      <td>...</td>\n      <td>...</td>\n      <td>...</td>\n      <td>...</td>\n      <td>...</td>\n      <td>...</td>\n      <td>...</td>\n      <td>...</td>\n      <td>...</td>\n      <td>...</td>\n      <td>...</td>\n      <td>...</td>\n      <td>...</td>\n    </tr>\n    <tr>\n      <th>9995</th>\n      <td>1260</td>\n      <td>2.0</td>\n      <td>49.090728</td>\n      <td>33.272626</td>\n      <td>6.0</td>\n      <td>3</td>\n      <td>12.0</td>\n      <td>1981</td>\n      <td>0.300323</td>\n      <td>B</td>\n      <td>B</td>\n      <td>52</td>\n      <td>10311</td>\n      <td>6</td>\n      <td>NaN</td>\n      <td>1</td>\n      <td>9</td>\n      <td>B</td>\n      <td>119367.455796</td>\n    </tr>\n    <tr>\n      <th>9996</th>\n      <td>16265</td>\n      <td>2.0</td>\n      <td>64.307684</td>\n      <td>37.038420</td>\n      <td>9.0</td>\n      <td>13</td>\n      <td>0.0</td>\n      <td>1977</td>\n      <td>0.072158</td>\n      <td>B</td>\n      <td>B</td>\n      <td>2</td>\n      <td>629</td>\n      <td>1</td>\n      <td>NaN</td>\n      <td>0</td>\n      <td>0</td>\n      <td>A</td>\n      <td>199715.148807</td>\n    </tr>\n    <tr>\n      <th>9997</th>\n      <td>2795</td>\n      <td>1.0</td>\n      <td>29.648057</td>\n      <td>16.555363</td>\n      <td>5.0</td>\n      <td>3</td>\n      <td>5.0</td>\n      <td>1958</td>\n      <td>0.460556</td>\n      <td>B</td>\n      <td>B</td>\n      <td>20</td>\n      <td>4386</td>\n      <td>14</td>\n      <td>NaN</td>\n      <td>1</td>\n      <td>5</td>\n      <td>B</td>\n      <td>165953.912580</td>\n    </tr>\n    <tr>\n      <th>9998</th>\n      <td>14561</td>\n      <td>1.0</td>\n      <td>32.330292</td>\n      <td>22.326870</td>\n      <td>5.0</td>\n      <td>3</td>\n      <td>9.0</td>\n      <td>1969</td>\n      <td>0.194489</td>\n      <td>B</td>\n      <td>B</td>\n      <td>47</td>\n      <td>8004</td>\n      <td>3</td>\n      <td>125.0</td>\n      <td>3</td>\n      <td>5</td>\n      <td>B</td>\n      <td>171842.411855</td>\n    </tr>\n    <tr>\n      <th>9999</th>\n      <td>7202</td>\n      <td>1.0</td>\n      <td>35.815476</td>\n      <td>22.301367</td>\n      <td>6.0</td>\n      <td>9</td>\n      <td>9.0</td>\n      <td>1975</td>\n      <td>0.127376</td>\n      <td>B</td>\n      <td>B</td>\n      <td>43</td>\n      <td>8429</td>\n      <td>3</td>\n      <td>NaN</td>\n      <td>3</td>\n      <td>9</td>\n      <td>B</td>\n      <td>177685.627486</td>\n    </tr>\n  </tbody>\n</table>\n<p>10000 rows × 19 columns</p>\n</div>"
          },
          "execution_count": 71,
          "metadata": {},
          "output_type": "execute_result"
        }
      ],
      "source": [
        "data.columns = [\"Id\", \"Комнаты\", \"Площадь\", \"ЖилаяПлощадь\",\"ПлощадьКухни\", \"Этаж\", \"Этаж2\", \"Год\", \"Экология_1\", \"Экология_2\", \"Экология_3\", \"Общество_1\", \"Общество_2\", \"Общество_3\", \"Здоровье_1\", \"Здоровье_2\", \"Магазины_1\", \"Магазины_2\", \"Цена\"]\n",
        "data"
      ],
      "metadata": {
        "id": "XTUiifvh8OCq",
        "outputId": "72c3a274-40b1-43ee-c352-245595a7779c"
      }
    },
    {
      "cell_type": "markdown",
      "source": [
        "Выведите отдельно столбец, содержащий цену, по номеру и названию. Выведите первую, десятую и предпоследнюю строку таблицы по номеру и по индексу."
      ],
      "metadata": {
        "collapsed": false,
        "id": "2F2gzkEg8OCr"
      }
    },
    {
      "cell_type": "code",
      "execution_count": null,
      "outputs": [
        {
          "data": {
            "text/plain": "0       305018.871089\n1       177734.553407\n2       282078.720850\n3       168106.007630\n4       343995.102962\n            ...      \n9995    119367.455796\n9996    199715.148807\n9997    165953.912580\n9998    171842.411855\n9999    177685.627486\nName: Цена, Length: 10000, dtype: float64"
          },
          "execution_count": 72,
          "metadata": {},
          "output_type": "execute_result"
        }
      ],
      "source": [
        "data[\"Цена\"]"
      ],
      "metadata": {
        "id": "UEdhVlfl8OCs",
        "outputId": "e1d8748d-191c-4b50-fd59-eaf0a0aff31e"
      }
    },
    {
      "cell_type": "code",
      "execution_count": null,
      "outputs": [
        {
          "data": {
            "text/plain": "         Id  Комнаты     Площадь  ЖилаяПлощадь  ПлощадьКухни  Этаж  Этаж2  \\\n0     11809      3.0  115.027311           NaN          10.0     4   10.0   \n10      535      3.0   74.199049     44.735889          10.0     5   14.0   \n9998  14561      1.0   32.330292     22.326870           5.0     3    9.0   \n\n       Год  Экология_1 Экология_2 Экология_3  Общество_1  Общество_2  \\\n0     2014    0.075424          B          B          11        3097   \n10    2008    0.035145          B          B          42        9292   \n9998  1969    0.194489          B          B          47        8004   \n\n      Общество_3  Здоровье_1  Здоровье_2  Магазины_1 Магазины_2           Цена  \n0              0         NaN           0           0          B  305018.871089  \n10             3      2620.0           0           3          B  512797.373401  \n9998           3       125.0           3           5          B  171842.411855  ",
            "text/html": "<div>\n<style scoped>\n    .dataframe tbody tr th:only-of-type {\n        vertical-align: middle;\n    }\n\n    .dataframe tbody tr th {\n        vertical-align: top;\n    }\n\n    .dataframe thead th {\n        text-align: right;\n    }\n</style>\n<table border=\"1\" class=\"dataframe\">\n  <thead>\n    <tr style=\"text-align: right;\">\n      <th></th>\n      <th>Id</th>\n      <th>Комнаты</th>\n      <th>Площадь</th>\n      <th>ЖилаяПлощадь</th>\n      <th>ПлощадьКухни</th>\n      <th>Этаж</th>\n      <th>Этаж2</th>\n      <th>Год</th>\n      <th>Экология_1</th>\n      <th>Экология_2</th>\n      <th>Экология_3</th>\n      <th>Общество_1</th>\n      <th>Общество_2</th>\n      <th>Общество_3</th>\n      <th>Здоровье_1</th>\n      <th>Здоровье_2</th>\n      <th>Магазины_1</th>\n      <th>Магазины_2</th>\n      <th>Цена</th>\n    </tr>\n  </thead>\n  <tbody>\n    <tr>\n      <th>0</th>\n      <td>11809</td>\n      <td>3.0</td>\n      <td>115.027311</td>\n      <td>NaN</td>\n      <td>10.0</td>\n      <td>4</td>\n      <td>10.0</td>\n      <td>2014</td>\n      <td>0.075424</td>\n      <td>B</td>\n      <td>B</td>\n      <td>11</td>\n      <td>3097</td>\n      <td>0</td>\n      <td>NaN</td>\n      <td>0</td>\n      <td>0</td>\n      <td>B</td>\n      <td>305018.871089</td>\n    </tr>\n    <tr>\n      <th>10</th>\n      <td>535</td>\n      <td>3.0</td>\n      <td>74.199049</td>\n      <td>44.735889</td>\n      <td>10.0</td>\n      <td>5</td>\n      <td>14.0</td>\n      <td>2008</td>\n      <td>0.035145</td>\n      <td>B</td>\n      <td>B</td>\n      <td>42</td>\n      <td>9292</td>\n      <td>3</td>\n      <td>2620.0</td>\n      <td>0</td>\n      <td>3</td>\n      <td>B</td>\n      <td>512797.373401</td>\n    </tr>\n    <tr>\n      <th>9998</th>\n      <td>14561</td>\n      <td>1.0</td>\n      <td>32.330292</td>\n      <td>22.326870</td>\n      <td>5.0</td>\n      <td>3</td>\n      <td>9.0</td>\n      <td>1969</td>\n      <td>0.194489</td>\n      <td>B</td>\n      <td>B</td>\n      <td>47</td>\n      <td>8004</td>\n      <td>3</td>\n      <td>125.0</td>\n      <td>3</td>\n      <td>5</td>\n      <td>B</td>\n      <td>171842.411855</td>\n    </tr>\n  </tbody>\n</table>\n</div>"
          },
          "execution_count": 73,
          "metadata": {},
          "output_type": "execute_result"
        }
      ],
      "source": [
        "data.iloc[[0,10,-2]]"
      ],
      "metadata": {
        "id": "uskeonse8OCs",
        "outputId": "1942fd54-0600-4017-ce6a-6d0ddcc8b977"
      }
    },
    {
      "cell_type": "code",
      "execution_count": null,
      "outputs": [
        {
          "data": {
            "text/plain": "         Id  Комнаты     Площадь  ЖилаяПлощадь  ПлощадьКухни  Этаж  Этаж2  \\\n312       0      1.0  109.144492     84.613939          15.0     6   15.0   \n9522     20      1.0   41.132439     24.216388          10.0    24   25.0   \n2415  16797      3.0   77.325275     48.101669          10.0     7   16.0   \n\n       Год  Экология_1 Экология_2 Экология_3  Общество_1  Общество_2  \\\n312   2011    0.319809          B          B          25        4756   \n9522  2016    0.243205          B          B           5        1564   \n2415  1982    0.282798          B          B          33        8667   \n\n      Общество_3  Здоровье_1  Здоровье_2  Магазины_1 Магазины_2           Цена  \n312           16      2857.0           5           8          B  289034.391871  \n9522           0       540.0           0           0          B  135481.816381  \n2415           2         NaN           0           6          B  354690.491271  ",
            "text/html": "<div>\n<style scoped>\n    .dataframe tbody tr th:only-of-type {\n        vertical-align: middle;\n    }\n\n    .dataframe tbody tr th {\n        vertical-align: top;\n    }\n\n    .dataframe thead th {\n        text-align: right;\n    }\n</style>\n<table border=\"1\" class=\"dataframe\">\n  <thead>\n    <tr style=\"text-align: right;\">\n      <th></th>\n      <th>Id</th>\n      <th>Комнаты</th>\n      <th>Площадь</th>\n      <th>ЖилаяПлощадь</th>\n      <th>ПлощадьКухни</th>\n      <th>Этаж</th>\n      <th>Этаж2</th>\n      <th>Год</th>\n      <th>Экология_1</th>\n      <th>Экология_2</th>\n      <th>Экология_3</th>\n      <th>Общество_1</th>\n      <th>Общество_2</th>\n      <th>Общество_3</th>\n      <th>Здоровье_1</th>\n      <th>Здоровье_2</th>\n      <th>Магазины_1</th>\n      <th>Магазины_2</th>\n      <th>Цена</th>\n    </tr>\n  </thead>\n  <tbody>\n    <tr>\n      <th>312</th>\n      <td>0</td>\n      <td>1.0</td>\n      <td>109.144492</td>\n      <td>84.613939</td>\n      <td>15.0</td>\n      <td>6</td>\n      <td>15.0</td>\n      <td>2011</td>\n      <td>0.319809</td>\n      <td>B</td>\n      <td>B</td>\n      <td>25</td>\n      <td>4756</td>\n      <td>16</td>\n      <td>2857.0</td>\n      <td>5</td>\n      <td>8</td>\n      <td>B</td>\n      <td>289034.391871</td>\n    </tr>\n    <tr>\n      <th>9522</th>\n      <td>20</td>\n      <td>1.0</td>\n      <td>41.132439</td>\n      <td>24.216388</td>\n      <td>10.0</td>\n      <td>24</td>\n      <td>25.0</td>\n      <td>2016</td>\n      <td>0.243205</td>\n      <td>B</td>\n      <td>B</td>\n      <td>5</td>\n      <td>1564</td>\n      <td>0</td>\n      <td>540.0</td>\n      <td>0</td>\n      <td>0</td>\n      <td>B</td>\n      <td>135481.816381</td>\n    </tr>\n    <tr>\n      <th>2415</th>\n      <td>16797</td>\n      <td>3.0</td>\n      <td>77.325275</td>\n      <td>48.101669</td>\n      <td>10.0</td>\n      <td>7</td>\n      <td>16.0</td>\n      <td>1982</td>\n      <td>0.282798</td>\n      <td>B</td>\n      <td>B</td>\n      <td>33</td>\n      <td>8667</td>\n      <td>2</td>\n      <td>NaN</td>\n      <td>0</td>\n      <td>6</td>\n      <td>B</td>\n      <td>354690.491271</td>\n    </tr>\n  </tbody>\n</table>\n</div>"
          },
          "execution_count": 74,
          "metadata": {},
          "output_type": "execute_result"
        }
      ],
      "source": [
        "data.sort_values(\"Id\").iloc[[0,10,-2]]"
      ],
      "metadata": {
        "id": "4vx5yHRj8OCt",
        "outputId": "be394ace-a049-4401-a87e-9abf130f27ec"
      }
    },
    {
      "cell_type": "markdown",
      "source": [
        "Выделите в отдельную таблицу последние десять строк. Уберите в ней столбец с ценой. Склейте ее с первоначальной таблицей при помощи append. Заполните отсутствующие значения цены средним по таблице."
      ],
      "metadata": {
        "collapsed": false,
        "id": "4KBYyB248OCt"
      }
    },
    {
      "cell_type": "code",
      "execution_count": null,
      "outputs": [
        {
          "data": {
            "text/plain": "          Id  Комнаты     Площадь  ЖилаяПлощадь  ПлощадьКухни  Этаж  Этаж2  \\\n0      11809      3.0  115.027311           NaN          10.0     4   10.0   \n1       3013      1.0   39.832524     23.169223           8.0     7    8.0   \n2       8215      3.0   78.342215     47.671972          10.0     2   17.0   \n3       2352      1.0   40.409907           NaN           1.0    10   22.0   \n4      13866      2.0   64.285067     38.562517           9.0    16   16.0   \n...      ...      ...         ...           ...           ...   ...    ...   \n10005   1260      2.0   49.090728     33.272626           6.0     3   12.0   \n10006  16265      2.0   64.307684     37.038420           9.0    13    0.0   \n10007   2795      1.0   29.648057     16.555363           5.0     3    5.0   \n10008  14561      1.0   32.330292     22.326870           5.0     3    9.0   \n10009   7202      1.0   35.815476     22.301367           6.0     9    9.0   \n\n        Год  Экология_1 Экология_2 Экология_3  Общество_1  Общество_2  \\\n0      2014    0.075424          B          B          11        3097   \n1      1966    0.118537          B          B          30        6207   \n2      1988    0.025609          B          B          33        5261   \n3      1977    0.007122          B          B           1         264   \n4      1972    0.282798          B          B          33        8667   \n...     ...         ...        ...        ...         ...         ...   \n10005  1981    0.300323          B          B          52       10311   \n10006  1977    0.072158          B          B           2         629   \n10007  1958    0.460556          B          B          20        4386   \n10008  1969    0.194489          B          B          47        8004   \n10009  1975    0.127376          B          B          43        8429   \n\n       Общество_3  Здоровье_1  Здоровье_2  Магазины_1 Магазины_2  \\\n0               0         NaN           0           0          B   \n1               1      1183.0           1           0          B   \n2               0       240.0           3           1          B   \n3               0         NaN           0           1          B   \n4               2         NaN           0           6          B   \n...           ...         ...         ...         ...        ...   \n10005           6         NaN           1           9          B   \n10006           1         NaN           0           0          A   \n10007          14         NaN           1           5          B   \n10008           3       125.0           3           5          B   \n10009           3         NaN           3           9          B   \n\n                Цена  \n0      305018.871089  \n1      177734.553407  \n2      282078.720850  \n3      168106.007630  \n4      343995.102962  \n...              ...  \n10005  214138.857399  \n10006  214138.857399  \n10007  214138.857399  \n10008  214138.857399  \n10009  214138.857399  \n\n[10010 rows x 19 columns]",
            "text/html": "<div>\n<style scoped>\n    .dataframe tbody tr th:only-of-type {\n        vertical-align: middle;\n    }\n\n    .dataframe tbody tr th {\n        vertical-align: top;\n    }\n\n    .dataframe thead th {\n        text-align: right;\n    }\n</style>\n<table border=\"1\" class=\"dataframe\">\n  <thead>\n    <tr style=\"text-align: right;\">\n      <th></th>\n      <th>Id</th>\n      <th>Комнаты</th>\n      <th>Площадь</th>\n      <th>ЖилаяПлощадь</th>\n      <th>ПлощадьКухни</th>\n      <th>Этаж</th>\n      <th>Этаж2</th>\n      <th>Год</th>\n      <th>Экология_1</th>\n      <th>Экология_2</th>\n      <th>Экология_3</th>\n      <th>Общество_1</th>\n      <th>Общество_2</th>\n      <th>Общество_3</th>\n      <th>Здоровье_1</th>\n      <th>Здоровье_2</th>\n      <th>Магазины_1</th>\n      <th>Магазины_2</th>\n      <th>Цена</th>\n    </tr>\n  </thead>\n  <tbody>\n    <tr>\n      <th>0</th>\n      <td>11809</td>\n      <td>3.0</td>\n      <td>115.027311</td>\n      <td>NaN</td>\n      <td>10.0</td>\n      <td>4</td>\n      <td>10.0</td>\n      <td>2014</td>\n      <td>0.075424</td>\n      <td>B</td>\n      <td>B</td>\n      <td>11</td>\n      <td>3097</td>\n      <td>0</td>\n      <td>NaN</td>\n      <td>0</td>\n      <td>0</td>\n      <td>B</td>\n      <td>305018.871089</td>\n    </tr>\n    <tr>\n      <th>1</th>\n      <td>3013</td>\n      <td>1.0</td>\n      <td>39.832524</td>\n      <td>23.169223</td>\n      <td>8.0</td>\n      <td>7</td>\n      <td>8.0</td>\n      <td>1966</td>\n      <td>0.118537</td>\n      <td>B</td>\n      <td>B</td>\n      <td>30</td>\n      <td>6207</td>\n      <td>1</td>\n      <td>1183.0</td>\n      <td>1</td>\n      <td>0</td>\n      <td>B</td>\n      <td>177734.553407</td>\n    </tr>\n    <tr>\n      <th>2</th>\n      <td>8215</td>\n      <td>3.0</td>\n      <td>78.342215</td>\n      <td>47.671972</td>\n      <td>10.0</td>\n      <td>2</td>\n      <td>17.0</td>\n      <td>1988</td>\n      <td>0.025609</td>\n      <td>B</td>\n      <td>B</td>\n      <td>33</td>\n      <td>5261</td>\n      <td>0</td>\n      <td>240.0</td>\n      <td>3</td>\n      <td>1</td>\n      <td>B</td>\n      <td>282078.720850</td>\n    </tr>\n    <tr>\n      <th>3</th>\n      <td>2352</td>\n      <td>1.0</td>\n      <td>40.409907</td>\n      <td>NaN</td>\n      <td>1.0</td>\n      <td>10</td>\n      <td>22.0</td>\n      <td>1977</td>\n      <td>0.007122</td>\n      <td>B</td>\n      <td>B</td>\n      <td>1</td>\n      <td>264</td>\n      <td>0</td>\n      <td>NaN</td>\n      <td>0</td>\n      <td>1</td>\n      <td>B</td>\n      <td>168106.007630</td>\n    </tr>\n    <tr>\n      <th>4</th>\n      <td>13866</td>\n      <td>2.0</td>\n      <td>64.285067</td>\n      <td>38.562517</td>\n      <td>9.0</td>\n      <td>16</td>\n      <td>16.0</td>\n      <td>1972</td>\n      <td>0.282798</td>\n      <td>B</td>\n      <td>B</td>\n      <td>33</td>\n      <td>8667</td>\n      <td>2</td>\n      <td>NaN</td>\n      <td>0</td>\n      <td>6</td>\n      <td>B</td>\n      <td>343995.102962</td>\n    </tr>\n    <tr>\n      <th>...</th>\n      <td>...</td>\n      <td>...</td>\n      <td>...</td>\n      <td>...</td>\n      <td>...</td>\n      <td>...</td>\n      <td>...</td>\n      <td>...</td>\n      <td>...</td>\n      <td>...</td>\n      <td>...</td>\n      <td>...</td>\n      <td>...</td>\n      <td>...</td>\n      <td>...</td>\n      <td>...</td>\n      <td>...</td>\n      <td>...</td>\n      <td>...</td>\n    </tr>\n    <tr>\n      <th>10005</th>\n      <td>1260</td>\n      <td>2.0</td>\n      <td>49.090728</td>\n      <td>33.272626</td>\n      <td>6.0</td>\n      <td>3</td>\n      <td>12.0</td>\n      <td>1981</td>\n      <td>0.300323</td>\n      <td>B</td>\n      <td>B</td>\n      <td>52</td>\n      <td>10311</td>\n      <td>6</td>\n      <td>NaN</td>\n      <td>1</td>\n      <td>9</td>\n      <td>B</td>\n      <td>214138.857399</td>\n    </tr>\n    <tr>\n      <th>10006</th>\n      <td>16265</td>\n      <td>2.0</td>\n      <td>64.307684</td>\n      <td>37.038420</td>\n      <td>9.0</td>\n      <td>13</td>\n      <td>0.0</td>\n      <td>1977</td>\n      <td>0.072158</td>\n      <td>B</td>\n      <td>B</td>\n      <td>2</td>\n      <td>629</td>\n      <td>1</td>\n      <td>NaN</td>\n      <td>0</td>\n      <td>0</td>\n      <td>A</td>\n      <td>214138.857399</td>\n    </tr>\n    <tr>\n      <th>10007</th>\n      <td>2795</td>\n      <td>1.0</td>\n      <td>29.648057</td>\n      <td>16.555363</td>\n      <td>5.0</td>\n      <td>3</td>\n      <td>5.0</td>\n      <td>1958</td>\n      <td>0.460556</td>\n      <td>B</td>\n      <td>B</td>\n      <td>20</td>\n      <td>4386</td>\n      <td>14</td>\n      <td>NaN</td>\n      <td>1</td>\n      <td>5</td>\n      <td>B</td>\n      <td>214138.857399</td>\n    </tr>\n    <tr>\n      <th>10008</th>\n      <td>14561</td>\n      <td>1.0</td>\n      <td>32.330292</td>\n      <td>22.326870</td>\n      <td>5.0</td>\n      <td>3</td>\n      <td>9.0</td>\n      <td>1969</td>\n      <td>0.194489</td>\n      <td>B</td>\n      <td>B</td>\n      <td>47</td>\n      <td>8004</td>\n      <td>3</td>\n      <td>125.0</td>\n      <td>3</td>\n      <td>5</td>\n      <td>B</td>\n      <td>214138.857399</td>\n    </tr>\n    <tr>\n      <th>10009</th>\n      <td>7202</td>\n      <td>1.0</td>\n      <td>35.815476</td>\n      <td>22.301367</td>\n      <td>6.0</td>\n      <td>9</td>\n      <td>9.0</td>\n      <td>1975</td>\n      <td>0.127376</td>\n      <td>B</td>\n      <td>B</td>\n      <td>43</td>\n      <td>8429</td>\n      <td>3</td>\n      <td>NaN</td>\n      <td>3</td>\n      <td>9</td>\n      <td>B</td>\n      <td>214138.857399</td>\n    </tr>\n  </tbody>\n</table>\n<p>10010 rows × 19 columns</p>\n</div>"
          },
          "execution_count": 75,
          "metadata": {},
          "output_type": "execute_result"
        }
      ],
      "source": [
        "newData = data.tail(10).copy()\n",
        "newData[\"Цена\"] = np.ones(10) * data[\"Цена\"].mean()\n",
        "newData.index = newData.index.map(lambda x: x+10)\n",
        "pd.concat([data, newData])"
      ],
      "metadata": {
        "id": "FHhKzYc_8OCt",
        "outputId": "13fc46a0-417a-43fc-9075-b74a66566ed8"
      }
    },
    {
      "cell_type": "markdown",
      "source": [
        "Выделите пять последних колонок в отдельную таблицу. Удалите в ней строки, в которых цена ниже среднего. Присоедините эту таблицу к изначальной (выберите самый подходящий тип соединения)."
      ],
      "metadata": {
        "collapsed": false,
        "id": "Tf92R79W8OCu"
      }
    },
    {
      "cell_type": "code",
      "execution_count": null,
      "outputs": [
        {
          "data": {
            "text/plain": "           Id  Комнаты     Площадь  ЖилаяПлощадь  ПлощадьКухни  Этаж  Этаж2  \\\n0     11809.0      3.0  115.027311           NaN          10.0   4.0   10.0   \n1      3013.0      1.0   39.832524     23.169223           8.0   7.0    8.0   \n2      8215.0      3.0   78.342215     47.671972          10.0   2.0   17.0   \n3      2352.0      1.0   40.409907           NaN           1.0  10.0   22.0   \n4     13866.0      2.0   64.285067     38.562517           9.0  16.0   16.0   \n...       ...      ...         ...           ...           ...   ...    ...   \n9971      NaN      NaN         NaN           NaN           NaN   NaN    NaN   \n9973      NaN      NaN         NaN           NaN           NaN   NaN    NaN   \n9977      NaN      NaN         NaN           NaN           NaN   NaN    NaN   \n9989      NaN      NaN         NaN           NaN           NaN   NaN    NaN   \n9993      NaN      NaN         NaN           NaN           NaN   NaN    NaN   \n\n         Год  Экология_1 Экология_2 Экология_3  Общество_1  Общество_2  \\\n0     2014.0    0.075424          B          B        11.0      3097.0   \n1     1966.0    0.118537          B          B        30.0      6207.0   \n2     1988.0    0.025609          B          B        33.0      5261.0   \n3     1977.0    0.007122          B          B         1.0       264.0   \n4     1972.0    0.282798          B          B        33.0      8667.0   \n...      ...         ...        ...        ...         ...         ...   \n9971     NaN         NaN        NaN        NaN         NaN         NaN   \n9973     NaN         NaN        NaN        NaN         NaN         NaN   \n9977     NaN         NaN        NaN        NaN         NaN         NaN   \n9989     NaN         NaN        NaN        NaN         NaN         NaN   \n9993     NaN         NaN        NaN        NaN         NaN         NaN   \n\n      Общество_3  Здоровье_1  Здоровье_2  Магазины_1 Магазины_2           Цена  \n0            0.0         NaN           0           0          B  305018.871089  \n1            1.0      1183.0           1           0          B  177734.553407  \n2            0.0       240.0           3           1          B  282078.720850  \n3            0.0         NaN           0           1          B  168106.007630  \n4            2.0         NaN           0           6          B  343995.102962  \n...          ...         ...         ...         ...        ...            ...  \n9971         NaN         NaN           0           1          B  500562.663412  \n9973         NaN         NaN           1           3          B  260456.004692  \n9977         NaN         NaN           1           0          B  381850.701985  \n9989         NaN       145.0           0           1          B  227361.501595  \n9993         NaN         NaN           0           1          B  264213.558631  \n\n[13825 rows x 19 columns]",
            "text/html": "<div>\n<style scoped>\n    .dataframe tbody tr th:only-of-type {\n        vertical-align: middle;\n    }\n\n    .dataframe tbody tr th {\n        vertical-align: top;\n    }\n\n    .dataframe thead th {\n        text-align: right;\n    }\n</style>\n<table border=\"1\" class=\"dataframe\">\n  <thead>\n    <tr style=\"text-align: right;\">\n      <th></th>\n      <th>Id</th>\n      <th>Комнаты</th>\n      <th>Площадь</th>\n      <th>ЖилаяПлощадь</th>\n      <th>ПлощадьКухни</th>\n      <th>Этаж</th>\n      <th>Этаж2</th>\n      <th>Год</th>\n      <th>Экология_1</th>\n      <th>Экология_2</th>\n      <th>Экология_3</th>\n      <th>Общество_1</th>\n      <th>Общество_2</th>\n      <th>Общество_3</th>\n      <th>Здоровье_1</th>\n      <th>Здоровье_2</th>\n      <th>Магазины_1</th>\n      <th>Магазины_2</th>\n      <th>Цена</th>\n    </tr>\n  </thead>\n  <tbody>\n    <tr>\n      <th>0</th>\n      <td>11809.0</td>\n      <td>3.0</td>\n      <td>115.027311</td>\n      <td>NaN</td>\n      <td>10.0</td>\n      <td>4.0</td>\n      <td>10.0</td>\n      <td>2014.0</td>\n      <td>0.075424</td>\n      <td>B</td>\n      <td>B</td>\n      <td>11.0</td>\n      <td>3097.0</td>\n      <td>0.0</td>\n      <td>NaN</td>\n      <td>0</td>\n      <td>0</td>\n      <td>B</td>\n      <td>305018.871089</td>\n    </tr>\n    <tr>\n      <th>1</th>\n      <td>3013.0</td>\n      <td>1.0</td>\n      <td>39.832524</td>\n      <td>23.169223</td>\n      <td>8.0</td>\n      <td>7.0</td>\n      <td>8.0</td>\n      <td>1966.0</td>\n      <td>0.118537</td>\n      <td>B</td>\n      <td>B</td>\n      <td>30.0</td>\n      <td>6207.0</td>\n      <td>1.0</td>\n      <td>1183.0</td>\n      <td>1</td>\n      <td>0</td>\n      <td>B</td>\n      <td>177734.553407</td>\n    </tr>\n    <tr>\n      <th>2</th>\n      <td>8215.0</td>\n      <td>3.0</td>\n      <td>78.342215</td>\n      <td>47.671972</td>\n      <td>10.0</td>\n      <td>2.0</td>\n      <td>17.0</td>\n      <td>1988.0</td>\n      <td>0.025609</td>\n      <td>B</td>\n      <td>B</td>\n      <td>33.0</td>\n      <td>5261.0</td>\n      <td>0.0</td>\n      <td>240.0</td>\n      <td>3</td>\n      <td>1</td>\n      <td>B</td>\n      <td>282078.720850</td>\n    </tr>\n    <tr>\n      <th>3</th>\n      <td>2352.0</td>\n      <td>1.0</td>\n      <td>40.409907</td>\n      <td>NaN</td>\n      <td>1.0</td>\n      <td>10.0</td>\n      <td>22.0</td>\n      <td>1977.0</td>\n      <td>0.007122</td>\n      <td>B</td>\n      <td>B</td>\n      <td>1.0</td>\n      <td>264.0</td>\n      <td>0.0</td>\n      <td>NaN</td>\n      <td>0</td>\n      <td>1</td>\n      <td>B</td>\n      <td>168106.007630</td>\n    </tr>\n    <tr>\n      <th>4</th>\n      <td>13866.0</td>\n      <td>2.0</td>\n      <td>64.285067</td>\n      <td>38.562517</td>\n      <td>9.0</td>\n      <td>16.0</td>\n      <td>16.0</td>\n      <td>1972.0</td>\n      <td>0.282798</td>\n      <td>B</td>\n      <td>B</td>\n      <td>33.0</td>\n      <td>8667.0</td>\n      <td>2.0</td>\n      <td>NaN</td>\n      <td>0</td>\n      <td>6</td>\n      <td>B</td>\n      <td>343995.102962</td>\n    </tr>\n    <tr>\n      <th>...</th>\n      <td>...</td>\n      <td>...</td>\n      <td>...</td>\n      <td>...</td>\n      <td>...</td>\n      <td>...</td>\n      <td>...</td>\n      <td>...</td>\n      <td>...</td>\n      <td>...</td>\n      <td>...</td>\n      <td>...</td>\n      <td>...</td>\n      <td>...</td>\n      <td>...</td>\n      <td>...</td>\n      <td>...</td>\n      <td>...</td>\n      <td>...</td>\n    </tr>\n    <tr>\n      <th>9971</th>\n      <td>NaN</td>\n      <td>NaN</td>\n      <td>NaN</td>\n      <td>NaN</td>\n      <td>NaN</td>\n      <td>NaN</td>\n      <td>NaN</td>\n      <td>NaN</td>\n      <td>NaN</td>\n      <td>NaN</td>\n      <td>NaN</td>\n      <td>NaN</td>\n      <td>NaN</td>\n      <td>NaN</td>\n      <td>NaN</td>\n      <td>0</td>\n      <td>1</td>\n      <td>B</td>\n      <td>500562.663412</td>\n    </tr>\n    <tr>\n      <th>9973</th>\n      <td>NaN</td>\n      <td>NaN</td>\n      <td>NaN</td>\n      <td>NaN</td>\n      <td>NaN</td>\n      <td>NaN</td>\n      <td>NaN</td>\n      <td>NaN</td>\n      <td>NaN</td>\n      <td>NaN</td>\n      <td>NaN</td>\n      <td>NaN</td>\n      <td>NaN</td>\n      <td>NaN</td>\n      <td>NaN</td>\n      <td>1</td>\n      <td>3</td>\n      <td>B</td>\n      <td>260456.004692</td>\n    </tr>\n    <tr>\n      <th>9977</th>\n      <td>NaN</td>\n      <td>NaN</td>\n      <td>NaN</td>\n      <td>NaN</td>\n      <td>NaN</td>\n      <td>NaN</td>\n      <td>NaN</td>\n      <td>NaN</td>\n      <td>NaN</td>\n      <td>NaN</td>\n      <td>NaN</td>\n      <td>NaN</td>\n      <td>NaN</td>\n      <td>NaN</td>\n      <td>NaN</td>\n      <td>1</td>\n      <td>0</td>\n      <td>B</td>\n      <td>381850.701985</td>\n    </tr>\n    <tr>\n      <th>9989</th>\n      <td>NaN</td>\n      <td>NaN</td>\n      <td>NaN</td>\n      <td>NaN</td>\n      <td>NaN</td>\n      <td>NaN</td>\n      <td>NaN</td>\n      <td>NaN</td>\n      <td>NaN</td>\n      <td>NaN</td>\n      <td>NaN</td>\n      <td>NaN</td>\n      <td>NaN</td>\n      <td>NaN</td>\n      <td>145.0</td>\n      <td>0</td>\n      <td>1</td>\n      <td>B</td>\n      <td>227361.501595</td>\n    </tr>\n    <tr>\n      <th>9993</th>\n      <td>NaN</td>\n      <td>NaN</td>\n      <td>NaN</td>\n      <td>NaN</td>\n      <td>NaN</td>\n      <td>NaN</td>\n      <td>NaN</td>\n      <td>NaN</td>\n      <td>NaN</td>\n      <td>NaN</td>\n      <td>NaN</td>\n      <td>NaN</td>\n      <td>NaN</td>\n      <td>NaN</td>\n      <td>NaN</td>\n      <td>0</td>\n      <td>1</td>\n      <td>B</td>\n      <td>264213.558631</td>\n    </tr>\n  </tbody>\n</table>\n<p>13825 rows × 19 columns</p>\n</div>"
          },
          "execution_count": 76,
          "metadata": {},
          "output_type": "execute_result"
        }
      ],
      "source": [
        "newData = data[data.columns[-5:]]\n",
        "newData = newData[newData[\"Цена\"] >= newData[\"Цена\"].mean()]\n",
        "pd.concat([data, newData])"
      ],
      "metadata": {
        "id": "c-QNtLw18OCu",
        "outputId": "3d295529-3215-4058-9bbd-f166ba5c3ae5"
      }
    },
    {
      "cell_type": "markdown",
      "source": [
        "Выведите таблицу, содержащую среднюю цену и количество квартир на каждом этаже из первоначального набора данных."
      ],
      "metadata": {
        "collapsed": false,
        "id": "Bya1xe5b8OCu"
      }
    },
    {
      "cell_type": "code",
      "execution_count": null,
      "outputs": [],
      "source": [
        "newData = data.groupby(\"Этаж\").agg({'Цена': 'mean', 'Комнаты': 'sum'})"
      ],
      "metadata": {
        "id": "rGtPWQ3z8OCv"
      }
    },
    {
      "cell_type": "markdown",
      "source": [
        "Сохраните получившуюся таблицу в файлы формата csv и xlsx. Прочитайте их и убедитесь, что данные отображаются корректно."
      ],
      "metadata": {
        "collapsed": false,
        "id": "2e2xp9FP8OCv"
      }
    },
    {
      "cell_type": "code",
      "execution_count": null,
      "outputs": [
        {
          "data": {
            "text/plain": "         Id  Комнаты     Площадь  ЖилаяПлощадь  ПлощадьКухни  Этаж  Этаж2  \\\n0     11809      3.0  115.027311           NaN          10.0     4   10.0   \n1      3013      1.0   39.832524     23.169223           8.0     7    8.0   \n2      8215      3.0   78.342215     47.671972          10.0     2   17.0   \n3      2352      1.0   40.409907           NaN           1.0    10   22.0   \n4     13866      2.0   64.285067     38.562517           9.0    16   16.0   \n...     ...      ...         ...           ...           ...   ...    ...   \n9995   1260      2.0   49.090728     33.272626           6.0     3   12.0   \n9996  16265      2.0   64.307684     37.038420           9.0    13    0.0   \n9997   2795      1.0   29.648057     16.555363           5.0     3    5.0   \n9998  14561      1.0   32.330292     22.326870           5.0     3    9.0   \n9999   7202      1.0   35.815476     22.301367           6.0     9    9.0   \n\n       Год  Экология_1 Экология_2 Экология_3  Общество_1  Общество_2  \\\n0     2014    0.075424          B          B          11        3097   \n1     1966    0.118537          B          B          30        6207   \n2     1988    0.025609          B          B          33        5261   \n3     1977    0.007122          B          B           1         264   \n4     1972    0.282798          B          B          33        8667   \n...    ...         ...        ...        ...         ...         ...   \n9995  1981    0.300323          B          B          52       10311   \n9996  1977    0.072158          B          B           2         629   \n9997  1958    0.460556          B          B          20        4386   \n9998  1969    0.194489          B          B          47        8004   \n9999  1975    0.127376          B          B          43        8429   \n\n      Общество_3  Здоровье_1  Здоровье_2  Магазины_1 Магазины_2           Цена  \n0              0         NaN           0           0          B  305018.871089  \n1              1      1183.0           1           0          B  177734.553407  \n2              0       240.0           3           1          B  282078.720850  \n3              0         NaN           0           1          B  168106.007630  \n4              2         NaN           0           6          B  343995.102962  \n...          ...         ...         ...         ...        ...            ...  \n9995           6         NaN           1           9          B  119367.455796  \n9996           1         NaN           0           0          A  199715.148807  \n9997          14         NaN           1           5          B  165953.912580  \n9998           3       125.0           3           5          B  171842.411855  \n9999           3         NaN           3           9          B  177685.627486  \n\n[10000 rows x 19 columns]",
            "text/html": "<div>\n<style scoped>\n    .dataframe tbody tr th:only-of-type {\n        vertical-align: middle;\n    }\n\n    .dataframe tbody tr th {\n        vertical-align: top;\n    }\n\n    .dataframe thead th {\n        text-align: right;\n    }\n</style>\n<table border=\"1\" class=\"dataframe\">\n  <thead>\n    <tr style=\"text-align: right;\">\n      <th></th>\n      <th>Id</th>\n      <th>Комнаты</th>\n      <th>Площадь</th>\n      <th>ЖилаяПлощадь</th>\n      <th>ПлощадьКухни</th>\n      <th>Этаж</th>\n      <th>Этаж2</th>\n      <th>Год</th>\n      <th>Экология_1</th>\n      <th>Экология_2</th>\n      <th>Экология_3</th>\n      <th>Общество_1</th>\n      <th>Общество_2</th>\n      <th>Общество_3</th>\n      <th>Здоровье_1</th>\n      <th>Здоровье_2</th>\n      <th>Магазины_1</th>\n      <th>Магазины_2</th>\n      <th>Цена</th>\n    </tr>\n  </thead>\n  <tbody>\n    <tr>\n      <th>0</th>\n      <td>11809</td>\n      <td>3.0</td>\n      <td>115.027311</td>\n      <td>NaN</td>\n      <td>10.0</td>\n      <td>4</td>\n      <td>10.0</td>\n      <td>2014</td>\n      <td>0.075424</td>\n      <td>B</td>\n      <td>B</td>\n      <td>11</td>\n      <td>3097</td>\n      <td>0</td>\n      <td>NaN</td>\n      <td>0</td>\n      <td>0</td>\n      <td>B</td>\n      <td>305018.871089</td>\n    </tr>\n    <tr>\n      <th>1</th>\n      <td>3013</td>\n      <td>1.0</td>\n      <td>39.832524</td>\n      <td>23.169223</td>\n      <td>8.0</td>\n      <td>7</td>\n      <td>8.0</td>\n      <td>1966</td>\n      <td>0.118537</td>\n      <td>B</td>\n      <td>B</td>\n      <td>30</td>\n      <td>6207</td>\n      <td>1</td>\n      <td>1183.0</td>\n      <td>1</td>\n      <td>0</td>\n      <td>B</td>\n      <td>177734.553407</td>\n    </tr>\n    <tr>\n      <th>2</th>\n      <td>8215</td>\n      <td>3.0</td>\n      <td>78.342215</td>\n      <td>47.671972</td>\n      <td>10.0</td>\n      <td>2</td>\n      <td>17.0</td>\n      <td>1988</td>\n      <td>0.025609</td>\n      <td>B</td>\n      <td>B</td>\n      <td>33</td>\n      <td>5261</td>\n      <td>0</td>\n      <td>240.0</td>\n      <td>3</td>\n      <td>1</td>\n      <td>B</td>\n      <td>282078.720850</td>\n    </tr>\n    <tr>\n      <th>3</th>\n      <td>2352</td>\n      <td>1.0</td>\n      <td>40.409907</td>\n      <td>NaN</td>\n      <td>1.0</td>\n      <td>10</td>\n      <td>22.0</td>\n      <td>1977</td>\n      <td>0.007122</td>\n      <td>B</td>\n      <td>B</td>\n      <td>1</td>\n      <td>264</td>\n      <td>0</td>\n      <td>NaN</td>\n      <td>0</td>\n      <td>1</td>\n      <td>B</td>\n      <td>168106.007630</td>\n    </tr>\n    <tr>\n      <th>4</th>\n      <td>13866</td>\n      <td>2.0</td>\n      <td>64.285067</td>\n      <td>38.562517</td>\n      <td>9.0</td>\n      <td>16</td>\n      <td>16.0</td>\n      <td>1972</td>\n      <td>0.282798</td>\n      <td>B</td>\n      <td>B</td>\n      <td>33</td>\n      <td>8667</td>\n      <td>2</td>\n      <td>NaN</td>\n      <td>0</td>\n      <td>6</td>\n      <td>B</td>\n      <td>343995.102962</td>\n    </tr>\n    <tr>\n      <th>...</th>\n      <td>...</td>\n      <td>...</td>\n      <td>...</td>\n      <td>...</td>\n      <td>...</td>\n      <td>...</td>\n      <td>...</td>\n      <td>...</td>\n      <td>...</td>\n      <td>...</td>\n      <td>...</td>\n      <td>...</td>\n      <td>...</td>\n      <td>...</td>\n      <td>...</td>\n      <td>...</td>\n      <td>...</td>\n      <td>...</td>\n      <td>...</td>\n    </tr>\n    <tr>\n      <th>9995</th>\n      <td>1260</td>\n      <td>2.0</td>\n      <td>49.090728</td>\n      <td>33.272626</td>\n      <td>6.0</td>\n      <td>3</td>\n      <td>12.0</td>\n      <td>1981</td>\n      <td>0.300323</td>\n      <td>B</td>\n      <td>B</td>\n      <td>52</td>\n      <td>10311</td>\n      <td>6</td>\n      <td>NaN</td>\n      <td>1</td>\n      <td>9</td>\n      <td>B</td>\n      <td>119367.455796</td>\n    </tr>\n    <tr>\n      <th>9996</th>\n      <td>16265</td>\n      <td>2.0</td>\n      <td>64.307684</td>\n      <td>37.038420</td>\n      <td>9.0</td>\n      <td>13</td>\n      <td>0.0</td>\n      <td>1977</td>\n      <td>0.072158</td>\n      <td>B</td>\n      <td>B</td>\n      <td>2</td>\n      <td>629</td>\n      <td>1</td>\n      <td>NaN</td>\n      <td>0</td>\n      <td>0</td>\n      <td>A</td>\n      <td>199715.148807</td>\n    </tr>\n    <tr>\n      <th>9997</th>\n      <td>2795</td>\n      <td>1.0</td>\n      <td>29.648057</td>\n      <td>16.555363</td>\n      <td>5.0</td>\n      <td>3</td>\n      <td>5.0</td>\n      <td>1958</td>\n      <td>0.460556</td>\n      <td>B</td>\n      <td>B</td>\n      <td>20</td>\n      <td>4386</td>\n      <td>14</td>\n      <td>NaN</td>\n      <td>1</td>\n      <td>5</td>\n      <td>B</td>\n      <td>165953.912580</td>\n    </tr>\n    <tr>\n      <th>9998</th>\n      <td>14561</td>\n      <td>1.0</td>\n      <td>32.330292</td>\n      <td>22.326870</td>\n      <td>5.0</td>\n      <td>3</td>\n      <td>9.0</td>\n      <td>1969</td>\n      <td>0.194489</td>\n      <td>B</td>\n      <td>B</td>\n      <td>47</td>\n      <td>8004</td>\n      <td>3</td>\n      <td>125.0</td>\n      <td>3</td>\n      <td>5</td>\n      <td>B</td>\n      <td>171842.411855</td>\n    </tr>\n    <tr>\n      <th>9999</th>\n      <td>7202</td>\n      <td>1.0</td>\n      <td>35.815476</td>\n      <td>22.301367</td>\n      <td>6.0</td>\n      <td>9</td>\n      <td>9.0</td>\n      <td>1975</td>\n      <td>0.127376</td>\n      <td>B</td>\n      <td>B</td>\n      <td>43</td>\n      <td>8429</td>\n      <td>3</td>\n      <td>NaN</td>\n      <td>3</td>\n      <td>9</td>\n      <td>B</td>\n      <td>177685.627486</td>\n    </tr>\n  </tbody>\n</table>\n<p>10000 rows × 19 columns</p>\n</div>"
          },
          "execution_count": 78,
          "metadata": {},
          "output_type": "execute_result"
        }
      ],
      "source": [
        "data.to_csv(\"floorData.csv\")\n",
        "pd.read_csv(\"floorData.csv\", index_col=0)"
      ],
      "metadata": {
        "id": "nZjO5GTI8OCv",
        "outputId": "dc54684b-5b88-4027-fa06-23fcdf10cf87"
      }
    },
    {
      "cell_type": "code",
      "execution_count": null,
      "outputs": [
        {
          "data": {
            "text/plain": "         Id  Комнаты     Площадь  ЖилаяПлощадь  ПлощадьКухни  Этаж  Этаж2  \\\n0     11809        3  115.027311           NaN            10     4     10   \n1      3013        1   39.832524     23.169223             8     7      8   \n2      8215        3   78.342215     47.671972            10     2     17   \n3      2352        1   40.409907           NaN             1    10     22   \n4     13866        2   64.285067     38.562517             9    16     16   \n...     ...      ...         ...           ...           ...   ...    ...   \n9995   1260        2   49.090728     33.272626             6     3     12   \n9996  16265        2   64.307684     37.038420             9    13      0   \n9997   2795        1   29.648057     16.555363             5     3      5   \n9998  14561        1   32.330292     22.326870             5     3      9   \n9999   7202        1   35.815476     22.301367             6     9      9   \n\n       Год  Экология_1 Экология_2 Экология_3  Общество_1  Общество_2  \\\n0     2014    0.075424          B          B          11        3097   \n1     1966    0.118537          B          B          30        6207   \n2     1988    0.025609          B          B          33        5261   \n3     1977    0.007122          B          B           1         264   \n4     1972    0.282798          B          B          33        8667   \n...    ...         ...        ...        ...         ...         ...   \n9995  1981    0.300323          B          B          52       10311   \n9996  1977    0.072158          B          B           2         629   \n9997  1958    0.460556          B          B          20        4386   \n9998  1969    0.194489          B          B          47        8004   \n9999  1975    0.127376          B          B          43        8429   \n\n      Общество_3  Здоровье_1  Здоровье_2  Магазины_1 Магазины_2           Цена  \n0              0         NaN           0           0          B  305018.871089  \n1              1      1183.0           1           0          B  177734.553407  \n2              0       240.0           3           1          B  282078.720850  \n3              0         NaN           0           1          B  168106.007630  \n4              2         NaN           0           6          B  343995.102962  \n...          ...         ...         ...         ...        ...            ...  \n9995           6         NaN           1           9          B  119367.455796  \n9996           1         NaN           0           0          A  199715.148807  \n9997          14         NaN           1           5          B  165953.912580  \n9998           3       125.0           3           5          B  171842.411855  \n9999           3         NaN           3           9          B  177685.627486  \n\n[10000 rows x 19 columns]",
            "text/html": "<div>\n<style scoped>\n    .dataframe tbody tr th:only-of-type {\n        vertical-align: middle;\n    }\n\n    .dataframe tbody tr th {\n        vertical-align: top;\n    }\n\n    .dataframe thead th {\n        text-align: right;\n    }\n</style>\n<table border=\"1\" class=\"dataframe\">\n  <thead>\n    <tr style=\"text-align: right;\">\n      <th></th>\n      <th>Id</th>\n      <th>Комнаты</th>\n      <th>Площадь</th>\n      <th>ЖилаяПлощадь</th>\n      <th>ПлощадьКухни</th>\n      <th>Этаж</th>\n      <th>Этаж2</th>\n      <th>Год</th>\n      <th>Экология_1</th>\n      <th>Экология_2</th>\n      <th>Экология_3</th>\n      <th>Общество_1</th>\n      <th>Общество_2</th>\n      <th>Общество_3</th>\n      <th>Здоровье_1</th>\n      <th>Здоровье_2</th>\n      <th>Магазины_1</th>\n      <th>Магазины_2</th>\n      <th>Цена</th>\n    </tr>\n  </thead>\n  <tbody>\n    <tr>\n      <th>0</th>\n      <td>11809</td>\n      <td>3</td>\n      <td>115.027311</td>\n      <td>NaN</td>\n      <td>10</td>\n      <td>4</td>\n      <td>10</td>\n      <td>2014</td>\n      <td>0.075424</td>\n      <td>B</td>\n      <td>B</td>\n      <td>11</td>\n      <td>3097</td>\n      <td>0</td>\n      <td>NaN</td>\n      <td>0</td>\n      <td>0</td>\n      <td>B</td>\n      <td>305018.871089</td>\n    </tr>\n    <tr>\n      <th>1</th>\n      <td>3013</td>\n      <td>1</td>\n      <td>39.832524</td>\n      <td>23.169223</td>\n      <td>8</td>\n      <td>7</td>\n      <td>8</td>\n      <td>1966</td>\n      <td>0.118537</td>\n      <td>B</td>\n      <td>B</td>\n      <td>30</td>\n      <td>6207</td>\n      <td>1</td>\n      <td>1183.0</td>\n      <td>1</td>\n      <td>0</td>\n      <td>B</td>\n      <td>177734.553407</td>\n    </tr>\n    <tr>\n      <th>2</th>\n      <td>8215</td>\n      <td>3</td>\n      <td>78.342215</td>\n      <td>47.671972</td>\n      <td>10</td>\n      <td>2</td>\n      <td>17</td>\n      <td>1988</td>\n      <td>0.025609</td>\n      <td>B</td>\n      <td>B</td>\n      <td>33</td>\n      <td>5261</td>\n      <td>0</td>\n      <td>240.0</td>\n      <td>3</td>\n      <td>1</td>\n      <td>B</td>\n      <td>282078.720850</td>\n    </tr>\n    <tr>\n      <th>3</th>\n      <td>2352</td>\n      <td>1</td>\n      <td>40.409907</td>\n      <td>NaN</td>\n      <td>1</td>\n      <td>10</td>\n      <td>22</td>\n      <td>1977</td>\n      <td>0.007122</td>\n      <td>B</td>\n      <td>B</td>\n      <td>1</td>\n      <td>264</td>\n      <td>0</td>\n      <td>NaN</td>\n      <td>0</td>\n      <td>1</td>\n      <td>B</td>\n      <td>168106.007630</td>\n    </tr>\n    <tr>\n      <th>4</th>\n      <td>13866</td>\n      <td>2</td>\n      <td>64.285067</td>\n      <td>38.562517</td>\n      <td>9</td>\n      <td>16</td>\n      <td>16</td>\n      <td>1972</td>\n      <td>0.282798</td>\n      <td>B</td>\n      <td>B</td>\n      <td>33</td>\n      <td>8667</td>\n      <td>2</td>\n      <td>NaN</td>\n      <td>0</td>\n      <td>6</td>\n      <td>B</td>\n      <td>343995.102962</td>\n    </tr>\n    <tr>\n      <th>...</th>\n      <td>...</td>\n      <td>...</td>\n      <td>...</td>\n      <td>...</td>\n      <td>...</td>\n      <td>...</td>\n      <td>...</td>\n      <td>...</td>\n      <td>...</td>\n      <td>...</td>\n      <td>...</td>\n      <td>...</td>\n      <td>...</td>\n      <td>...</td>\n      <td>...</td>\n      <td>...</td>\n      <td>...</td>\n      <td>...</td>\n      <td>...</td>\n    </tr>\n    <tr>\n      <th>9995</th>\n      <td>1260</td>\n      <td>2</td>\n      <td>49.090728</td>\n      <td>33.272626</td>\n      <td>6</td>\n      <td>3</td>\n      <td>12</td>\n      <td>1981</td>\n      <td>0.300323</td>\n      <td>B</td>\n      <td>B</td>\n      <td>52</td>\n      <td>10311</td>\n      <td>6</td>\n      <td>NaN</td>\n      <td>1</td>\n      <td>9</td>\n      <td>B</td>\n      <td>119367.455796</td>\n    </tr>\n    <tr>\n      <th>9996</th>\n      <td>16265</td>\n      <td>2</td>\n      <td>64.307684</td>\n      <td>37.038420</td>\n      <td>9</td>\n      <td>13</td>\n      <td>0</td>\n      <td>1977</td>\n      <td>0.072158</td>\n      <td>B</td>\n      <td>B</td>\n      <td>2</td>\n      <td>629</td>\n      <td>1</td>\n      <td>NaN</td>\n      <td>0</td>\n      <td>0</td>\n      <td>A</td>\n      <td>199715.148807</td>\n    </tr>\n    <tr>\n      <th>9997</th>\n      <td>2795</td>\n      <td>1</td>\n      <td>29.648057</td>\n      <td>16.555363</td>\n      <td>5</td>\n      <td>3</td>\n      <td>5</td>\n      <td>1958</td>\n      <td>0.460556</td>\n      <td>B</td>\n      <td>B</td>\n      <td>20</td>\n      <td>4386</td>\n      <td>14</td>\n      <td>NaN</td>\n      <td>1</td>\n      <td>5</td>\n      <td>B</td>\n      <td>165953.912580</td>\n    </tr>\n    <tr>\n      <th>9998</th>\n      <td>14561</td>\n      <td>1</td>\n      <td>32.330292</td>\n      <td>22.326870</td>\n      <td>5</td>\n      <td>3</td>\n      <td>9</td>\n      <td>1969</td>\n      <td>0.194489</td>\n      <td>B</td>\n      <td>B</td>\n      <td>47</td>\n      <td>8004</td>\n      <td>3</td>\n      <td>125.0</td>\n      <td>3</td>\n      <td>5</td>\n      <td>B</td>\n      <td>171842.411855</td>\n    </tr>\n    <tr>\n      <th>9999</th>\n      <td>7202</td>\n      <td>1</td>\n      <td>35.815476</td>\n      <td>22.301367</td>\n      <td>6</td>\n      <td>9</td>\n      <td>9</td>\n      <td>1975</td>\n      <td>0.127376</td>\n      <td>B</td>\n      <td>B</td>\n      <td>43</td>\n      <td>8429</td>\n      <td>3</td>\n      <td>NaN</td>\n      <td>3</td>\n      <td>9</td>\n      <td>B</td>\n      <td>177685.627486</td>\n    </tr>\n  </tbody>\n</table>\n<p>10000 rows × 19 columns</p>\n</div>"
          },
          "execution_count": 79,
          "metadata": {},
          "output_type": "execute_result"
        }
      ],
      "source": [
        "data.to_excel(\"floorData.xlsx\")\n",
        "pd.read_excel('floorData.xlsx', index_col=0)"
      ],
      "metadata": {
        "id": "-VBZBp_98OCv",
        "outputId": "1efbc7ee-37f9-4834-9dd2-5a44aadbbd92"
      }
    },
    {
      "cell_type": "markdown",
      "source": [
        "Создайте в Excel или другом табличном редакторе таблицу, содержащую несколько численных и текстовых полей. Прочитайте ее в программу при помощи pandas."
      ],
      "metadata": {
        "collapsed": false,
        "id": "BF16AJY-8OCv"
      }
    },
    {
      "cell_type": "code",
      "execution_count": null,
      "outputs": [
        {
          "data": {
            "text/plain": "   qwe  1  0.01\n0  qew  2  0.02\n1  weq  3  0.03\n2  ewq  4  0.04",
            "text/html": "<div>\n<style scoped>\n    .dataframe tbody tr th:only-of-type {\n        vertical-align: middle;\n    }\n\n    .dataframe tbody tr th {\n        vertical-align: top;\n    }\n\n    .dataframe thead th {\n        text-align: right;\n    }\n</style>\n<table border=\"1\" class=\"dataframe\">\n  <thead>\n    <tr style=\"text-align: right;\">\n      <th></th>\n      <th>qwe</th>\n      <th>1</th>\n      <th>0.01</th>\n    </tr>\n  </thead>\n  <tbody>\n    <tr>\n      <th>0</th>\n      <td>qew</td>\n      <td>2</td>\n      <td>0.02</td>\n    </tr>\n    <tr>\n      <th>1</th>\n      <td>weq</td>\n      <td>3</td>\n      <td>0.03</td>\n    </tr>\n    <tr>\n      <th>2</th>\n      <td>ewq</td>\n      <td>4</td>\n      <td>0.04</td>\n    </tr>\n  </tbody>\n</table>\n</div>"
          },
          "execution_count": 80,
          "metadata": {},
          "output_type": "execute_result"
        }
      ],
      "source": [
        "pd.read_excel(\"someData.xlsx\")"
      ],
      "metadata": {
        "id": "se-38wVN8OCw",
        "outputId": "18980dec-dfed-4e80-92a9-52d1ada2b96d"
      }
    }
  ],
  "metadata": {
    "kernelspec": {
      "display_name": "Python 3",
      "language": "python",
      "name": "python3"
    },
    "language_info": {
      "codemirror_mode": {
        "name": "ipython",
        "version": 2
      },
      "file_extension": ".py",
      "mimetype": "text/x-python",
      "name": "python",
      "nbconvert_exporter": "python",
      "pygments_lexer": "ipython2",
      "version": "2.7.6"
    },
    "colab": {
      "provenance": [],
      "toc_visible": true
    }
  },
  "nbformat": 4,
  "nbformat_minor": 0
}