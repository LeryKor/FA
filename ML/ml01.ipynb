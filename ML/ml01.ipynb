{
  "cells": [
    {
      "cell_type": "markdown",
      "source": [
        "Загрузите данные по вариантам в ноутбук."
      ],
      "metadata": {
        "collapsed": false,
        "id": "Wl7BBhwvlwX7"
      }
    },
    {
      "cell_type": "code",
      "execution_count": null,
      "outputs": [],
      "source": [
        "import pandas as pd\n",
        "data = pd.read_excel(\"Вариант 1.xlsx\")\n",
        "data.columns = data.iloc[1]\n",
        "data.drop(axis=0, index=[0,1, data[\"Класс\"].size -1], inplace=True)\n",
        "data.reset_index(drop= True , inplace= True)"
      ],
      "metadata": {
        "id": "mPxyudqKlwX9"
      }
    },
    {
      "cell_type": "markdown",
      "source": [
        "Сделайте описательную статистику полученных данных."
      ],
      "metadata": {
        "collapsed": false,
        "id": "Aueys_CBlwX-"
      }
    },
    {
      "cell_type": "code",
      "execution_count": null,
      "outputs": [
        {
          "data": {
            "text/plain": "1          №  № школы  Класс   Пол  Номер варианта  Задания с кратким ответом  \\\ncount   3048     3048   3048  3048            3048                       3048   \nunique  3048       24     13     2              34                       2516   \ntop        1      152     11     Ж             340  2+++++5+++++++2++++++++-4   \nfreq       1      331   2428  1767             253                         92   \n\n1                          Задания с развёрнутым ответом Устная часть  \\\ncount                                               3048            0   \nunique                                              1352            0   \ntop     1(1)3(3)1(1)3(3)2(2)2(2)3(3)3(3)2(2)2(2)1(1)1(1)          NaN   \nfreq                                                  84          NaN   \n\n1       Первичный балл  Балл  Минимальный балл  \ncount             3048  3048              3048  \nunique              51    51                 1  \ntop                 49    80                24  \nfreq               158   158              3048  ",
            "text/html": "<div>\n<style scoped>\n    .dataframe tbody tr th:only-of-type {\n        vertical-align: middle;\n    }\n\n    .dataframe tbody tr th {\n        vertical-align: top;\n    }\n\n    .dataframe thead th {\n        text-align: right;\n    }\n</style>\n<table border=\"1\" class=\"dataframe\">\n  <thead>\n    <tr style=\"text-align: right;\">\n      <th>1</th>\n      <th>№</th>\n      <th>№ школы</th>\n      <th>Класс</th>\n      <th>Пол</th>\n      <th>Номер варианта</th>\n      <th>Задания с кратким ответом</th>\n      <th>Задания с развёрнутым ответом</th>\n      <th>Устная часть</th>\n      <th>Первичный балл</th>\n      <th>Балл</th>\n      <th>Минимальный балл</th>\n    </tr>\n  </thead>\n  <tbody>\n    <tr>\n      <th>count</th>\n      <td>3048</td>\n      <td>3048</td>\n      <td>3048</td>\n      <td>3048</td>\n      <td>3048</td>\n      <td>3048</td>\n      <td>3048</td>\n      <td>0</td>\n      <td>3048</td>\n      <td>3048</td>\n      <td>3048</td>\n    </tr>\n    <tr>\n      <th>unique</th>\n      <td>3048</td>\n      <td>24</td>\n      <td>13</td>\n      <td>2</td>\n      <td>34</td>\n      <td>2516</td>\n      <td>1352</td>\n      <td>0</td>\n      <td>51</td>\n      <td>51</td>\n      <td>1</td>\n    </tr>\n    <tr>\n      <th>top</th>\n      <td>1</td>\n      <td>152</td>\n      <td>11</td>\n      <td>Ж</td>\n      <td>340</td>\n      <td>2+++++5+++++++2++++++++-4</td>\n      <td>1(1)3(3)1(1)3(3)2(2)2(2)3(3)3(3)2(2)2(2)1(1)1(1)</td>\n      <td>NaN</td>\n      <td>49</td>\n      <td>80</td>\n      <td>24</td>\n    </tr>\n    <tr>\n      <th>freq</th>\n      <td>1</td>\n      <td>331</td>\n      <td>2428</td>\n      <td>1767</td>\n      <td>253</td>\n      <td>92</td>\n      <td>84</td>\n      <td>NaN</td>\n      <td>158</td>\n      <td>158</td>\n      <td>3048</td>\n    </tr>\n  </tbody>\n</table>\n</div>"
          },
          "execution_count": 86,
          "metadata": {},
          "output_type": "execute_result"
        }
      ],
      "source": [
        "data.describe()"
      ],
      "metadata": {
        "id": "Taj4QCU4lwX-",
        "outputId": "8fde084e-9897-4b76-bb52-56d2fae97307"
      }
    },
    {
      "cell_type": "markdown",
      "source": [
        "Найдите процент учащихся, выполнивших работу ниже среднего."
      ],
      "metadata": {
        "collapsed": false,
        "id": "voAodEamlwX_"
      }
    },
    {
      "cell_type": "code",
      "execution_count": null,
      "outputs": [
        {
          "data": {
            "text/plain": "51.27952755905512"
          },
          "execution_count": 87,
          "metadata": {},
          "output_type": "execute_result"
        }
      ],
      "source": [
        "data[data[\"Балл\"] < data[\"Балл\"].mean()][\"Балл\"].count() / data[\"Балл\"].count() * 100"
      ],
      "metadata": {
        "id": "rQqnGtvnlwX_",
        "outputId": "2d3cac38-9a81-4fc2-b07e-496897531e17"
      }
    },
    {
      "cell_type": "markdown",
      "source": [
        "Найти процент учащихся не сдавших экзамен."
      ],
      "metadata": {
        "collapsed": false,
        "id": "ygo9p_x-lwX_"
      }
    },
    {
      "cell_type": "code",
      "execution_count": null,
      "outputs": [
        {
          "data": {
            "text/plain": "0.13123359580052493"
          },
          "execution_count": 88,
          "metadata": {},
          "output_type": "execute_result"
        }
      ],
      "source": [
        "data[data[\"Балл\"] < data[\"Минимальный балл\"]][\"Балл\"].count() / data[\"Балл\"].count() * 100\n"
      ],
      "metadata": {
        "id": "cOHVc7ivlwX_",
        "outputId": "90778115-6bd3-4e0e-d5e5-dde9856d32fa"
      }
    },
    {
      "cell_type": "markdown",
      "source": [
        "Постройте круговую диаграмму, показывающую распределение сдавших и не сдавших экзамен."
      ],
      "metadata": {
        "collapsed": false,
        "id": "kWbGN5GwlwYA"
      }
    },
    {
      "cell_type": "code",
      "execution_count": null,
      "outputs": [],
      "source": [
        "import matplotlib.pyplot as plt"
      ],
      "metadata": {
        "id": "_KcApKMHlwYA"
      }
    },
    {
      "cell_type": "code",
      "execution_count": null,
      "outputs": [
        {
          "data": {
            "text/plain": "<Figure size 640x480 with 1 Axes>",
            "image/png": "[encoded data removed]"
          },
          "metadata": {},
          "output_type": "display_data"
        }
      ],
      "source": [
        "dataPass = data[data[\"Балл\"] >= data[\"Минимальный балл\"]][\"Балл\"].count()\n",
        "dataNoPass = data[data[\"Балл\"] < data[\"Минимальный балл\"]][\"Балл\"].count()\n",
        "\n",
        "fig = plt.figure()\n",
        "ax= fig.add_axes([1,1,1,1])\n",
        "results = [dataPass, dataNoPass]\n",
        "\n",
        "ax.pie(results, radius = 1)\n",
        "plt.show()"
      ],
      "metadata": {
        "id": "6QS50Fy1lwYA",
        "outputId": "4c123409-6c74-4d06-ec96-447055c406f3"
      }
    },
    {
      "cell_type": "markdown",
      "source": [
        "Постройте ядерную оценку плотности распределению баллов за экзамен."
      ],
      "metadata": {
        "collapsed": false,
        "id": "zuLH3UbJlwYA"
      }
    },
    {
      "cell_type": "code",
      "execution_count": null,
      "outputs": [],
      "source": [
        "import seaborn as sns"
      ],
      "metadata": {
        "id": "Gg74DmUQlwYB"
      }
    },
    {
      "cell_type": "code",
      "execution_count": null,
      "outputs": [
        {
          "data": {
            "text/plain": "<seaborn.axisgrid.FacetGrid at 0x169a6abe880>"
          },
          "execution_count": 105,
          "metadata": {},
          "output_type": "execute_result"
        },
        {
          "data": {
            "text/plain": "<Figure size 500x500 with 1 Axes>",
            "image/png": "[encoded data removed]"
          },
          "metadata": {},
          "output_type": "display_data"
        }
      ],
      "source": [
        "sns.displot(data[\"Балл\"], kde=True)"
      ],
      "metadata": {
        "id": "p5EnAhCXlwYB",
        "outputId": "8efddbcb-ffcf-4166-80d6-a90462c344cd"
      }
    },
    {
      "cell_type": "markdown",
      "source": [
        "Найдите процентное соотношение учащихся, сдавших экзамен на «отлично», «хорошо», «удовлетворительно», «неудовлетворительно»."
      ],
      "metadata": {
        "collapsed": false,
        "id": "O3xJFJfLlwYB"
      }
    },
    {
      "cell_type": "code",
      "execution_count": null,
      "outputs": [
        {
          "name": "stdout",
          "output_type": "stream",
          "text": [
            "Оценка\n",
            "2     5.643045\n",
            "3    37.204724\n",
            "4    32.513123\n",
            "5    24.639108\n",
            "dtype: float64\n"
          ]
        }
      ],
      "source": [
        "data[\"Оценка\"] = data[\"Балл\"].aggregate(\n",
        "    lambda m: 2 if m < 51 else 3 if m < 71 else 4 if m < 85 else 5)\n",
        "\n",
        "print((data.groupby(\"Оценка\").size() / len(data)) * 100)\n"
      ],
      "metadata": {
        "id": "KNgpPRfplwYB",
        "outputId": "fb67757e-6028-413f-e4c7-5bdeb06e22a3"
      }
    },
    {
      "cell_type": "markdown",
      "source": [
        "Какое процентное соотношение юношей и девушек писало данный экзамен?"
      ],
      "metadata": {
        "collapsed": false,
        "id": "2ZhqMamZlwYB"
      }
    },
    {
      "cell_type": "code",
      "execution_count": null,
      "outputs": [
        {
          "name": "stdout",
          "output_type": "stream",
          "text": [
            "Пол\n",
            "Ж    57.972441\n",
            "М    42.027559\n",
            "dtype: float64\n"
          ]
        }
      ],
      "source": [
        "print((data.groupby(\"Пол\").size() / len(data)) * 100)"
      ],
      "metadata": {
        "id": "HZsabZx-lwYC",
        "outputId": "3bc7863c-e2b8-4eb7-d3d9-b5673da577f4"
      }
    },
    {
      "cell_type": "markdown",
      "source": [
        "Сколько школ принимало участие в экзамене?"
      ],
      "metadata": {
        "collapsed": false,
        "id": "XnRjZp2zlwYC"
      }
    },
    {
      "cell_type": "code",
      "execution_count": null,
      "outputs": [
        {
          "data": {
            "text/plain": "24"
          },
          "execution_count": 125,
          "metadata": {},
          "output_type": "execute_result"
        }
      ],
      "source": [
        "len(data.groupby(\"№ школы\"))"
      ],
      "metadata": {
        "id": "zJg6b5R_lwYC",
        "outputId": "9dc9b1dc-757a-45e7-a3c6-9b3d514a9303"
      }
    },
    {
      "cell_type": "markdown",
      "source": [
        "Сколько всего заданий с кратким ответом? С развернутым ответом?"
      ],
      "metadata": {
        "collapsed": false,
        "id": "2jGVEEO0lwYC"
      }
    },
    {
      "cell_type": "code",
      "execution_count": null,
      "outputs": [
        {
          "name": "stdout",
          "output_type": "stream",
          "text": [
            "25\n",
            "12\n"
          ]
        }
      ],
      "source": [
        "short_tasks = len(data['Задания с кратким ответом'][0])\n",
        "long_tasks = int(len(data['Задания с развёрнутым ответом'][0].replace(\"(\", \"\").replace(\")\", \"\"))/2)\n",
        "print(short_tasks)\n",
        "print(long_tasks)"
      ],
      "metadata": {
        "id": "-pKgJ4MhlwYC",
        "outputId": "8a100f93-2f9f-49c9-e2ad-7446cb60a111"
      }
    },
    {
      "cell_type": "markdown",
      "source": [
        "Пусть задания с кратким ответом будут задания типа В. Соответственно всего по экзамену вопросов класса В: B1, ...Bk\n",
        " Посчитайте процент выполненных и невыполненных заданий по каждому вопросу класса В."
      ],
      "metadata": {
        "collapsed": false,
        "id": "PeNfkcIelwYD"
      }
    },
    {
      "cell_type": "code",
      "execution_count": null,
      "outputs": [
        {
          "name": "stdout",
          "output_type": "stream",
          "text": [
            "3008\n",
            "2831\n",
            "2662\n",
            "2356\n",
            "1797\n",
            "2762\n",
            "2897\n",
            "2304\n",
            "2564\n",
            "2953\n",
            "2840\n",
            "2302\n",
            "2534\n",
            "2139\n",
            "2975\n",
            "2102\n",
            "2049\n",
            "2261\n",
            "2114\n",
            "2522\n",
            "2190\n",
            "1465\n",
            "2333\n",
            "755\n",
            "2909\n"
          ]
        }
      ],
      "source": [
        "b_questions = data['Задания с кратким ответом']\n",
        "for i in range(short_tasks):\n",
        "    print(b_questions[b_questions.aggregate(lambda b: b[i] != \"0\" and b[i] != \"-\")].count())"
      ],
      "metadata": {
        "id": "TBp_2vk-lwYD",
        "outputId": "55f926e0-4de2-40e0-ebe0-d999ee97b44e"
      }
    },
    {
      "cell_type": "markdown",
      "source": [
        "Аналогично и с типом С (ответы с развернутым ответом"
      ],
      "metadata": {
        "collapsed": false,
        "id": "kwPPuhIxlwYD"
      }
    },
    {
      "cell_type": "code",
      "execution_count": null,
      "outputs": [
        {
          "name": "stdout",
          "output_type": "stream",
          "text": [
            "2949\n",
            "2887\n",
            "2879\n",
            "2873\n",
            "2940\n",
            "2970\n",
            "2816\n",
            "2484\n",
            "2566\n",
            "2491\n",
            "2987\n",
            "2577\n"
          ]
        }
      ],
      "source": [
        "c_questions = data['Задания с развёрнутым ответом']\n",
        "for i in range(long_tasks):\n",
        "    print(c_questions[c_questions.aggregate(lambda b: b[i*4] != \"0\")].count())"
      ],
      "metadata": {
        "id": "XBGgnzKClwYD",
        "outputId": "fe104f24-4a9a-4e06-d11c-cd31a8e8a118"
      }
    },
    {
      "cell_type": "markdown",
      "source": [
        "Сделайте анализ по двум школам:\n",
        "по всем выполненным заданиям типа В\n",
        "по заданиям типа С больше 50%\n",
        "по среднему баллу юношей и девушек"
      ],
      "metadata": {
        "collapsed": false,
        "id": "YHcDOTmPlwYE"
      }
    },
    {
      "cell_type": "code",
      "execution_count": null,
      "outputs": [
        {
          "name": "stdout",
          "output_type": "stream",
          "text": [
            "1841 6384\n"
          ]
        }
      ],
      "source": [
        "school1 = data.where(data[\"№ школы\"] == 117).dropna(how=\"all\")\n",
        "school2 = data.where(data[\"№ школы\"] == 148).dropna(how=\"all\")\n",
        "\n",
        "b_questions1 = school1['Задания с кратким ответом']\n",
        "school1B = 0\n",
        "for i in range(short_tasks):\n",
        "    school1B += b_questions1[b_questions1.aggregate(lambda b: b[i] != \"0\" and b[i] != \"-\")].count()\n",
        "\n",
        "b_questions2 = school2['Задания с кратким ответом']\n",
        "school2B = 0\n",
        "for i in range(short_tasks):\n",
        "    school2B += b_questions2[b_questions2.aggregate(lambda b: b[i] != \"0\" and b[i] != \"-\")].count()\n",
        "\n",
        "print(school1B, school2B)"
      ],
      "metadata": {
        "id": "5vEqoy53lwYE",
        "outputId": "1c0295c9-159e-4da6-8e4e-3b3a78aae2db"
      }
    },
    {
      "cell_type": "code",
      "execution_count": null,
      "outputs": [
        {
          "name": "stdout",
          "output_type": "stream",
          "text": [
            "Школа 1\n",
            "1         Балл\n",
            "Пол           \n",
            "Ж    75.686275\n",
            "М    65.022727\n",
            "\n",
            "Школа 2\n",
            "1         Балл\n",
            "Пол           \n",
            "Ж    75.745856\n",
            "М    68.166667\n"
          ]
        }
      ],
      "source": [
        "scl1 = school1[[\"Пол\", \"Балл\"]].groupby(\"Пол\").mean()\n",
        "scl2 = school2[[\"Пол\", \"Балл\"]].groupby(\"Пол\").mean()\n",
        "print(\"Школа 1\")\n",
        "print(scl1)\n",
        "print()\n",
        "print(\"Школа 2\")\n",
        "print(scl2)"
      ],
      "metadata": {
        "id": "IOnIkhNWlwYE",
        "outputId": "8f02a178-2a6d-4427-f477-1ca59bdf3655"
      }
    },
    {
      "cell_type": "markdown",
      "source": [],
      "metadata": {
        "collapsed": false,
        "id": "K3OB75_ElwYF"
      }
    }
  ],
  "metadata": {
    "kernelspec": {
      "display_name": "Python 3",
      "language": "python",
      "name": "python3"
    },
    "language_info": {
      "codemirror_mode": {
        "name": "ipython",
        "version": 2
      },
      "file_extension": ".py",
      "mimetype": "text/x-python",
      "name": "python",
      "nbconvert_exporter": "python",
      "pygments_lexer": "ipython2",
      "version": "2.7.6"
    },
    "colab": {
      "provenance": []
    }
  },
  "nbformat": 4,
  "nbformat_minor": 0
}