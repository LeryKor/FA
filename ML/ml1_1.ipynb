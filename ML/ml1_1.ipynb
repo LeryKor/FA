{
  "nbformat": 4,
  "nbformat_minor": 0,
  "metadata": {
    "colab": {
      "provenance": []
    },
    "kernelspec": {
      "name": "python3",
      "display_name": "Python 3"
    },
    "language_info": {
      "name": "python"
    }
  },
  "cells": [
    {
      "cell_type": "code",
      "execution_count": null,
      "metadata": {
        "id": "AdwKSSur4s-6"
      },
      "outputs": [],
      "source": [
        "import numpy as np\n",
        "import pandas as pd\n",
        "import matplotlib.pyplot as plt"
      ]
    },
    {
      "cell_type": "code",
      "source": [
        "x = pd.read_csv('https://raw.githubusercontent.com/koroteevmv/ML_course/main/ML1.1_sgd/data/x.csv', index_col=0)['0']\n",
        "y = pd.read_csv('https://raw.githubusercontent.com/koroteevmv/ML_course/main/ML1.1_sgd/data/y.csv', index_col=0)['0']"
      ],
      "metadata": {
        "id": "a9lRa_j_5A5B"
      },
      "execution_count": null,
      "outputs": []
    },
    {
      "cell_type": "code",
      "source": [
        "x.head()"
      ],
      "metadata": {
        "colab": {
          "base_uri": "https://localhost:8080/"
        },
        "id": "vUUI8K0_5DFZ",
        "outputId": "09e80e25-5f9e-4f3f-f761-d6dd54eca7e7"
      },
      "execution_count": null,
      "outputs": [
        {
          "output_type": "execute_result",
          "data": {
            "text/plain": [
              "0    1.462108\n",
              "1    1.133769\n",
              "2   -2.301539\n",
              "3    1.744812\n",
              "4    0.042214\n",
              "Name: 0, dtype: float64"
            ]
          },
          "metadata": {},
          "execution_count": 139
        }
      ]
    },
    {
      "cell_type": "code",
      "source": [
        "class Model(object):\n",
        "    \"\"\"Модель парной линейной регрессии\"\"\"\n",
        "    def __init__(self, b0=0, b1=0):\n",
        "        self.b0 = b0\n",
        "        self.b1 = b1\n",
        "    def predict(self, X):\n",
        "        return self.b0 + self.b1 * X\n",
        "    def error(self, X, Y):\n",
        "        return sum(((self.predict(X) - Y)**2) / (2 * len(X)))\n",
        "    def fit(self, X, Y, alpha=0.001, accuracy=0.01, max_steps=5000):\n",
        "        steps, errors = [], []\n",
        "        step = 0\n",
        "        for _ in range(max_steps):\n",
        "            dJ0 = sum(self.predict(X) - Y) /len(X)\n",
        "            dJ1 = sum((self.predict(X) - Y) * X) /len(X)\n",
        "            self.b0 -= alpha * dJ0\n",
        "            self.b1 -= alpha * dJ1\n",
        "            new_err = hyp.error(X, Y)\n",
        "            step += 1\n",
        "            steps.append(step)\n",
        "            errors.append(new_err)\n",
        "        return steps, errors"
      ],
      "metadata": {
        "id": "9CaoFl6d6qvs"
      },
      "execution_count": null,
      "outputs": []
    },
    {
      "cell_type": "code",
      "source": [
        "hyp = Model()\n",
        "print(\"error before gradient descent:\",hyp.error(x,y))\n",
        "steps, errors = hyp.fit(x, y)\n",
        "J = hyp.error(x, y)\n",
        "print(\"error after gradient descent:\", J)"
      ],
      "metadata": {
        "colab": {
          "base_uri": "https://localhost:8080/"
        },
        "id": "kDNIzBaX6tiP",
        "outputId": "456d22b7-6db8-41b3-9efb-a113995d683f"
      },
      "execution_count": null,
      "outputs": [
        {
          "output_type": "stream",
          "name": "stdout",
          "text": [
            "error before gradient descent: 2937.6446095153397\n",
            "error after gradient descent: 0.03937321303112907\n"
          ]
        }
      ]
    },
    {
      "cell_type": "code",
      "source": [
        "X0 = np.linspace(-3, 2, 100)\n",
        "Y0 = hyp.predict(X0)\n",
        "plt.figure()\n",
        "plt.scatter(x, y)\n",
        "plt.plot(X0, Y0, 'r')\n",
        "plt.show()"
      ],
      "metadata": {
        "colab": {
          "base_uri": "https://localhost:8080/",
          "height": 266
        },
        "id": "nbfzPCBl6xNO",
        "outputId": "3d3e8ca1-a018-4c69-f678-74804dc5f50e"
      },
      "execution_count": null,
      "outputs": [
        {
          "output_type": "display_data",
          "data": {
            "text/plain": [
              "<Figure size 432x288 with 1 Axes>"
            ],
            "image/png": "[encoded data removed]"
          },
          "metadata": {
            "needs_background": "light"
          }
        }
      ]
    },
    {
      "cell_type": "code",
      "source": [
        "plt.figure()\n",
        "plt.plot(steps, errors, 'g')\n",
        "plt.show()"
      ],
      "metadata": {
        "colab": {
          "base_uri": "https://localhost:8080/",
          "height": 265
        },
        "id": "cC1cjtbb6zL5",
        "outputId": "fd68f6e1-00ca-4c75-9db5-5857d1cf992c"
      },
      "execution_count": null,
      "outputs": [
        {
          "output_type": "display_data",
          "data": {
            "text/plain": [
              "<Figure size 432x288 with 1 Axes>"
            ],
            "image/png": "[encoded data removed]"
          },
          "metadata": {
            "needs_background": "light"
          }
        }
      ]
    },
    {
      "cell_type": "markdown",
      "source": [
        "Проверьте работу модели с разными начальными значениями параметров. Убедитесь, что модель всегда сходится к оптимуму."
      ],
      "metadata": {
        "id": "or5VJ4At8dCm"
      }
    },
    {
      "cell_type": "code",
      "source": [
        "hyp = Model(0.05, 3)\n",
        "print(\"error before gradient descent:\",hyp.error(x,y))\n",
        "steps, errors = hyp.fit(x, y)\n",
        "J = hyp.error(x, y)\n",
        "print(\"error after gradient descent:\", J)"
      ],
      "metadata": {
        "colab": {
          "base_uri": "https://localhost:8080/"
        },
        "id": "1I-sO0KY8W6X",
        "outputId": "f3cb6641-19f7-4980-bf27-3306d33f7b94"
      },
      "execution_count": null,
      "outputs": [
        {
          "output_type": "stream",
          "name": "stdout",
          "text": [
            "error before gradient descent: 2688.8560165959952\n",
            "error after gradient descent: 0.0359380551213085\n"
          ]
        }
      ]
    },
    {
      "cell_type": "code",
      "source": [
        "hyp = Model(-10000, 5000)\n",
        "print(\"error before gradient descent:\",hyp.error(x,y))\n",
        "steps, errors = hyp.fit(x, y, 0.01)\n",
        "J = hyp.error(x, y)\n",
        "print(\"error after gradient descent:\", J)"
      ],
      "metadata": {
        "colab": {
          "base_uri": "https://localhost:8080/"
        },
        "id": "OJahgIA4-88v",
        "outputId": "6ec9a1ff-65e3-47c0-b7b6-30943943794f"
      },
      "execution_count": null,
      "outputs": [
        {
          "output_type": "stream",
          "name": "stdout",
          "text": [
            "error before gradient descent: 71496284.20776717\n",
            "error after gradient descent: 2.0059226588479422e-25\n"
          ]
        }
      ]
    },
    {
      "cell_type": "code",
      "source": [
        "plt.figure()\n",
        "plt.plot(steps, errors, 'g')\n",
        "plt.show()"
      ],
      "metadata": {
        "colab": {
          "base_uri": "https://localhost:8080/",
          "height": 265
        },
        "id": "lxTRBuVV-IOM",
        "outputId": "0962ad93-2415-407a-d563-6bb1fdbcf6b0"
      },
      "execution_count": null,
      "outputs": [
        {
          "output_type": "display_data",
          "data": {
            "text/plain": [
              "<Figure size 432x288 with 1 Axes>"
            ],
            "image/png": "[encoded data removed]"
          },
          "metadata": {
            "needs_background": "light"
          }
        }
      ]
    },
    {
      "cell_type": "markdown",
      "source": [
        "Проверьте работу модели с другими значениями скорости обучения. Найдите значение, при котором градиентный спуск расходится."
      ],
      "metadata": {
        "id": "OWk2W27e8g3L"
      }
    },
    {
      "cell_type": "code",
      "source": [
        "hyp = Model(0.05, 3)\n",
        "print(\"error before gradient descent:\",hyp.error(x,y))\n",
        "steps, errors = hyp.fit(x, y, 0.1)\n",
        "J = hyp.error(x, y)\n",
        "print(\"error after gradient descent:\", J)"
      ],
      "metadata": {
        "colab": {
          "base_uri": "https://localhost:8080/"
        },
        "id": "4Y77UWCW8nxP",
        "outputId": "d761388f-7230-49fc-a7e7-23fd7b1958b1"
      },
      "execution_count": null,
      "outputs": [
        {
          "output_type": "stream",
          "name": "stdout",
          "text": [
            "error before gradient descent: 2688.8560165959952\n",
            "error after gradient descent: 1.658624426653096e-27\n"
          ]
        }
      ]
    },
    {
      "cell_type": "code",
      "source": [
        "hyp = Model(0.05, 3)\n",
        "print(\"error before gradient descent:\",hyp.error(x,y))\n",
        "steps, errors = hyp.fit(x, y, 0.3)\n",
        "J = hyp.error(x, y)\n",
        "print(\"error after gradient descent:\", J)"
      ],
      "metadata": {
        "colab": {
          "base_uri": "https://localhost:8080/"
        },
        "id": "EfHPSwkC__fm",
        "outputId": "ec10b72a-ef36-4bab-8b6a-ac13f0d09adf"
      },
      "execution_count": null,
      "outputs": [
        {
          "output_type": "stream",
          "name": "stdout",
          "text": [
            "error before gradient descent: 2688.8560165959952\n",
            "error after gradient descent: 7.885157785749778e-29\n"
          ]
        }
      ]
    },
    {
      "cell_type": "markdown",
      "source": [
        "Модифицируйте код модели таким образом, чтобы он корректно работал как с Series, так и с DataFrame. При этом, конечно, датафрейм не должен содержать \"лишних\" столбцов."
      ],
      "metadata": {
        "id": "2zNW4fmx8ps1"
      }
    },
    {
      "cell_type": "code",
      "source": [
        "class Model(object):\n",
        "    \"\"\"Модель парной линейной регрессии\"\"\"\n",
        "    def __init__(self, b0=0, b1=0):\n",
        "        self.b0 = b0\n",
        "        self.b1 = b1\n",
        "    def predict(self, X, col=\"0\"):\n",
        "        if isinstance(X, pd.DataFrame):\n",
        "          X = X[col]\n",
        "        return self.b0 + self.b1 * X\n",
        "    def error(self, X, Y, col=\"0\"):\n",
        "        if isinstance(X, pd.DataFrame):\n",
        "          X = X[col]\n",
        "          Y = Y[col]\n",
        "        return sum(((self.predict(X) - Y)**2) / (2 * len(X)))\n",
        "    def fit(self, X, Y, alpha=0.001, accuracy=0.01, max_steps=5000, col=\"0\"):\n",
        "        if isinstance(X, pd.DataFrame):\n",
        "          X = X[col]\n",
        "          Y = Y[col]\n",
        "        steps, errors = [], []\n",
        "        step = 0\n",
        "        for _ in range(max_steps):\n",
        "            dJ0 = sum(self.predict(X) - Y) /len(X)\n",
        "            dJ1 = sum((self.predict(X) - Y) * X) /len(X)\n",
        "            self.b0 -= alpha * dJ0\n",
        "            self.b1 -= alpha * dJ1\n",
        "            new_err = hyp.error(X, Y)\n",
        "            step += 1\n",
        "            steps.append(step)\n",
        "            errors.append(new_err)\n",
        "        return steps, errors"
      ],
      "metadata": {
        "id": "9LhvVgHd8qev"
      },
      "execution_count": null,
      "outputs": []
    },
    {
      "cell_type": "code",
      "source": [
        "x_df = pd.read_csv('https://raw.githubusercontent.com/koroteevmv/ML_course/main/ML1.1_sgd/data/x.csv', index_col=0)\n",
        "y_df = pd.read_csv('https://raw.githubusercontent.com/koroteevmv/ML_course/main/ML1.1_sgd/data/y.csv', index_col=0)"
      ],
      "metadata": {
        "id": "7D_Y1eiPEsTf"
      },
      "execution_count": null,
      "outputs": []
    },
    {
      "cell_type": "code",
      "source": [
        "hyp = Model()\n",
        "print(\"error before gradient descent:\",hyp.error(x_df,y_df))\n",
        "steps, errors = hyp.fit(x_df, y_df)\n",
        "J = hyp.error(x_df, y_df)\n",
        "print(\"error after gradient descent:\", J)"
      ],
      "metadata": {
        "colab": {
          "base_uri": "https://localhost:8080/"
        },
        "id": "eJtUerQqF7az",
        "outputId": "ca4dd27a-4ce0-4738-d0c4-4c0a6d85d937"
      },
      "execution_count": null,
      "outputs": [
        {
          "output_type": "stream",
          "name": "stdout",
          "text": [
            "error before gradient descent: 2937.6446095153397\n",
            "error after gradient descent: 0.03937321303112907\n"
          ]
        }
      ]
    },
    {
      "cell_type": "code",
      "source": [
        "plt.figure()\n",
        "plt.plot(steps, errors, 'g')\n",
        "plt.show()"
      ],
      "metadata": {
        "id": "F9Nk-2ZKGNlt",
        "colab": {
          "base_uri": "https://localhost:8080/",
          "height": 265
        },
        "outputId": "ff2b123a-852d-4598-9d83-c9ffa3060756"
      },
      "execution_count": null,
      "outputs": [
        {
          "output_type": "display_data",
          "data": {
            "text/plain": [
              "<Figure size 432x288 with 1 Axes>"
            ],
            "image/png": "[encoded data removed]"
          },
          "metadata": {
            "needs_background": "light"
          }
        }
      ]
    },
    {
      "cell_type": "markdown",
      "source": [
        "Модифицируйте алгоритм градиентного спука таким образом, чтобы он останавливаля, если ошибка перестает снижаться. Для этого сравнивайте, на сколько понизилась ошибка на каждом шаге и если это снижение меньше некоторой заранее заданной очень маленькой величины - выходите из цикла. Эту величину можно взять одну миллионную, например."
      ],
      "metadata": {
        "id": "EVQCO7jf8uo2"
      }
    },
    {
      "cell_type": "code",
      "source": [
        "class Model(object):\n",
        "    \"\"\"Модель парной линейной регрессии\"\"\"\n",
        "    def __init__(self, b0=0, b1=0):\n",
        "        self.b0 = b0\n",
        "        self.b1 = b1\n",
        "    def predict(self, X):\n",
        "        return self.b0 + self.b1 * X\n",
        "    def error(self, X, Y):\n",
        "        return sum(((self.predict(X) - Y)**2) / (2 * len(X)))\n",
        "    def fit(self, X, Y, alpha=0.001, accuracy=0.01, max_steps=10000, coef = 0.000001):\n",
        "        steps, errors = [], []\n",
        "        step = 0\n",
        "        for _ in range(max_steps):\n",
        "            dJ0 = sum(self.predict(X) - Y) /len(X)\n",
        "            dJ1 = sum((self.predict(X) - Y) * X) /len(X)\n",
        "            self.b0 -= alpha * dJ0\n",
        "            self.b1 -= alpha * dJ1\n",
        "            new_err = hyp.error(X, Y)\n",
        "            if step != 0:\n",
        "              if np.absolute(errors[-1] - new_err) < coef:\n",
        "                break\n",
        "            step += 1\n",
        "            steps.append(step)\n",
        "            errors.append(new_err)\n",
        "        return steps, errors"
      ],
      "metadata": {
        "id": "xYGe0fXS8wf5"
      },
      "execution_count": null,
      "outputs": []
    },
    {
      "cell_type": "markdown",
      "source": [
        "Убедитесь, что алгоритм градиентного спуска завершается всегда - либо если ошибка перестает существенно меняться, либо при достижении максимального количества шагов."
      ],
      "metadata": {
        "id": "Zf8vJA9I81Ig"
      }
    },
    {
      "cell_type": "code",
      "source": [
        "hyp = Model()\n",
        "print(\"error before gradient descent:\",hyp.error(x,y))\n",
        "steps, errors = hyp.fit(x, y)\n",
        "J = hyp.error(x, y)\n",
        "print(\"error after gradient descent:\", J)"
      ],
      "metadata": {
        "colab": {
          "base_uri": "https://localhost:8080/"
        },
        "id": "Ikcxt0Yt811Y",
        "outputId": "3e092298-f4cb-4f24-e314-6a3bca107f56"
      },
      "execution_count": null,
      "outputs": [
        {
          "output_type": "stream",
          "name": "stdout",
          "text": [
            "error before gradient descent: 2937.6446095153397\n",
            "error after gradient descent: 0.0005244076717215663\n"
          ]
        }
      ]
    },
    {
      "cell_type": "code",
      "source": [
        "plt.figure()\n",
        "plt.plot(steps, errors, 'g')\n",
        "plt.show()"
      ],
      "metadata": {
        "colab": {
          "base_uri": "https://localhost:8080/",
          "height": 265
        },
        "id": "wxiDCb5JNqQa",
        "outputId": "23fb0f5d-1d18-421e-fbe4-17200fc872ef"
      },
      "execution_count": null,
      "outputs": [
        {
          "output_type": "display_data",
          "data": {
            "text/plain": [
              "<Figure size 432x288 with 1 Axes>"
            ],
            "image/png": "[encoded data removed]"
          },
          "metadata": {
            "needs_background": "light"
          }
        }
      ]
    },
    {
      "cell_type": "markdown",
      "source": [
        "Реализуйте механизм адаптивной скорости обучения. Чтобы не задавать вручную параметр alpha можно отслеживать, увеличивается ли ошибка после первого шага градиентного спуска. В начале задаем скорость обучения близкой к 1. Если ошибка после одного шага увеличивается - скорость обучения надо уменьшить (например, в 2 раза). Если не увеличивается - скорость обучения можно не трогать. Еще подумайте, как после уменьшения скорости перезапускать градиентный спуск заново."
      ],
      "metadata": {
        "id": "yA_bWCwA83oi"
      }
    },
    {
      "cell_type": "code",
      "source": [
        "class Model(object):\n",
        "    \"\"\"Модель парной линейной регрессии\"\"\"\n",
        "    def __init__(self, b0=0, b1=0):\n",
        "        self.b0 = b0\n",
        "        self.b1 = b1\n",
        "    def predict(self, X):\n",
        "        return self.b0 + self.b1 * X\n",
        "    def error(self, X, Y):\n",
        "        return sum(((self.predict(X) - Y)**2) / (2 * len(X)))\n",
        "    def fit(self, X, Y, alpha=0.9, accuracy=0.01, max_steps=10000, coef = 0.000001):\n",
        "        steps, errors = [], []\n",
        "        step = 0\n",
        "        for _ in range(max_steps):\n",
        "            dJ0 = sum(self.predict(X) - Y) /len(X)\n",
        "            dJ1 = sum((self.predict(X) - Y) * X) /len(X)\n",
        "            self.b0 -= alpha * dJ0\n",
        "            self.b1 -= alpha * dJ1\n",
        "            new_err = hyp.error(X, Y)\n",
        "            if step != 0:\n",
        "              if errors[-1] - new_err < coef:\n",
        "                break\n",
        "              if errors[-1] < new_err:\n",
        "                alpha /= 2\n",
        "\n",
        "            step += 1\n",
        "            steps.append(step)\n",
        "            errors.append(new_err)\n",
        "        return steps, errors"
      ],
      "metadata": {
        "id": "Y3oD03Y584GG"
      },
      "execution_count": null,
      "outputs": []
    },
    {
      "cell_type": "code",
      "source": [
        "hyp = Model()\n",
        "print(\"error before gradient descent:\",hyp.error(x,y))\n",
        "steps, errors = hyp.fit(x, y)\n",
        "J = hyp.error(x, y)\n",
        "print(\"error after gradient descent:\", J)"
      ],
      "metadata": {
        "colab": {
          "base_uri": "https://localhost:8080/"
        },
        "id": "wo3oTG0pOofq",
        "outputId": "6a78754d-957c-437d-e90e-cffcf6e3235b"
      },
      "execution_count": null,
      "outputs": [
        {
          "output_type": "stream",
          "name": "stdout",
          "text": [
            "error before gradient descent: 2937.6446095153397\n",
            "error after gradient descent: 2.0259253069378044e-08\n"
          ]
        }
      ]
    },
    {
      "cell_type": "code",
      "source": [
        "plt.figure()\n",
        "plt.plot(steps, errors, 'g')\n",
        "plt.show()"
      ],
      "metadata": {
        "colab": {
          "base_uri": "https://localhost:8080/",
          "height": 265
        },
        "id": "OmshgYhhOroP",
        "outputId": "60e71593-6e0d-4d5b-bd4e-7eddefa16b91"
      },
      "execution_count": null,
      "outputs": [
        {
          "output_type": "display_data",
          "data": {
            "text/plain": [
              "<Figure size 432x288 with 1 Axes>"
            ],
            "image/png": "[encoded data removed]"
          },
          "metadata": {
            "needs_background": "light"
          }
        }
      ]
    },
    {
      "cell_type": "markdown",
      "source": [
        "Добавьте к классу модели метод рисования графиков. Сделайте так, чтобы он был независим от масштаба переданных данных."
      ],
      "metadata": {
        "id": "ByIJj5bA86lU"
      }
    },
    {
      "cell_type": "code",
      "source": [
        "class Model(object):\n",
        "    \"\"\"Модель парной линейной регрессии\"\"\"\n",
        "    def __init__(self, b0=0, b1=0):\n",
        "        self.b0 = b0\n",
        "        self.b1 = b1\n",
        "    def predict(self, X):\n",
        "        return self.b0 + self.b1 * X\n",
        "    def error(self, X, Y):\n",
        "        return sum(((self.predict(X) - Y)**2) / (2 * len(X)))\n",
        "    def draw(self, steps, errors):\n",
        "      plt.figure()\n",
        "      plt.plot(steps, errors, 'g')\n",
        "      plt.show()\n",
        "    def fit(self, X, Y, alpha=0.9, accuracy=0.01, max_steps=10000, coef = 0.000001):\n",
        "        steps, errors = [], []\n",
        "        step = 0\n",
        "        for _ in range(max_steps):\n",
        "            dJ0 = sum(self.predict(X) - Y) /len(X)\n",
        "            dJ1 = sum((self.predict(X) - Y) * X) /len(X)\n",
        "            self.b0 -= alpha * dJ0\n",
        "            self.b1 -= alpha * dJ1\n",
        "            new_err = hyp.error(X, Y)\n",
        "            if step != 0:\n",
        "              if errors[-1] - new_err < coef:\n",
        "                break\n",
        "              if errors[-1] < new_err:\n",
        "                alpha /= 2\n",
        "\n",
        "            step += 1\n",
        "            steps.append(step)\n",
        "            errors.append(new_err)\n",
        "        self.draw(steps, errors)\n",
        "        return steps, errors"
      ],
      "metadata": {
        "id": "st1zrn9y87Cp"
      },
      "execution_count": null,
      "outputs": []
    },
    {
      "cell_type": "code",
      "source": [
        "hyp = Model()\n",
        "print(\"error before gradient descent:\",hyp.error(x,y))\n",
        "steps, errors = hyp.fit(x, y)\n",
        "J = hyp.error(x, y)\n",
        "print(\"error after gradient descent:\", J)"
      ],
      "metadata": {
        "colab": {
          "base_uri": "https://localhost:8080/",
          "height": 300
        },
        "id": "p9nKKyFSPywe",
        "outputId": "08328ada-49b4-46b0-a36a-b6ee39ab402c"
      },
      "execution_count": null,
      "outputs": [
        {
          "output_type": "stream",
          "name": "stdout",
          "text": [
            "error before gradient descent: 2937.6446095153397\n"
          ]
        },
        {
          "output_type": "display_data",
          "data": {
            "text/plain": [
              "<Figure size 432x288 with 1 Axes>"
            ],
            "image/png": "[encoded data removed]"
          },
          "metadata": {
            "needs_background": "light"
          }
        },
        {
          "output_type": "stream",
          "name": "stdout",
          "text": [
            "error after gradient descent: 2.0259253069378044e-08\n"
          ]
        }
      ]
    }
  ]
}